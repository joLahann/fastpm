{
 "cells": [
  {
   "cell_type": "markdown",
   "metadata": {},
   "source": [
    "# Process Prediction\n",
    "\n",
    "    1. ControlFlow based Prediction\n",
    "        a. Multiple Datasets\n",
    "        b. Ordinal Encoding + Embeddings for Activity Representation\n",
    "        c. Training Loop\n",
    "            - Language Model\n",
    "            - NextStep Prediction\n",
    "            - Suffix Prediction\n",
    "            - ...\n",
    "            \n",
    "        d. Testing\n",
    "            - Next Step Prediction\n",
    "            - Suffix Prediction / Hallucination\n",
    "            \n",
    "        e. Models\n",
    "            - Model a: Fully Connected (multiple Parameter Configurations)\n",
    "            - Model b: Basic Recurrent Network (multiple Parameter Configutarations)\n",
    "            - Model c: Convolutional Neural Network\n",
    "            - Model d: Transformer\n",
    "            - Model e: AWD-LSTM\n",
    "            - Model f: Existing Approaches from Papers?\n",
    "            \n",
    "    2. Case-Attributes + Control Flow\n",
    "        ...\n",
    "    3. Case-Attributes + Event Attributes (Timestamp, Activity, User?)\n",
    "        ...\n",
    "        "
   ]
  },
  {
   "cell_type": "markdown",
   "metadata": {},
   "source": [
    "# Was macht Suffix Prediction? (Hallucination)\n",
    "Bei der Suffix Prediction wird dem Model der Beginn des Traces gegeben und es muss den gesamten trace vervollständigen. Also wird beispielsweise a übergeben und b,c,d,e vorher gesagt. Danach wird dem Model a,b gegeben und es wird c,d,e vorhergesagt und so weiter.\n",
    "\n",
    "# Was macht NextStep Prediction?\n",
    "Bei der NextStep Prediction werden alle Traces zu einem großen Trace konkateniert. Anschließend wird dem Model a,b,c gegeben und es muss a,b,c,d zurückgeben. Danach wird dem Model b,c,d gegeben und es muss b,c,d,e zurückgeben und so weiter. Hierfür wird eine Window-size für einen Sliding-Window Ansatz gewählt. Im obigen Beispiel ist diese Window-Size 3 (oder 4?)."
   ]
  },
  {
   "cell_type": "markdown",
   "metadata": {},
   "source": [
    "# Anforderungen an unsere Models:\n",
    "\n",
    "Zuerst werden alle Models die wir erstellen als Language Model trainiert. Um die jeweilige Prediction richtig ausführen zu können, müssten die Daten noch vorbereitet bzw. verarbeitet werden:\n",
    "\n",
    "    1. Für die NextStep Prediction:\n",
    "       Die einzelnen Traces werden aufgesplittet in folgender Form: \n",
    "       [a], [a,b], [a,b,c], [a,b,c,d], ... [a,b,c,...,z] --> nächster Trace: [a], [a,b], [a,b,b], ...\n",
    "       ==> implementiert durch process_data_for_next_step_prediction\n",
    "    \n",
    "    2. Für die Suffix Prediction:\n",
    "       Alle Traces werden aneinander konkateniert t1@t2@t3@...@tx, um dem Model anschließend den Anfang eines \n",
    "       traces zu geben und es soll diesen bis zum ende des traces vervollständigen.\n",
    "       ==> implementiert durch process_data_for_suffix_prediction\n",
    "       \n",
    "       (mögliche Abbruchbedingung = länge des längsten Traces erreicht? um Endlosschleife zu umgehen)"
   ]
  },
  {
   "cell_type": "code",
   "execution_count": null,
   "metadata": {},
   "outputs": [],
   "source": []
  }
 ],
 "metadata": {
  "kernelspec": {
   "display_name": "fastpm2",
   "language": "python",
   "name": "fastpm2"
  },
  "language_info": {
   "codemirror_mode": {
    "name": "ipython",
    "version": 3
   },
   "file_extension": ".py",
   "mimetype": "text/x-python",
   "name": "python",
   "nbconvert_exporter": "python",
   "pygments_lexer": "ipython3",
   "version": "3.7.4"
  },
  "varInspector": {
   "cols": {
    "lenName": 16,
    "lenType": 16,
    "lenVar": 40
   },
   "kernels_config": {
    "python": {
     "delete_cmd_postfix": "",
     "delete_cmd_prefix": "del ",
     "library": "var_list.py",
     "varRefreshCmd": "print(var_dic_list())"
    },
    "r": {
     "delete_cmd_postfix": ") ",
     "delete_cmd_prefix": "rm(",
     "library": "var_list.r",
     "varRefreshCmd": "cat(var_dic_list()) "
    }
   },
   "types_to_exclude": [
    "module",
    "function",
    "builtin_function_or_method",
    "instance",
    "_Feature"
   ],
   "window_display": false
  }
 },
 "nbformat": 4,
 "nbformat_minor": 2
}
