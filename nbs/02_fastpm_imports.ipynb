{
 "cells": [
  {
   "cell_type": "code",
   "execution_count": 3,
   "metadata": {},
   "outputs": [
    {
     "name": "stdout",
     "output_type": "stream",
     "text": [
      "The autoreload extension is already loaded. To reload it, use:\n",
      "  %reload_ext autoreload\n"
     ]
    }
   ],
   "source": [
    "%load_ext autoreload\n",
    "%autoreload 2\n",
    "\n",
    "%matplotlib inline"
   ]
  },
  {
   "cell_type": "code",
   "execution_count": 100,
   "metadata": {},
   "outputs": [],
   "source": [
    "#export \n",
    "import numpy as np\n",
    "from pathlib import Path\n",
    "import pathlib\n",
    "import os, yaml\n",
    "from typing import  Union, Any\n",
    "from fastprogress.fastprogress import MasterBar, ProgressBar\n",
    "import pkg_resources\n",
    "pkg_resources.require(\"fastprogress>=0.1.19\")\n",
    "from fastprogress.fastprogress import master_bar, progress_bar\n",
    "import re\n",
    "import requests\n",
    "import tarfile\n"
   ]
  },
  {
   "cell_type": "code",
   "execution_count": 96,
   "metadata": {},
   "outputs": [],
   "source": [
    "#export\n",
    "PathOrStr = Union[Path,str]\n",
    "\n",
    "def ifnone(a:Any,b:Any)->Any:\n",
    "    \"`a` if `a` is not None, otherwise `b`.\"\n",
    "    return b if a is None else a\n"
   ]
  },
  {
   "cell_type": "code",
   "execution_count": null,
   "metadata": {},
   "outputs": [],
   "source": []
  },
  {
   "cell_type": "code",
   "execution_count": 97,
   "metadata": {},
   "outputs": [],
   "source": [
    "#export\n",
    "def download_url(url:str, dest:str, fname:str=None, overwrite:bool=False, pbar:ProgressBar=None,\n",
    "                 show_progress=True, chunk_size=1024*1024, timeout=4, retries=5)->None:\n",
    "    \"Download `url` to `dest` unless it exists and not `overwrite`.\"\n",
    "    if os.path.exists(dest) and not overwrite: return\n",
    "\n",
    "    s = requests.Session()\n",
    "    s.mount('http://',requests.adapters.HTTPAdapter(max_retries=retries))\n",
    "    u = s.get(url, stream=True, timeout=timeout)\n",
    "    try: \n",
    "        file_size = int(u.headers[\"Content-Length\"])\n",
    "    except: show_progress = False\n",
    "    \n",
    "    with open(dest, 'wb') as f:\n",
    "        nbytes = 0\n",
    "        if show_progress: pbar = progress_bar(range(file_size), auto_update=False, leave=False, parent=pbar)\n",
    "        try:\n",
    "            for chunk in u.iter_content(chunk_size=chunk_size):\n",
    "                nbytes += len(chunk)\n",
    "                if show_progress: pbar.update(nbytes)\n",
    "                f.write(chunk)\n",
    "        except requests.exceptions.ConnectionError as e:\n",
    "            fname = url.split('/')[-1]\n",
    "            from fastai.datasets import Config\n",
    "            data_dir = Config().data_path()\n",
    "            timeout_txt =(f'\\n Download of {url} has failed after {retries} retries\\n'\n",
    "                          f' Fix the download manually:\\n'\n",
    "                          f'$ mkdir -p {data_dir}\\n'\n",
    "                          f'$ cd {data_dir}\\n'\n",
    "                          f'$ wget -c {url}\\n'\n",
    "                          f'$ tar -zxvf {fname}\\n\\n'\n",
    "                          f'And re-run your code once the download is successful\\n')\n",
    "            print(timeout_txt)\n",
    "            import sys;sys.exit(1)\n"
   ]
  },
  {
   "cell_type": "code",
   "execution_count": 101,
   "metadata": {},
   "outputs": [
    {
     "name": "stdout",
     "output_type": "stream",
     "text": [
      "Converted 02_fastai_imports.ipynb to exp/imports.py\r\n"
     ]
    }
   ],
   "source": [
    "! /home/lahann/anaconda3/envs/fastpm/bin/python notebook2script.py 02_fastai_imports.ipynb"
   ]
  },
  {
   "cell_type": "code",
   "execution_count": 106,
   "metadata": {},
   "outputs": [],
   "source": [
    "download_url('https://data.4tu.nl/repository/uuid:3926db30-f712-4394-aebc-75976070e91f/DATA1','bpi18-2')"
   ]
  },
  {
   "cell_type": "code",
   "execution_count": 84,
   "metadata": {},
   "outputs": [],
   "source": [
    "url='https://data.4tu.nl/repository/uuid:500573e6-accc-4b0c-9576-aa5468b10cee/DATA1'\n",
    "s = requests.Session()\n",
    "s.mount('http://',requests.adapters.HTTPAdapter(max_retries=5))\n",
    "u = s.get(url, stream=True, timeout=4)"
   ]
  },
  {
   "cell_type": "code",
   "execution_count": 93,
   "metadata": {},
   "outputs": [
    {
     "name": "stdout",
     "output_type": "stream",
     "text": [
      "\"BPI_Challenge_2013_incidents.xes.gz\"\n"
     ]
    }
   ],
   "source": [
    "fname = ''\n",
    "if \"Content-Disposition\" in u.headers.keys():\n",
    "    fname = re.findall(\"filename=(.+)\", u.headers[\"Content-Disposition\"])[0]\n",
    "else:\n",
    "    fname = url.split(\"/\")[-1]\n",
    "\n",
    "print(fname)\n"
   ]
  },
  {
   "cell_type": "code",
   "execution_count": null,
   "metadata": {},
   "outputs": [],
   "source": []
  }
 ],
 "metadata": {
  "kernelspec": {
   "display_name": "fastpm",
   "language": "python",
   "name": "fastpm"
  },
  "language_info": {
   "codemirror_mode": {
    "name": "ipython",
    "version": 3
   },
   "file_extension": ".py",
   "mimetype": "text/x-python",
   "name": "python",
   "nbconvert_exporter": "python",
   "pygments_lexer": "ipython3",
   "version": "3.7.4"
  },
  "varInspector": {
   "cols": {
    "lenName": 16,
    "lenType": 16,
    "lenVar": 40
   },
   "kernels_config": {
    "python": {
     "delete_cmd_postfix": "",
     "delete_cmd_prefix": "del ",
     "library": "var_list.py",
     "varRefreshCmd": "print(var_dic_list())"
    },
    "r": {
     "delete_cmd_postfix": ") ",
     "delete_cmd_prefix": "rm(",
     "library": "var_list.r",
     "varRefreshCmd": "cat(var_dic_list()) "
    }
   },
   "types_to_exclude": [
    "module",
    "function",
    "builtin_function_or_method",
    "instance",
    "_Feature"
   ],
   "window_display": false
  }
 },
 "nbformat": 4,
 "nbformat_minor": 2
}
