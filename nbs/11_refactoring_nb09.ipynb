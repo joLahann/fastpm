{
 "cells": [
  {
   "cell_type": "markdown",
   "metadata": {},
   "source": [
    "# Imports"
   ]
  },
  {
   "cell_type": "code",
   "execution_count": 1,
   "metadata": {},
   "outputs": [],
   "source": [
    "%load_ext autoreload\n",
    "%autoreload 2\n",
    "\n",
    "%matplotlib inline"
   ]
  },
  {
   "cell_type": "code",
   "execution_count": 2,
   "metadata": {},
   "outputs": [],
   "source": [
    "from exp.eventlog import *\n",
    "from exp.dl_utils import *\n",
    "\n",
    "import editdistance as ed"
   ]
  },
  {
   "cell_type": "markdown",
   "metadata": {},
   "source": [
    "# Loading Data"
   ]
  },
  {
   "cell_type": "code",
   "execution_count": 3,
   "metadata": {},
   "outputs": [
    {
     "name": "stdout",
     "output_type": "stream",
     "text": [
      "failed to parse date: 1970-01-01T00:00:00.000+01:00\n",
      "failed to parse date: 1970-01-01T00:00:00.000+01:00\n",
      "failed to parse date: 2012-04-23T00:00:00.000+02:00\n",
      "failed to parse date: 2011-10-01T00:38:44.546+02:00\n",
      "failed to parse date: 2012-03-14T16:04:54.681+01:00\n"
     ]
    }
   ],
   "source": [
    "path = untar_data(URLs.BPIC_2012)\n",
    "log = import_xes(path, extensions=False, classifiers=False, schema=False, log_attributes=False)"
   ]
  },
  {
   "cell_type": "code",
   "execution_count": 4,
   "metadata": {},
   "outputs": [
    {
     "data": {
      "text/html": [
       "<div>\n",
       "<style scoped>\n",
       "    .dataframe tbody tr th:only-of-type {\n",
       "        vertical-align: middle;\n",
       "    }\n",
       "\n",
       "    .dataframe tbody tr th {\n",
       "        vertical-align: top;\n",
       "    }\n",
       "\n",
       "    .dataframe thead th {\n",
       "        text-align: right;\n",
       "    }\n",
       "</style>\n",
       "<table border=\"1\" class=\"dataframe\">\n",
       "  <thead>\n",
       "    <tr style=\"text-align: right;\">\n",
       "      <th></th>\n",
       "      <th>trace_id</th>\n",
       "      <th>event_id</th>\n",
       "      <th>org:resource</th>\n",
       "      <th>lifecycle:transition</th>\n",
       "      <th>concept:name</th>\n",
       "      <th>time:timestamp</th>\n",
       "      <th>REG_DATE</th>\n",
       "      <th>AMOUNT_REQ</th>\n",
       "    </tr>\n",
       "  </thead>\n",
       "  <tbody>\n",
       "    <tr>\n",
       "      <th>0</th>\n",
       "      <td>173688</td>\n",
       "      <td>0</td>\n",
       "      <td>112</td>\n",
       "      <td>COMPLETE</td>\n",
       "      <td>A_SUBMITTED</td>\n",
       "      <td>2011-09-30 22:38:44.546000+00:00</td>\n",
       "      <td>2011-10-01 00:38:44.546000+02:00</td>\n",
       "      <td>20000</td>\n",
       "    </tr>\n",
       "    <tr>\n",
       "      <th>1</th>\n",
       "      <td>173688</td>\n",
       "      <td>1</td>\n",
       "      <td>112</td>\n",
       "      <td>COMPLETE</td>\n",
       "      <td>A_PARTLYSUBMITTED</td>\n",
       "      <td>2011-09-30 22:38:44.880000+00:00</td>\n",
       "      <td>2011-10-01 00:38:44.546000+02:00</td>\n",
       "      <td>20000</td>\n",
       "    </tr>\n",
       "    <tr>\n",
       "      <th>2</th>\n",
       "      <td>173688</td>\n",
       "      <td>2</td>\n",
       "      <td>112</td>\n",
       "      <td>COMPLETE</td>\n",
       "      <td>A_PREACCEPTED</td>\n",
       "      <td>2011-09-30 22:39:37.906000+00:00</td>\n",
       "      <td>2011-10-01 00:38:44.546000+02:00</td>\n",
       "      <td>20000</td>\n",
       "    </tr>\n",
       "    <tr>\n",
       "      <th>3</th>\n",
       "      <td>173688</td>\n",
       "      <td>3</td>\n",
       "      <td>112</td>\n",
       "      <td>SCHEDULE</td>\n",
       "      <td>W_Completeren aanvraag</td>\n",
       "      <td>2011-09-30 22:39:38.875000+00:00</td>\n",
       "      <td>2011-10-01 00:38:44.546000+02:00</td>\n",
       "      <td>20000</td>\n",
       "    </tr>\n",
       "    <tr>\n",
       "      <th>4</th>\n",
       "      <td>173688</td>\n",
       "      <td>4</td>\n",
       "      <td>None</td>\n",
       "      <td>START</td>\n",
       "      <td>W_Completeren aanvraag</td>\n",
       "      <td>2011-10-01 09:36:46.437000+00:00</td>\n",
       "      <td>2011-10-01 00:38:44.546000+02:00</td>\n",
       "      <td>20000</td>\n",
       "    </tr>\n",
       "  </tbody>\n",
       "</table>\n",
       "</div>"
      ],
      "text/plain": [
       "  trace_id  event_id org:resource lifecycle:transition  \\\n",
       "0   173688         0          112             COMPLETE   \n",
       "1   173688         1          112             COMPLETE   \n",
       "2   173688         2          112             COMPLETE   \n",
       "3   173688         3          112             SCHEDULE   \n",
       "4   173688         4         None                START   \n",
       "\n",
       "             concept:name                   time:timestamp  \\\n",
       "0             A_SUBMITTED 2011-09-30 22:38:44.546000+00:00   \n",
       "1       A_PARTLYSUBMITTED 2011-09-30 22:38:44.880000+00:00   \n",
       "2           A_PREACCEPTED 2011-09-30 22:39:37.906000+00:00   \n",
       "3  W_Completeren aanvraag 2011-09-30 22:39:38.875000+00:00   \n",
       "4  W_Completeren aanvraag 2011-10-01 09:36:46.437000+00:00   \n",
       "\n",
       "                           REG_DATE AMOUNT_REQ  \n",
       "0  2011-10-01 00:38:44.546000+02:00      20000  \n",
       "1  2011-10-01 00:38:44.546000+02:00      20000  \n",
       "2  2011-10-01 00:38:44.546000+02:00      20000  \n",
       "3  2011-10-01 00:38:44.546000+02:00      20000  \n",
       "4  2011-10-01 00:38:44.546000+02:00      20000  "
      ]
     },
     "execution_count": 4,
     "metadata": {},
     "output_type": "execute_result"
    }
   ],
   "source": [
    "# Merge Trace Attributes and Event Attributes first in one df. It is easier to copy over the trace attributes.\n",
    "\n",
    "df = pd.merge(log.events, log.traceAttributes, left_on='trace_id', right_index=True)\n",
    "df.head()"
   ]
  },
  {
   "cell_type": "markdown",
   "metadata": {},
   "source": [
    "# Data Preprocessing"
   ]
  },
  {
   "cell_type": "markdown",
   "metadata": {},
   "source": [
    "## Splitting the Data"
   ]
  },
  {
   "cell_type": "code",
   "execution_count": 5,
   "metadata": {},
   "outputs": [],
   "source": [
    "trace_id = \"trace_id\"\n",
    "\n",
    "def random_split_traces(d, split=0.8, trace_id='trace_id'):\n",
    "    traces = d[trace_id].drop_duplicates()\n",
    "    shuffled = traces.iloc[np.random.permutation(len(traces))].values\n",
    "    split = int(len(traces) * split)\n",
    "    return shuffled[:split], shuffled[split:]"
   ]
  },
  {
   "cell_type": "code",
   "execution_count": 6,
   "metadata": {},
   "outputs": [],
   "source": [
    "def get_df(t, df): \n",
    "    return df[df[trace_id].isin(t)]"
   ]
  },
  {
   "cell_type": "code",
   "execution_count": 7,
   "metadata": {},
   "outputs": [],
   "source": [
    "# Split Data into train_indices and test_indices\n",
    "train_valid_ids, test_ids = random_split_traces(df)\n",
    "\n",
    "# Get the Dataframe from the train_idices to split it into train and valid\n",
    "train_valid_df = get_df(train_valid_ids, df)\n",
    "train_ids, valid_ids = random_split_traces(train_valid_df, split=0.9)\n",
    "\n",
    "# Get the Dataframe for train, valid and test\n",
    "train_df = get_df(train_ids, df)\n",
    "valid_df = get_df(valid_ids, df)\n",
    "test_df = get_df(test_ids, df)"
   ]
  },
  {
   "cell_type": "markdown",
   "metadata": {},
   "source": [
    "## Process Data"
   ]
  },
  {
   "cell_type": "code",
   "execution_count": 9,
   "metadata": {},
   "outputs": [],
   "source": [
    "def normalize_cont_column(x, mean, std, eps=1e-7): \n",
    "    return (x-mean)/(eps+std)"
   ]
  },
  {
   "cell_type": "code",
   "execution_count": 10,
   "metadata": {},
   "outputs": [],
   "source": [
    "UNK, PAD, BOS, EOS, TK_REP, TK_WREP, TK_UP, TK_MAJ = \"xxunk xxpad xxbos xxeos xxrep xxwrep xxup xxmaj\".split()\n",
    "default_spec_tok = [UNK, PAD, BOS, EOS, TK_REP, TK_WREP, TK_UP, TK_MAJ]\n",
    "\n",
    "cat_names = ['event_id', 'org:resource', 'lifecycle:transition', 'concept:name']\n",
    "date_names = ['time:timestamp', 'REG_DATE']\n",
    "cont_names = ['AMOUNT_REQ']"
   ]
  },
  {
   "cell_type": "code",
   "execution_count": 11,
   "metadata": {},
   "outputs": [],
   "source": [
    "from collections import OrderedDict\n",
    "\n",
    "def uniqueify(x, sort=False):\n",
    "    res = list(OrderedDict.fromkeys(x).keys())\n",
    "    if sort: res.sort()\n",
    "    return res\n",
    "\n",
    "class Processor():\n",
    "    def process(self, items): return items\n",
    "\n",
    "class CategoryProcessor(Processor):\n",
    "    def __init__(self,default_token=None): \n",
    "        self.vocab = None\n",
    "        self.default_token = default_token\n",
    "\n",
    "    def __call__(self, items):\n",
    "        #The vocab is defined on the first use.\n",
    "        if self.vocab is None:\n",
    "            self.vocab = uniqueify(items)\n",
    "            if self.default_token is not None:\n",
    "                for o in reversed(self.default_token):\n",
    "                    if o in self.vocab: self.vocab.remove(o)\n",
    "                    self.vocab.insert(0, o)\n",
    "            self.otoi = {v: k for k,v in enumerate(self.vocab)}\n",
    "        return [self.proc1(o) for o in items]\n",
    "    \n",
    "    def proc1(self, item): return self.otoi.get(item, 0)\n",
    "\n",
    "    def deprocess(self, idxs):\n",
    "        assert self.vocab is not None\n",
    "        return [self.deproc1(idx) for idx in idxs]\n",
    "    \n",
    "    def deproc1(self, idx): return self.vocab[idx]"
   ]
  },
  {
   "cell_type": "code",
   "execution_count": 12,
   "metadata": {},
   "outputs": [],
   "source": [
    "def add_datepart(df, fldname, drop=True, time=False, utc=False):\n",
    "    \"Helper function that adds columns relevant to a date.\"\n",
    "    df = df.copy()\n",
    "    fld = df[fldname]\n",
    "    fld_dtype = fld.dtype\n",
    "    if isinstance(fld_dtype, pd.core.dtypes.dtypes.DatetimeTZDtype):\n",
    "        fld_dtype = np.datetime64\n",
    "\n",
    "    if not np.issubdtype(fld_dtype, np.datetime64):\n",
    "        df[fldname] = fld = pd.to_datetime(fld, utc=utc,infer_datetime_format=True)\n",
    "    targ_pre = re.sub('[Dd]ate$', '', fldname)\n",
    "    attr = ['Year', 'Month', 'Week', 'Day', 'Dayofweek', 'Dayofyear',\n",
    "            'Is_month_end', 'Is_month_start', 'Is_quarter_end', 'Is_quarter_start', 'Is_year_end', 'Is_year_start']\n",
    "    if time: attr = attr + ['Hour', 'Minute', 'Second']\n",
    "    cols=[]\n",
    "    for n in attr: \n",
    "        col_name=targ_pre +\"_\"+ n\n",
    "        df[col_name] = getattr(fld.dt, n.lower())\n",
    "        cols.append(col_name)\n",
    "    df[targ_pre + '_Elapsed'] = fld.astype(np.int64) // 10 ** 9\n",
    "    if drop: df.drop(fldname, axis=1, inplace=True)\n",
    "    return df, cols, targ_pre + '_Elapsed'"
   ]
  },
  {
   "cell_type": "code",
   "execution_count": 13,
   "metadata": {},
   "outputs": [],
   "source": [
    "class TraceProcessor(Processor):\n",
    "    def __init__(self, cat_names, cont_names, date_names, vocabs={}):\n",
    "        self.vocabs = vocabs\n",
    "        self.cat_names, self.cont_names, self.date_names = cat_names, cont_names, date_names\n",
    "        \n",
    "    def __call__(self, df):\n",
    "        cat_names, cont_names = self.cat_names[:], self.cont_names[:]\n",
    "        for d in self.date_names:\n",
    "            df, cat, cont = add_datepart(df, d, utc=True)\n",
    "            cat_names += listify(cat)    \n",
    "            cont_names += listify(cont)\n",
    "\n",
    "        for c in cat_names:\n",
    "            if not c in self.vocabs.keys(): \n",
    "                self.vocabs[c] = CategoryProcessor(default_spec_tok)\n",
    "            df[c] = self.vocabs[c](df[c])\n",
    "            \n",
    "            \n",
    "        for c in cont_names:\n",
    "            df[c] = df[c].astype(float)\n",
    "\n",
    "            if not c in self.vocabs.keys(): \n",
    "                self.vocabs[c] = df[c].mean(), df[c].std()\n",
    "            df[c] = normalize_cont_column(df[c], *self.vocabs[c])\n",
    "    \n",
    "        return df"
   ]
  },
  {
   "cell_type": "code",
   "execution_count": 14,
   "metadata": {},
   "outputs": [],
   "source": [
    "# Encode Data\n",
    "\n",
    "tp = TraceProcessor(cat_names, cont_names, date_names)\n",
    "\n",
    "train_proc = tp(train_df)\n",
    "valid_proc = tp(valid_df)\n",
    "test_proc = tp(test_df)"
   ]
  },
  {
   "cell_type": "code",
   "execution_count": 15,
   "metadata": {},
   "outputs": [
    {
     "data": {
      "text/plain": [
       "31"
      ]
     },
     "execution_count": 15,
     "metadata": {},
     "output_type": "execute_result"
    }
   ],
   "source": [
    "len(tp.vocabs)"
   ]
  },
  {
   "cell_type": "code",
   "execution_count": 16,
   "metadata": {},
   "outputs": [],
   "source": [
    "def create_traces(event_df, trace_id='trace_id'):\n",
    "    ll = []\n",
    "    trace_ids = []\n",
    "    cols = list(event_df)\n",
    "    cols.remove(trace_id)\n",
    "    for n, g in event_df.groupby(trace_id):\n",
    "        l = []\n",
    "        \n",
    "        for c in cols:\n",
    "            l.append(list(g[c]))\n",
    "        ll.append(l)\n",
    "        trace_ids.append(n)  \n",
    "        \n",
    "\n",
    "    df = pd.DataFrame(ll, columns=cols)\n",
    "    df.index = trace_ids\n",
    "    return df"
   ]
  },
  {
   "cell_type": "code",
   "execution_count": 17,
   "metadata": {},
   "outputs": [
    {
     "data": {
      "text/html": [
       "<div>\n",
       "<style scoped>\n",
       "    .dataframe tbody tr th:only-of-type {\n",
       "        vertical-align: middle;\n",
       "    }\n",
       "\n",
       "    .dataframe tbody tr th {\n",
       "        vertical-align: top;\n",
       "    }\n",
       "\n",
       "    .dataframe thead th {\n",
       "        text-align: right;\n",
       "    }\n",
       "</style>\n",
       "<table border=\"1\" class=\"dataframe\">\n",
       "  <thead>\n",
       "    <tr style=\"text-align: right;\">\n",
       "      <th></th>\n",
       "      <th>event_id</th>\n",
       "      <th>org:resource</th>\n",
       "      <th>lifecycle:transition</th>\n",
       "      <th>concept:name</th>\n",
       "      <th>AMOUNT_REQ</th>\n",
       "      <th>time:timestamp_Year</th>\n",
       "      <th>time:timestamp_Month</th>\n",
       "      <th>time:timestamp_Week</th>\n",
       "      <th>time:timestamp_Day</th>\n",
       "      <th>time:timestamp_Dayofweek</th>\n",
       "      <th>...</th>\n",
       "      <th>REG_DATE_Day</th>\n",
       "      <th>REG_DATE_Dayofweek</th>\n",
       "      <th>REG_DATE_Dayofyear</th>\n",
       "      <th>REG_DATE_Is_month_end</th>\n",
       "      <th>REG_DATE_Is_month_start</th>\n",
       "      <th>REG_DATE_Is_quarter_end</th>\n",
       "      <th>REG_DATE_Is_quarter_start</th>\n",
       "      <th>REG_DATE_Is_year_end</th>\n",
       "      <th>REG_DATE_Is_year_start</th>\n",
       "      <th>REG_DATE_Elapsed</th>\n",
       "    </tr>\n",
       "  </thead>\n",
       "  <tbody>\n",
       "    <tr>\n",
       "      <th>173700</th>\n",
       "      <td>[8, 9, 10]</td>\n",
       "      <td>[8, 8, 8]</td>\n",
       "      <td>[8, 8, 8]</td>\n",
       "      <td>[8, 9, 10]</td>\n",
       "      <td>[-0.8520994544284267, -0.8520994544284267, -0....</td>\n",
       "      <td>[8, 8, 8]</td>\n",
       "      <td>[8, 8, 8]</td>\n",
       "      <td>[8, 8, 8]</td>\n",
       "      <td>[8, 8, 8]</td>\n",
       "      <td>[8, 8, 8]</td>\n",
       "      <td>...</td>\n",
       "      <td>[8, 8, 8]</td>\n",
       "      <td>[8, 8, 8]</td>\n",
       "      <td>[8, 8, 8]</td>\n",
       "      <td>[8, 8, 8]</td>\n",
       "      <td>[8, 8, 8]</td>\n",
       "      <td>[8, 8, 8]</td>\n",
       "      <td>[8, 8, 8]</td>\n",
       "      <td>[8, 8, 8]</td>\n",
       "      <td>[8, 8, 8]</td>\n",
       "      <td>[-1.7143697334172892, -1.7143697334172892, -1....</td>\n",
       "    </tr>\n",
       "    <tr>\n",
       "      <th>173709</th>\n",
       "      <td>[8, 9, 10, 11, 12, 13, 14, 15, 16, 17, 18, 19]</td>\n",
       "      <td>[8, 8, 8, 8, 9, 9, 9, 9, 10, 10, 10, 8]</td>\n",
       "      <td>[8, 8, 8, 9, 10, 8, 10, 8, 10, 8, 8, 8]</td>\n",
       "      <td>[8, 9, 11, 12, 12, 12, 12, 12, 12, 12, 12, 13]</td>\n",
       "      <td>[-0.37013941909466025, -0.37013941909466025, -...</td>\n",
       "      <td>[8, 8, 8, 8, 8, 8, 8, 8, 8, 8, 8, 8]</td>\n",
       "      <td>[8, 8, 8, 8, 8, 8, 8, 8, 8, 8, 9, 9]</td>\n",
       "      <td>[8, 8, 8, 8, 8, 8, 8, 8, 9, 9, 10, 10]</td>\n",
       "      <td>[8, 8, 8, 8, 8, 8, 8, 8, 9, 9, 8, 8]</td>\n",
       "      <td>[8, 8, 8, 8, 8, 8, 8, 8, 9, 9, 10, 10]</td>\n",
       "      <td>...</td>\n",
       "      <td>[8, 8, 8, 8, 8, 8, 8, 8, 8, 8, 8, 8]</td>\n",
       "      <td>[8, 8, 8, 8, 8, 8, 8, 8, 8, 8, 8, 8]</td>\n",
       "      <td>[8, 8, 8, 8, 8, 8, 8, 8, 8, 8, 8, 8]</td>\n",
       "      <td>[8, 8, 8, 8, 8, 8, 8, 8, 8, 8, 8, 8]</td>\n",
       "      <td>[8, 8, 8, 8, 8, 8, 8, 8, 8, 8, 8, 8]</td>\n",
       "      <td>[8, 8, 8, 8, 8, 8, 8, 8, 8, 8, 8, 8]</td>\n",
       "      <td>[8, 8, 8, 8, 8, 8, 8, 8, 8, 8, 8, 8]</td>\n",
       "      <td>[8, 8, 8, 8, 8, 8, 8, 8, 8, 8, 8, 8]</td>\n",
       "      <td>[8, 8, 8, 8, 8, 8, 8, 8, 8, 8, 8, 8]</td>\n",
       "      <td>[-1.712781992472111, -1.712781992472111, -1.71...</td>\n",
       "    </tr>\n",
       "    <tr>\n",
       "      <th>173712</th>\n",
       "      <td>[8, 9, 10, 11, 12, 13, 14, 15, 16, 17, 18, 19,...</td>\n",
       "      <td>[8, 8, 8, 9, 9, 9, 9, 11, 11, 12, 12, 12, 12, 12]</td>\n",
       "      <td>[8, 8, 9, 10, 8, 9, 8, 10, 8, 10, 8, 10, 8, 8]</td>\n",
       "      <td>[8, 9, 14, 14, 11, 12, 14, 12, 12, 12, 12, 12,...</td>\n",
       "      <td>[1.1560673594622668, 1.1560673594622668, 1.156...</td>\n",
       "      <td>[8, 8, 8, 8, 8, 8, 8, 8, 8, 8, 8, 8, 8, 8]</td>\n",
       "      <td>[8, 8, 8, 8, 8, 8, 8, 8, 8, 8, 8, 8, 8, 8]</td>\n",
       "      <td>[8, 8, 8, 8, 8, 8, 8, 8, 8, 11, 11, 11, 11, 11]</td>\n",
       "      <td>[8, 8, 8, 8, 8, 8, 8, 8, 8, 10, 10, 10, 10, 10]</td>\n",
       "      <td>[8, 8, 8, 8, 8, 8, 8, 8, 8, 9, 9, 9, 9, 9]</td>\n",
       "      <td>...</td>\n",
       "      <td>[8, 8, 8, 8, 8, 8, 8, 8, 8, 8, 8, 8, 8, 8]</td>\n",
       "      <td>[8, 8, 8, 8, 8, 8, 8, 8, 8, 8, 8, 8, 8, 8]</td>\n",
       "      <td>[8, 8, 8, 8, 8, 8, 8, 8, 8, 8, 8, 8, 8, 8]</td>\n",
       "      <td>[8, 8, 8, 8, 8, 8, 8, 8, 8, 8, 8, 8, 8, 8]</td>\n",
       "      <td>[8, 8, 8, 8, 8, 8, 8, 8, 8, 8, 8, 8, 8, 8]</td>\n",
       "      <td>[8, 8, 8, 8, 8, 8, 8, 8, 8, 8, 8, 8, 8, 8]</td>\n",
       "      <td>[8, 8, 8, 8, 8, 8, 8, 8, 8, 8, 8, 8, 8, 8]</td>\n",
       "      <td>[8, 8, 8, 8, 8, 8, 8, 8, 8, 8, 8, 8, 8, 8]</td>\n",
       "      <td>[8, 8, 8, 8, 8, 8, 8, 8, 8, 8, 8, 8, 8, 8]</td>\n",
       "      <td>[-1.71276954570331, -1.71276954570331, -1.7127...</td>\n",
       "    </tr>\n",
       "    <tr>\n",
       "      <th>173715</th>\n",
       "      <td>[8, 9, 10, 11, 12, 13, 14, 15, 16, 17, 18, 19,...</td>\n",
       "      <td>[8, 8, 8, 8, 13, 13, 9, 9, 9, 9, 9, 9, 9, 9, 1...</td>\n",
       "      <td>[8, 8, 8, 9, 10, 8, 10, 8, 8, 8, 8, 8, 9, 8, 1...</td>\n",
       "      <td>[8, 9, 11, 12, 12, 12, 12, 15, 16, 17, 18, 19,...</td>\n",
       "      <td>[2.3609674477966833, 2.3609674477966833, 2.360...</td>\n",
       "      <td>[8, 8, 8, 8, 8, 8, 8, 8, 8, 8, 8, 8, 8, 8, 8, ...</td>\n",
       "      <td>[8, 8, 8, 8, 8, 8, 8, 8, 8, 8, 8, 8, 8, 8, 8, ...</td>\n",
       "      <td>[8, 8, 8, 8, 8, 8, 8, 8, 8, 8, 8, 8, 8, 8, 11,...</td>\n",
       "      <td>[8, 8, 8, 8, 8, 8, 8, 8, 8, 8, 8, 8, 8, 8, 11,...</td>\n",
       "      <td>[8, 8, 8, 8, 8, 8, 8, 8, 8, 8, 8, 8, 8, 8, 8, ...</td>\n",
       "      <td>...</td>\n",
       "      <td>[8, 8, 8, 8, 8, 8, 8, 8, 8, 8, 8, 8, 8, 8, 8, ...</td>\n",
       "      <td>[8, 8, 8, 8, 8, 8, 8, 8, 8, 8, 8, 8, 8, 8, 8, ...</td>\n",
       "      <td>[8, 8, 8, 8, 8, 8, 8, 8, 8, 8, 8, 8, 8, 8, 8, ...</td>\n",
       "      <td>[8, 8, 8, 8, 8, 8, 8, 8, 8, 8, 8, 8, 8, 8, 8, ...</td>\n",
       "      <td>[8, 8, 8, 8, 8, 8, 8, 8, 8, 8, 8, 8, 8, 8, 8, ...</td>\n",
       "      <td>[8, 8, 8, 8, 8, 8, 8, 8, 8, 8, 8, 8, 8, 8, 8, ...</td>\n",
       "      <td>[8, 8, 8, 8, 8, 8, 8, 8, 8, 8, 8, 8, 8, 8, 8, ...</td>\n",
       "      <td>[8, 8, 8, 8, 8, 8, 8, 8, 8, 8, 8, 8, 8, 8, 8, ...</td>\n",
       "      <td>[8, 8, 8, 8, 8, 8, 8, 8, 8, 8, 8, 8, 8, 8, 8, ...</td>\n",
       "      <td>[-1.712759173395976, -1.712759173395976, -1.71...</td>\n",
       "    </tr>\n",
       "    <tr>\n",
       "      <th>173718</th>\n",
       "      <td>[8, 9, 10, 11, 12, 13, 14, 15, 16, 17, 18, 19,...</td>\n",
       "      <td>[8, 8, 8, 8, 13, 17, 17, 17, 17, 17, 13, 13, 1...</td>\n",
       "      <td>[8, 8, 8, 9, 10, 8, 8, 8, 8, 8, 9, 8, 10, 8, 1...</td>\n",
       "      <td>[8, 9, 11, 12, 12, 15, 17, 16, 18, 19, 20, 12,...</td>\n",
       "      <td>[-0.04883272887214927, -0.04883272887214927, -...</td>\n",
       "      <td>[8, 8, 8, 8, 8, 8, 8, 8, 8, 8, 8, 8, 8, 8, 8, ...</td>\n",
       "      <td>[8, 8, 8, 8, 8, 8, 8, 8, 8, 8, 8, 8, 8, 8, 8, ...</td>\n",
       "      <td>[8, 8, 8, 8, 8, 8, 8, 8, 8, 8, 8, 8, 8, 8, 8, ...</td>\n",
       "      <td>[8, 8, 8, 8, 8, 8, 8, 8, 8, 8, 8, 8, 8, 8, 8, ...</td>\n",
       "      <td>[8, 8, 8, 8, 8, 8, 8, 8, 8, 8, 8, 8, 8, 8, 8, ...</td>\n",
       "      <td>...</td>\n",
       "      <td>[8, 8, 8, 8, 8, 8, 8, 8, 8, 8, 8, 8, 8, 8, 8, ...</td>\n",
       "      <td>[8, 8, 8, 8, 8, 8, 8, 8, 8, 8, 8, 8, 8, 8, 8, ...</td>\n",
       "      <td>[8, 8, 8, 8, 8, 8, 8, 8, 8, 8, 8, 8, 8, 8, 8, ...</td>\n",
       "      <td>[8, 8, 8, 8, 8, 8, 8, 8, 8, 8, 8, 8, 8, 8, 8, ...</td>\n",
       "      <td>[8, 8, 8, 8, 8, 8, 8, 8, 8, 8, 8, 8, 8, 8, 8, ...</td>\n",
       "      <td>[8, 8, 8, 8, 8, 8, 8, 8, 8, 8, 8, 8, 8, 8, 8, ...</td>\n",
       "      <td>[8, 8, 8, 8, 8, 8, 8, 8, 8, 8, 8, 8, 8, 8, 8, ...</td>\n",
       "      <td>[8, 8, 8, 8, 8, 8, 8, 8, 8, 8, 8, 8, 8, 8, 8, ...</td>\n",
       "      <td>[8, 8, 8, 8, 8, 8, 8, 8, 8, 8, 8, 8, 8, 8, 8, ...</td>\n",
       "      <td>[-1.712160431955111, -1.712160431955111, -1.71...</td>\n",
       "    </tr>\n",
       "  </tbody>\n",
       "</table>\n",
       "<p>5 rows × 31 columns</p>\n",
       "</div>"
      ],
      "text/plain": [
       "                                                 event_id  \\\n",
       "173700                                         [8, 9, 10]   \n",
       "173709     [8, 9, 10, 11, 12, 13, 14, 15, 16, 17, 18, 19]   \n",
       "173712  [8, 9, 10, 11, 12, 13, 14, 15, 16, 17, 18, 19,...   \n",
       "173715  [8, 9, 10, 11, 12, 13, 14, 15, 16, 17, 18, 19,...   \n",
       "173718  [8, 9, 10, 11, 12, 13, 14, 15, 16, 17, 18, 19,...   \n",
       "\n",
       "                                             org:resource  \\\n",
       "173700                                          [8, 8, 8]   \n",
       "173709            [8, 8, 8, 8, 9, 9, 9, 9, 10, 10, 10, 8]   \n",
       "173712  [8, 8, 8, 9, 9, 9, 9, 11, 11, 12, 12, 12, 12, 12]   \n",
       "173715  [8, 8, 8, 8, 13, 13, 9, 9, 9, 9, 9, 9, 9, 9, 1...   \n",
       "173718  [8, 8, 8, 8, 13, 17, 17, 17, 17, 17, 13, 13, 1...   \n",
       "\n",
       "                                     lifecycle:transition  \\\n",
       "173700                                          [8, 8, 8]   \n",
       "173709            [8, 8, 8, 9, 10, 8, 10, 8, 10, 8, 8, 8]   \n",
       "173712     [8, 8, 9, 10, 8, 9, 8, 10, 8, 10, 8, 10, 8, 8]   \n",
       "173715  [8, 8, 8, 9, 10, 8, 10, 8, 8, 8, 8, 8, 9, 8, 1...   \n",
       "173718  [8, 8, 8, 9, 10, 8, 8, 8, 8, 8, 9, 8, 10, 8, 1...   \n",
       "\n",
       "                                             concept:name  \\\n",
       "173700                                         [8, 9, 10]   \n",
       "173709     [8, 9, 11, 12, 12, 12, 12, 12, 12, 12, 12, 13]   \n",
       "173712  [8, 9, 14, 14, 11, 12, 14, 12, 12, 12, 12, 12,...   \n",
       "173715  [8, 9, 11, 12, 12, 12, 12, 15, 16, 17, 18, 19,...   \n",
       "173718  [8, 9, 11, 12, 12, 15, 17, 16, 18, 19, 20, 12,...   \n",
       "\n",
       "                                               AMOUNT_REQ  \\\n",
       "173700  [-0.8520994544284267, -0.8520994544284267, -0....   \n",
       "173709  [-0.37013941909466025, -0.37013941909466025, -...   \n",
       "173712  [1.1560673594622668, 1.1560673594622668, 1.156...   \n",
       "173715  [2.3609674477966833, 2.3609674477966833, 2.360...   \n",
       "173718  [-0.04883272887214927, -0.04883272887214927, -...   \n",
       "\n",
       "                                      time:timestamp_Year  \\\n",
       "173700                                          [8, 8, 8]   \n",
       "173709               [8, 8, 8, 8, 8, 8, 8, 8, 8, 8, 8, 8]   \n",
       "173712         [8, 8, 8, 8, 8, 8, 8, 8, 8, 8, 8, 8, 8, 8]   \n",
       "173715  [8, 8, 8, 8, 8, 8, 8, 8, 8, 8, 8, 8, 8, 8, 8, ...   \n",
       "173718  [8, 8, 8, 8, 8, 8, 8, 8, 8, 8, 8, 8, 8, 8, 8, ...   \n",
       "\n",
       "                                     time:timestamp_Month  \\\n",
       "173700                                          [8, 8, 8]   \n",
       "173709               [8, 8, 8, 8, 8, 8, 8, 8, 8, 8, 9, 9]   \n",
       "173712         [8, 8, 8, 8, 8, 8, 8, 8, 8, 8, 8, 8, 8, 8]   \n",
       "173715  [8, 8, 8, 8, 8, 8, 8, 8, 8, 8, 8, 8, 8, 8, 8, ...   \n",
       "173718  [8, 8, 8, 8, 8, 8, 8, 8, 8, 8, 8, 8, 8, 8, 8, ...   \n",
       "\n",
       "                                      time:timestamp_Week  \\\n",
       "173700                                          [8, 8, 8]   \n",
       "173709             [8, 8, 8, 8, 8, 8, 8, 8, 9, 9, 10, 10]   \n",
       "173712    [8, 8, 8, 8, 8, 8, 8, 8, 8, 11, 11, 11, 11, 11]   \n",
       "173715  [8, 8, 8, 8, 8, 8, 8, 8, 8, 8, 8, 8, 8, 8, 11,...   \n",
       "173718  [8, 8, 8, 8, 8, 8, 8, 8, 8, 8, 8, 8, 8, 8, 8, ...   \n",
       "\n",
       "                                       time:timestamp_Day  \\\n",
       "173700                                          [8, 8, 8]   \n",
       "173709               [8, 8, 8, 8, 8, 8, 8, 8, 9, 9, 8, 8]   \n",
       "173712    [8, 8, 8, 8, 8, 8, 8, 8, 8, 10, 10, 10, 10, 10]   \n",
       "173715  [8, 8, 8, 8, 8, 8, 8, 8, 8, 8, 8, 8, 8, 8, 11,...   \n",
       "173718  [8, 8, 8, 8, 8, 8, 8, 8, 8, 8, 8, 8, 8, 8, 8, ...   \n",
       "\n",
       "                                 time:timestamp_Dayofweek  ...  \\\n",
       "173700                                          [8, 8, 8]  ...   \n",
       "173709             [8, 8, 8, 8, 8, 8, 8, 8, 9, 9, 10, 10]  ...   \n",
       "173712         [8, 8, 8, 8, 8, 8, 8, 8, 8, 9, 9, 9, 9, 9]  ...   \n",
       "173715  [8, 8, 8, 8, 8, 8, 8, 8, 8, 8, 8, 8, 8, 8, 8, ...  ...   \n",
       "173718  [8, 8, 8, 8, 8, 8, 8, 8, 8, 8, 8, 8, 8, 8, 8, ...  ...   \n",
       "\n",
       "                                             REG_DATE_Day  \\\n",
       "173700                                          [8, 8, 8]   \n",
       "173709               [8, 8, 8, 8, 8, 8, 8, 8, 8, 8, 8, 8]   \n",
       "173712         [8, 8, 8, 8, 8, 8, 8, 8, 8, 8, 8, 8, 8, 8]   \n",
       "173715  [8, 8, 8, 8, 8, 8, 8, 8, 8, 8, 8, 8, 8, 8, 8, ...   \n",
       "173718  [8, 8, 8, 8, 8, 8, 8, 8, 8, 8, 8, 8, 8, 8, 8, ...   \n",
       "\n",
       "                                       REG_DATE_Dayofweek  \\\n",
       "173700                                          [8, 8, 8]   \n",
       "173709               [8, 8, 8, 8, 8, 8, 8, 8, 8, 8, 8, 8]   \n",
       "173712         [8, 8, 8, 8, 8, 8, 8, 8, 8, 8, 8, 8, 8, 8]   \n",
       "173715  [8, 8, 8, 8, 8, 8, 8, 8, 8, 8, 8, 8, 8, 8, 8, ...   \n",
       "173718  [8, 8, 8, 8, 8, 8, 8, 8, 8, 8, 8, 8, 8, 8, 8, ...   \n",
       "\n",
       "                                       REG_DATE_Dayofyear  \\\n",
       "173700                                          [8, 8, 8]   \n",
       "173709               [8, 8, 8, 8, 8, 8, 8, 8, 8, 8, 8, 8]   \n",
       "173712         [8, 8, 8, 8, 8, 8, 8, 8, 8, 8, 8, 8, 8, 8]   \n",
       "173715  [8, 8, 8, 8, 8, 8, 8, 8, 8, 8, 8, 8, 8, 8, 8, ...   \n",
       "173718  [8, 8, 8, 8, 8, 8, 8, 8, 8, 8, 8, 8, 8, 8, 8, ...   \n",
       "\n",
       "                                    REG_DATE_Is_month_end  \\\n",
       "173700                                          [8, 8, 8]   \n",
       "173709               [8, 8, 8, 8, 8, 8, 8, 8, 8, 8, 8, 8]   \n",
       "173712         [8, 8, 8, 8, 8, 8, 8, 8, 8, 8, 8, 8, 8, 8]   \n",
       "173715  [8, 8, 8, 8, 8, 8, 8, 8, 8, 8, 8, 8, 8, 8, 8, ...   \n",
       "173718  [8, 8, 8, 8, 8, 8, 8, 8, 8, 8, 8, 8, 8, 8, 8, ...   \n",
       "\n",
       "                                  REG_DATE_Is_month_start  \\\n",
       "173700                                          [8, 8, 8]   \n",
       "173709               [8, 8, 8, 8, 8, 8, 8, 8, 8, 8, 8, 8]   \n",
       "173712         [8, 8, 8, 8, 8, 8, 8, 8, 8, 8, 8, 8, 8, 8]   \n",
       "173715  [8, 8, 8, 8, 8, 8, 8, 8, 8, 8, 8, 8, 8, 8, 8, ...   \n",
       "173718  [8, 8, 8, 8, 8, 8, 8, 8, 8, 8, 8, 8, 8, 8, 8, ...   \n",
       "\n",
       "                                  REG_DATE_Is_quarter_end  \\\n",
       "173700                                          [8, 8, 8]   \n",
       "173709               [8, 8, 8, 8, 8, 8, 8, 8, 8, 8, 8, 8]   \n",
       "173712         [8, 8, 8, 8, 8, 8, 8, 8, 8, 8, 8, 8, 8, 8]   \n",
       "173715  [8, 8, 8, 8, 8, 8, 8, 8, 8, 8, 8, 8, 8, 8, 8, ...   \n",
       "173718  [8, 8, 8, 8, 8, 8, 8, 8, 8, 8, 8, 8, 8, 8, 8, ...   \n",
       "\n",
       "                                REG_DATE_Is_quarter_start  \\\n",
       "173700                                          [8, 8, 8]   \n",
       "173709               [8, 8, 8, 8, 8, 8, 8, 8, 8, 8, 8, 8]   \n",
       "173712         [8, 8, 8, 8, 8, 8, 8, 8, 8, 8, 8, 8, 8, 8]   \n",
       "173715  [8, 8, 8, 8, 8, 8, 8, 8, 8, 8, 8, 8, 8, 8, 8, ...   \n",
       "173718  [8, 8, 8, 8, 8, 8, 8, 8, 8, 8, 8, 8, 8, 8, 8, ...   \n",
       "\n",
       "                                     REG_DATE_Is_year_end  \\\n",
       "173700                                          [8, 8, 8]   \n",
       "173709               [8, 8, 8, 8, 8, 8, 8, 8, 8, 8, 8, 8]   \n",
       "173712         [8, 8, 8, 8, 8, 8, 8, 8, 8, 8, 8, 8, 8, 8]   \n",
       "173715  [8, 8, 8, 8, 8, 8, 8, 8, 8, 8, 8, 8, 8, 8, 8, ...   \n",
       "173718  [8, 8, 8, 8, 8, 8, 8, 8, 8, 8, 8, 8, 8, 8, 8, ...   \n",
       "\n",
       "                                   REG_DATE_Is_year_start  \\\n",
       "173700                                          [8, 8, 8]   \n",
       "173709               [8, 8, 8, 8, 8, 8, 8, 8, 8, 8, 8, 8]   \n",
       "173712         [8, 8, 8, 8, 8, 8, 8, 8, 8, 8, 8, 8, 8, 8]   \n",
       "173715  [8, 8, 8, 8, 8, 8, 8, 8, 8, 8, 8, 8, 8, 8, 8, ...   \n",
       "173718  [8, 8, 8, 8, 8, 8, 8, 8, 8, 8, 8, 8, 8, 8, 8, ...   \n",
       "\n",
       "                                         REG_DATE_Elapsed  \n",
       "173700  [-1.7143697334172892, -1.7143697334172892, -1....  \n",
       "173709  [-1.712781992472111, -1.712781992472111, -1.71...  \n",
       "173712  [-1.71276954570331, -1.71276954570331, -1.7127...  \n",
       "173715  [-1.712759173395976, -1.712759173395976, -1.71...  \n",
       "173718  [-1.712160431955111, -1.712160431955111, -1.71...  \n",
       "\n",
       "[5 rows x 31 columns]"
      ]
     },
     "execution_count": 17,
     "metadata": {},
     "output_type": "execute_result"
    }
   ],
   "source": [
    "train_traces = create_traces(train_proc)\n",
    "valid_traces = create_traces(valid_proc)\n",
    "test_traces = create_traces(test_proc)\n",
    "\n",
    "train_traces.head()"
   ]
  },
  {
   "cell_type": "markdown",
   "metadata": {},
   "source": [
    "# LanguageModel Dataloader"
   ]
  },
  {
   "cell_type": "code",
   "execution_count": 18,
   "metadata": {},
   "outputs": [],
   "source": [
    "class LMDataSet():\n",
    "    def __init__(self, df, bs=64, bptt=70, shuffle=False):\n",
    "        self.bs, self.bptt, self.shuffle = bs, bptt, shuffle\n",
    "        self.cols = list(df)\n",
    "\n",
    "        total_len = sum(df.apply(lambda x: max([len(listify(x[k])) for k in self.cols]),axis=1))\n",
    "        self.n_batch = total_len // self.bs\n",
    "        self.batched = self.batchify(df)\n",
    "    \n",
    "    def __len__(self): return ((self.n_batch-1) // self.bptt) * self.bs\n",
    "    \n",
    "    def __getitem__(self, idx):\n",
    "        source = self.batched[:, idx % self.bs]\n",
    "        seq_idx = (idx // self.bs) * self.bptt\n",
    "        x, y = source[:, seq_idx:seq_idx+self.bptt], source[:, seq_idx+1:seq_idx+self.bptt+1]\n",
    "        return x,y\n",
    "    \n",
    "    def batchify(self,df):\n",
    "        if self.shuffle: df=df.sample(frac=1)\n",
    "        \n",
    "        dd={}\n",
    "        for c in self.cols:\n",
    "            dd[c]=[]\n",
    "        for i, row in df.iterrows():\n",
    "            l = max([len(listify(row[c])) for c in self.cols])\n",
    "            for c in self.cols:\n",
    "                dd[c].append(tensor(row[c]).expand(l))\n",
    "        for c in self.cols:\n",
    "            s = torch.cat([torch.cat((tensor([2.0]), t.float(), tensor([3.0]))) for t in dd[c]])\n",
    "            dd[c] = s[:self.n_batch * self.bs].view(self.bs, self.n_batch)\n",
    "        return torch.stack([dd[c] for c in self.cols])"
   ]
  },
  {
   "cell_type": "code",
   "execution_count": 19,
   "metadata": {},
   "outputs": [],
   "source": [
    "bs, bptt = 128, 70\n",
    "\n",
    "def get_dls(train_ds, valid_ds,  **kwargs):\n",
    "    return (DataLoader(LMDataSet(train_ds, shuffle=True, bptt=bptt), batch_size=bs),\n",
    "            DataLoader(LMDataSet(valid_ds, shuffle=False, bptt=bptt), batch_size=bs))"
   ]
  },
  {
   "cell_type": "code",
   "execution_count": 20,
   "metadata": {},
   "outputs": [],
   "source": [
    "data = DataBunch(*get_dls(train_traces, valid_traces))"
   ]
  },
  {
   "cell_type": "code",
   "execution_count": 21,
   "metadata": {},
   "outputs": [
    {
     "data": {
      "text/plain": [
       "torch.Size([128, 31, 70])"
      ]
     },
     "execution_count": 21,
     "metadata": {},
     "output_type": "execute_result"
    }
   ],
   "source": [
    "iter_dl = iter(data.train_dl)\n",
    "xb, yb = next(iter_dl)\n",
    "\n",
    "# xb hat also die folgende Größe: 128 Einträge, die jeweils 31 Einträge mit 70 Werten enthalten.\n",
    "xb.size()"
   ]
  },
  {
   "cell_type": "markdown",
   "metadata": {},
   "source": [
    "# AWD-LSTM Model"
   ]
  },
  {
   "cell_type": "code",
   "execution_count": 22,
   "metadata": {},
   "outputs": [],
   "source": [
    "#export\n",
    "def dropout_mask(x, sz, p):\n",
    "    return x.new(*sz).bernoulli_(1-p).div_(1-p)"
   ]
  },
  {
   "cell_type": "code",
   "execution_count": 23,
   "metadata": {},
   "outputs": [
    {
     "data": {
      "text/plain": [
       "tensor([[2., 0., 2., 2., 2., 0., 2., 0., 2., 0.],\n",
       "        [2., 2., 0., 2., 0., 0., 0., 0., 2., 2.],\n",
       "        [0., 2., 0., 2., 2., 2., 0., 0., 0., 0.],\n",
       "        [0., 2., 0., 0., 2., 2., 2., 0., 2., 0.],\n",
       "        [2., 2., 2., 2., 2., 0., 0., 2., 0., 0.],\n",
       "        [0., 0., 2., 2., 0., 0., 0., 0., 0., 0.],\n",
       "        [0., 0., 0., 2., 0., 0., 2., 2., 0., 0.],\n",
       "        [2., 2., 0., 2., 0., 2., 0., 0., 2., 0.],\n",
       "        [0., 0., 0., 2., 0., 2., 2., 0., 2., 0.],\n",
       "        [0., 0., 0., 2., 2., 2., 0., 0., 0., 2.]])"
      ]
     },
     "execution_count": 23,
     "metadata": {},
     "output_type": "execute_result"
    }
   ],
   "source": [
    "x = torch.randn(10,10)\n",
    "mask = dropout_mask(x, (10,10), 0.5); mask"
   ]
  },
  {
   "cell_type": "code",
   "execution_count": 24,
   "metadata": {},
   "outputs": [
    {
     "data": {
      "text/plain": [
       "(tensor(1.3338), tensor(0.8860))"
      ]
     },
     "execution_count": 24,
     "metadata": {},
     "output_type": "execute_result"
    }
   ],
   "source": [
    "(x*mask).std(), x.std()"
   ]
  },
  {
   "cell_type": "code",
   "execution_count": 25,
   "metadata": {},
   "outputs": [],
   "source": [
    "#export\n",
    "class RNNDropout(nn.Module):\n",
    "    def __init__(self, p=0.5):\n",
    "        super().__init__()\n",
    "        self.p=p\n",
    "\n",
    "    def forward(self, x):\n",
    "        if not self.training or self.p == 0.: return x\n",
    "        m = dropout_mask(x.data, (x.size(0), 1, x.size(2)), self.p)\n",
    "        return x * m"
   ]
  },
  {
   "cell_type": "code",
   "execution_count": 26,
   "metadata": {},
   "outputs": [
    {
     "data": {
      "text/plain": [
       "(torch.Size([3, 3, 7]), torch.Size([3, 3, 7]))"
      ]
     },
     "execution_count": 26,
     "metadata": {},
     "output_type": "execute_result"
    }
   ],
   "source": [
    "dp = RNNDropout(0.3)\n",
    "tst_input = torch.randn(3,3,7)\n",
    "tst_input.shape, dp(tst_input).shape"
   ]
  },
  {
   "cell_type": "code",
   "execution_count": 27,
   "metadata": {},
   "outputs": [],
   "source": [
    "#export\n",
    "import warnings\n",
    "\n",
    "WEIGHT_HH = 'weight_hh_l0'\n",
    "\n",
    "class WeightDropout(nn.Module):\n",
    "    def __init__(self, module, weight_p=[0.], layer_names=[WEIGHT_HH]):\n",
    "        super().__init__()\n",
    "        self.module,self.weight_p,self.layer_names = module,weight_p,layer_names\n",
    "        for layer in self.layer_names:\n",
    "            #Makes a copy of the weights of the selected layers.\n",
    "            w = getattr(self.module, layer)\n",
    "            self.register_parameter(f'{layer}_raw', nn.Parameter(w.data))\n",
    "            self.module._parameters[layer] = F.dropout(w, p=self.weight_p, training=False)\n",
    "\n",
    "    def _setweights(self):\n",
    "        for layer in self.layer_names:\n",
    "            raw_w = getattr(self, f'{layer}_raw')\n",
    "            self.module._parameters[layer] = F.dropout(raw_w, p=self.weight_p, training=self.training)\n",
    "\n",
    "    def forward(self, *args):\n",
    "        self._setweights()\n",
    "        with warnings.catch_warnings():\n",
    "            #To avoid the warning that comes because the weights aren't flattened.\n",
    "            warnings.simplefilter(\"ignore\")\n",
    "            return self.module.forward(*args)"
   ]
  },
  {
   "cell_type": "code",
   "execution_count": 28,
   "metadata": {},
   "outputs": [
    {
     "data": {
      "text/plain": [
       "Parameter containing:\n",
       "tensor([[-0.2272, -0.0797],\n",
       "        [ 0.2494,  0.0336],\n",
       "        [-0.0886,  0.3769],\n",
       "        [ 0.3528, -0.3193],\n",
       "        [-0.4407, -0.4356],\n",
       "        [ 0.4189, -0.0403],\n",
       "        [-0.3918, -0.6412],\n",
       "        [-0.3841,  0.1335]], requires_grad=True)"
      ]
     },
     "execution_count": 28,
     "metadata": {},
     "output_type": "execute_result"
    }
   ],
   "source": [
    "module = nn.LSTM(5, 2)\n",
    "dp_module = WeightDropout(module, 0.4)\n",
    "getattr(dp_module.module, WEIGHT_HH)"
   ]
  },
  {
   "cell_type": "code",
   "execution_count": 29,
   "metadata": {},
   "outputs": [
    {
     "data": {
      "text/plain": [
       "tensor([[-0.0000, -0.1328],\n",
       "        [ 0.4156,  0.0560],\n",
       "        [-0.1476,  0.0000],\n",
       "        [ 0.5879, -0.0000],\n",
       "        [-0.0000, -0.7260],\n",
       "        [ 0.6981, -0.0672],\n",
       "        [-0.0000, -1.0686],\n",
       "        [-0.6402,  0.2225]], grad_fn=<MulBackward0>)"
      ]
     },
     "execution_count": 29,
     "metadata": {},
     "output_type": "execute_result"
    }
   ],
   "source": [
    "tst_input = torch.randn(4,20,5)\n",
    "h = (torch.zeros(1,20,2), torch.zeros(1,20,2))\n",
    "x,h = dp_module(tst_input,h)\n",
    "getattr(dp_module.module, WEIGHT_HH)"
   ]
  },
  {
   "cell_type": "code",
   "execution_count": 30,
   "metadata": {},
   "outputs": [],
   "source": [
    "#export\n",
    "class EmbeddingDropout(nn.Module):\n",
    "    \"Applies dropout in the embedding layer by zeroing out some elements of the embedding vector.\"\n",
    "    def __init__(self, emb, embed_p):\n",
    "        super().__init__()\n",
    "        self.emb,self.embed_p = emb,embed_p\n",
    "        self.pad_idx = self.emb.padding_idx\n",
    "        if self.pad_idx is None: self.pad_idx = -1\n",
    "\n",
    "    def forward(self, words, scale=None):\n",
    "        if self.training and self.embed_p != 0:\n",
    "            size = (self.emb.weight.size(0),1)\n",
    "            mask = dropout_mask(self.emb.weight.data, size, self.embed_p)\n",
    "            masked_embed = self.emb.weight * mask\n",
    "        else: masked_embed = self.emb.weight\n",
    "        if scale: masked_embed.mul_(scale)\n",
    "        return F.embedding(words, masked_embed, self.pad_idx, self.emb.max_norm,\n",
    "                           self.emb.norm_type, self.emb.scale_grad_by_freq, self.emb.sparse)"
   ]
  },
  {
   "cell_type": "code",
   "execution_count": 31,
   "metadata": {},
   "outputs": [
    {
     "data": {
      "text/plain": [
       "tensor([[-2.4143,  1.6710, -2.0157, -3.7371,  2.4505,  0.8283, -0.5766],\n",
       "        [-0.0000, -0.0000, -0.0000, -0.0000,  0.0000, -0.0000,  0.0000],\n",
       "        [ 0.0000, -0.0000,  0.0000,  0.0000, -0.0000, -0.0000,  0.0000],\n",
       "        [-0.7171,  0.5501, -2.2564, -0.5140,  2.0190,  3.1024,  1.0897],\n",
       "        [ 0.0000,  0.0000, -0.0000,  0.0000,  0.0000, -0.0000, -0.0000],\n",
       "        [-1.0049,  0.5598, -3.2516, -3.4682, -1.5463,  2.7949,  2.1786],\n",
       "        [ 0.0500,  0.5723, -4.5704, -3.0745,  3.5074, -0.8298,  1.3030],\n",
       "        [ 0.0000,  0.0000,  0.0000,  0.0000,  0.0000,  0.0000,  0.0000]],\n",
       "       grad_fn=<EmbeddingBackward>)"
      ]
     },
     "execution_count": 31,
     "metadata": {},
     "output_type": "execute_result"
    }
   ],
   "source": [
    "enc = nn.Embedding(100, 7, padding_idx=1)\n",
    "enc_dp = EmbeddingDropout(enc, 0.5)\n",
    "tst_input = torch.randint(0,100,(8,))\n",
    "enc_dp(tst_input)"
   ]
  },
  {
   "cell_type": "code",
   "execution_count": 32,
   "metadata": {},
   "outputs": [],
   "source": [
    "#export\n",
    "def to_detach(h):\n",
    "    \"Detaches `h` from its history.\"\n",
    "    return h.detach() if type(h) == torch.Tensor else tuple(to_detach(v) for v in h)"
   ]
  },
  {
   "cell_type": "code",
   "execution_count": 114,
   "metadata": {},
   "outputs": [],
   "source": [
    "#export\n",
    "class AWD_LSTM(nn.Module):\n",
    "    \"AWD-LSTM inspired by https://arxiv.org/abs/1708.02182.\"\n",
    "    initrange=0.1\n",
    "\n",
    "    def __init__(self, vocab_sz, emb_sz, n_hid, n_layers, pad_token,\n",
    "                 hidden_p=0.2, input_p=0.6, embed_p=0.1, weight_p=0.5):\n",
    "        super().__init__()\n",
    "        self.bs,self.emb_sz,self.n_hid,self.n_layers = 1,emb_sz,n_hid,n_layers\n",
    "        self.emb = nn.Embedding(vocab_sz, emb_sz, padding_idx=pad_token)\n",
    "        self.emb_dp = EmbeddingDropout(self.emb, embed_p)\n",
    "        self.rnns = [nn.LSTM(emb_sz if l == 0 else n_hid, (n_hid if l != n_layers - 1 else emb_sz), 1,\n",
    "                             batch_first=True) for l in range(n_layers)]\n",
    "        self.rnns = nn.ModuleList([WeightDropout(rnn, weight_p) for rnn in self.rnns])\n",
    "        self.emb.weight.data.uniform_(-self.initrange, self.initrange)\n",
    "        self.input_dp = RNNDropout(input_p)\n",
    "        self.hidden_dps = nn.ModuleList([RNNDropout(hidden_p) for l in range(n_layers)])\n",
    "\n",
    "    def forward(self, input):\n",
    "        #input = input[:, 3].long()\n",
    "        bs, sl = input.size()\n",
    "        if bs!=self.bs:\n",
    "            self.bs=bs\n",
    "            self.reset()\n",
    "        raw_output = self.input_dp(self.emb_dp(input))\n",
    "        new_hidden,raw_outputs,outputs = [],[],[]\n",
    "        for l, (rnn,hid_dp) in enumerate(zip(self.rnns, self.hidden_dps)):\n",
    "            raw_output, new_h = rnn(raw_output, self.hidden[l])\n",
    "            new_hidden.append(new_h)\n",
    "            raw_outputs.append(raw_output)\n",
    "            if l != self.n_layers - 1: raw_output = hid_dp(raw_output)\n",
    "            outputs.append(raw_output) \n",
    "        self.hidden = to_detach(new_hidden)\n",
    "        return raw_outputs, outputs\n",
    "\n",
    "    def _one_hidden(self, l):\n",
    "        \"Return one hidden state.\"\n",
    "        nh = self.n_hid if l != self.n_layers - 1 else self.emb_sz\n",
    "        return next(self.parameters()).new(1, self.bs, nh).zero_()\n",
    "\n",
    "    def reset(self):\n",
    "        \"Reset the hidden states.\"\n",
    "        self.hidden = [(self._one_hidden(l), self._one_hidden(l)) for l in range(self.n_layers)]"
   ]
  },
  {
   "cell_type": "code",
   "execution_count": 34,
   "metadata": {},
   "outputs": [],
   "source": [
    "#export\n",
    "class LinearDecoder(nn.Module):\n",
    "    def __init__(self, n_out, n_hid, output_p, tie_encoder=None, bias=True):\n",
    "        super().__init__()\n",
    "        self.output_dp = RNNDropout(output_p)\n",
    "        self.decoder = nn.Linear(n_hid, n_out, bias=bias)\n",
    "        if bias: self.decoder.bias.data.zero_()\n",
    "        if tie_encoder: self.decoder.weight = tie_encoder.weight\n",
    "        else: init.kaiming_uniform_(self.decoder.weight)\n",
    "\n",
    "    def forward(self, input):\n",
    "        raw_outputs, outputs = input\n",
    "        output = self.output_dp(outputs[-1]).contiguous()\n",
    "        decoded = self.decoder(output.view(output.size(0)*output.size(1), output.size(2)))\n",
    "        return decoded, raw_outputs, outputs"
   ]
  },
  {
   "cell_type": "code",
   "execution_count": 35,
   "metadata": {},
   "outputs": [],
   "source": [
    "#export\n",
    "class SequentialRNN(nn.Sequential):\n",
    "    \"A sequential module that passes the reset call to its children.\"\n",
    "    def reset(self):\n",
    "        for c in self.children():\n",
    "            if hasattr(c, 'reset'): c.reset()"
   ]
  },
  {
   "cell_type": "code",
   "execution_count": 36,
   "metadata": {},
   "outputs": [],
   "source": [
    "#export\n",
    "def get_language_model(vocab_sz, emb_sz, n_hid, n_layers, pad_token, output_p=0.4, hidden_p=0.2, input_p=0.6, \n",
    "                       embed_p=0.1, weight_p=0.5, tie_weights=True, bias=True):\n",
    "    rnn_enc = AWD_LSTM(vocab_sz, emb_sz, n_hid=n_hid, n_layers=n_layers, pad_token=pad_token,\n",
    "                       hidden_p=hidden_p, input_p=input_p, embed_p=embed_p, weight_p=weight_p)\n",
    "    enc = rnn_enc.emb if tie_weights else None\n",
    "    return SequentialRNN(rnn_enc, LinearDecoder(vocab_sz, emb_sz, output_p, tie_encoder=enc, bias=bias))"
   ]
  },
  {
   "cell_type": "code",
   "execution_count": 37,
   "metadata": {},
   "outputs": [],
   "source": [
    "def cross_entropy_activity(input, target):\n",
    "    target = target[:, 3] # magic number for 'concept:name'\n",
    "    bs, sl = target.size()\n",
    "    \n",
    "    return F.cross_entropy(input.view(bs * sl, -1), target.flatten().long())"
   ]
  },
  {
   "cell_type": "code",
   "execution_count": 38,
   "metadata": {},
   "outputs": [],
   "source": [
    "def accuracy_activity(input, target): \n",
    "    target = target[:, 3] # magic number for 'concept:name'\n",
    "    bs, sl = target.size()\n",
    "    \n",
    "    return (torch.argmax(input.view(bs * sl, -1), dim=1)==target.flatten().long()).float().mean()"
   ]
  },
  {
   "cell_type": "markdown",
   "metadata": {},
   "source": [
    "# Training Loop with AWD-LSTM"
   ]
  },
  {
   "cell_type": "code",
   "execution_count": 39,
   "metadata": {},
   "outputs": [],
   "source": [
    "#export\n",
    "class GradientClipping(Callback):\n",
    "    def __init__(self, clip=None): self.clip = clip\n",
    "    def after_backward(self):\n",
    "        if self.clip:  nn.utils.clip_grad_norm_(self.run.model.parameters(), self.clip)"
   ]
  },
  {
   "cell_type": "code",
   "execution_count": 40,
   "metadata": {},
   "outputs": [],
   "source": [
    "#export\n",
    "class RNNTrainer(Callback):\n",
    "    def __init__(self, α, β): self.α,self.β = α,β\n",
    "    \n",
    "    def after_pred(self):\n",
    "        #Save the extra outputs for later and only returns the true output.\n",
    "        self.raw_out,self.out = self.pred[1],self.pred[2]\n",
    "        self.run.pred = self.pred[0]\n",
    "    \n",
    "    def after_loss(self):\n",
    "        #AR and TAR\n",
    "        if self.α != 0.:  self.run.loss += self.α * self.out[-1].float().pow(2).mean()\n",
    "        if self.β != 0.:\n",
    "            h = self.raw_out[-1]\n",
    "            if len(h)>1: self.run.loss += self.β * (h[:,1:] - h[:,:-1]).float().pow(2).mean()\n",
    "                \n",
    "    def begin_epoch(self):\n",
    "        pass\n",
    "        #Shuffle the texts at the beginning of the epoch\n",
    "        #if hasattr(self.dl.dataset, \"batchify\"): self.dl.dataset.batchify()"
   ]
  },
  {
   "cell_type": "code",
   "execution_count": 41,
   "metadata": {},
   "outputs": [],
   "source": [
    "padding_index = 1\n",
    "vocab_size = len(tp.vocabs[\"concept:name\"].vocab)\n",
    "emb_sz, nh, nl = 300, 300, 2\n",
    "\n",
    "model = get_language_model(vocab_size, emb_sz, nh, nl, padding_index, input_p=0.6, output_p=0.4, weight_p=0.5, \n",
    "                           embed_p=0.1, hidden_p=0.2)"
   ]
  },
  {
   "cell_type": "code",
   "execution_count": 42,
   "metadata": {},
   "outputs": [],
   "source": [
    "cbs = [partial(AvgStatsCallback,accuracy_activity),\n",
    "       CudaCallback, Recorder,\n",
    "       partial(GradientClipping, clip=0.1),\n",
    "       partial(RNNTrainer, α=2., β=1.),\n",
    "       ProgressBarCallback]"
   ]
  },
  {
   "cell_type": "code",
   "execution_count": 43,
   "metadata": {},
   "outputs": [],
   "source": [
    "learn = Learner(model, data, cross_entropy_activity, lr=5e-3, cb_funcs=cbs, opt_func=adam_opt())"
   ]
  },
  {
   "cell_type": "code",
   "execution_count": 44,
   "metadata": {
    "scrolled": false
   },
   "outputs": [
    {
     "data": {
      "text/html": [
       "<table border=\"1\" class=\"dataframe\">\n",
       "  <thead>\n",
       "    <tr style=\"text-align: left;\">\n",
       "      <th>epoch</th>\n",
       "      <th>train_loss</th>\n",
       "      <th>train_accuracy_activity</th>\n",
       "      <th>valid_loss</th>\n",
       "      <th>valid_accuracy_activity</th>\n",
       "      <th>time</th>\n",
       "    </tr>\n",
       "  </thead>\n",
       "  <tbody>\n",
       "    <tr>\n",
       "      <td>0</td>\n",
       "      <td>2.327349</td>\n",
       "      <td>0.362165</td>\n",
       "      <td>1.548164</td>\n",
       "      <td>0.523270</td>\n",
       "      <td>00:00</td>\n",
       "    </tr>\n",
       "    <tr>\n",
       "      <td>1</td>\n",
       "      <td>1.382998</td>\n",
       "      <td>0.574134</td>\n",
       "      <td>0.923341</td>\n",
       "      <td>0.718638</td>\n",
       "      <td>00:00</td>\n",
       "    </tr>\n",
       "    <tr>\n",
       "      <td>2</td>\n",
       "      <td>0.988249</td>\n",
       "      <td>0.685943</td>\n",
       "      <td>0.712049</td>\n",
       "      <td>0.787165</td>\n",
       "      <td>00:00</td>\n",
       "    </tr>\n",
       "    <tr>\n",
       "      <td>3</td>\n",
       "      <td>0.806282</td>\n",
       "      <td>0.755272</td>\n",
       "      <td>0.566669</td>\n",
       "      <td>0.824609</td>\n",
       "      <td>00:00</td>\n",
       "    </tr>\n",
       "    <tr>\n",
       "      <td>4</td>\n",
       "      <td>0.644157</td>\n",
       "      <td>0.799150</td>\n",
       "      <td>0.501129</td>\n",
       "      <td>0.839397</td>\n",
       "      <td>00:00</td>\n",
       "    </tr>\n",
       "    <tr>\n",
       "      <td>5</td>\n",
       "      <td>0.632528</td>\n",
       "      <td>0.803619</td>\n",
       "      <td>0.454039</td>\n",
       "      <td>0.845312</td>\n",
       "      <td>00:00</td>\n",
       "    </tr>\n",
       "    <tr>\n",
       "      <td>6</td>\n",
       "      <td>0.542831</td>\n",
       "      <td>0.821466</td>\n",
       "      <td>0.434724</td>\n",
       "      <td>0.846931</td>\n",
       "      <td>00:00</td>\n",
       "    </tr>\n",
       "    <tr>\n",
       "      <td>7</td>\n",
       "      <td>0.522649</td>\n",
       "      <td>0.828641</td>\n",
       "      <td>0.421824</td>\n",
       "      <td>0.847712</td>\n",
       "      <td>00:00</td>\n",
       "    </tr>\n",
       "    <tr>\n",
       "      <td>8</td>\n",
       "      <td>0.517371</td>\n",
       "      <td>0.830230</td>\n",
       "      <td>0.410881</td>\n",
       "      <td>0.855022</td>\n",
       "      <td>00:00</td>\n",
       "    </tr>\n",
       "    <tr>\n",
       "      <td>9</td>\n",
       "      <td>0.515498</td>\n",
       "      <td>0.826456</td>\n",
       "      <td>0.412232</td>\n",
       "      <td>0.847545</td>\n",
       "      <td>00:00</td>\n",
       "    </tr>\n",
       "    <tr>\n",
       "      <td>10</td>\n",
       "      <td>0.506023</td>\n",
       "      <td>0.831112</td>\n",
       "      <td>0.399146</td>\n",
       "      <td>0.850893</td>\n",
       "      <td>00:00</td>\n",
       "    </tr>\n",
       "    <tr>\n",
       "      <td>11</td>\n",
       "      <td>0.474094</td>\n",
       "      <td>0.835884</td>\n",
       "      <td>0.397974</td>\n",
       "      <td>0.855971</td>\n",
       "      <td>00:00</td>\n",
       "    </tr>\n",
       "    <tr>\n",
       "      <td>12</td>\n",
       "      <td>0.507615</td>\n",
       "      <td>0.830607</td>\n",
       "      <td>0.387073</td>\n",
       "      <td>0.858426</td>\n",
       "      <td>00:00</td>\n",
       "    </tr>\n",
       "    <tr>\n",
       "      <td>13</td>\n",
       "      <td>0.464598</td>\n",
       "      <td>0.837080</td>\n",
       "      <td>0.384222</td>\n",
       "      <td>0.857533</td>\n",
       "      <td>00:00</td>\n",
       "    </tr>\n",
       "    <tr>\n",
       "      <td>14</td>\n",
       "      <td>0.487531</td>\n",
       "      <td>0.833610</td>\n",
       "      <td>0.384855</td>\n",
       "      <td>0.859821</td>\n",
       "      <td>00:00</td>\n",
       "    </tr>\n",
       "    <tr>\n",
       "      <td>15</td>\n",
       "      <td>0.456245</td>\n",
       "      <td>0.841385</td>\n",
       "      <td>0.378315</td>\n",
       "      <td>0.860324</td>\n",
       "      <td>00:00</td>\n",
       "    </tr>\n",
       "    <tr>\n",
       "      <td>16</td>\n",
       "      <td>0.484918</td>\n",
       "      <td>0.831558</td>\n",
       "      <td>0.382181</td>\n",
       "      <td>0.855636</td>\n",
       "      <td>00:00</td>\n",
       "    </tr>\n",
       "    <tr>\n",
       "      <td>17</td>\n",
       "      <td>0.505269</td>\n",
       "      <td>0.827960</td>\n",
       "      <td>0.377384</td>\n",
       "      <td>0.860324</td>\n",
       "      <td>00:00</td>\n",
       "    </tr>\n",
       "    <tr>\n",
       "      <td>18</td>\n",
       "      <td>0.457775</td>\n",
       "      <td>0.837091</td>\n",
       "      <td>0.381401</td>\n",
       "      <td>0.859933</td>\n",
       "      <td>00:00</td>\n",
       "    </tr>\n",
       "    <tr>\n",
       "      <td>19</td>\n",
       "      <td>0.454140</td>\n",
       "      <td>0.843075</td>\n",
       "      <td>0.376470</td>\n",
       "      <td>0.860547</td>\n",
       "      <td>00:00</td>\n",
       "    </tr>\n",
       "  </tbody>\n",
       "</table>"
      ],
      "text/plain": [
       "<IPython.core.display.HTML object>"
      ]
     },
     "metadata": {},
     "output_type": "display_data"
    }
   ],
   "source": [
    "learn.fit(20)"
   ]
  },
  {
   "cell_type": "code",
   "execution_count": 45,
   "metadata": {},
   "outputs": [],
   "source": [
    "awd_lstm = learn.model\n",
    "# awd_lstm(xb.cuda()).shape"
   ]
  },
  {
   "cell_type": "markdown",
   "metadata": {},
   "source": [
    "# Evaluation"
   ]
  },
  {
   "cell_type": "code",
   "execution_count": 46,
   "metadata": {},
   "outputs": [
    {
     "data": {
      "text/html": [
       "<div>\n",
       "<style scoped>\n",
       "    .dataframe tbody tr th:only-of-type {\n",
       "        vertical-align: middle;\n",
       "    }\n",
       "\n",
       "    .dataframe tbody tr th {\n",
       "        vertical-align: top;\n",
       "    }\n",
       "\n",
       "    .dataframe thead th {\n",
       "        text-align: right;\n",
       "    }\n",
       "</style>\n",
       "<table border=\"1\" class=\"dataframe\">\n",
       "  <thead>\n",
       "    <tr style=\"text-align: right;\">\n",
       "      <th></th>\n",
       "      <th>event_id</th>\n",
       "      <th>org:resource</th>\n",
       "      <th>lifecycle:transition</th>\n",
       "      <th>concept:name</th>\n",
       "      <th>AMOUNT_REQ</th>\n",
       "      <th>time:timestamp_Year</th>\n",
       "      <th>time:timestamp_Month</th>\n",
       "      <th>time:timestamp_Week</th>\n",
       "      <th>time:timestamp_Day</th>\n",
       "      <th>time:timestamp_Dayofweek</th>\n",
       "      <th>...</th>\n",
       "      <th>REG_DATE_Day</th>\n",
       "      <th>REG_DATE_Dayofweek</th>\n",
       "      <th>REG_DATE_Dayofyear</th>\n",
       "      <th>REG_DATE_Is_month_end</th>\n",
       "      <th>REG_DATE_Is_month_start</th>\n",
       "      <th>REG_DATE_Is_quarter_end</th>\n",
       "      <th>REG_DATE_Is_quarter_start</th>\n",
       "      <th>REG_DATE_Is_year_end</th>\n",
       "      <th>REG_DATE_Is_year_start</th>\n",
       "      <th>REG_DATE_Elapsed</th>\n",
       "    </tr>\n",
       "  </thead>\n",
       "  <tbody>\n",
       "    <tr>\n",
       "      <th>173691</th>\n",
       "      <td>[8, 9, 10, 11, 12, 13, 14, 15, 16, 17, 18, 19,...</td>\n",
       "      <td>[8, 8, 8, 8, 13, 13, 13, 17, 17, 17, 17, 17, 1...</td>\n",
       "      <td>[8, 8, 8, 9, 10, 8, 10, 8, 8, 8, 8, 8, 9, 8, 1...</td>\n",
       "      <td>[8, 9, 11, 12, 12, 12, 12, 15, 17, 16, 18, 19,...</td>\n",
       "      <td>[-0.8520994544284267, -0.8520994544284267, -0....</td>\n",
       "      <td>[8, 8, 8, 8, 8, 8, 8, 8, 8, 8, 8, 8, 8, 8, 8, ...</td>\n",
       "      <td>[8, 8, 8, 8, 8, 8, 8, 8, 8, 8, 8, 8, 8, 8, 8, ...</td>\n",
       "      <td>[8, 8, 8, 8, 8, 8, 8, 8, 8, 8, 8, 8, 8, 8, 8, ...</td>\n",
       "      <td>[8, 8, 8, 8, 8, 8, 8, 8, 8, 8, 8, 8, 8, 8, 8, ...</td>\n",
       "      <td>[8, 8, 8, 8, 8, 8, 8, 8, 8, 8, 8, 8, 8, 8, 8, ...</td>\n",
       "      <td>...</td>\n",
       "      <td>[8, 8, 8, 8, 8, 8, 8, 8, 8, 8, 8, 8, 8, 8, 8, ...</td>\n",
       "      <td>[8, 8, 8, 8, 8, 8, 8, 8, 8, 8, 8, 8, 8, 8, 8, ...</td>\n",
       "      <td>[8, 8, 8, 8, 8, 8, 8, 8, 8, 8, 8, 8, 8, 8, 8, ...</td>\n",
       "      <td>[8, 8, 8, 8, 8, 8, 8, 8, 8, 8, 8, 8, 8, 8, 8, ...</td>\n",
       "      <td>[8, 8, 8, 8, 8, 8, 8, 8, 8, 8, 8, 8, 8, 8, 8, ...</td>\n",
       "      <td>[8, 8, 8, 8, 8, 8, 8, 8, 8, 8, 8, 8, 8, 8, 8, ...</td>\n",
       "      <td>[8, 8, 8, 8, 8, 8, 8, 8, 8, 8, 8, 8, 8, 8, 8, ...</td>\n",
       "      <td>[8, 8, 8, 8, 8, 8, 8, 8, 8, 8, 8, 8, 8, 8, 8, ...</td>\n",
       "      <td>[8, 8, 8, 8, 8, 8, 8, 8, 8, 8, 8, 8, 8, 8, 8, ...</td>\n",
       "      <td>[-1.7144737157983143, -1.7144737157983143, -1....</td>\n",
       "    </tr>\n",
       "    <tr>\n",
       "      <th>173694</th>\n",
       "      <td>[8, 9, 10, 11, 12, 13, 14, 15, 16, 17, 18, 19,...</td>\n",
       "      <td>[8, 8, 8, 8, 9, 9, 13, 13, 29, 29, 29, 29, 29,...</td>\n",
       "      <td>[8, 8, 8, 9, 10, 8, 10, 8, 10, 8, 10, 8, 8, 8,...</td>\n",
       "      <td>[8, 9, 11, 12, 12, 12, 12, 12, 12, 12, 12, 15,...</td>\n",
       "      <td>[-0.6914461093171712, -0.6914461093171712, -0....</td>\n",
       "      <td>[8, 8, 8, 8, 8, 8, 8, 8, 8, 8, 8, 8, 8, 8, 8, ...</td>\n",
       "      <td>[8, 8, 8, 8, 8, 8, 8, 8, 8, 8, 8, 8, 8, 8, 8, ...</td>\n",
       "      <td>[8, 8, 8, 8, 8, 8, 11, 11, 11, 11, 11, 11, 11,...</td>\n",
       "      <td>[8, 8, 8, 8, 8, 8, 10, 10, 10, 10, 10, 10, 10,...</td>\n",
       "      <td>[8, 8, 8, 8, 8, 8, 9, 9, 9, 9, 9, 9, 9, 9, 9, ...</td>\n",
       "      <td>...</td>\n",
       "      <td>[8, 8, 8, 8, 8, 8, 8, 8, 8, 8, 8, 8, 8, 8, 8, ...</td>\n",
       "      <td>[8, 8, 8, 8, 8, 8, 8, 8, 8, 8, 8, 8, 8, 8, 8, ...</td>\n",
       "      <td>[8, 8, 8, 8, 8, 8, 8, 8, 8, 8, 8, 8, 8, 8, 8, ...</td>\n",
       "      <td>[8, 8, 8, 8, 8, 8, 8, 8, 8, 8, 8, 8, 8, 8, 8, ...</td>\n",
       "      <td>[8, 8, 8, 8, 8, 8, 8, 8, 8, 8, 8, 8, 8, 8, 8, ...</td>\n",
       "      <td>[8, 8, 8, 8, 8, 8, 8, 8, 8, 8, 8, 8, 8, 8, 8, ...</td>\n",
       "      <td>[8, 8, 8, 8, 8, 8, 8, 8, 8, 8, 8, 8, 8, 8, 8, ...</td>\n",
       "      <td>[8, 8, 8, 8, 8, 8, 8, 8, 8, 8, 8, 8, 8, 8, 8, ...</td>\n",
       "      <td>[8, 8, 8, 8, 8, 8, 8, 8, 8, 8, 8, 8, 8, 8, 8, ...</td>\n",
       "      <td>[-1.7144498594914457, -1.7144498594914457, -1....</td>\n",
       "    </tr>\n",
       "    <tr>\n",
       "      <th>173724</th>\n",
       "      <td>[8, 9, 10, 11, 12, 13, 14, 15, 16, 17, 18, 19,...</td>\n",
       "      <td>[8, 8, 8, 9, 9, 25, 25, 25, 25, 9, 9, 13, 13, ...</td>\n",
       "      <td>[8, 8, 9, 10, 8, 10, 8, 9, 8, 10, 8, 10, 8, 10...</td>\n",
       "      <td>[8, 9, 14, 14, 14, 14, 11, 12, 14, 12, 12, 12,...</td>\n",
       "      <td>[-0.04883272887214927, -0.04883272887214927, -...</td>\n",
       "      <td>[8, 8, 8, 8, 8, 8, 8, 8, 8, 8, 8, 8, 8, 8, 8, ...</td>\n",
       "      <td>[8, 8, 8, 8, 8, 8, 8, 8, 8, 8, 8, 8, 8, 8, 8, ...</td>\n",
       "      <td>[8, 8, 8, 8, 8, 8, 8, 8, 8, 8, 8, 8, 8, 8, 8, ...</td>\n",
       "      <td>[8, 8, 8, 8, 8, 8, 8, 8, 8, 8, 8, 8, 8, 8, 8, ...</td>\n",
       "      <td>[8, 8, 8, 8, 8, 8, 8, 8, 8, 8, 8, 8, 8, 8, 8, ...</td>\n",
       "      <td>...</td>\n",
       "      <td>[8, 8, 8, 8, 8, 8, 8, 8, 8, 8, 8, 8, 8, 8, 8, ...</td>\n",
       "      <td>[8, 8, 8, 8, 8, 8, 8, 8, 8, 8, 8, 8, 8, 8, 8, ...</td>\n",
       "      <td>[8, 8, 8, 8, 8, 8, 8, 8, 8, 8, 8, 8, 8, 8, 8, ...</td>\n",
       "      <td>[8, 8, 8, 8, 8, 8, 8, 8, 8, 8, 8, 8, 8, 8, 8, ...</td>\n",
       "      <td>[8, 8, 8, 8, 8, 8, 8, 8, 8, 8, 8, 8, 8, 8, 8, ...</td>\n",
       "      <td>[8, 8, 8, 8, 8, 8, 8, 8, 8, 8, 8, 8, 8, 8, 8, ...</td>\n",
       "      <td>[8, 8, 8, 8, 8, 8, 8, 8, 8, 8, 8, 8, 8, 8, 8, ...</td>\n",
       "      <td>[8, 8, 8, 8, 8, 8, 8, 8, 8, 8, 8, 8, 8, 8, 8, ...</td>\n",
       "      <td>[8, 8, 8, 8, 8, 8, 8, 8, 8, 8, 8, 8, 8, 8, 8, ...</td>\n",
       "      <td>[-1.7110000300721004, -1.7110000300721004, -1....</td>\n",
       "    </tr>\n",
       "    <tr>\n",
       "      <th>173730</th>\n",
       "      <td>[8, 9, 10, 11, 12, 13, 14, 15, 16, 17, 18, 19,...</td>\n",
       "      <td>[8, 8, 8, 8, 9, 9, 38, 38, 38, 38, 38, 38, 38,...</td>\n",
       "      <td>[8, 8, 8, 9, 10, 8, 10, 8, 10, 8, 10, 8, 8, 8,...</td>\n",
       "      <td>[8, 9, 11, 12, 12, 12, 12, 12, 12, 12, 12, 15,...</td>\n",
       "      <td>[-0.04883272887214927, -0.04883272887214927, -...</td>\n",
       "      <td>[8, 8, 8, 8, 8, 8, 8, 8, 8, 8, 8, 8, 8, 8, 8, ...</td>\n",
       "      <td>[8, 8, 8, 8, 8, 8, 8, 8, 8, 8, 8, 8, 8, 8, 8, ...</td>\n",
       "      <td>[8, 8, 8, 8, 8, 8, 8, 8, 8, 8, 8, 8, 8, 8, 8, ...</td>\n",
       "      <td>[8, 8, 8, 8, 8, 8, 8, 8, 8, 8, 8, 8, 8, 8, 8, ...</td>\n",
       "      <td>[8, 8, 8, 8, 8, 8, 8, 8, 8, 8, 8, 8, 8, 8, 8, ...</td>\n",
       "      <td>...</td>\n",
       "      <td>[8, 8, 8, 8, 8, 8, 8, 8, 8, 8, 8, 8, 8, 8, 8, ...</td>\n",
       "      <td>[8, 8, 8, 8, 8, 8, 8, 8, 8, 8, 8, 8, 8, 8, 8, ...</td>\n",
       "      <td>[8, 8, 8, 8, 8, 8, 8, 8, 8, 8, 8, 8, 8, 8, 8, ...</td>\n",
       "      <td>[8, 8, 8, 8, 8, 8, 8, 8, 8, 8, 8, 8, 8, 8, 8, ...</td>\n",
       "      <td>[8, 8, 8, 8, 8, 8, 8, 8, 8, 8, 8, 8, 8, 8, 8, ...</td>\n",
       "      <td>[8, 8, 8, 8, 8, 8, 8, 8, 8, 8, 8, 8, 8, 8, 8, ...</td>\n",
       "      <td>[8, 8, 8, 8, 8, 8, 8, 8, 8, 8, 8, 8, 8, 8, 8, ...</td>\n",
       "      <td>[8, 8, 8, 8, 8, 8, 8, 8, 8, 8, 8, 8, 8, 8, 8, ...</td>\n",
       "      <td>[8, 8, 8, 8, 8, 8, 8, 8, 8, 8, 8, 8, 8, 8, 8, ...</td>\n",
       "      <td>[-1.7103170136341452, -1.7103170136341452, -1....</td>\n",
       "    </tr>\n",
       "    <tr>\n",
       "      <th>173733</th>\n",
       "      <td>[8, 9, 10, 11, 12, 13]</td>\n",
       "      <td>[8, 8, 8, 25, 25, 25]</td>\n",
       "      <td>[8, 8, 9, 10, 8, 8]</td>\n",
       "      <td>[8, 9, 14, 14, 10, 14]</td>\n",
       "      <td>[-0.771772781872799, -0.771772781872799, -0.77...</td>\n",
       "      <td>[8, 8, 8, 8, 8, 8]</td>\n",
       "      <td>[8, 8, 8, 8, 8, 8]</td>\n",
       "      <td>[8, 8, 8, 8, 8, 8]</td>\n",
       "      <td>[8, 8, 8, 8, 8, 8]</td>\n",
       "      <td>[8, 8, 8, 8, 8, 8]</td>\n",
       "      <td>...</td>\n",
       "      <td>[8, 8, 8, 8, 8, 8]</td>\n",
       "      <td>[8, 8, 8, 8, 8, 8]</td>\n",
       "      <td>[8, 8, 8, 8, 8, 8]</td>\n",
       "      <td>[8, 8, 8, 8, 8, 8]</td>\n",
       "      <td>[8, 8, 8, 8, 8, 8]</td>\n",
       "      <td>[8, 8, 8, 8, 8, 8]</td>\n",
       "      <td>[8, 8, 8, 8, 8, 8]</td>\n",
       "      <td>[8, 8, 8, 8, 8, 8]</td>\n",
       "      <td>[8, 8, 8, 8, 8, 8]</td>\n",
       "      <td>[-1.7102635962513744, -1.7102635962513744, -1....</td>\n",
       "    </tr>\n",
       "  </tbody>\n",
       "</table>\n",
       "<p>5 rows × 31 columns</p>\n",
       "</div>"
      ],
      "text/plain": [
       "                                                 event_id  \\\n",
       "173691  [8, 9, 10, 11, 12, 13, 14, 15, 16, 17, 18, 19,...   \n",
       "173694  [8, 9, 10, 11, 12, 13, 14, 15, 16, 17, 18, 19,...   \n",
       "173724  [8, 9, 10, 11, 12, 13, 14, 15, 16, 17, 18, 19,...   \n",
       "173730  [8, 9, 10, 11, 12, 13, 14, 15, 16, 17, 18, 19,...   \n",
       "173733                             [8, 9, 10, 11, 12, 13]   \n",
       "\n",
       "                                             org:resource  \\\n",
       "173691  [8, 8, 8, 8, 13, 13, 13, 17, 17, 17, 17, 17, 1...   \n",
       "173694  [8, 8, 8, 8, 9, 9, 13, 13, 29, 29, 29, 29, 29,...   \n",
       "173724  [8, 8, 8, 9, 9, 25, 25, 25, 25, 9, 9, 13, 13, ...   \n",
       "173730  [8, 8, 8, 8, 9, 9, 38, 38, 38, 38, 38, 38, 38,...   \n",
       "173733                              [8, 8, 8, 25, 25, 25]   \n",
       "\n",
       "                                     lifecycle:transition  \\\n",
       "173691  [8, 8, 8, 9, 10, 8, 10, 8, 8, 8, 8, 8, 9, 8, 1...   \n",
       "173694  [8, 8, 8, 9, 10, 8, 10, 8, 10, 8, 10, 8, 8, 8,...   \n",
       "173724  [8, 8, 9, 10, 8, 10, 8, 9, 8, 10, 8, 10, 8, 10...   \n",
       "173730  [8, 8, 8, 9, 10, 8, 10, 8, 10, 8, 10, 8, 8, 8,...   \n",
       "173733                                [8, 8, 9, 10, 8, 8]   \n",
       "\n",
       "                                             concept:name  \\\n",
       "173691  [8, 9, 11, 12, 12, 12, 12, 15, 17, 16, 18, 19,...   \n",
       "173694  [8, 9, 11, 12, 12, 12, 12, 12, 12, 12, 12, 15,...   \n",
       "173724  [8, 9, 14, 14, 14, 14, 11, 12, 14, 12, 12, 12,...   \n",
       "173730  [8, 9, 11, 12, 12, 12, 12, 12, 12, 12, 12, 15,...   \n",
       "173733                             [8, 9, 14, 14, 10, 14]   \n",
       "\n",
       "                                               AMOUNT_REQ  \\\n",
       "173691  [-0.8520994544284267, -0.8520994544284267, -0....   \n",
       "173694  [-0.6914461093171712, -0.6914461093171712, -0....   \n",
       "173724  [-0.04883272887214927, -0.04883272887214927, -...   \n",
       "173730  [-0.04883272887214927, -0.04883272887214927, -...   \n",
       "173733  [-0.771772781872799, -0.771772781872799, -0.77...   \n",
       "\n",
       "                                      time:timestamp_Year  \\\n",
       "173691  [8, 8, 8, 8, 8, 8, 8, 8, 8, 8, 8, 8, 8, 8, 8, ...   \n",
       "173694  [8, 8, 8, 8, 8, 8, 8, 8, 8, 8, 8, 8, 8, 8, 8, ...   \n",
       "173724  [8, 8, 8, 8, 8, 8, 8, 8, 8, 8, 8, 8, 8, 8, 8, ...   \n",
       "173730  [8, 8, 8, 8, 8, 8, 8, 8, 8, 8, 8, 8, 8, 8, 8, ...   \n",
       "173733                                 [8, 8, 8, 8, 8, 8]   \n",
       "\n",
       "                                     time:timestamp_Month  \\\n",
       "173691  [8, 8, 8, 8, 8, 8, 8, 8, 8, 8, 8, 8, 8, 8, 8, ...   \n",
       "173694  [8, 8, 8, 8, 8, 8, 8, 8, 8, 8, 8, 8, 8, 8, 8, ...   \n",
       "173724  [8, 8, 8, 8, 8, 8, 8, 8, 8, 8, 8, 8, 8, 8, 8, ...   \n",
       "173730  [8, 8, 8, 8, 8, 8, 8, 8, 8, 8, 8, 8, 8, 8, 8, ...   \n",
       "173733                                 [8, 8, 8, 8, 8, 8]   \n",
       "\n",
       "                                      time:timestamp_Week  \\\n",
       "173691  [8, 8, 8, 8, 8, 8, 8, 8, 8, 8, 8, 8, 8, 8, 8, ...   \n",
       "173694  [8, 8, 8, 8, 8, 8, 11, 11, 11, 11, 11, 11, 11,...   \n",
       "173724  [8, 8, 8, 8, 8, 8, 8, 8, 8, 8, 8, 8, 8, 8, 8, ...   \n",
       "173730  [8, 8, 8, 8, 8, 8, 8, 8, 8, 8, 8, 8, 8, 8, 8, ...   \n",
       "173733                                 [8, 8, 8, 8, 8, 8]   \n",
       "\n",
       "                                       time:timestamp_Day  \\\n",
       "173691  [8, 8, 8, 8, 8, 8, 8, 8, 8, 8, 8, 8, 8, 8, 8, ...   \n",
       "173694  [8, 8, 8, 8, 8, 8, 10, 10, 10, 10, 10, 10, 10,...   \n",
       "173724  [8, 8, 8, 8, 8, 8, 8, 8, 8, 8, 8, 8, 8, 8, 8, ...   \n",
       "173730  [8, 8, 8, 8, 8, 8, 8, 8, 8, 8, 8, 8, 8, 8, 8, ...   \n",
       "173733                                 [8, 8, 8, 8, 8, 8]   \n",
       "\n",
       "                                 time:timestamp_Dayofweek  ...  \\\n",
       "173691  [8, 8, 8, 8, 8, 8, 8, 8, 8, 8, 8, 8, 8, 8, 8, ...  ...   \n",
       "173694  [8, 8, 8, 8, 8, 8, 9, 9, 9, 9, 9, 9, 9, 9, 9, ...  ...   \n",
       "173724  [8, 8, 8, 8, 8, 8, 8, 8, 8, 8, 8, 8, 8, 8, 8, ...  ...   \n",
       "173730  [8, 8, 8, 8, 8, 8, 8, 8, 8, 8, 8, 8, 8, 8, 8, ...  ...   \n",
       "173733                                 [8, 8, 8, 8, 8, 8]  ...   \n",
       "\n",
       "                                             REG_DATE_Day  \\\n",
       "173691  [8, 8, 8, 8, 8, 8, 8, 8, 8, 8, 8, 8, 8, 8, 8, ...   \n",
       "173694  [8, 8, 8, 8, 8, 8, 8, 8, 8, 8, 8, 8, 8, 8, 8, ...   \n",
       "173724  [8, 8, 8, 8, 8, 8, 8, 8, 8, 8, 8, 8, 8, 8, 8, ...   \n",
       "173730  [8, 8, 8, 8, 8, 8, 8, 8, 8, 8, 8, 8, 8, 8, 8, ...   \n",
       "173733                                 [8, 8, 8, 8, 8, 8]   \n",
       "\n",
       "                                       REG_DATE_Dayofweek  \\\n",
       "173691  [8, 8, 8, 8, 8, 8, 8, 8, 8, 8, 8, 8, 8, 8, 8, ...   \n",
       "173694  [8, 8, 8, 8, 8, 8, 8, 8, 8, 8, 8, 8, 8, 8, 8, ...   \n",
       "173724  [8, 8, 8, 8, 8, 8, 8, 8, 8, 8, 8, 8, 8, 8, 8, ...   \n",
       "173730  [8, 8, 8, 8, 8, 8, 8, 8, 8, 8, 8, 8, 8, 8, 8, ...   \n",
       "173733                                 [8, 8, 8, 8, 8, 8]   \n",
       "\n",
       "                                       REG_DATE_Dayofyear  \\\n",
       "173691  [8, 8, 8, 8, 8, 8, 8, 8, 8, 8, 8, 8, 8, 8, 8, ...   \n",
       "173694  [8, 8, 8, 8, 8, 8, 8, 8, 8, 8, 8, 8, 8, 8, 8, ...   \n",
       "173724  [8, 8, 8, 8, 8, 8, 8, 8, 8, 8, 8, 8, 8, 8, 8, ...   \n",
       "173730  [8, 8, 8, 8, 8, 8, 8, 8, 8, 8, 8, 8, 8, 8, 8, ...   \n",
       "173733                                 [8, 8, 8, 8, 8, 8]   \n",
       "\n",
       "                                    REG_DATE_Is_month_end  \\\n",
       "173691  [8, 8, 8, 8, 8, 8, 8, 8, 8, 8, 8, 8, 8, 8, 8, ...   \n",
       "173694  [8, 8, 8, 8, 8, 8, 8, 8, 8, 8, 8, 8, 8, 8, 8, ...   \n",
       "173724  [8, 8, 8, 8, 8, 8, 8, 8, 8, 8, 8, 8, 8, 8, 8, ...   \n",
       "173730  [8, 8, 8, 8, 8, 8, 8, 8, 8, 8, 8, 8, 8, 8, 8, ...   \n",
       "173733                                 [8, 8, 8, 8, 8, 8]   \n",
       "\n",
       "                                  REG_DATE_Is_month_start  \\\n",
       "173691  [8, 8, 8, 8, 8, 8, 8, 8, 8, 8, 8, 8, 8, 8, 8, ...   \n",
       "173694  [8, 8, 8, 8, 8, 8, 8, 8, 8, 8, 8, 8, 8, 8, 8, ...   \n",
       "173724  [8, 8, 8, 8, 8, 8, 8, 8, 8, 8, 8, 8, 8, 8, 8, ...   \n",
       "173730  [8, 8, 8, 8, 8, 8, 8, 8, 8, 8, 8, 8, 8, 8, 8, ...   \n",
       "173733                                 [8, 8, 8, 8, 8, 8]   \n",
       "\n",
       "                                  REG_DATE_Is_quarter_end  \\\n",
       "173691  [8, 8, 8, 8, 8, 8, 8, 8, 8, 8, 8, 8, 8, 8, 8, ...   \n",
       "173694  [8, 8, 8, 8, 8, 8, 8, 8, 8, 8, 8, 8, 8, 8, 8, ...   \n",
       "173724  [8, 8, 8, 8, 8, 8, 8, 8, 8, 8, 8, 8, 8, 8, 8, ...   \n",
       "173730  [8, 8, 8, 8, 8, 8, 8, 8, 8, 8, 8, 8, 8, 8, 8, ...   \n",
       "173733                                 [8, 8, 8, 8, 8, 8]   \n",
       "\n",
       "                                REG_DATE_Is_quarter_start  \\\n",
       "173691  [8, 8, 8, 8, 8, 8, 8, 8, 8, 8, 8, 8, 8, 8, 8, ...   \n",
       "173694  [8, 8, 8, 8, 8, 8, 8, 8, 8, 8, 8, 8, 8, 8, 8, ...   \n",
       "173724  [8, 8, 8, 8, 8, 8, 8, 8, 8, 8, 8, 8, 8, 8, 8, ...   \n",
       "173730  [8, 8, 8, 8, 8, 8, 8, 8, 8, 8, 8, 8, 8, 8, 8, ...   \n",
       "173733                                 [8, 8, 8, 8, 8, 8]   \n",
       "\n",
       "                                     REG_DATE_Is_year_end  \\\n",
       "173691  [8, 8, 8, 8, 8, 8, 8, 8, 8, 8, 8, 8, 8, 8, 8, ...   \n",
       "173694  [8, 8, 8, 8, 8, 8, 8, 8, 8, 8, 8, 8, 8, 8, 8, ...   \n",
       "173724  [8, 8, 8, 8, 8, 8, 8, 8, 8, 8, 8, 8, 8, 8, 8, ...   \n",
       "173730  [8, 8, 8, 8, 8, 8, 8, 8, 8, 8, 8, 8, 8, 8, 8, ...   \n",
       "173733                                 [8, 8, 8, 8, 8, 8]   \n",
       "\n",
       "                                   REG_DATE_Is_year_start  \\\n",
       "173691  [8, 8, 8, 8, 8, 8, 8, 8, 8, 8, 8, 8, 8, 8, 8, ...   \n",
       "173694  [8, 8, 8, 8, 8, 8, 8, 8, 8, 8, 8, 8, 8, 8, 8, ...   \n",
       "173724  [8, 8, 8, 8, 8, 8, 8, 8, 8, 8, 8, 8, 8, 8, 8, ...   \n",
       "173730  [8, 8, 8, 8, 8, 8, 8, 8, 8, 8, 8, 8, 8, 8, 8, ...   \n",
       "173733                                 [8, 8, 8, 8, 8, 8]   \n",
       "\n",
       "                                         REG_DATE_Elapsed  \n",
       "173691  [-1.7144737157983143, -1.7144737157983143, -1....  \n",
       "173694  [-1.7144498594914457, -1.7144498594914457, -1....  \n",
       "173724  [-1.7110000300721004, -1.7110000300721004, -1....  \n",
       "173730  [-1.7103170136341452, -1.7103170136341452, -1....  \n",
       "173733  [-1.7102635962513744, -1.7102635962513744, -1....  \n",
       "\n",
       "[5 rows x 31 columns]"
      ]
     },
     "execution_count": 46,
     "metadata": {},
     "output_type": "execute_result"
    }
   ],
   "source": [
    "test_traces.head()"
   ]
  },
  {
   "cell_type": "code",
   "execution_count": 149,
   "metadata": {},
   "outputs": [
    {
     "data": {
      "text/plain": [
       "['event_id',\n",
       " 'org:resource',\n",
       " 'lifecycle:transition',\n",
       " 'concept:name',\n",
       " 'AMOUNT_REQ',\n",
       " 'time:timestamp_Year',\n",
       " 'time:timestamp_Month',\n",
       " 'time:timestamp_Week',\n",
       " 'time:timestamp_Day',\n",
       " 'time:timestamp_Dayofweek',\n",
       " 'time:timestamp_Dayofyear',\n",
       " 'time:timestamp_Is_month_end',\n",
       " 'time:timestamp_Is_month_start',\n",
       " 'time:timestamp_Is_quarter_end',\n",
       " 'time:timestamp_Is_quarter_start',\n",
       " 'time:timestamp_Is_year_end',\n",
       " 'time:timestamp_Is_year_start',\n",
       " 'time:timestamp_Elapsed',\n",
       " 'REG_DATE_Year',\n",
       " 'REG_DATE_Month',\n",
       " 'REG_DATE_Week',\n",
       " 'REG_DATE_Day',\n",
       " 'REG_DATE_Dayofweek',\n",
       " 'REG_DATE_Dayofyear',\n",
       " 'REG_DATE_Is_month_end',\n",
       " 'REG_DATE_Is_month_start',\n",
       " 'REG_DATE_Is_quarter_end',\n",
       " 'REG_DATE_Is_quarter_start',\n",
       " 'REG_DATE_Is_year_end',\n",
       " 'REG_DATE_Is_year_start',\n",
       " 'REG_DATE_Elapsed']"
      ]
     },
     "execution_count": 149,
     "metadata": {},
     "output_type": "execute_result"
    }
   ],
   "source": [
    "listify(list(test_traces))"
   ]
  },
  {
   "cell_type": "markdown",
   "metadata": {},
   "source": [
    "## Next Step Prediction"
   ]
  },
  {
   "cell_type": "code",
   "execution_count": 205,
   "metadata": {},
   "outputs": [],
   "source": [
    "DataLoader??"
   ]
  },
  {
   "cell_type": "code",
   "execution_count": 151,
   "metadata": {},
   "outputs": [],
   "source": [
    "def process_data_for_next_step_prediction(test, input_cols=None, output_col=3, startIndex=1):\n",
    "    xs, ys = [], []\n",
    "    if input_cols == None: \n",
    "        input_cols=list(test)\n",
    "    \n",
    "    i = 0\n",
    "    input_cols = listify(input_cols)\n",
    "    for trace in test.values:\n",
    "        for i in range(startIndex, len(listify(trace[0]))):\n",
    "            x, y = [], []\n",
    "            for c in range(len(input_cols)):\n",
    "                x.append(trace[c][:i])\n",
    "                \n",
    "            xs.append(x)\n",
    "            ys.append(trace[output_col][i])\n",
    "            \n",
    "    return pd.DataFrame(xs, columns=input_cols), ys"
   ]
  },
  {
   "cell_type": "code",
   "execution_count": 168,
   "metadata": {},
   "outputs": [],
   "source": [
    "def pad_collate(samples, pad_idx=1, pad_first=True):\n",
    "    columns = list(samples)\n",
    "    values = []\n",
    "    \n",
    "    for col in columns:\n",
    "        max_len = max([len(s) for s in samples[col]])\n",
    "        res = torch.zeros(len(samples[col]), max_len).long() + pad_idx\n",
    "    \n",
    "        for i, s in enumerate(samples[col]):\n",
    "            if pad_first: res[i, -len(s):] = torch.LongTensor(s)\n",
    "            else:         res[i, :len(s) ] = torch.LongTensor(s)\n",
    "        values.append(res)\n",
    "\n",
    "    return values"
   ]
  },
  {
   "cell_type": "code",
   "execution_count": 245,
   "metadata": {},
   "outputs": [
    {
     "ename": "KeyError",
     "evalue": "0",
     "output_type": "error",
     "traceback": [
      "\u001b[0;31m---------------------------------------------------------------------------\u001b[0m",
      "\u001b[0;31mKeyError\u001b[0m                                  Traceback (most recent call last)",
      "\u001b[0;32m~/anaconda3/envs/fastpm2/lib/python3.7/site-packages/pandas/core/indexes/base.py\u001b[0m in \u001b[0;36mget_loc\u001b[0;34m(self, key, method, tolerance)\u001b[0m\n\u001b[1;32m   2889\u001b[0m             \u001b[0;32mtry\u001b[0m\u001b[0;34m:\u001b[0m\u001b[0;34m\u001b[0m\u001b[0;34m\u001b[0m\u001b[0m\n\u001b[0;32m-> 2890\u001b[0;31m                 \u001b[0;32mreturn\u001b[0m \u001b[0mself\u001b[0m\u001b[0;34m.\u001b[0m\u001b[0m_engine\u001b[0m\u001b[0;34m.\u001b[0m\u001b[0mget_loc\u001b[0m\u001b[0;34m(\u001b[0m\u001b[0mkey\u001b[0m\u001b[0;34m)\u001b[0m\u001b[0;34m\u001b[0m\u001b[0;34m\u001b[0m\u001b[0m\n\u001b[0m\u001b[1;32m   2891\u001b[0m             \u001b[0;32mexcept\u001b[0m \u001b[0mKeyError\u001b[0m\u001b[0;34m:\u001b[0m\u001b[0;34m\u001b[0m\u001b[0;34m\u001b[0m\u001b[0m\n",
      "\u001b[0;32mpandas/_libs/index.pyx\u001b[0m in \u001b[0;36mpandas._libs.index.IndexEngine.get_loc\u001b[0;34m()\u001b[0m\n",
      "\u001b[0;32mpandas/_libs/index.pyx\u001b[0m in \u001b[0;36mpandas._libs.index.IndexEngine.get_loc\u001b[0;34m()\u001b[0m\n",
      "\u001b[0;32mpandas/_libs/hashtable_class_helper.pxi\u001b[0m in \u001b[0;36mpandas._libs.hashtable.PyObjectHashTable.get_item\u001b[0;34m()\u001b[0m\n",
      "\u001b[0;32mpandas/_libs/hashtable_class_helper.pxi\u001b[0m in \u001b[0;36mpandas._libs.hashtable.PyObjectHashTable.get_item\u001b[0;34m()\u001b[0m\n",
      "\u001b[0;31mKeyError\u001b[0m: 0",
      "\nDuring handling of the above exception, another exception occurred:\n",
      "\u001b[0;31mKeyError\u001b[0m                                  Traceback (most recent call last)",
      "\u001b[0;32m<ipython-input-245-1e6b1038b62a>\u001b[0m in \u001b[0;36m<module>\u001b[0;34m\u001b[0m\n\u001b[1;32m      5\u001b[0m \u001b[0mwhole_dl\u001b[0m \u001b[0;34m=\u001b[0m \u001b[0mDataBunch\u001b[0m\u001b[0;34m(\u001b[0m\u001b[0mtest_dl\u001b[0m\u001b[0;34m,\u001b[0m \u001b[0mval_dl\u001b[0m\u001b[0;34m)\u001b[0m\u001b[0;34m\u001b[0m\u001b[0;34m\u001b[0m\u001b[0m\n\u001b[1;32m      6\u001b[0m \u001b[0miter_test\u001b[0m \u001b[0;34m=\u001b[0m \u001b[0miter\u001b[0m\u001b[0;34m(\u001b[0m\u001b[0mwhole_dl\u001b[0m\u001b[0;34m.\u001b[0m\u001b[0mtrain_dl\u001b[0m\u001b[0;34m)\u001b[0m\u001b[0;34m\u001b[0m\u001b[0;34m\u001b[0m\u001b[0m\n\u001b[0;32m----> 7\u001b[0;31m \u001b[0mxb\u001b[0m\u001b[0;34m,\u001b[0m \u001b[0myb\u001b[0m \u001b[0;34m=\u001b[0m \u001b[0mnext\u001b[0m\u001b[0;34m(\u001b[0m\u001b[0miter_test\u001b[0m\u001b[0;34m)\u001b[0m\u001b[0;34m\u001b[0m\u001b[0;34m\u001b[0m\u001b[0m\n\u001b[0m",
      "\u001b[0;32m~/anaconda3/envs/fastpm2/lib/python3.7/site-packages/torch/utils/data/dataloader.py\u001b[0m in \u001b[0;36m__next__\u001b[0;34m(self)\u001b[0m\n\u001b[1;32m    344\u001b[0m     \u001b[0;32mdef\u001b[0m \u001b[0m__next__\u001b[0m\u001b[0;34m(\u001b[0m\u001b[0mself\u001b[0m\u001b[0;34m)\u001b[0m\u001b[0;34m:\u001b[0m\u001b[0;34m\u001b[0m\u001b[0;34m\u001b[0m\u001b[0m\n\u001b[1;32m    345\u001b[0m         \u001b[0mindex\u001b[0m \u001b[0;34m=\u001b[0m \u001b[0mself\u001b[0m\u001b[0;34m.\u001b[0m\u001b[0m_next_index\u001b[0m\u001b[0;34m(\u001b[0m\u001b[0;34m)\u001b[0m  \u001b[0;31m# may raise StopIteration\u001b[0m\u001b[0;34m\u001b[0m\u001b[0;34m\u001b[0m\u001b[0m\n\u001b[0;32m--> 346\u001b[0;31m         \u001b[0mdata\u001b[0m \u001b[0;34m=\u001b[0m \u001b[0mself\u001b[0m\u001b[0;34m.\u001b[0m\u001b[0mdataset_fetcher\u001b[0m\u001b[0;34m.\u001b[0m\u001b[0mfetch\u001b[0m\u001b[0;34m(\u001b[0m\u001b[0mindex\u001b[0m\u001b[0;34m)\u001b[0m  \u001b[0;31m# may raise StopIteration\u001b[0m\u001b[0;34m\u001b[0m\u001b[0;34m\u001b[0m\u001b[0m\n\u001b[0m\u001b[1;32m    347\u001b[0m         \u001b[0;32mif\u001b[0m \u001b[0mself\u001b[0m\u001b[0;34m.\u001b[0m\u001b[0mpin_memory\u001b[0m\u001b[0;34m:\u001b[0m\u001b[0;34m\u001b[0m\u001b[0;34m\u001b[0m\u001b[0m\n\u001b[1;32m    348\u001b[0m             \u001b[0mdata\u001b[0m \u001b[0;34m=\u001b[0m \u001b[0m_utils\u001b[0m\u001b[0;34m.\u001b[0m\u001b[0mpin_memory\u001b[0m\u001b[0;34m.\u001b[0m\u001b[0mpin_memory\u001b[0m\u001b[0;34m(\u001b[0m\u001b[0mdata\u001b[0m\u001b[0;34m)\u001b[0m\u001b[0;34m\u001b[0m\u001b[0;34m\u001b[0m\u001b[0m\n",
      "\u001b[0;32m~/anaconda3/envs/fastpm2/lib/python3.7/site-packages/torch/utils/data/_utils/fetch.py\u001b[0m in \u001b[0;36mfetch\u001b[0;34m(self, possibly_batched_index)\u001b[0m\n\u001b[1;32m     42\u001b[0m     \u001b[0;32mdef\u001b[0m \u001b[0mfetch\u001b[0m\u001b[0;34m(\u001b[0m\u001b[0mself\u001b[0m\u001b[0;34m,\u001b[0m \u001b[0mpossibly_batched_index\u001b[0m\u001b[0;34m)\u001b[0m\u001b[0;34m:\u001b[0m\u001b[0;34m\u001b[0m\u001b[0;34m\u001b[0m\u001b[0m\n\u001b[1;32m     43\u001b[0m         \u001b[0;32mif\u001b[0m \u001b[0mself\u001b[0m\u001b[0;34m.\u001b[0m\u001b[0mauto_collation\u001b[0m\u001b[0;34m:\u001b[0m\u001b[0;34m\u001b[0m\u001b[0;34m\u001b[0m\u001b[0m\n\u001b[0;32m---> 44\u001b[0;31m             \u001b[0mdata\u001b[0m \u001b[0;34m=\u001b[0m \u001b[0;34m[\u001b[0m\u001b[0mself\u001b[0m\u001b[0;34m.\u001b[0m\u001b[0mdataset\u001b[0m\u001b[0;34m[\u001b[0m\u001b[0midx\u001b[0m\u001b[0;34m]\u001b[0m \u001b[0;32mfor\u001b[0m \u001b[0midx\u001b[0m \u001b[0;32min\u001b[0m \u001b[0mpossibly_batched_index\u001b[0m\u001b[0;34m]\u001b[0m\u001b[0;34m\u001b[0m\u001b[0;34m\u001b[0m\u001b[0m\n\u001b[0m\u001b[1;32m     45\u001b[0m         \u001b[0;32melse\u001b[0m\u001b[0;34m:\u001b[0m\u001b[0;34m\u001b[0m\u001b[0;34m\u001b[0m\u001b[0m\n\u001b[1;32m     46\u001b[0m             \u001b[0mdata\u001b[0m \u001b[0;34m=\u001b[0m \u001b[0mself\u001b[0m\u001b[0;34m.\u001b[0m\u001b[0mdataset\u001b[0m\u001b[0;34m[\u001b[0m\u001b[0mpossibly_batched_index\u001b[0m\u001b[0;34m]\u001b[0m\u001b[0;34m\u001b[0m\u001b[0;34m\u001b[0m\u001b[0m\n",
      "\u001b[0;32m~/anaconda3/envs/fastpm2/lib/python3.7/site-packages/torch/utils/data/_utils/fetch.py\u001b[0m in \u001b[0;36m<listcomp>\u001b[0;34m(.0)\u001b[0m\n\u001b[1;32m     42\u001b[0m     \u001b[0;32mdef\u001b[0m \u001b[0mfetch\u001b[0m\u001b[0;34m(\u001b[0m\u001b[0mself\u001b[0m\u001b[0;34m,\u001b[0m \u001b[0mpossibly_batched_index\u001b[0m\u001b[0;34m)\u001b[0m\u001b[0;34m:\u001b[0m\u001b[0;34m\u001b[0m\u001b[0;34m\u001b[0m\u001b[0m\n\u001b[1;32m     43\u001b[0m         \u001b[0;32mif\u001b[0m \u001b[0mself\u001b[0m\u001b[0;34m.\u001b[0m\u001b[0mauto_collation\u001b[0m\u001b[0;34m:\u001b[0m\u001b[0;34m\u001b[0m\u001b[0;34m\u001b[0m\u001b[0m\n\u001b[0;32m---> 44\u001b[0;31m             \u001b[0mdata\u001b[0m \u001b[0;34m=\u001b[0m \u001b[0;34m[\u001b[0m\u001b[0mself\u001b[0m\u001b[0;34m.\u001b[0m\u001b[0mdataset\u001b[0m\u001b[0;34m[\u001b[0m\u001b[0midx\u001b[0m\u001b[0;34m]\u001b[0m \u001b[0;32mfor\u001b[0m \u001b[0midx\u001b[0m \u001b[0;32min\u001b[0m \u001b[0mpossibly_batched_index\u001b[0m\u001b[0;34m]\u001b[0m\u001b[0;34m\u001b[0m\u001b[0;34m\u001b[0m\u001b[0m\n\u001b[0m\u001b[1;32m     45\u001b[0m         \u001b[0;32melse\u001b[0m\u001b[0;34m:\u001b[0m\u001b[0;34m\u001b[0m\u001b[0;34m\u001b[0m\u001b[0m\n\u001b[1;32m     46\u001b[0m             \u001b[0mdata\u001b[0m \u001b[0;34m=\u001b[0m \u001b[0mself\u001b[0m\u001b[0;34m.\u001b[0m\u001b[0mdataset\u001b[0m\u001b[0;34m[\u001b[0m\u001b[0mpossibly_batched_index\u001b[0m\u001b[0;34m]\u001b[0m\u001b[0;34m\u001b[0m\u001b[0;34m\u001b[0m\u001b[0m\n",
      "\u001b[0;32m~/anaconda3/envs/fastpm2/lib/python3.7/site-packages/pandas/core/frame.py\u001b[0m in \u001b[0;36m__getitem__\u001b[0;34m(self, key)\u001b[0m\n\u001b[1;32m   2973\u001b[0m             \u001b[0;32mif\u001b[0m \u001b[0mself\u001b[0m\u001b[0;34m.\u001b[0m\u001b[0mcolumns\u001b[0m\u001b[0;34m.\u001b[0m\u001b[0mnlevels\u001b[0m \u001b[0;34m>\u001b[0m \u001b[0;36m1\u001b[0m\u001b[0;34m:\u001b[0m\u001b[0;34m\u001b[0m\u001b[0;34m\u001b[0m\u001b[0m\n\u001b[1;32m   2974\u001b[0m                 \u001b[0;32mreturn\u001b[0m \u001b[0mself\u001b[0m\u001b[0;34m.\u001b[0m\u001b[0m_getitem_multilevel\u001b[0m\u001b[0;34m(\u001b[0m\u001b[0mkey\u001b[0m\u001b[0;34m)\u001b[0m\u001b[0;34m\u001b[0m\u001b[0;34m\u001b[0m\u001b[0m\n\u001b[0;32m-> 2975\u001b[0;31m             \u001b[0mindexer\u001b[0m \u001b[0;34m=\u001b[0m \u001b[0mself\u001b[0m\u001b[0;34m.\u001b[0m\u001b[0mcolumns\u001b[0m\u001b[0;34m.\u001b[0m\u001b[0mget_loc\u001b[0m\u001b[0;34m(\u001b[0m\u001b[0mkey\u001b[0m\u001b[0;34m)\u001b[0m\u001b[0;34m\u001b[0m\u001b[0;34m\u001b[0m\u001b[0m\n\u001b[0m\u001b[1;32m   2976\u001b[0m             \u001b[0;32mif\u001b[0m \u001b[0mis_integer\u001b[0m\u001b[0;34m(\u001b[0m\u001b[0mindexer\u001b[0m\u001b[0;34m)\u001b[0m\u001b[0;34m:\u001b[0m\u001b[0;34m\u001b[0m\u001b[0;34m\u001b[0m\u001b[0m\n\u001b[1;32m   2977\u001b[0m                 \u001b[0mindexer\u001b[0m \u001b[0;34m=\u001b[0m \u001b[0;34m[\u001b[0m\u001b[0mindexer\u001b[0m\u001b[0;34m]\u001b[0m\u001b[0;34m\u001b[0m\u001b[0;34m\u001b[0m\u001b[0m\n",
      "\u001b[0;32m~/anaconda3/envs/fastpm2/lib/python3.7/site-packages/pandas/core/indexes/base.py\u001b[0m in \u001b[0;36mget_loc\u001b[0;34m(self, key, method, tolerance)\u001b[0m\n\u001b[1;32m   2890\u001b[0m                 \u001b[0;32mreturn\u001b[0m \u001b[0mself\u001b[0m\u001b[0;34m.\u001b[0m\u001b[0m_engine\u001b[0m\u001b[0;34m.\u001b[0m\u001b[0mget_loc\u001b[0m\u001b[0;34m(\u001b[0m\u001b[0mkey\u001b[0m\u001b[0;34m)\u001b[0m\u001b[0;34m\u001b[0m\u001b[0;34m\u001b[0m\u001b[0m\n\u001b[1;32m   2891\u001b[0m             \u001b[0;32mexcept\u001b[0m \u001b[0mKeyError\u001b[0m\u001b[0;34m:\u001b[0m\u001b[0;34m\u001b[0m\u001b[0;34m\u001b[0m\u001b[0m\n\u001b[0;32m-> 2892\u001b[0;31m                 \u001b[0;32mreturn\u001b[0m \u001b[0mself\u001b[0m\u001b[0;34m.\u001b[0m\u001b[0m_engine\u001b[0m\u001b[0;34m.\u001b[0m\u001b[0mget_loc\u001b[0m\u001b[0;34m(\u001b[0m\u001b[0mself\u001b[0m\u001b[0;34m.\u001b[0m\u001b[0m_maybe_cast_indexer\u001b[0m\u001b[0;34m(\u001b[0m\u001b[0mkey\u001b[0m\u001b[0;34m)\u001b[0m\u001b[0;34m)\u001b[0m\u001b[0;34m\u001b[0m\u001b[0;34m\u001b[0m\u001b[0m\n\u001b[0m\u001b[1;32m   2893\u001b[0m         \u001b[0mindexer\u001b[0m \u001b[0;34m=\u001b[0m \u001b[0mself\u001b[0m\u001b[0;34m.\u001b[0m\u001b[0mget_indexer\u001b[0m\u001b[0;34m(\u001b[0m\u001b[0;34m[\u001b[0m\u001b[0mkey\u001b[0m\u001b[0;34m]\u001b[0m\u001b[0;34m,\u001b[0m \u001b[0mmethod\u001b[0m\u001b[0;34m=\u001b[0m\u001b[0mmethod\u001b[0m\u001b[0;34m,\u001b[0m \u001b[0mtolerance\u001b[0m\u001b[0;34m=\u001b[0m\u001b[0mtolerance\u001b[0m\u001b[0;34m)\u001b[0m\u001b[0;34m\u001b[0m\u001b[0;34m\u001b[0m\u001b[0m\n\u001b[1;32m   2894\u001b[0m         \u001b[0;32mif\u001b[0m \u001b[0mindexer\u001b[0m\u001b[0;34m.\u001b[0m\u001b[0mndim\u001b[0m \u001b[0;34m>\u001b[0m \u001b[0;36m1\u001b[0m \u001b[0;32mor\u001b[0m \u001b[0mindexer\u001b[0m\u001b[0;34m.\u001b[0m\u001b[0msize\u001b[0m \u001b[0;34m>\u001b[0m \u001b[0;36m1\u001b[0m\u001b[0;34m:\u001b[0m\u001b[0;34m\u001b[0m\u001b[0;34m\u001b[0m\u001b[0m\n",
      "\u001b[0;32mpandas/_libs/index.pyx\u001b[0m in \u001b[0;36mpandas._libs.index.IndexEngine.get_loc\u001b[0;34m()\u001b[0m\n",
      "\u001b[0;32mpandas/_libs/index.pyx\u001b[0m in \u001b[0;36mpandas._libs.index.IndexEngine.get_loc\u001b[0;34m()\u001b[0m\n",
      "\u001b[0;32mpandas/_libs/hashtable_class_helper.pxi\u001b[0m in \u001b[0;36mpandas._libs.hashtable.PyObjectHashTable.get_item\u001b[0;34m()\u001b[0m\n",
      "\u001b[0;32mpandas/_libs/hashtable_class_helper.pxi\u001b[0m in \u001b[0;36mpandas._libs.hashtable.PyObjectHashTable.get_item\u001b[0;34m()\u001b[0m\n",
      "\u001b[0;31mKeyError\u001b[0m: 0"
     ]
    }
   ],
   "source": [
    "bs = 64\n",
    "test_dl = DataLoader(test_traces, batch_size=bs, collate_fn=pad_collate)\n",
    "val_dl = DataLoader(valid_traces, batch_size=bs, collate_fn=pad_collate)\n",
    "\n",
    "whole_dl = DataBunch(test_dl, val_dl)\n",
    "iter_test = iter(whole_dl.train_dl)\n",
    "xb, yb = next(iter_test)\n"
   ]
  },
  {
   "cell_type": "code",
   "execution_count": null,
   "metadata": {},
   "outputs": [],
   "source": []
  },
  {
   "cell_type": "code",
   "execution_count": 84,
   "metadata": {},
   "outputs": [],
   "source": [
    "def predict_next_step(model, df):\n",
    "    model.eval()\n",
    "    model.cpu()\n",
    "    preds = []\n",
    "    for e in df.values:\n",
    "        t = torch.stack([tensor(e[c]).float() for c in range(len(list(df)))])\n",
    "        pred = model(t[None])\n",
    "        preds.append(pred[0][-1].tolist())\n",
    "        \n",
    "    return np.argmax(np.array(preds), axis=1)"
   ]
  },
  {
   "cell_type": "code",
   "execution_count": 85,
   "metadata": {},
   "outputs": [],
   "source": [
    "def next_step_measure(preds, ys):\n",
    "    # Simple accuracy measure\n",
    "    # Do I have to weight it? Check Paper!\n",
    "    return (np.array(preds) == np.array(ys)).mean()"
   ]
  },
  {
   "cell_type": "code",
   "execution_count": 169,
   "metadata": {},
   "outputs": [
    {
     "name": "stdout",
     "output_type": "stream",
     "text": [
      "CPU times: user 21 s, sys: 2.82 s, total: 23.8 s\n",
      "Wall time: 15.2 s\n"
     ]
    }
   ],
   "source": [
    "%%time\n",
    "\n",
    "x, y = process_data_for_next_step_prediction(test_traces)\n",
    "xpad = pad_collate(x, pad_first=True)"
   ]
  },
  {
   "cell_type": "code",
   "execution_count": 2,
   "metadata": {},
   "outputs": [
    {
     "ename": "NameError",
     "evalue": "name 'xpad' is not defined",
     "output_type": "error",
     "traceback": [
      "\u001b[0;31m---------------------------------------------------------------------------\u001b[0m",
      "\u001b[0;31mNameError\u001b[0m                                 Traceback (most recent call last)",
      "\u001b[0;32m<ipython-input-2-84e5ec7c9884>\u001b[0m in \u001b[0;36m<module>\u001b[0;34m\u001b[0m\n\u001b[0;32m----> 1\u001b[0;31m \u001b[0mlen\u001b[0m\u001b[0;34m(\u001b[0m\u001b[0mxpad\u001b[0m\u001b[0;34m)\u001b[0m\u001b[0;34m\u001b[0m\u001b[0;34m\u001b[0m\u001b[0m\n\u001b[0m",
      "\u001b[0;31mNameError\u001b[0m: name 'xpad' is not defined"
     ]
    }
   ],
   "source": [
    "xpad[3]"
   ]
  },
  {
   "cell_type": "code",
   "execution_count": 182,
   "metadata": {},
   "outputs": [
    {
     "name": "stdout",
     "output_type": "stream",
     "text": [
      "[49384, 49384, 49384, 49384, 49384, 49384, 49384, 49384, 49384, 49384, 49384, 49384, 49384, 49384, 49384, 49384, 49384, 49384, 49384, 49384, 49384, 49384, 49384, 49384, 49384, 49384, 49384, 49384, 49384, 49384, 49384]\n"
     ]
    }
   ],
   "source": [
    "print([len(s) for s in xpad])"
   ]
  },
  {
   "cell_type": "code",
   "execution_count": 115,
   "metadata": {},
   "outputs": [
    {
     "ename": "TypeError",
     "evalue": "'builtin_function_or_method' object is not iterable",
     "output_type": "error",
     "traceback": [
      "\u001b[0;31m---------------------------------------------------------------------------\u001b[0m",
      "\u001b[0;31mTypeError\u001b[0m                                 Traceback (most recent call last)",
      "\u001b[0;32m<ipython-input-115-8786229c9007>\u001b[0m in \u001b[0;36m<module>\u001b[0;34m\u001b[0m\n\u001b[0;32m----> 1\u001b[0;31m \u001b[0mpreds\u001b[0m \u001b[0;34m=\u001b[0m \u001b[0mpredict_next_step\u001b[0m\u001b[0;34m(\u001b[0m\u001b[0mawd_lstm\u001b[0m\u001b[0;34m,\u001b[0m \u001b[0mx_c\u001b[0m\u001b[0;34m)\u001b[0m\u001b[0;34m\u001b[0m\u001b[0;34m\u001b[0m\u001b[0m\n\u001b[0m",
      "\u001b[0;32m<ipython-input-84-006581c0b6ce>\u001b[0m in \u001b[0;36mpredict_next_step\u001b[0;34m(model, df)\u001b[0m\n\u001b[1;32m      3\u001b[0m     \u001b[0mmodel\u001b[0m\u001b[0;34m.\u001b[0m\u001b[0mcpu\u001b[0m\u001b[0;34m(\u001b[0m\u001b[0;34m)\u001b[0m\u001b[0;34m\u001b[0m\u001b[0;34m\u001b[0m\u001b[0m\n\u001b[1;32m      4\u001b[0m     \u001b[0mpreds\u001b[0m \u001b[0;34m=\u001b[0m \u001b[0;34m[\u001b[0m\u001b[0;34m]\u001b[0m\u001b[0;34m\u001b[0m\u001b[0;34m\u001b[0m\u001b[0m\n\u001b[0;32m----> 5\u001b[0;31m     \u001b[0;32mfor\u001b[0m \u001b[0me\u001b[0m \u001b[0;32min\u001b[0m \u001b[0mdf\u001b[0m\u001b[0;34m.\u001b[0m\u001b[0mvalues\u001b[0m\u001b[0;34m:\u001b[0m\u001b[0;34m\u001b[0m\u001b[0;34m\u001b[0m\u001b[0m\n\u001b[0m\u001b[1;32m      6\u001b[0m         \u001b[0mt\u001b[0m \u001b[0;34m=\u001b[0m \u001b[0mtorch\u001b[0m\u001b[0;34m.\u001b[0m\u001b[0mstack\u001b[0m\u001b[0;34m(\u001b[0m\u001b[0;34m[\u001b[0m\u001b[0mtensor\u001b[0m\u001b[0;34m(\u001b[0m\u001b[0me\u001b[0m\u001b[0;34m[\u001b[0m\u001b[0mc\u001b[0m\u001b[0;34m]\u001b[0m\u001b[0;34m)\u001b[0m\u001b[0;34m.\u001b[0m\u001b[0mfloat\u001b[0m\u001b[0;34m(\u001b[0m\u001b[0;34m)\u001b[0m \u001b[0;32mfor\u001b[0m \u001b[0mc\u001b[0m \u001b[0;32min\u001b[0m \u001b[0mrange\u001b[0m\u001b[0;34m(\u001b[0m\u001b[0mlen\u001b[0m\u001b[0;34m(\u001b[0m\u001b[0mlist\u001b[0m\u001b[0;34m(\u001b[0m\u001b[0mdf\u001b[0m\u001b[0;34m)\u001b[0m\u001b[0;34m)\u001b[0m\u001b[0;34m)\u001b[0m\u001b[0;34m]\u001b[0m\u001b[0;34m)\u001b[0m\u001b[0;34m\u001b[0m\u001b[0;34m\u001b[0m\u001b[0m\n\u001b[1;32m      7\u001b[0m         \u001b[0mpred\u001b[0m \u001b[0;34m=\u001b[0m \u001b[0mmodel\u001b[0m\u001b[0;34m(\u001b[0m\u001b[0mt\u001b[0m\u001b[0;34m[\u001b[0m\u001b[0;32mNone\u001b[0m\u001b[0;34m]\u001b[0m\u001b[0;34m)\u001b[0m\u001b[0;34m\u001b[0m\u001b[0;34m\u001b[0m\u001b[0m\n",
      "\u001b[0;31mTypeError\u001b[0m: 'builtin_function_or_method' object is not iterable"
     ]
    }
   ],
   "source": [
    "preds = predict_next_step(awd_lstm, x)"
   ]
  },
  {
   "cell_type": "code",
   "execution_count": null,
   "metadata": {},
   "outputs": [],
   "source": [
    "next_step_measure(preds, y)"
   ]
  },
  {
   "cell_type": "markdown",
   "metadata": {},
   "source": [
    "## Suffix Prediction"
   ]
  },
  {
   "cell_type": "code",
   "execution_count": 51,
   "metadata": {},
   "outputs": [],
   "source": [
    "def process_data_for_suffix_prediction(test, input_cols=None, output_col=3, startIndex=1):\n",
    "    xs, ys = [], []\n",
    "    if input_cols == None: \n",
    "        input_cols = list(test)\n",
    "        \n",
    "    input_cols = listify(input_cols)\n",
    "    for trace in test.values:\n",
    "        for i in range(startIndex, len(listify(trace[0]))):\n",
    "            x, y = [], []\n",
    "            for c in range(len(input_cols)):\n",
    "                x.append(trace[c][:i])\n",
    "            \n",
    "            xs.append(x)\n",
    "            ys.append(trace[output_col][i:])\n",
    "            \n",
    "    return pd.DataFrame(xs, columns=input_cols), ys"
   ]
  },
  {
   "cell_type": "code",
   "execution_count": 52,
   "metadata": {},
   "outputs": [],
   "source": [
    "x, y = process_data_for_suffix_prediction(test_traces)"
   ]
  },
  {
   "cell_type": "code",
   "execution_count": 53,
   "metadata": {},
   "outputs": [],
   "source": [
    "def predict_suffix(model, df):\n",
    "    rl = []\n",
    "\n",
    "    for x in progress_bar(df.values):\n",
    "        t = torch.stack([tensor(x[c]).float() for c in range(len(list(df)))])\n",
    "        p = tensor(-1)\n",
    "        res = []\n",
    "        \n",
    "        while p.int() != 3: # 3: eos token\n",
    "            pred = model(t[None])\n",
    "            pred = pred[0][-1]\n",
    "            p = torch.multinomial(torch.softmax(pred, 0), 1).float()\n",
    "           # p=torch.argmax(pred,0).float()[None]\n",
    "            if p.int() != 3 or len(res) == 0: \n",
    "                res.append(p)\n",
    "                \n",
    "            k = torch.cat((t[3],p))\n",
    "            t = torch.stack([k for c in range(len(list(df)))])\n",
    "\n",
    "\n",
    "        res = torch.cat(res,0).int().tolist()\n",
    "        rl.append(res)\n",
    "        \n",
    "    return rl"
   ]
  },
  {
   "cell_type": "code",
   "execution_count": 54,
   "metadata": {},
   "outputs": [],
   "source": [
    "def suffix_measure(preds, ys):\n",
    "    sim = []\n",
    "    edits = []\n",
    "    for p, y in zip(preds, ys):\n",
    "        l = max(len(p),len(y))\n",
    "        d = ed.eval(p, y)\n",
    "        edits.append(abs(d))\n",
    "        sim.append(1-(abs(d)/l))\n",
    "    return np.array(edits).mean(), np.array(edits).min(), np.array(edits).max(), np.array(sim).mean()"
   ]
  },
  {
   "cell_type": "code",
   "execution_count": 55,
   "metadata": {},
   "outputs": [
    {
     "name": "stdout",
     "output_type": "stream",
     "text": [
      "CPU times: user 2 µs, sys: 0 ns, total: 2 µs\n",
      "Wall time: 5.01 µs\n"
     ]
    }
   ],
   "source": [
    "%%time\n",
    "\n",
    "#preds = predict_suffix(awd_lstm, x)"
   ]
  },
  {
   "cell_type": "code",
   "execution_count": 56,
   "metadata": {},
   "outputs": [
    {
     "name": "stdout",
     "output_type": "stream",
     "text": [
      "CPU times: user 2 µs, sys: 0 ns, total: 2 µs\n",
      "Wall time: 4.53 µs\n"
     ]
    }
   ],
   "source": [
    "%%time\n",
    "\n",
    "#mean_edit, min_edit, max_edit, sim = suffix_measure(preds, y)\n",
    "#mean_edit, min_edit, max_edit, sim"
   ]
  },
  {
   "cell_type": "markdown",
   "metadata": {
    "heading_collapsed": true
   },
   "source": [
    "## Predict Suffix"
   ]
  },
  {
   "cell_type": "code",
   "execution_count": 57,
   "metadata": {
    "hidden": true
   },
   "outputs": [],
   "source": [
    "def predict_suffix(net, test, top_k=None, cuda=False):\n",
    "    \n",
    "    x, y = process_data_for_suffix_prediction(test, col='Activities', startIndex=1)\n",
    "        \n",
    "    if cuda:\n",
    "        net.cuda()\n",
    "    else:\n",
    "        net.cpu()\n",
    "\n",
    "    net.eval()\n",
    "    h = net.init_hidden(1)\n",
    "    predictions = []\n",
    "    \n",
    "    # First off, run through the prime characters\n",
    "    for i in range(len(x)):\n",
    "        \n",
    "        # Get the size of the trace to be predicted\n",
    "        size = len(y[i])\n",
    "        value = x[i]\n",
    "        activities = []\n",
    "            \n",
    "        for j in range(len(value)):\n",
    "            activity, h = net.predict([value[j]], h, cuda=cuda, top_k=top_k)\n",
    "\n",
    "        activities.append(activity)\n",
    "\n",
    "        for k in range(size-1):\n",
    "            activity, h = net.predict([activities[-1]], h, cuda=cuda, top_k=top_k)\n",
    "            activities.append(activity)\n",
    "\n",
    "        print(activities)\n",
    "\n",
    "        predictions.append(activities)\n",
    "        \n",
    "    return predictions"
   ]
  }
 ],
 "metadata": {
  "kernelspec": {
   "display_name": "fastpm2",
   "language": "python",
   "name": "fastpm2"
  },
  "language_info": {
   "codemirror_mode": {
    "name": "ipython",
    "version": 3
   },
   "file_extension": ".py",
   "mimetype": "text/x-python",
   "name": "python",
   "nbconvert_exporter": "python",
   "pygments_lexer": "ipython3",
   "version": "3.7.4"
  },
  "varInspector": {
   "cols": {
    "lenName": 16,
    "lenType": 16,
    "lenVar": 40
   },
   "kernels_config": {
    "python": {
     "delete_cmd_postfix": "",
     "delete_cmd_prefix": "del ",
     "library": "var_list.py",
     "varRefreshCmd": "print(var_dic_list())"
    },
    "r": {
     "delete_cmd_postfix": ") ",
     "delete_cmd_prefix": "rm(",
     "library": "var_list.r",
     "varRefreshCmd": "cat(var_dic_list()) "
    }
   },
   "types_to_exclude": [
    "module",
    "function",
    "builtin_function_or_method",
    "instance",
    "_Feature"
   ],
   "window_display": false
  }
 },
 "nbformat": 4,
 "nbformat_minor": 2
}
