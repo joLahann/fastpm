{
 "cells": [
  {
   "cell_type": "markdown",
   "metadata": {},
   "source": [
    "Control Flow Prediction\n",
    "===\n",
    "\n",
    "Process Prediction that focuses only on the control flow perspective of processes"
   ]
  },
  {
   "cell_type": "markdown",
   "metadata": {},
   "source": [
    "# Imports"
   ]
  },
  {
   "cell_type": "code",
   "execution_count": 1,
   "metadata": {},
   "outputs": [],
   "source": [
    "%load_ext autoreload\n",
    "%autoreload 2\n",
    "\n",
    "%matplotlib inline"
   ]
  },
  {
   "cell_type": "code",
   "execution_count": 2,
   "metadata": {},
   "outputs": [],
   "source": [
    "from exp.eventlog import *"
   ]
  },
  {
   "cell_type": "code",
   "execution_count": 3,
   "metadata": {},
   "outputs": [],
   "source": [
    "from exp.dl_utils import *"
   ]
  },
  {
   "cell_type": "code",
   "execution_count": 4,
   "metadata": {},
   "outputs": [],
   "source": [
    "import editdistance as ed"
   ]
  },
  {
   "cell_type": "markdown",
   "metadata": {},
   "source": [
    "# Import Data"
   ]
  },
  {
   "cell_type": "code",
   "execution_count": 5,
   "metadata": {},
   "outputs": [],
   "source": [
    "log=import_xes(untar_data(URLs.BPIC_2012)).events"
   ]
  },
  {
   "cell_type": "code",
   "execution_count": 6,
   "metadata": {},
   "outputs": [
    {
     "data": {
      "text/html": [
       "<div>\n",
       "<style scoped>\n",
       "    .dataframe tbody tr th:only-of-type {\n",
       "        vertical-align: middle;\n",
       "    }\n",
       "\n",
       "    .dataframe tbody tr th {\n",
       "        vertical-align: top;\n",
       "    }\n",
       "\n",
       "    .dataframe thead th {\n",
       "        text-align: right;\n",
       "    }\n",
       "</style>\n",
       "<table border=\"1\" class=\"dataframe\">\n",
       "  <thead>\n",
       "    <tr style=\"text-align: right;\">\n",
       "      <th></th>\n",
       "      <th>trace_id</th>\n",
       "      <th>event_id</th>\n",
       "      <th>org:resource</th>\n",
       "      <th>lifecycle:transition</th>\n",
       "      <th>concept:name</th>\n",
       "      <th>time:timestamp</th>\n",
       "    </tr>\n",
       "  </thead>\n",
       "  <tbody>\n",
       "    <tr>\n",
       "      <th>0</th>\n",
       "      <td>173688</td>\n",
       "      <td>0</td>\n",
       "      <td>112</td>\n",
       "      <td>COMPLETE</td>\n",
       "      <td>A_SUBMITTED</td>\n",
       "      <td>2011-09-30 22:38:44.546000+00:00</td>\n",
       "    </tr>\n",
       "    <tr>\n",
       "      <th>1</th>\n",
       "      <td>173688</td>\n",
       "      <td>1</td>\n",
       "      <td>112</td>\n",
       "      <td>COMPLETE</td>\n",
       "      <td>A_PARTLYSUBMITTED</td>\n",
       "      <td>2011-09-30 22:38:44.880000+00:00</td>\n",
       "    </tr>\n",
       "    <tr>\n",
       "      <th>2</th>\n",
       "      <td>173688</td>\n",
       "      <td>2</td>\n",
       "      <td>112</td>\n",
       "      <td>COMPLETE</td>\n",
       "      <td>A_PREACCEPTED</td>\n",
       "      <td>2011-09-30 22:39:37.906000+00:00</td>\n",
       "    </tr>\n",
       "    <tr>\n",
       "      <th>3</th>\n",
       "      <td>173688</td>\n",
       "      <td>3</td>\n",
       "      <td>112</td>\n",
       "      <td>SCHEDULE</td>\n",
       "      <td>W_Completeren aanvraag</td>\n",
       "      <td>2011-09-30 22:39:38.875000+00:00</td>\n",
       "    </tr>\n",
       "    <tr>\n",
       "      <th>4</th>\n",
       "      <td>173688</td>\n",
       "      <td>4</td>\n",
       "      <td>None</td>\n",
       "      <td>START</td>\n",
       "      <td>W_Completeren aanvraag</td>\n",
       "      <td>2011-10-01 09:36:46.437000+00:00</td>\n",
       "    </tr>\n",
       "    <tr>\n",
       "      <th>5</th>\n",
       "      <td>173688</td>\n",
       "      <td>5</td>\n",
       "      <td>10862</td>\n",
       "      <td>COMPLETE</td>\n",
       "      <td>A_ACCEPTED</td>\n",
       "      <td>2011-10-01 09:42:43.308000+00:00</td>\n",
       "    </tr>\n",
       "    <tr>\n",
       "      <th>6</th>\n",
       "      <td>173688</td>\n",
       "      <td>6</td>\n",
       "      <td>10862</td>\n",
       "      <td>COMPLETE</td>\n",
       "      <td>O_SELECTED</td>\n",
       "      <td>2011-10-01 09:45:09.243000+00:00</td>\n",
       "    </tr>\n",
       "    <tr>\n",
       "      <th>7</th>\n",
       "      <td>173688</td>\n",
       "      <td>7</td>\n",
       "      <td>10862</td>\n",
       "      <td>COMPLETE</td>\n",
       "      <td>A_FINALIZED</td>\n",
       "      <td>2011-10-01 09:45:09.243000+00:00</td>\n",
       "    </tr>\n",
       "    <tr>\n",
       "      <th>8</th>\n",
       "      <td>173688</td>\n",
       "      <td>8</td>\n",
       "      <td>10862</td>\n",
       "      <td>COMPLETE</td>\n",
       "      <td>O_CREATED</td>\n",
       "      <td>2011-10-01 09:45:11.197000+00:00</td>\n",
       "    </tr>\n",
       "    <tr>\n",
       "      <th>9</th>\n",
       "      <td>173688</td>\n",
       "      <td>9</td>\n",
       "      <td>10862</td>\n",
       "      <td>COMPLETE</td>\n",
       "      <td>O_SENT</td>\n",
       "      <td>2011-10-01 09:45:11.380000+00:00</td>\n",
       "    </tr>\n",
       "    <tr>\n",
       "      <th>10</th>\n",
       "      <td>173688</td>\n",
       "      <td>10</td>\n",
       "      <td>None</td>\n",
       "      <td>SCHEDULE</td>\n",
       "      <td>W_Nabellen offertes</td>\n",
       "      <td>2011-10-01 09:45:11.554000+00:00</td>\n",
       "    </tr>\n",
       "    <tr>\n",
       "      <th>11</th>\n",
       "      <td>173688</td>\n",
       "      <td>11</td>\n",
       "      <td>None</td>\n",
       "      <td>COMPLETE</td>\n",
       "      <td>W_Completeren aanvraag</td>\n",
       "      <td>2011-10-01 09:45:13.917000+00:00</td>\n",
       "    </tr>\n",
       "    <tr>\n",
       "      <th>12</th>\n",
       "      <td>173688</td>\n",
       "      <td>12</td>\n",
       "      <td>None</td>\n",
       "      <td>START</td>\n",
       "      <td>W_Nabellen offertes</td>\n",
       "      <td>2011-10-01 10:15:41.290000+00:00</td>\n",
       "    </tr>\n",
       "    <tr>\n",
       "      <th>13</th>\n",
       "      <td>173688</td>\n",
       "      <td>13</td>\n",
       "      <td>None</td>\n",
       "      <td>COMPLETE</td>\n",
       "      <td>W_Nabellen offertes</td>\n",
       "      <td>2011-10-01 10:17:08.924000+00:00</td>\n",
       "    </tr>\n",
       "    <tr>\n",
       "      <th>14</th>\n",
       "      <td>173688</td>\n",
       "      <td>14</td>\n",
       "      <td>10913</td>\n",
       "      <td>START</td>\n",
       "      <td>W_Nabellen offertes</td>\n",
       "      <td>2011-10-08 14:26:57.720000+00:00</td>\n",
       "    </tr>\n",
       "    <tr>\n",
       "      <th>15</th>\n",
       "      <td>173688</td>\n",
       "      <td>15</td>\n",
       "      <td>10913</td>\n",
       "      <td>COMPLETE</td>\n",
       "      <td>W_Nabellen offertes</td>\n",
       "      <td>2011-10-08 14:32:00.886000+00:00</td>\n",
       "    </tr>\n",
       "    <tr>\n",
       "      <th>16</th>\n",
       "      <td>173688</td>\n",
       "      <td>16</td>\n",
       "      <td>11049</td>\n",
       "      <td>START</td>\n",
       "      <td>W_Nabellen offertes</td>\n",
       "      <td>2011-10-10 09:32:22.495000+00:00</td>\n",
       "    </tr>\n",
       "    <tr>\n",
       "      <th>17</th>\n",
       "      <td>173688</td>\n",
       "      <td>17</td>\n",
       "      <td>11049</td>\n",
       "      <td>COMPLETE</td>\n",
       "      <td>O_SENT_BACK</td>\n",
       "      <td>2011-10-10 09:33:03.668000+00:00</td>\n",
       "    </tr>\n",
       "    <tr>\n",
       "      <th>18</th>\n",
       "      <td>173688</td>\n",
       "      <td>18</td>\n",
       "      <td>11049</td>\n",
       "      <td>SCHEDULE</td>\n",
       "      <td>W_Valideren aanvraag</td>\n",
       "      <td>2011-10-10 09:33:04.560000+00:00</td>\n",
       "    </tr>\n",
       "    <tr>\n",
       "      <th>19</th>\n",
       "      <td>173688</td>\n",
       "      <td>19</td>\n",
       "      <td>11049</td>\n",
       "      <td>COMPLETE</td>\n",
       "      <td>W_Nabellen offertes</td>\n",
       "      <td>2011-10-10 09:33:05.791000+00:00</td>\n",
       "    </tr>\n",
       "    <tr>\n",
       "      <th>20</th>\n",
       "      <td>173688</td>\n",
       "      <td>20</td>\n",
       "      <td>10629</td>\n",
       "      <td>START</td>\n",
       "      <td>W_Valideren aanvraag</td>\n",
       "      <td>2011-10-13 08:05:26.925000+00:00</td>\n",
       "    </tr>\n",
       "    <tr>\n",
       "      <th>21</th>\n",
       "      <td>173688</td>\n",
       "      <td>21</td>\n",
       "      <td>10629</td>\n",
       "      <td>COMPLETE</td>\n",
       "      <td>A_REGISTERED</td>\n",
       "      <td>2011-10-13 08:37:29.226000+00:00</td>\n",
       "    </tr>\n",
       "    <tr>\n",
       "      <th>22</th>\n",
       "      <td>173688</td>\n",
       "      <td>22</td>\n",
       "      <td>10629</td>\n",
       "      <td>COMPLETE</td>\n",
       "      <td>A_APPROVED</td>\n",
       "      <td>2011-10-13 08:37:29.226000+00:00</td>\n",
       "    </tr>\n",
       "    <tr>\n",
       "      <th>23</th>\n",
       "      <td>173688</td>\n",
       "      <td>23</td>\n",
       "      <td>10629</td>\n",
       "      <td>COMPLETE</td>\n",
       "      <td>O_ACCEPTED</td>\n",
       "      <td>2011-10-13 08:37:29.226000+00:00</td>\n",
       "    </tr>\n",
       "    <tr>\n",
       "      <th>24</th>\n",
       "      <td>173688</td>\n",
       "      <td>24</td>\n",
       "      <td>10629</td>\n",
       "      <td>COMPLETE</td>\n",
       "      <td>A_ACTIVATED</td>\n",
       "      <td>2011-10-13 08:37:29.226000+00:00</td>\n",
       "    </tr>\n",
       "    <tr>\n",
       "      <th>25</th>\n",
       "      <td>173688</td>\n",
       "      <td>25</td>\n",
       "      <td>10629</td>\n",
       "      <td>COMPLETE</td>\n",
       "      <td>W_Valideren aanvraag</td>\n",
       "      <td>2011-10-13 08:37:37.026000+00:00</td>\n",
       "    </tr>\n",
       "    <tr>\n",
       "      <th>26</th>\n",
       "      <td>173691</td>\n",
       "      <td>0</td>\n",
       "      <td>112</td>\n",
       "      <td>COMPLETE</td>\n",
       "      <td>A_SUBMITTED</td>\n",
       "      <td>2011-10-01 06:08:58.256000+00:00</td>\n",
       "    </tr>\n",
       "    <tr>\n",
       "      <th>27</th>\n",
       "      <td>173691</td>\n",
       "      <td>1</td>\n",
       "      <td>112</td>\n",
       "      <td>COMPLETE</td>\n",
       "      <td>A_PARTLYSUBMITTED</td>\n",
       "      <td>2011-10-01 06:09:02.195000+00:00</td>\n",
       "    </tr>\n",
       "    <tr>\n",
       "      <th>28</th>\n",
       "      <td>173691</td>\n",
       "      <td>2</td>\n",
       "      <td>112</td>\n",
       "      <td>COMPLETE</td>\n",
       "      <td>A_PREACCEPTED</td>\n",
       "      <td>2011-10-01 06:09:56.648000+00:00</td>\n",
       "    </tr>\n",
       "    <tr>\n",
       "      <th>29</th>\n",
       "      <td>173691</td>\n",
       "      <td>3</td>\n",
       "      <td>112</td>\n",
       "      <td>SCHEDULE</td>\n",
       "      <td>W_Completeren aanvraag</td>\n",
       "      <td>2011-10-01 06:09:59.578000+00:00</td>\n",
       "    </tr>\n",
       "    <tr>\n",
       "      <th>...</th>\n",
       "      <td>...</td>\n",
       "      <td>...</td>\n",
       "      <td>...</td>\n",
       "      <td>...</td>\n",
       "      <td>...</td>\n",
       "      <td>...</td>\n",
       "    </tr>\n",
       "    <tr>\n",
       "      <th>262170</th>\n",
       "      <td>214367</td>\n",
       "      <td>2</td>\n",
       "      <td>112</td>\n",
       "      <td>COMPLETE</td>\n",
       "      <td>A_DECLINED</td>\n",
       "      <td>2012-02-29 22:29:21.958000+00:00</td>\n",
       "    </tr>\n",
       "    <tr>\n",
       "      <th>262171</th>\n",
       "      <td>214370</td>\n",
       "      <td>0</td>\n",
       "      <td>112</td>\n",
       "      <td>COMPLETE</td>\n",
       "      <td>A_SUBMITTED</td>\n",
       "      <td>2012-02-29 22:28:55.349000+00:00</td>\n",
       "    </tr>\n",
       "    <tr>\n",
       "      <th>262172</th>\n",
       "      <td>214370</td>\n",
       "      <td>1</td>\n",
       "      <td>112</td>\n",
       "      <td>COMPLETE</td>\n",
       "      <td>A_PARTLYSUBMITTED</td>\n",
       "      <td>2012-02-29 22:28:55.479000+00:00</td>\n",
       "    </tr>\n",
       "    <tr>\n",
       "      <th>262173</th>\n",
       "      <td>214370</td>\n",
       "      <td>2</td>\n",
       "      <td>112</td>\n",
       "      <td>SCHEDULE</td>\n",
       "      <td>W_Afhandelen leads</td>\n",
       "      <td>2012-02-29 22:29:06.452000+00:00</td>\n",
       "    </tr>\n",
       "    <tr>\n",
       "      <th>262174</th>\n",
       "      <td>214370</td>\n",
       "      <td>3</td>\n",
       "      <td>11169</td>\n",
       "      <td>START</td>\n",
       "      <td>W_Afhandelen leads</td>\n",
       "      <td>2012-03-01 08:25:39.409000+00:00</td>\n",
       "    </tr>\n",
       "    <tr>\n",
       "      <th>262175</th>\n",
       "      <td>214370</td>\n",
       "      <td>4</td>\n",
       "      <td>11169</td>\n",
       "      <td>COMPLETE</td>\n",
       "      <td>A_DECLINED</td>\n",
       "      <td>2012-03-01 08:28:18.168000+00:00</td>\n",
       "    </tr>\n",
       "    <tr>\n",
       "      <th>262176</th>\n",
       "      <td>214370</td>\n",
       "      <td>5</td>\n",
       "      <td>11169</td>\n",
       "      <td>COMPLETE</td>\n",
       "      <td>W_Afhandelen leads</td>\n",
       "      <td>2012-03-01 08:28:21.228000+00:00</td>\n",
       "    </tr>\n",
       "    <tr>\n",
       "      <th>262177</th>\n",
       "      <td>214373</td>\n",
       "      <td>0</td>\n",
       "      <td>112</td>\n",
       "      <td>COMPLETE</td>\n",
       "      <td>A_SUBMITTED</td>\n",
       "      <td>2012-02-29 22:43:09.766000+00:00</td>\n",
       "    </tr>\n",
       "    <tr>\n",
       "      <th>262178</th>\n",
       "      <td>214373</td>\n",
       "      <td>1</td>\n",
       "      <td>112</td>\n",
       "      <td>COMPLETE</td>\n",
       "      <td>A_PARTLYSUBMITTED</td>\n",
       "      <td>2012-02-29 22:43:09.899000+00:00</td>\n",
       "    </tr>\n",
       "    <tr>\n",
       "      <th>262179</th>\n",
       "      <td>214373</td>\n",
       "      <td>2</td>\n",
       "      <td>112</td>\n",
       "      <td>SCHEDULE</td>\n",
       "      <td>W_Afhandelen leads</td>\n",
       "      <td>2012-02-29 22:43:54.276000+00:00</td>\n",
       "    </tr>\n",
       "    <tr>\n",
       "      <th>262180</th>\n",
       "      <td>214373</td>\n",
       "      <td>3</td>\n",
       "      <td>11169</td>\n",
       "      <td>START</td>\n",
       "      <td>W_Afhandelen leads</td>\n",
       "      <td>2012-03-01 08:25:47.680000+00:00</td>\n",
       "    </tr>\n",
       "    <tr>\n",
       "      <th>262181</th>\n",
       "      <td>214373</td>\n",
       "      <td>4</td>\n",
       "      <td>11169</td>\n",
       "      <td>COMPLETE</td>\n",
       "      <td>A_PREACCEPTED</td>\n",
       "      <td>2012-03-01 08:27:50.503000+00:00</td>\n",
       "    </tr>\n",
       "    <tr>\n",
       "      <th>262182</th>\n",
       "      <td>214373</td>\n",
       "      <td>5</td>\n",
       "      <td>11169</td>\n",
       "      <td>SCHEDULE</td>\n",
       "      <td>W_Completeren aanvraag</td>\n",
       "      <td>2012-03-01 08:27:50.551000+00:00</td>\n",
       "    </tr>\n",
       "    <tr>\n",
       "      <th>262183</th>\n",
       "      <td>214373</td>\n",
       "      <td>6</td>\n",
       "      <td>11169</td>\n",
       "      <td>COMPLETE</td>\n",
       "      <td>W_Afhandelen leads</td>\n",
       "      <td>2012-03-01 08:27:52.388000+00:00</td>\n",
       "    </tr>\n",
       "    <tr>\n",
       "      <th>262184</th>\n",
       "      <td>214373</td>\n",
       "      <td>7</td>\n",
       "      <td>10933</td>\n",
       "      <td>START</td>\n",
       "      <td>W_Completeren aanvraag</td>\n",
       "      <td>2012-03-01 19:11:14.761000+00:00</td>\n",
       "    </tr>\n",
       "    <tr>\n",
       "      <th>262185</th>\n",
       "      <td>214373</td>\n",
       "      <td>8</td>\n",
       "      <td>10933</td>\n",
       "      <td>COMPLETE</td>\n",
       "      <td>A_ACCEPTED</td>\n",
       "      <td>2012-03-01 19:17:22.457000+00:00</td>\n",
       "    </tr>\n",
       "    <tr>\n",
       "      <th>262186</th>\n",
       "      <td>214373</td>\n",
       "      <td>9</td>\n",
       "      <td>10933</td>\n",
       "      <td>COMPLETE</td>\n",
       "      <td>O_SELECTED</td>\n",
       "      <td>2012-03-01 19:22:38.593000+00:00</td>\n",
       "    </tr>\n",
       "    <tr>\n",
       "      <th>262187</th>\n",
       "      <td>214373</td>\n",
       "      <td>10</td>\n",
       "      <td>10933</td>\n",
       "      <td>COMPLETE</td>\n",
       "      <td>A_FINALIZED</td>\n",
       "      <td>2012-03-01 19:22:38.593000+00:00</td>\n",
       "    </tr>\n",
       "    <tr>\n",
       "      <th>262188</th>\n",
       "      <td>214373</td>\n",
       "      <td>11</td>\n",
       "      <td>10933</td>\n",
       "      <td>COMPLETE</td>\n",
       "      <td>O_CREATED</td>\n",
       "      <td>2012-03-01 19:22:40.016000+00:00</td>\n",
       "    </tr>\n",
       "    <tr>\n",
       "      <th>262189</th>\n",
       "      <td>214373</td>\n",
       "      <td>12</td>\n",
       "      <td>10933</td>\n",
       "      <td>COMPLETE</td>\n",
       "      <td>O_SENT</td>\n",
       "      <td>2012-03-01 19:22:40.043000+00:00</td>\n",
       "    </tr>\n",
       "    <tr>\n",
       "      <th>262190</th>\n",
       "      <td>214373</td>\n",
       "      <td>13</td>\n",
       "      <td>10933</td>\n",
       "      <td>SCHEDULE</td>\n",
       "      <td>W_Nabellen offertes</td>\n",
       "      <td>2012-03-01 19:22:40.149000+00:00</td>\n",
       "    </tr>\n",
       "    <tr>\n",
       "      <th>262191</th>\n",
       "      <td>214373</td>\n",
       "      <td>14</td>\n",
       "      <td>10933</td>\n",
       "      <td>COMPLETE</td>\n",
       "      <td>W_Completeren aanvraag</td>\n",
       "      <td>2012-03-01 19:22:41.157000+00:00</td>\n",
       "    </tr>\n",
       "    <tr>\n",
       "      <th>262192</th>\n",
       "      <td>214373</td>\n",
       "      <td>15</td>\n",
       "      <td>11119</td>\n",
       "      <td>START</td>\n",
       "      <td>W_Nabellen offertes</td>\n",
       "      <td>2012-03-10 11:46:22.700000+00:00</td>\n",
       "    </tr>\n",
       "    <tr>\n",
       "      <th>262193</th>\n",
       "      <td>214373</td>\n",
       "      <td>16</td>\n",
       "      <td>11119</td>\n",
       "      <td>COMPLETE</td>\n",
       "      <td>W_Nabellen offertes</td>\n",
       "      <td>2012-03-10 11:50:54.881000+00:00</td>\n",
       "    </tr>\n",
       "    <tr>\n",
       "      <th>262194</th>\n",
       "      <td>214376</td>\n",
       "      <td>0</td>\n",
       "      <td>112</td>\n",
       "      <td>COMPLETE</td>\n",
       "      <td>A_SUBMITTED</td>\n",
       "      <td>2012-02-29 22:51:16.799000+00:00</td>\n",
       "    </tr>\n",
       "    <tr>\n",
       "      <th>262195</th>\n",
       "      <td>214376</td>\n",
       "      <td>1</td>\n",
       "      <td>112</td>\n",
       "      <td>COMPLETE</td>\n",
       "      <td>A_PARTLYSUBMITTED</td>\n",
       "      <td>2012-02-29 22:51:17.423000+00:00</td>\n",
       "    </tr>\n",
       "    <tr>\n",
       "      <th>262196</th>\n",
       "      <td>214376</td>\n",
       "      <td>2</td>\n",
       "      <td>112</td>\n",
       "      <td>SCHEDULE</td>\n",
       "      <td>W_Afhandelen leads</td>\n",
       "      <td>2012-02-29 22:52:01.287000+00:00</td>\n",
       "    </tr>\n",
       "    <tr>\n",
       "      <th>262197</th>\n",
       "      <td>214376</td>\n",
       "      <td>3</td>\n",
       "      <td>11169</td>\n",
       "      <td>START</td>\n",
       "      <td>W_Afhandelen leads</td>\n",
       "      <td>2012-03-01 08:26:46.736000+00:00</td>\n",
       "    </tr>\n",
       "    <tr>\n",
       "      <th>262198</th>\n",
       "      <td>214376</td>\n",
       "      <td>4</td>\n",
       "      <td>11169</td>\n",
       "      <td>COMPLETE</td>\n",
       "      <td>A_DECLINED</td>\n",
       "      <td>2012-03-01 08:27:37.118000+00:00</td>\n",
       "    </tr>\n",
       "    <tr>\n",
       "      <th>262199</th>\n",
       "      <td>214376</td>\n",
       "      <td>5</td>\n",
       "      <td>11169</td>\n",
       "      <td>COMPLETE</td>\n",
       "      <td>W_Afhandelen leads</td>\n",
       "      <td>2012-03-01 08:27:41.325000+00:00</td>\n",
       "    </tr>\n",
       "  </tbody>\n",
       "</table>\n",
       "<p>262200 rows × 6 columns</p>\n",
       "</div>"
      ],
      "text/plain": [
       "       trace_id  event_id org:resource lifecycle:transition  \\\n",
       "0        173688         0          112             COMPLETE   \n",
       "1        173688         1          112             COMPLETE   \n",
       "2        173688         2          112             COMPLETE   \n",
       "3        173688         3          112             SCHEDULE   \n",
       "4        173688         4         None                START   \n",
       "...         ...       ...          ...                  ...   \n",
       "262195   214376         1          112             COMPLETE   \n",
       "262196   214376         2          112             SCHEDULE   \n",
       "262197   214376         3        11169                START   \n",
       "262198   214376         4        11169             COMPLETE   \n",
       "262199   214376         5        11169             COMPLETE   \n",
       "\n",
       "                  concept:name                   time:timestamp  \n",
       "0                  A_SUBMITTED 2011-09-30 22:38:44.546000+00:00  \n",
       "1            A_PARTLYSUBMITTED 2011-09-30 22:38:44.880000+00:00  \n",
       "2                A_PREACCEPTED 2011-09-30 22:39:37.906000+00:00  \n",
       "3       W_Completeren aanvraag 2011-09-30 22:39:38.875000+00:00  \n",
       "4       W_Completeren aanvraag 2011-10-01 09:36:46.437000+00:00  \n",
       "...                        ...                              ...  \n",
       "262195       A_PARTLYSUBMITTED 2012-02-29 22:51:17.423000+00:00  \n",
       "262196      W_Afhandelen leads 2012-02-29 22:52:01.287000+00:00  \n",
       "262197      W_Afhandelen leads 2012-03-01 08:26:46.736000+00:00  \n",
       "262198              A_DECLINED 2012-03-01 08:27:37.118000+00:00  \n",
       "262199      W_Afhandelen leads 2012-03-01 08:27:41.325000+00:00  \n",
       "\n",
       "[262200 rows x 6 columns]"
      ]
     },
     "execution_count": 6,
     "metadata": {},
     "output_type": "execute_result"
    }
   ],
   "source": [
    "log"
   ]
  },
  {
   "cell_type": "markdown",
   "metadata": {},
   "source": [
    "# Control Flow List"
   ]
  },
  {
   "cell_type": "code",
   "execution_count": 7,
   "metadata": {},
   "outputs": [],
   "source": [
    "#export\n",
    "class ListContainer():\n",
    "    def __init__(self, items): self.items = listify(items)\n",
    "    def __getitem__(self, idx):\n",
    "        if isinstance(idx, (int,slice)): return self.items[idx]\n",
    "        if isinstance(idx[0],bool):\n",
    "            assert len(idx)==len(self) # bool mask\n",
    "            return [o for m,o in zip(idx,self.items) if m]\n",
    "        return [self.items[i] for i in idx]\n",
    "    def __len__(self): return len(self.items)\n",
    "    def __iter__(self): return iter(self.items)\n",
    "    def __setitem__(self, i, o): self.items[i] = o\n",
    "    def __delitem__(self, i): del(self.items[i])\n",
    "    def __repr__(self):\n",
    "        res = f'{self.__class__.__name__} ({len(self)} items)\\n{self.items[:10]}'\n",
    "        if len(self)>10: res = res[:-1]+ '...]'\n",
    "        return res"
   ]
  },
  {
   "cell_type": "code",
   "execution_count": 8,
   "metadata": {},
   "outputs": [],
   "source": [
    "class ControlFlowList(ListContainer):\n",
    "\n",
    "    def __init__(self,items,path='.'): \n",
    "        super().__init__(items)\n",
    "        self.path=Path(path)\n",
    "        \n",
    "    @classmethod\n",
    "    def from_df(cls,df,col='concept:name',trace_id='trace_id'):\n",
    "        items=[]\n",
    "        for n,g in df.groupby('trace_id'):\n",
    "            items.append(list(g[col]))\n",
    "        \n",
    "        return cls(items)\n",
    "    def new(self, items, cls=None):\n",
    "        if cls is None: cls=self.__class__\n",
    "        return cls(items, self.path)\n",
    "    \n",
    "    def get(self,o): return \"->\".join([str(x) for x in listify(self.items[o])])\n",
    "\n",
    "    def __repr__(self):\n",
    "        res = f'{self.__class__.__name__} ({len(self)} items)\\n{[self.get(i) for i in range(2)]}'\n",
    "        if len(self)>2: res = res[:-1]+ '...]'\n",
    "        return res\n",
    "    \n",
    "\n",
    "\n"
   ]
  },
  {
   "cell_type": "code",
   "execution_count": 9,
   "metadata": {},
   "outputs": [
    {
     "data": {
      "text/plain": [
       "ControlFlowList (13087 items)\n",
       "['A_SUBMITTED->A_PARTLYSUBMITTED->A_PREACCEPTED->W_Completeren aanvraag->W_Completeren aanvraag->A_ACCEPTED->O_SELECTED->A_FINALIZED->O_CREATED->O_SENT->W_Nabellen offertes->W_Completeren aanvraag->W_Nabellen offertes->W_Nabellen offertes->W_Nabellen offertes->W_Nabellen offertes->W_Nabellen offertes->O_SENT_BACK->W_Valideren aanvraag->W_Nabellen offertes->W_Valideren aanvraag->A_REGISTERED->A_APPROVED->O_ACCEPTED->A_ACTIVATED->W_Valideren aanvraag', 'A_SUBMITTED->A_PARTLYSUBMITTED->A_PREACCEPTED->W_Completeren aanvraag->W_Completeren aanvraag->W_Completeren aanvraag->W_Completeren aanvraag->A_ACCEPTED->A_FINALIZED->O_SELECTED->O_CREATED->O_SENT->W_Nabellen offertes->W_Completeren aanvraag->W_Nabellen offertes->W_Nabellen offertes->W_Nabellen offertes->O_SELECTED->O_CANCELLED->O_CREATED->O_SENT->W_Nabellen offertes->W_Nabellen offertes->W_Nabellen offertes->W_Nabellen offertes->W_Nabellen offertes->O_SENT_BACK->W_Valideren aanvraag->W_Nabellen offertes->W_Valideren aanvraag->W_Valideren aanvraag->W_Valideren aanvraag->W_Valideren aanvraag->W_Valideren aanvraag->O_ACCEPTED->A_APPROVED->A_REGISTERED->A_ACTIVATED->W_Valideren aanvraag'...]"
      ]
     },
     "execution_count": 9,
     "metadata": {},
     "output_type": "execute_result"
    }
   ],
   "source": [
    "cfl=ControlFlowList.from_df(log)\n",
    "cfl"
   ]
  },
  {
   "cell_type": "code",
   "execution_count": 10,
   "metadata": {},
   "outputs": [
    {
     "data": {
      "text/plain": [
       "['A_SUBMITTED',\n",
       " 'A_PARTLYSUBMITTED',\n",
       " 'A_PREACCEPTED',\n",
       " 'W_Completeren aanvraag',\n",
       " 'W_Completeren aanvraag',\n",
       " 'A_ACCEPTED',\n",
       " 'O_SELECTED',\n",
       " 'A_FINALIZED',\n",
       " 'O_CREATED',\n",
       " 'O_SENT',\n",
       " 'W_Nabellen offertes',\n",
       " 'W_Completeren aanvraag',\n",
       " 'W_Nabellen offertes',\n",
       " 'W_Nabellen offertes',\n",
       " 'W_Nabellen offertes',\n",
       " 'W_Nabellen offertes',\n",
       " 'W_Nabellen offertes',\n",
       " 'O_SENT_BACK',\n",
       " 'W_Valideren aanvraag',\n",
       " 'W_Nabellen offertes',\n",
       " 'W_Valideren aanvraag',\n",
       " 'A_REGISTERED',\n",
       " 'A_APPROVED',\n",
       " 'O_ACCEPTED',\n",
       " 'A_ACTIVATED',\n",
       " 'W_Valideren aanvraag']"
      ]
     },
     "execution_count": 10,
     "metadata": {},
     "output_type": "execute_result"
    }
   ],
   "source": [
    "cfl[0]"
   ]
  },
  {
   "cell_type": "markdown",
   "metadata": {},
   "source": [
    "# Splitting Data in Train, Test and Valid"
   ]
  },
  {
   "cell_type": "code",
   "execution_count": 11,
   "metadata": {},
   "outputs": [],
   "source": [
    "import random"
   ]
  },
  {
   "cell_type": "code",
   "execution_count": 12,
   "metadata": {},
   "outputs": [],
   "source": [
    "#export\n",
    "\n",
    "def random_splitter(fn, p_valid): return random.random() < p_valid\n",
    "def split_by_func(items, f):\n",
    "    mask = [f(o) for o in items]\n",
    "    # `None` values will be filtered out\n",
    "    f = [o for o,m in zip(items,mask) if m==False]\n",
    "    t = [o for o,m in zip(items,mask) if m==True ]\n",
    "    return f,t\n",
    "\n",
    "class SplitData():\n",
    "    def __init__(self, train, valid, test): self.train,self.valid,self.test = train,valid,test\n",
    "    \n",
    "    @classmethod\n",
    "    def split_by_func(cls, il, f, Test=True):\n",
    "        train, valid = map(il.new, split_by_func(il.items, f))\n",
    "        test=None\n",
    "        if Test:\n",
    "            train, test = map(train.new, split_by_func(train.items, f))\n",
    "\n",
    "        return cls(train,valid,test)\n",
    "\n",
    "    def __repr__(self): return f'{self.__class__.__name__}\\nTrain: {self.train}\\nValid: {self.valid}\\nTest: {self.test}\\n'"
   ]
  },
  {
   "cell_type": "code",
   "execution_count": 13,
   "metadata": {},
   "outputs": [
    {
     "data": {
      "text/plain": [
       "SplitData\n",
       "Train: ControlFlowList (10536 items)\n",
       "['A_SUBMITTED->A_PARTLYSUBMITTED->A_PREACCEPTED->W_Completeren aanvraag->W_Completeren aanvraag->A_ACCEPTED->O_SELECTED->A_FINALIZED->O_CREATED->O_SENT->W_Nabellen offertes->W_Completeren aanvraag->W_Nabellen offertes->W_Nabellen offertes->W_Nabellen offertes->W_Nabellen offertes->W_Nabellen offertes->O_SENT_BACK->W_Valideren aanvraag->W_Nabellen offertes->W_Valideren aanvraag->A_REGISTERED->A_APPROVED->O_ACCEPTED->A_ACTIVATED->W_Valideren aanvraag', 'A_SUBMITTED->A_PARTLYSUBMITTED->A_PREACCEPTED->W_Completeren aanvraag->W_Completeren aanvraag->W_Completeren aanvraag->W_Completeren aanvraag->A_ACCEPTED->A_FINALIZED->O_SELECTED->O_CREATED->O_SENT->W_Nabellen offertes->W_Completeren aanvraag->W_Nabellen offertes->W_Nabellen offertes->W_Nabellen offertes->O_SELECTED->O_CANCELLED->O_CREATED->O_SENT->W_Nabellen offertes->W_Nabellen offertes->W_Nabellen offertes->W_Nabellen offertes->W_Nabellen offertes->O_SENT_BACK->W_Valideren aanvraag->W_Nabellen offertes->W_Valideren aanvraag->W_Valideren aanvraag->W_Valideren aanvraag->W_Valideren aanvraag->W_Valideren aanvraag->O_ACCEPTED->A_APPROVED->A_REGISTERED->A_ACTIVATED->W_Valideren aanvraag'...]\n",
       "Valid: ControlFlowList (1356 items)\n",
       "['A_SUBMITTED->A_PARTLYSUBMITTED->A_PREACCEPTED->W_Completeren aanvraag->W_Completeren aanvraag->W_Completeren aanvraag->W_Completeren aanvraag->W_Completeren aanvraag->W_Completeren aanvraag->W_Completeren aanvraag->W_Completeren aanvraag->A_ACCEPTED->O_SELECTED->A_FINALIZED->O_CREATED->O_SENT->W_Nabellen offertes->W_Completeren aanvraag->W_Nabellen offertes->W_Nabellen offertes->W_Nabellen offertes->W_Nabellen offertes->W_Nabellen offertes->W_Nabellen offertes->W_Nabellen offertes->W_Nabellen offertes->W_Nabellen offertes->W_Nabellen offertes->W_Nabellen offertes->W_Nabellen offertes->W_Nabellen offertes->W_Nabellen offertes->W_Nabellen offertes->O_SENT_BACK->W_Valideren aanvraag->W_Nabellen offertes->W_Valideren aanvraag->W_Nabellen incomplete dossiers->W_Valideren aanvraag->W_Nabellen incomplete dossiers->W_Nabellen incomplete dossiers->W_Nabellen incomplete dossiers->W_Nabellen incomplete dossiers->W_Nabellen incomplete dossiers->W_Nabellen incomplete dossiers->W_Nabellen incomplete dossiers->W_Valideren aanvraag->W_Nabellen incomplete dossiers->W_Valideren aanvraag->W_Nabellen incomplete dossiers->W_Valideren aanvraag->W_Nabellen incomplete dossiers->W_Nabellen incomplete dossiers->W_Nabellen incomplete dossiers->W_Valideren aanvraag->W_Nabellen incomplete dossiers->W_Valideren aanvraag->W_Nabellen incomplete dossiers->W_Valideren aanvraag->W_Nabellen incomplete dossiers->W_Nabellen incomplete dossiers->W_Nabellen incomplete dossiers->W_Nabellen incomplete dossiers->W_Nabellen incomplete dossiers->W_Valideren aanvraag->W_Nabellen incomplete dossiers->W_Valideren aanvraag->W_Valideren aanvraag->W_Valideren aanvraag->W_Valideren aanvraag->W_Valideren aanvraag->O_ACCEPTED->A_ACTIVATED->A_REGISTERED->A_APPROVED->W_Valideren aanvraag', 'A_SUBMITTED->A_PARTLYSUBMITTED->W_Afhandelen leads->W_Afhandelen leads->A_PREACCEPTED->W_Completeren aanvraag->W_Afhandelen leads->W_Completeren aanvraag->W_Completeren aanvraag->W_Completeren aanvraag->W_Completeren aanvraag->W_Completeren aanvraag->W_Completeren aanvraag->W_Completeren aanvraag->W_Completeren aanvraag->W_Completeren aanvraag->A_ACCEPTED->A_FINALIZED->O_SELECTED->O_CREATED->O_SENT->W_Nabellen offertes->W_Completeren aanvraag->W_Nabellen offertes->W_Nabellen offertes->W_Nabellen offertes->O_CANCELLED->O_SELECTED->O_CREATED->O_SENT->W_Nabellen offertes->W_Nabellen offertes->W_Nabellen offertes->W_Nabellen offertes->W_Nabellen offertes->A_DECLINED->O_DECLINED->W_Nabellen offertes'...]\n",
       "Test: ControlFlowList (1195 items)\n",
       "['A_SUBMITTED->A_PARTLYSUBMITTED->A_PREACCEPTED->W_Completeren aanvraag->W_Completeren aanvraag->W_Completeren aanvraag->W_Completeren aanvraag->W_Completeren aanvraag->W_Completeren aanvraag->W_Completeren aanvraag->W_Completeren aanvraag->W_Completeren aanvraag->W_Completeren aanvraag->W_Completeren aanvraag->W_Completeren aanvraag->W_Completeren aanvraag->W_Completeren aanvraag->W_Completeren aanvraag->W_Completeren aanvraag->W_Completeren aanvraag->W_Completeren aanvraag->W_Completeren aanvraag->W_Completeren aanvraag->W_Completeren aanvraag->W_Completeren aanvraag->W_Completeren aanvraag->W_Completeren aanvraag->A_CANCELLED->W_Completeren aanvraag', 'A_SUBMITTED->A_PARTLYSUBMITTED->A_PREACCEPTED->W_Completeren aanvraag->W_Completeren aanvraag->W_Completeren aanvraag->W_Completeren aanvraag->W_Completeren aanvraag->W_Completeren aanvraag->W_Completeren aanvraag->W_Completeren aanvraag->A_DECLINED->W_Completeren aanvraag'...]"
      ]
     },
     "execution_count": 13,
     "metadata": {},
     "output_type": "execute_result"
    }
   ],
   "source": [
    "sd=SplitData.split_by_func(cfl, partial(random_splitter, p_valid=0.1));sd"
   ]
  },
  {
   "cell_type": "code",
   "execution_count": 14,
   "metadata": {},
   "outputs": [
    {
     "data": {
      "text/plain": [
       "ControlFlowList (10536 items)\n",
       "['A_SUBMITTED->A_PARTLYSUBMITTED->A_PREACCEPTED->W_Completeren aanvraag->W_Completeren aanvraag->A_ACCEPTED->O_SELECTED->A_FINALIZED->O_CREATED->O_SENT->W_Nabellen offertes->W_Completeren aanvraag->W_Nabellen offertes->W_Nabellen offertes->W_Nabellen offertes->W_Nabellen offertes->W_Nabellen offertes->O_SENT_BACK->W_Valideren aanvraag->W_Nabellen offertes->W_Valideren aanvraag->A_REGISTERED->A_APPROVED->O_ACCEPTED->A_ACTIVATED->W_Valideren aanvraag', 'A_SUBMITTED->A_PARTLYSUBMITTED->A_PREACCEPTED->W_Completeren aanvraag->W_Completeren aanvraag->W_Completeren aanvraag->W_Completeren aanvraag->A_ACCEPTED->A_FINALIZED->O_SELECTED->O_CREATED->O_SENT->W_Nabellen offertes->W_Completeren aanvraag->W_Nabellen offertes->W_Nabellen offertes->W_Nabellen offertes->O_SELECTED->O_CANCELLED->O_CREATED->O_SENT->W_Nabellen offertes->W_Nabellen offertes->W_Nabellen offertes->W_Nabellen offertes->W_Nabellen offertes->O_SENT_BACK->W_Valideren aanvraag->W_Nabellen offertes->W_Valideren aanvraag->W_Valideren aanvraag->W_Valideren aanvraag->W_Valideren aanvraag->W_Valideren aanvraag->O_ACCEPTED->A_APPROVED->A_REGISTERED->A_ACTIVATED->W_Valideren aanvraag'...]"
      ]
     },
     "execution_count": 14,
     "metadata": {},
     "output_type": "execute_result"
    }
   ],
   "source": [
    "sd.train"
   ]
  },
  {
   "cell_type": "markdown",
   "metadata": {},
   "source": [
    "# Encoding"
   ]
  },
  {
   "cell_type": "markdown",
   "metadata": {},
   "source": [
    "## Tokenization"
   ]
  },
  {
   "cell_type": "code",
   "execution_count": 15,
   "metadata": {},
   "outputs": [],
   "source": [
    "UNK, PAD, BOT, EOT = \"xxunk xxpad xxbot xxeot \".split()\n",
    "\n",
    "def add_eot_bot(x): return [BOT] + x + [EOT]\n",
    "default_spec_tok = [UNK, PAD, BOT, EOT]\n",
    "default_pre_rules = []\n",
    "default_post_rules = [add_eot_bot]"
   ]
  },
  {
   "cell_type": "code",
   "execution_count": 16,
   "metadata": {},
   "outputs": [],
   "source": [
    "from concurrent.futures import ProcessPoolExecutor\n",
    "\n",
    "def parallel(func, arr, max_workers=4):\n",
    "    if max_workers<2: results = list(progress_bar(map(func, enumerate(arr)), total=len(arr)))\n",
    "    else:\n",
    "        with ProcessPoolExecutor(max_workers=max_workers) as ex:\n",
    "            return list(progress_bar(ex.map(func, enumerate(arr)), total=len(arr)))\n",
    "    if any([o is not None for o in results]): return results\n",
    "    "
   ]
  },
  {
   "cell_type": "code",
   "execution_count": 17,
   "metadata": {},
   "outputs": [],
   "source": [
    "class TokenizeProcessor():\n",
    "    def __init__(self, lang=\"en\", chunksize=2000, pre_rules=None, post_rules=None, max_workers=4): \n",
    "        self.chunksize,self.max_workers = chunksize,max_workers        \n",
    "        self.pre_rules  = default_pre_rules  if pre_rules  is None else pre_rules\n",
    "        self.post_rules = default_post_rules if post_rules is None else post_rules\n",
    "\n",
    "    def proc_chunk(self, args):\n",
    "        i,chunk = args\n",
    "        docs = [compose(t, self.pre_rules) for t in chunk]\n",
    "        docs = [compose(t, self.post_rules) for t in docs]\n",
    "        return docs\n",
    "\n",
    "    def __call__(self, items): \n",
    "        toks = []\n",
    "        if isinstance(items[0], Path): items = [read_file(i) for i in items]\n",
    "        chunks = [items[i: i+self.chunksize] for i in (range(0, len(items), self.chunksize))]\n",
    "        toks = parallel(self.proc_chunk, chunks, max_workers=self.max_workers)\n",
    "        return sum(toks, [])\n",
    "    \n",
    "    def proc1(self, item): return self.proc_chunk([item])[0]\n",
    "    "
   ]
  },
  {
   "cell_type": "code",
   "execution_count": 18,
   "metadata": {},
   "outputs": [],
   "source": [
    "tp = TokenizeProcessor()"
   ]
  },
  {
   "cell_type": "code",
   "execution_count": 19,
   "metadata": {},
   "outputs": [
    {
     "data": {
      "text/plain": [
       "'A_SUBMITTED->A_PARTLYSUBMITTED->A_PREACCEPTED->W_Completeren aanvraag->W_Completeren aanvraag->A_ACCEPTED->O_SELECTED->A_FINALIZED->O_CREATED->O_SENT->W_Nabellen offertes->W_Completeren aanvraag->W_Nabellen offertes->W_Nabellen offertes->W_Nabellen offertes->W_Nabellen offertes->W_Nabellen offertes->O_SENT_BACK->W_Valideren aanvraag->W_Nabellen offertes->W_Valideren aanvraag->A_REGISTERED->A_APPROVED->O_ACCEPTED->A_ACTIVATED->W_Valideren aanvraag'"
      ]
     },
     "execution_count": 19,
     "metadata": {},
     "output_type": "execute_result"
    }
   ],
   "source": [
    "cfl.get(0)"
   ]
  },
  {
   "cell_type": "code",
   "execution_count": 20,
   "metadata": {},
   "outputs": [
    {
     "data": {
      "text/html": [
       "\n",
       "    <div>\n",
       "        <style>\n",
       "            /* Turns off some styling */\n",
       "            progress {\n",
       "                /* gets rid of default border in Firefox and Opera. */\n",
       "                border: none;\n",
       "                /* Needs to be in here for Safari polyfill so background images work as expected. */\n",
       "                background-size: auto;\n",
       "            }\n",
       "            .progress-bar-interrupted, .progress-bar-interrupted::-webkit-progress-bar {\n",
       "                background: #F44336;\n",
       "            }\n",
       "        </style>\n",
       "      <progress value='1' class='' max='1', style='width:300px; height:20px; vertical-align: middle;'></progress>\n",
       "      100.00% [1/1 00:00<00:00]\n",
       "    </div>\n",
       "    "
      ],
      "text/plain": [
       "<IPython.core.display.HTML object>"
      ]
     },
     "metadata": {},
     "output_type": "display_data"
    },
    {
     "data": {
      "text/plain": [
       "'xxbot • A_SUBMITTED • A_PARTLYSUBMITTED • A_PREACCEPTED • W_Completeren aanvraag • W_Completeren aanvraag • A_ACCEPTED • O_SELECTED • A_FINALIZED • O_CREATED • O_SENT • W_Nabellen offertes • W_Completeren aanvraag • W_Nabellen offertes • W_Nabellen offertes • W_Nabellen offertes • W_Nabellen offertes • W_Nabellen offertes • O_SENT_BACK • W_Valideren aanvraag • W_Nabellen offertes • W_Valideren aanvraag • A_REGISTERED • A_APPROVED • O_ACCEPTED • A_ACTIVATED • W_Valideren aanvraag • xxeot'"
      ]
     },
     "execution_count": 20,
     "metadata": {},
     "output_type": "execute_result"
    }
   ],
   "source": [
    "' • '.join(tp(cfl[:2])[0])"
   ]
  },
  {
   "cell_type": "markdown",
   "metadata": {},
   "source": [
    "## Numericalization"
   ]
  },
  {
   "cell_type": "code",
   "execution_count": 21,
   "metadata": {},
   "outputs": [],
   "source": [
    "#export\n",
    "import collections\n",
    "\n",
    "class NumericalizeProcessor():\n",
    "    def __init__(self, vocab=None, max_vocab=60000, min_freq=0,spec_token=None,unk_token=None): \n",
    "        self.vocab,self.max_vocab,self.min_freq = vocab,max_vocab,min_freq\n",
    "        self.spec_token = default_spec_tok if spec_token is None else spec_token\n",
    "        self.unk_token = UNK if unk_token is None else unk_token\n",
    "\n",
    "    \n",
    "    def __call__(self, items):\n",
    "        #The vocab is defined on the first use.\n",
    "        if self.vocab is None:\n",
    "            freq = Counter(p for o in items for p in o)\n",
    "            self.vocab = [o for o,c in freq.most_common(self.max_vocab) if c >= self.min_freq]\n",
    "            for o in reversed(default_spec_tok):\n",
    "                if o in self.vocab: self.vocab.remove(o)\n",
    "                self.vocab.insert(0, o)\n",
    "        if getattr(self, 'otoi', None) is None:\n",
    "            self.otoi = collections.defaultdict(int,{v:k for k,v in enumerate(self.vocab)}) \n",
    "        return [self.proc1(o) for o in items]\n",
    "    def proc1(self, item):  return [self.otoi.get(o, self.unk_token) for o in item]\n",
    "    \n",
    "    def deprocess(self, idxs):\n",
    "        assert self.vocab is not None\n",
    "        return [self.deproc1(idx) for idx in idxs]\n",
    "    def deproc1(self, idx): return [self.vocab[i] for i in idx]"
   ]
  },
  {
   "cell_type": "code",
   "execution_count": 22,
   "metadata": {},
   "outputs": [],
   "source": [
    "proc_tok,proc_num = TokenizeProcessor(),NumericalizeProcessor()"
   ]
  },
  {
   "cell_type": "code",
   "execution_count": 23,
   "metadata": {},
   "outputs": [],
   "source": [
    "proc_num.vocab"
   ]
  },
  {
   "cell_type": "markdown",
   "metadata": {},
   "source": [
    "## Application of Processors and Labeling"
   ]
  },
  {
   "cell_type": "code",
   "execution_count": 24,
   "metadata": {},
   "outputs": [],
   "source": [
    "#export\n",
    "\n",
    "def _label_by_func(ds, f, cls=ControlFlowList): return cls([f(o) for o in ds.items], path=ds.path)\n",
    "\n",
    "#This is a slightly different from what was seen during the lesson,\n",
    "#   we'll discuss the changes in lesson 11\n",
    "class LabeledData():\n",
    "    def process(self, il, proc): return il.new(compose(il.items, proc))\n",
    "\n",
    "    def __init__(self, x, y, proc_x=None, proc_y=None):\n",
    "        self.x,self.y = self.process(x, proc_x),self.process(y, proc_y)\n",
    "        self.proc_x,self.proc_y = proc_x,proc_y\n",
    "        \n",
    "    def __repr__(self): return f'{self.__class__.__name__}\\nx: {self.x}\\ny: {self.y}\\n'\n",
    "    def __getitem__(self,idx): return self.x[idx],self.y[idx]\n",
    "    def __len__(self): return len(self.x)\n",
    "    \n",
    "    def x_obj(self, idx): return self.obj(self.x, idx, self.proc_x)\n",
    "    def y_obj(self, idx): return self.obj(self.y, idx, self.proc_y)\n",
    "    \n",
    "    def obj(self, items, idx, procs):\n",
    "        isint = isinstance(idx, int) or (isinstance(idx,torch.LongTensor) and not idx.ndim)\n",
    "        item = items[idx]\n",
    "        for proc in reversed(listify(procs)):\n",
    "            item = proc.deproc1(item) if isint else proc.deprocess(item)\n",
    "        return item\n",
    "\n",
    "    @classmethod\n",
    "    def label_by_func(cls, il, f, proc_x=None, proc_y=None):\n",
    "        return cls(il, _label_by_func(il, f), proc_x=proc_x, proc_y=proc_y)\n",
    "\n",
    "def label_by_func(sd, f, proc_x=None, proc_y=None):\n",
    "    train = LabeledData.label_by_func(sd.train, f, proc_x=proc_x, proc_y=proc_y)\n",
    "    valid = LabeledData.label_by_func(sd.valid, f, proc_x=proc_x, proc_y=proc_y)\n",
    "    test =None if sd.test is None else LabeledData.label_by_func(sd.test, f, proc_x=proc_x, proc_y=proc_y)\n",
    "\n",
    "    return SplitData(train,valid,test)"
   ]
  },
  {
   "cell_type": "code",
   "execution_count": 25,
   "metadata": {},
   "outputs": [
    {
     "data": {
      "text/html": [
       "\n",
       "    <div>\n",
       "        <style>\n",
       "            /* Turns off some styling */\n",
       "            progress {\n",
       "                /* gets rid of default border in Firefox and Opera. */\n",
       "                border: none;\n",
       "                /* Needs to be in here for Safari polyfill so background images work as expected. */\n",
       "                background-size: auto;\n",
       "            }\n",
       "            .progress-bar-interrupted, .progress-bar-interrupted::-webkit-progress-bar {\n",
       "                background: #F44336;\n",
       "            }\n",
       "        </style>\n",
       "      <progress value='6' class='' max='6', style='width:300px; height:20px; vertical-align: middle;'></progress>\n",
       "      100.00% [6/6 00:00<00:00]\n",
       "    </div>\n",
       "    "
      ],
      "text/plain": [
       "<IPython.core.display.HTML object>"
      ]
     },
     "metadata": {},
     "output_type": "display_data"
    },
    {
     "data": {
      "text/html": [
       "\n",
       "    <div>\n",
       "        <style>\n",
       "            /* Turns off some styling */\n",
       "            progress {\n",
       "                /* gets rid of default border in Firefox and Opera. */\n",
       "                border: none;\n",
       "                /* Needs to be in here for Safari polyfill so background images work as expected. */\n",
       "                background-size: auto;\n",
       "            }\n",
       "            .progress-bar-interrupted, .progress-bar-interrupted::-webkit-progress-bar {\n",
       "                background: #F44336;\n",
       "            }\n",
       "        </style>\n",
       "      <progress value='1' class='' max='1', style='width:300px; height:20px; vertical-align: middle;'></progress>\n",
       "      100.00% [1/1 00:00<00:00]\n",
       "    </div>\n",
       "    "
      ],
      "text/plain": [
       "<IPython.core.display.HTML object>"
      ]
     },
     "metadata": {},
     "output_type": "display_data"
    },
    {
     "data": {
      "text/html": [
       "\n",
       "    <div>\n",
       "        <style>\n",
       "            /* Turns off some styling */\n",
       "            progress {\n",
       "                /* gets rid of default border in Firefox and Opera. */\n",
       "                border: none;\n",
       "                /* Needs to be in here for Safari polyfill so background images work as expected. */\n",
       "                background-size: auto;\n",
       "            }\n",
       "            .progress-bar-interrupted, .progress-bar-interrupted::-webkit-progress-bar {\n",
       "                background: #F44336;\n",
       "            }\n",
       "        </style>\n",
       "      <progress value='1' class='' max='1', style='width:300px; height:20px; vertical-align: middle;'></progress>\n",
       "      100.00% [1/1 00:00<00:00]\n",
       "    </div>\n",
       "    "
      ],
      "text/plain": [
       "<IPython.core.display.HTML object>"
      ]
     },
     "metadata": {},
     "output_type": "display_data"
    },
    {
     "name": "stdout",
     "output_type": "stream",
     "text": [
      "CPU times: user 262 ms, sys: 485 ms, total: 747 ms\n",
      "Wall time: 892 ms\n"
     ]
    }
   ],
   "source": [
    "%time ll = label_by_func(sd, lambda x: 0, proc_x = [proc_tok,proc_num])"
   ]
  },
  {
   "cell_type": "code",
   "execution_count": 26,
   "metadata": {},
   "outputs": [
    {
     "data": {
      "text/plain": [
       "SplitData\n",
       "Train: LabeledData\n",
       "x: ControlFlowList (10536 items)\n",
       "['2->9->10->12->4->4->16->13->17->14->15->5->4->5->5->5->5->5->19->7->5->7->21->22->24->23->7->3', '2->9->10->12->4->4->4->4->16->17->13->14->15->5->4->5->5->5->13->18->14->15->5->5->5->5->5->19->7->5->7->7->7->7->7->24->22->21->23->7->3'...]\n",
       "y: ControlFlowList (10536 items)\n",
       "['0', '0'...]\n",
       "\n",
       "Valid: LabeledData\n",
       "x: ControlFlowList (1356 items)\n",
       "['2->9->10->12->4->4->4->4->4->4->4->4->16->13->17->14->15->5->4->5->5->5->5->5->5->5->5->5->5->5->5->5->5->5->19->7->5->7->6->7->6->6->6->6->6->6->6->7->6->7->6->7->6->6->6->7->6->7->6->7->6->6->6->6->6->7->6->7->7->7->7->7->24->23->21->22->7->3', '2->9->10->8->8->12->4->8->4->4->4->4->4->4->4->4->4->16->17->13->14->15->5->4->5->5->5->18->13->14->15->5->5->5->5->5->11->25->5->3'...]\n",
       "y: ControlFlowList (1356 items)\n",
       "['0', '0'...]\n",
       "\n",
       "Test: LabeledData\n",
       "x: ControlFlowList (1195 items)\n",
       "['2->9->10->12->4->4->4->4->4->4->4->4->4->4->4->4->4->4->4->4->4->4->4->4->4->4->4->4->20->4->3', '2->9->10->12->4->4->4->4->4->4->4->4->11->4->3'...]\n",
       "y: ControlFlowList (1195 items)\n",
       "['0', '0'...]\n"
      ]
     },
     "execution_count": 26,
     "metadata": {},
     "output_type": "execute_result"
    }
   ],
   "source": [
    "ll"
   ]
  },
  {
   "cell_type": "markdown",
   "metadata": {},
   "source": [
    "# Language Model DataLoader and DataBunch"
   ]
  },
  {
   "cell_type": "code",
   "execution_count": 27,
   "metadata": {},
   "outputs": [],
   "source": [
    "#export\n",
    "class CF_LM_Dataset():\n",
    "    def __init__(self, data, bs=64, bptt=70, shuffle=False):\n",
    "        self.data,self.bs,self.bptt,self.shuffle = data,bs,bptt,shuffle\n",
    "        total_len = sum([len(t) for t in data.x])\n",
    "        self.n_batch = total_len // bs\n",
    "        self.batchify()\n",
    "    \n",
    "    def __len__(self): return ((self.n_batch-1) // self.bptt) * self.bs\n",
    "    \n",
    "    def __getitem__(self, idx):\n",
    "        source = self.batched_data[idx % self.bs]\n",
    "        seq_idx = (idx // self.bs) * self.bptt\n",
    "        return source[seq_idx:seq_idx+self.bptt],source[seq_idx+1:seq_idx+self.bptt+1]\n",
    "    \n",
    "    def batchify(self):\n",
    "        texts = self.data.x\n",
    "        if self.shuffle: texts = texts[torch.randperm(len(texts))]\n",
    "        stream = torch.cat([tensor(t) for t in texts])\n",
    "        self.batched_data = stream[:self.n_batch * self.bs].view(self.bs, self.n_batch)"
   ]
  },
  {
   "cell_type": "code",
   "execution_count": 28,
   "metadata": {},
   "outputs": [],
   "source": [
    "#export\n",
    "def get_lm_dls(train_ds, valid_ds, bs, bptt, **kwargs):\n",
    "    return (DataLoader(CF_LM_Dataset(train_ds, bs, bptt, shuffle=True), batch_size=bs, **kwargs),\n",
    "            DataLoader(CF_LM_Dataset(valid_ds, bs, bptt, shuffle=False), batch_size=2*bs, **kwargs))\n",
    "\n",
    "def lm_databunchify(sd, bs, bptt, **kwargs):\n",
    "    return DataBunch(*get_lm_dls(sd.train, sd.valid, bs, bptt, **kwargs))"
   ]
  },
  {
   "cell_type": "code",
   "execution_count": 29,
   "metadata": {},
   "outputs": [],
   "source": [
    "dl = DataLoader(CF_LM_Dataset(ll.valid, shuffle=True), batch_size=64)"
   ]
  },
  {
   "cell_type": "code",
   "execution_count": 30,
   "metadata": {},
   "outputs": [],
   "source": [
    "iter_dl = iter(dl)\n",
    "xb,yb = next(iter_dl)\n"
   ]
  },
  {
   "cell_type": "code",
   "execution_count": 31,
   "metadata": {},
   "outputs": [],
   "source": [
    "bs,bptt = 64,70\n",
    "data = lm_databunchify(ll, bs, bptt)"
   ]
  },
  {
   "cell_type": "markdown",
   "metadata": {},
   "source": [
    "# AWD_LSTM"
   ]
  },
  {
   "cell_type": "code",
   "execution_count": 32,
   "metadata": {},
   "outputs": [],
   "source": [
    "#export\n",
    "def dropout_mask(x, sz, p):\n",
    "    return x.new(*sz).bernoulli_(1-p).div_(1-p)"
   ]
  },
  {
   "cell_type": "code",
   "execution_count": 33,
   "metadata": {},
   "outputs": [
    {
     "data": {
      "text/plain": [
       "tensor([[0., 0., 0., 2., 2., 2., 2., 2., 0., 2.],\n",
       "        [2., 2., 0., 2., 2., 0., 2., 0., 2., 0.],\n",
       "        [0., 0., 0., 0., 0., 2., 2., 2., 0., 0.],\n",
       "        [0., 0., 2., 0., 2., 2., 2., 2., 0., 0.],\n",
       "        [0., 2., 2., 2., 2., 0., 0., 2., 0., 2.],\n",
       "        [2., 0., 0., 2., 2., 2., 2., 0., 0., 0.],\n",
       "        [0., 0., 2., 2., 0., 2., 0., 2., 2., 2.],\n",
       "        [2., 2., 0., 2., 0., 2., 2., 0., 0., 2.],\n",
       "        [2., 0., 0., 2., 0., 2., 2., 0., 2., 2.],\n",
       "        [0., 0., 0., 0., 2., 2., 2., 0., 2., 0.]])"
      ]
     },
     "execution_count": 33,
     "metadata": {},
     "output_type": "execute_result"
    }
   ],
   "source": [
    "x = torch.randn(10,10)\n",
    "mask = dropout_mask(x, (10,10), 0.5); mask"
   ]
  },
  {
   "cell_type": "code",
   "execution_count": 34,
   "metadata": {},
   "outputs": [
    {
     "data": {
      "text/plain": [
       "(tensor(1.9047), tensor(1.1420))"
      ]
     },
     "execution_count": 34,
     "metadata": {},
     "output_type": "execute_result"
    }
   ],
   "source": [
    "(x*mask).std(),x.std()"
   ]
  },
  {
   "cell_type": "code",
   "execution_count": 35,
   "metadata": {},
   "outputs": [],
   "source": [
    "#export\n",
    "class RNNDropout(nn.Module):\n",
    "    def __init__(self, p=0.5):\n",
    "        super().__init__()\n",
    "        self.p=p\n",
    "\n",
    "    def forward(self, x):\n",
    "        if not self.training or self.p == 0.: return x\n",
    "        m = dropout_mask(x.data, (x.size(0), 1, x.size(2)), self.p)\n",
    "        return x * m"
   ]
  },
  {
   "cell_type": "code",
   "execution_count": 36,
   "metadata": {},
   "outputs": [
    {
     "data": {
      "text/plain": [
       "(torch.Size([3, 3, 7]), torch.Size([3, 3, 7]))"
      ]
     },
     "execution_count": 36,
     "metadata": {},
     "output_type": "execute_result"
    }
   ],
   "source": [
    "dp = RNNDropout(0.3)\n",
    "tst_input = torch.randn(3,3,7)\n",
    "tst_input.shape, dp(tst_input).shape"
   ]
  },
  {
   "cell_type": "code",
   "execution_count": 37,
   "metadata": {},
   "outputs": [],
   "source": [
    "#export\n",
    "import warnings\n",
    "\n",
    "WEIGHT_HH = 'weight_hh_l0'\n",
    "\n",
    "class WeightDropout(nn.Module):\n",
    "    def __init__(self, module, weight_p=[0.], layer_names=[WEIGHT_HH]):\n",
    "        super().__init__()\n",
    "        self.module,self.weight_p,self.layer_names = module,weight_p,layer_names\n",
    "        for layer in self.layer_names:\n",
    "            #Makes a copy of the weights of the selected layers.\n",
    "            w = getattr(self.module, layer)\n",
    "            self.register_parameter(f'{layer}_raw', nn.Parameter(w.data))\n",
    "            self.module._parameters[layer] = F.dropout(w, p=self.weight_p, training=False)\n",
    "\n",
    "    def _setweights(self):\n",
    "        for layer in self.layer_names:\n",
    "            raw_w = getattr(self, f'{layer}_raw')\n",
    "            self.module._parameters[layer] = F.dropout(raw_w, p=self.weight_p, training=self.training)\n",
    "\n",
    "    def forward(self, *args):\n",
    "        self._setweights()\n",
    "        with warnings.catch_warnings():\n",
    "            #To avoid the warning that comes because the weights aren't flattened.\n",
    "            warnings.simplefilter(\"ignore\")\n",
    "            return self.module.forward(*args)"
   ]
  },
  {
   "cell_type": "code",
   "execution_count": 38,
   "metadata": {},
   "outputs": [
    {
     "data": {
      "text/plain": [
       "Parameter containing:\n",
       "tensor([[-0.4933, -0.5138],\n",
       "        [-0.4675,  0.1721],\n",
       "        [ 0.0703,  0.0150],\n",
       "        [-0.5622,  0.1879],\n",
       "        [-0.2864,  0.4550],\n",
       "        [ 0.5857,  0.1038],\n",
       "        [ 0.0974, -0.6903],\n",
       "        [ 0.6597, -0.1791]], requires_grad=True)"
      ]
     },
     "execution_count": 38,
     "metadata": {},
     "output_type": "execute_result"
    }
   ],
   "source": [
    "module = nn.LSTM(5, 2)\n",
    "dp_module = WeightDropout(module, 0.4)\n",
    "getattr(dp_module.module, WEIGHT_HH)"
   ]
  },
  {
   "cell_type": "code",
   "execution_count": 39,
   "metadata": {},
   "outputs": [
    {
     "data": {
      "text/plain": [
       "tensor([[-0.0000, -0.8564],\n",
       "        [-0.0000,  0.0000],\n",
       "        [ 0.0000,  0.0250],\n",
       "        [-0.0000,  0.3132],\n",
       "        [-0.4773,  0.7584],\n",
       "        [ 0.9762,  0.0000],\n",
       "        [ 0.0000, -0.0000],\n",
       "        [ 1.0994, -0.0000]], grad_fn=<MulBackward0>)"
      ]
     },
     "execution_count": 39,
     "metadata": {},
     "output_type": "execute_result"
    }
   ],
   "source": [
    "tst_input = torch.randn(4,20,5)\n",
    "h = (torch.zeros(1,20,2), torch.zeros(1,20,2))\n",
    "x,h = dp_module(tst_input,h)\n",
    "getattr(dp_module.module, WEIGHT_HH)"
   ]
  },
  {
   "cell_type": "code",
   "execution_count": 40,
   "metadata": {},
   "outputs": [],
   "source": [
    "#export\n",
    "class EmbeddingDropout(nn.Module):\n",
    "    \"Applies dropout in the embedding layer by zeroing out some elements of the embedding vector.\"\n",
    "    def __init__(self, emb, embed_p):\n",
    "        super().__init__()\n",
    "        self.emb,self.embed_p = emb,embed_p\n",
    "        self.pad_idx = self.emb.padding_idx\n",
    "        if self.pad_idx is None: self.pad_idx = -1\n",
    "\n",
    "    def forward(self, words, scale=None):\n",
    "        if self.training and self.embed_p != 0:\n",
    "            size = (self.emb.weight.size(0),1)\n",
    "            mask = dropout_mask(self.emb.weight.data, size, self.embed_p)\n",
    "            masked_embed = self.emb.weight * mask\n",
    "        else: masked_embed = self.emb.weight\n",
    "        if scale: masked_embed.mul_(scale)\n",
    "        return F.embedding(words, masked_embed, self.pad_idx, self.emb.max_norm,\n",
    "                           self.emb.norm_type, self.emb.scale_grad_by_freq, self.emb.sparse)"
   ]
  },
  {
   "cell_type": "code",
   "execution_count": 41,
   "metadata": {},
   "outputs": [
    {
     "data": {
      "text/plain": [
       "tensor([[-0.0000,  0.0000, -0.0000,  0.0000,  0.0000,  0.0000,  0.0000],\n",
       "        [-0.0000, -0.0000,  0.0000,  0.0000,  0.0000,  0.0000,  0.0000],\n",
       "        [ 0.0000,  0.0000, -0.0000, -0.0000, -0.0000, -0.0000, -0.0000],\n",
       "        [ 0.0000, -0.0000, -0.0000, -0.0000, -0.0000,  0.0000,  0.0000],\n",
       "        [-0.9490, -0.7544, -0.4486, -2.1250, -4.5645, -0.8189,  3.0518],\n",
       "        [-0.0000,  0.0000,  0.0000,  0.0000,  0.0000, -0.0000, -0.0000],\n",
       "        [ 0.0000,  0.0000,  0.0000,  0.0000,  0.0000,  0.0000,  0.0000],\n",
       "        [ 0.0000, -0.0000,  0.0000, -0.0000, -0.0000,  0.0000,  0.0000]],\n",
       "       grad_fn=<EmbeddingBackward>)"
      ]
     },
     "execution_count": 41,
     "metadata": {},
     "output_type": "execute_result"
    }
   ],
   "source": [
    "enc = nn.Embedding(100, 7, padding_idx=1)\n",
    "enc_dp = EmbeddingDropout(enc, 0.5)\n",
    "tst_input = torch.randint(0,100,(8,))\n",
    "enc_dp(tst_input)"
   ]
  },
  {
   "cell_type": "code",
   "execution_count": 42,
   "metadata": {},
   "outputs": [],
   "source": [
    "#export\n",
    "def to_detach(h):\n",
    "    \"Detaches `h` from its history.\"\n",
    "    return h.detach() if type(h) == torch.Tensor else tuple(to_detach(v) for v in h)"
   ]
  },
  {
   "cell_type": "code",
   "execution_count": 43,
   "metadata": {},
   "outputs": [],
   "source": [
    "#export\n",
    "class AWD_LSTM(nn.Module):\n",
    "    \"AWD-LSTM inspired by https://arxiv.org/abs/1708.02182.\"\n",
    "    initrange=0.1\n",
    "\n",
    "    def __init__(self, vocab_sz, emb_sz, n_hid, n_layers, pad_token,\n",
    "                 hidden_p=0.2, input_p=0.6, embed_p=0.1, weight_p=0.5):\n",
    "        super().__init__()\n",
    "        self.bs,self.emb_sz,self.n_hid,self.n_layers = 1,emb_sz,n_hid,n_layers\n",
    "        self.emb = nn.Embedding(vocab_sz, emb_sz, padding_idx=pad_token)\n",
    "        self.emb_dp = EmbeddingDropout(self.emb, embed_p)\n",
    "        self.rnns = [nn.LSTM(emb_sz if l == 0 else n_hid, (n_hid if l != n_layers - 1 else emb_sz), 1,\n",
    "                             batch_first=True) for l in range(n_layers)]\n",
    "        self.rnns = nn.ModuleList([WeightDropout(rnn, weight_p) for rnn in self.rnns])\n",
    "        self.emb.weight.data.uniform_(-self.initrange, self.initrange)\n",
    "        self.input_dp = RNNDropout(input_p)\n",
    "        self.hidden_dps = nn.ModuleList([RNNDropout(hidden_p) for l in range(n_layers)])\n",
    "\n",
    "    def forward(self, input):\n",
    "        bs,sl = input.size()\n",
    "        if bs!=self.bs:\n",
    "            self.bs=bs\n",
    "            self.reset()\n",
    "        raw_output = self.input_dp(self.emb_dp(input))\n",
    "        new_hidden,raw_outputs,outputs = [],[],[]\n",
    "        for l, (rnn,hid_dp) in enumerate(zip(self.rnns, self.hidden_dps)):\n",
    "            raw_output, new_h = rnn(raw_output, self.hidden[l])\n",
    "            new_hidden.append(new_h)\n",
    "            raw_outputs.append(raw_output)\n",
    "            if l != self.n_layers - 1: raw_output = hid_dp(raw_output)\n",
    "            outputs.append(raw_output) \n",
    "        self.hidden = to_detach(new_hidden)\n",
    "        return raw_outputs, outputs\n",
    "\n",
    "    def _one_hidden(self, l):\n",
    "        \"Return one hidden state.\"\n",
    "        nh = self.n_hid if l != self.n_layers - 1 else self.emb_sz\n",
    "        return next(self.parameters()).new(1, self.bs, nh).zero_()\n",
    "\n",
    "    def reset(self):\n",
    "        \"Reset the hidden states.\"\n",
    "        self.hidden = [(self._one_hidden(l), self._one_hidden(l)) for l in range(self.n_layers)]"
   ]
  },
  {
   "cell_type": "code",
   "execution_count": 44,
   "metadata": {},
   "outputs": [],
   "source": [
    "#export\n",
    "class LinearDecoder(nn.Module):\n",
    "    def __init__(self, n_out, n_hid, output_p, tie_encoder=None, bias=True):\n",
    "        super().__init__()\n",
    "        self.output_dp = RNNDropout(output_p)\n",
    "        self.decoder = nn.Linear(n_hid, n_out, bias=bias)\n",
    "        if bias: self.decoder.bias.data.zero_()\n",
    "        if tie_encoder: self.decoder.weight = tie_encoder.weight\n",
    "        else: init.kaiming_uniform_(self.decoder.weight)\n",
    "\n",
    "    def forward(self, input):\n",
    "        raw_outputs, outputs = input\n",
    "        output = self.output_dp(outputs[-1]).contiguous()\n",
    "        decoded = self.decoder(output.view(output.size(0)*output.size(1), output.size(2)))\n",
    "        return decoded, raw_outputs, outputs"
   ]
  },
  {
   "cell_type": "code",
   "execution_count": 45,
   "metadata": {},
   "outputs": [],
   "source": [
    "#export\n",
    "class SequentialRNN(nn.Sequential):\n",
    "    \"A sequential module that passes the reset call to its children.\"\n",
    "    def reset(self):\n",
    "        for c in self.children():\n",
    "            if hasattr(c, 'reset'): c.reset()"
   ]
  },
  {
   "cell_type": "code",
   "execution_count": 46,
   "metadata": {},
   "outputs": [],
   "source": [
    "#export\n",
    "def get_language_model(vocab_sz, emb_sz, n_hid, n_layers, pad_token, output_p=0.4, hidden_p=0.2, input_p=0.6, \n",
    "                       embed_p=0.1, weight_p=0.5, tie_weights=True, bias=True):\n",
    "    rnn_enc = AWD_LSTM(vocab_sz, emb_sz, n_hid=n_hid, n_layers=n_layers, pad_token=pad_token,\n",
    "                       hidden_p=hidden_p, input_p=input_p, embed_p=embed_p, weight_p=weight_p)\n",
    "    enc = rnn_enc.emb if tie_weights else None\n",
    "    return SequentialRNN(rnn_enc, LinearDecoder(vocab_sz, emb_sz, output_p, tie_encoder=enc, bias=bias))"
   ]
  },
  {
   "cell_type": "code",
   "execution_count": 47,
   "metadata": {},
   "outputs": [],
   "source": [
    "tok_pad = proc_num.vocab.index(PAD)"
   ]
  },
  {
   "cell_type": "code",
   "execution_count": 48,
   "metadata": {},
   "outputs": [],
   "source": [
    "tst_model = get_language_model(len(proc_num.vocab), 300, 300, 2, tok_pad)\n"
   ]
  },
  {
   "cell_type": "code",
   "execution_count": 49,
   "metadata": {},
   "outputs": [
    {
     "data": {
      "text/plain": [
       "(tensor([[-0.0089, -0.0296,  0.0149,  ...,  0.0038, -0.0200, -0.0265],\n",
       "         [-0.0084, -0.0466,  0.0240,  ...,  0.0016, -0.0351, -0.0431],\n",
       "         [-0.0046, -0.0643,  0.0267,  ..., -0.0004, -0.0484, -0.0549],\n",
       "         ...,\n",
       "         [ 0.0281, -0.0688,  0.0128,  ...,  0.0408, -0.0524, -0.0482],\n",
       "         [ 0.0280, -0.0705,  0.0110,  ...,  0.0440, -0.0496, -0.0485],\n",
       "         [ 0.0298, -0.0720,  0.0104,  ...,  0.0462, -0.0485, -0.0507]],\n",
       "        grad_fn=<AddmmBackward>),\n",
       " [tensor([[[ 0.0078, -0.0128,  0.0082,  ...,  0.0259,  0.0089, -0.0087],\n",
       "           [ 0.0159, -0.0148, -0.0070,  ...,  0.0275, -0.0200, -0.0211],\n",
       "           [ 0.0227,  0.0037,  0.0066,  ...,  0.0187, -0.0127,  0.0027],\n",
       "           ...,\n",
       "           [ 0.0136,  0.0458, -0.0086,  ...,  0.0201,  0.0287, -0.0668],\n",
       "           [-0.0037,  0.0285, -0.0088,  ...,  0.0175,  0.0222, -0.0626],\n",
       "           [-0.0160,  0.0191, -0.0154,  ...,  0.0283,  0.0271, -0.0338]],\n",
       "  \n",
       "          [[ 0.0012,  0.0061, -0.0123,  ..., -0.0080, -0.0023,  0.0067],\n",
       "           [ 0.0069,  0.0256, -0.0233,  ..., -0.0100,  0.0006, -0.0003],\n",
       "           [ 0.0154,  0.0489, -0.0117,  ...,  0.0093,  0.0028, -0.0441],\n",
       "           ...,\n",
       "           [ 0.0176, -0.0076,  0.0259,  ...,  0.0593, -0.0059, -0.0062],\n",
       "           [ 0.0192, -0.0117,  0.0312,  ...,  0.0613, -0.0069, -0.0068],\n",
       "           [ 0.0206, -0.0143,  0.0345,  ...,  0.0621, -0.0080, -0.0070]],\n",
       "  \n",
       "          [[ 0.0142,  0.0120,  0.0376,  ...,  0.0120,  0.0109, -0.0153],\n",
       "           [ 0.0257,  0.0223,  0.0547,  ...,  0.0152,  0.0185, -0.0265],\n",
       "           [ 0.0344,  0.0287,  0.0634,  ...,  0.0160,  0.0230, -0.0330],\n",
       "           ...,\n",
       "           [ 0.0194,  0.0029, -0.0335,  ...,  0.0121, -0.0266, -0.0248],\n",
       "           [ 0.0234, -0.0101, -0.0231,  ...,  0.0278, -0.0112, -0.0004],\n",
       "           [ 0.0194, -0.0177,  0.0075,  ...,  0.0378, -0.0148, -0.0199]],\n",
       "  \n",
       "          ...,\n",
       "  \n",
       "          [[-0.0022,  0.0122, -0.0014,  ...,  0.0207, -0.0174, -0.0228],\n",
       "           [-0.0027,  0.0228, -0.0038,  ...,  0.0357, -0.0258, -0.0356],\n",
       "           [-0.0077, -0.0006, -0.0183,  ...,  0.0254, -0.0105, -0.0121],\n",
       "           ...,\n",
       "           [ 0.0205, -0.0240, -0.0258,  ...,  0.0462,  0.0105, -0.0061],\n",
       "           [ 0.0238, -0.0075, -0.0234,  ...,  0.0343, -0.0076,  0.0017],\n",
       "           [ 0.0227, -0.0236, -0.0234,  ...,  0.0173, -0.0052,  0.0238]],\n",
       "  \n",
       "          [[ 0.0017, -0.0022, -0.0125,  ..., -0.0183,  0.0035,  0.0053],\n",
       "           [ 0.0269, -0.0082, -0.0512,  ..., -0.0208, -0.0140, -0.0038],\n",
       "           [ 0.0188, -0.0026, -0.0355,  ..., -0.0231, -0.0008, -0.0028],\n",
       "           ...,\n",
       "           [ 0.0477, -0.0161,  0.0136,  ...,  0.0236, -0.0377, -0.0428],\n",
       "           [ 0.0476, -0.0162,  0.0137,  ...,  0.0237, -0.0377, -0.0427],\n",
       "           [ 0.0476, -0.0162,  0.0138,  ...,  0.0237, -0.0377, -0.0427]],\n",
       "  \n",
       "          [[ 0.0009,  0.0037, -0.0164,  ...,  0.0012, -0.0138, -0.0116],\n",
       "           [-0.0049,  0.0060, -0.0198,  ...,  0.0007, -0.0192, -0.0181],\n",
       "           [-0.0105,  0.0072, -0.0206,  ...,  0.0005, -0.0216, -0.0213],\n",
       "           ...,\n",
       "           [ 0.0256, -0.0225,  0.0320,  ...,  0.0012, -0.0204, -0.0296],\n",
       "           [ 0.0525, -0.0180,  0.0415,  ...,  0.0178, -0.0224, -0.0347],\n",
       "           [ 0.0680, -0.0106,  0.0421,  ...,  0.0242, -0.0218, -0.0302]]],\n",
       "         grad_fn=<TransposeBackward0>),\n",
       "  tensor([[[-2.9302e-03, -5.9576e-03, -5.9928e-03,  ...,  2.3691e-02,\n",
       "             1.8224e-02,  1.1498e-03],\n",
       "           [-5.1313e-03, -1.1263e-02, -1.7357e-03,  ...,  3.8712e-02,\n",
       "             2.8074e-02,  2.5844e-03],\n",
       "           [-6.1822e-03, -1.4083e-02,  3.4977e-03,  ...,  4.4084e-02,\n",
       "             3.6976e-02,  4.6365e-03],\n",
       "           ...,\n",
       "           [-2.4800e-02, -2.4918e-02,  6.7208e-03,  ...,  5.1693e-02,\n",
       "             4.6093e-02, -3.0459e-03],\n",
       "           [-2.7027e-02, -1.7226e-02,  4.7045e-03,  ...,  5.3793e-02,\n",
       "             4.9375e-02, -4.3020e-03],\n",
       "           [-2.3416e-02, -1.3111e-02, -3.9801e-04,  ...,  5.1170e-02,\n",
       "             5.1049e-02, -2.2949e-03]],\n",
       "  \n",
       "          [[-7.6461e-03, -1.3718e-02, -1.9531e-04,  ...,  1.6328e-02,\n",
       "             1.5140e-02, -7.4870e-05],\n",
       "           [-9.9318e-03, -1.7865e-02, -4.1582e-03,  ...,  3.0336e-02,\n",
       "             2.1107e-02,  3.3783e-03],\n",
       "           [-1.2250e-02, -2.1876e-02, -1.7450e-03,  ...,  3.2686e-02,\n",
       "             2.7314e-02,  1.9866e-05],\n",
       "           ...,\n",
       "           [-1.6740e-02, -2.5485e-02, -7.5567e-04,  ...,  4.0214e-02,\n",
       "             4.4356e-02, -5.0445e-04],\n",
       "           [-1.5033e-02, -2.4251e-02, -6.2199e-04,  ...,  4.0446e-02,\n",
       "             4.5591e-02, -1.3240e-03],\n",
       "           [-1.3533e-02, -2.3257e-02, -3.9828e-04,  ...,  4.0499e-02,\n",
       "             4.6679e-02, -2.1087e-03]],\n",
       "  \n",
       "          [[-4.4472e-03, -1.2433e-02,  3.1489e-04,  ...,  1.9885e-02,\n",
       "             1.7693e-02, -4.9158e-03],\n",
       "           [-8.5330e-03, -1.9612e-02,  6.2333e-03,  ...,  2.9841e-02,\n",
       "             3.0209e-02, -7.6908e-03],\n",
       "           [-1.1773e-02, -2.4136e-02,  1.2855e-02,  ...,  3.5147e-02,\n",
       "             3.8961e-02, -8.8349e-03],\n",
       "           ...,\n",
       "           [-4.9754e-03, -1.2519e-02,  4.8960e-03,  ...,  3.8771e-02,\n",
       "             4.8281e-02,  4.4469e-03],\n",
       "           [-2.0227e-03, -8.7073e-03,  2.6190e-03,  ...,  3.7693e-02,\n",
       "             5.1160e-02,  4.4337e-03],\n",
       "           [-7.8357e-04, -1.0812e-02,  1.3861e-03,  ...,  3.7621e-02,\n",
       "             5.1619e-02,  5.4098e-03]],\n",
       "  \n",
       "          ...,\n",
       "  \n",
       "          [[-2.3449e-03, -8.4055e-03,  7.4302e-05,  ...,  2.1027e-02,\n",
       "             1.4511e-02, -1.0702e-03],\n",
       "           [-5.8091e-03, -1.1402e-02,  4.1656e-03,  ...,  3.2415e-02,\n",
       "             2.2780e-02, -1.0902e-03],\n",
       "           [-1.2888e-02, -8.8529e-03, -1.1277e-03,  ...,  3.9070e-02,\n",
       "             3.0086e-02, -3.2336e-03],\n",
       "           ...,\n",
       "           [-6.7670e-03, -1.3807e-02, -9.7733e-03,  ...,  4.7597e-02,\n",
       "             4.5408e-02,  1.0271e-02],\n",
       "           [-1.0488e-02, -1.4097e-02, -9.7655e-03,  ...,  4.9732e-02,\n",
       "             4.4041e-02,  1.5173e-02],\n",
       "           [-1.2020e-02, -1.6276e-02, -7.8385e-03,  ...,  4.9694e-02,\n",
       "             4.4889e-02,  1.4281e-02]],\n",
       "  \n",
       "          [[ 1.6218e-03, -1.0488e-02, -4.3173e-03,  ...,  1.9716e-02,\n",
       "             1.6387e-02,  8.9935e-05],\n",
       "           [-7.0610e-03, -1.4329e-02, -4.4256e-03,  ...,  3.3793e-02,\n",
       "             2.9797e-02, -2.2639e-05],\n",
       "           [-8.0777e-03, -1.7328e-02, -3.4665e-03,  ...,  3.8990e-02,\n",
       "             3.5242e-02,  1.3121e-03],\n",
       "           ...,\n",
       "           [-3.3236e-02, -5.2608e-02,  1.2222e-02,  ...,  2.4394e-02,\n",
       "             4.9235e-02, -2.5625e-02],\n",
       "           [-3.3442e-02, -5.2557e-02,  1.2120e-02,  ...,  2.4284e-02,\n",
       "             4.9322e-02, -2.5582e-02],\n",
       "           [-3.3583e-02, -5.2515e-02,  1.2039e-02,  ...,  2.4211e-02,\n",
       "             4.9391e-02, -2.5546e-02]],\n",
       "  \n",
       "          [[-6.5351e-03, -7.6299e-03, -4.3271e-03,  ...,  2.3043e-02,\n",
       "             1.4492e-02, -4.5290e-03],\n",
       "           [-1.3765e-02, -1.0785e-02, -4.3155e-03,  ...,  3.6651e-02,\n",
       "             2.2056e-02, -7.9660e-03],\n",
       "           [-1.9802e-02, -1.2918e-02, -2.9362e-03,  ...,  4.4664e-02,\n",
       "             2.5589e-02, -1.0306e-02],\n",
       "           ...,\n",
       "           [-2.7617e-03, -1.1323e-02, -3.5260e-03,  ...,  5.0608e-02,\n",
       "             4.1155e-02, -6.3487e-03],\n",
       "           [-6.2232e-03, -2.1121e-02,  3.1688e-05,  ...,  4.8385e-02,\n",
       "             4.3147e-02, -6.1669e-03],\n",
       "           [-9.8345e-03, -2.7480e-02,  5.5889e-03,  ...,  4.5104e-02,\n",
       "             4.5064e-02, -6.6192e-03]]], grad_fn=<TransposeBackward0>)],\n",
       " [tensor([[[ 0.0097, -0.0160,  0.0000,  ...,  0.0323,  0.0000, -0.0000],\n",
       "           [ 0.0199, -0.0185, -0.0000,  ...,  0.0344, -0.0000, -0.0000],\n",
       "           [ 0.0284,  0.0046,  0.0000,  ...,  0.0234, -0.0000,  0.0000],\n",
       "           ...,\n",
       "           [ 0.0170,  0.0572, -0.0000,  ...,  0.0251,  0.0000, -0.0000],\n",
       "           [-0.0046,  0.0356, -0.0000,  ...,  0.0218,  0.0000, -0.0000],\n",
       "           [-0.0200,  0.0238, -0.0000,  ...,  0.0354,  0.0000, -0.0000]],\n",
       "  \n",
       "          [[ 0.0000,  0.0077, -0.0000,  ..., -0.0000, -0.0029,  0.0083],\n",
       "           [ 0.0000,  0.0320, -0.0000,  ..., -0.0000,  0.0007, -0.0004],\n",
       "           [ 0.0000,  0.0612, -0.0000,  ...,  0.0000,  0.0035, -0.0552],\n",
       "           ...,\n",
       "           [ 0.0000, -0.0095,  0.0000,  ...,  0.0000, -0.0074, -0.0078],\n",
       "           [ 0.0000, -0.0146,  0.0000,  ...,  0.0000, -0.0086, -0.0085],\n",
       "           [ 0.0000, -0.0178,  0.0000,  ...,  0.0000, -0.0100, -0.0088]],\n",
       "  \n",
       "          [[ 0.0000,  0.0150,  0.0469,  ...,  0.0151,  0.0137, -0.0191],\n",
       "           [ 0.0000,  0.0279,  0.0684,  ...,  0.0190,  0.0231, -0.0331],\n",
       "           [ 0.0000,  0.0358,  0.0792,  ...,  0.0200,  0.0287, -0.0413],\n",
       "           ...,\n",
       "           [ 0.0000,  0.0037, -0.0419,  ...,  0.0151, -0.0332, -0.0310],\n",
       "           [ 0.0000, -0.0127, -0.0288,  ...,  0.0347, -0.0140, -0.0005],\n",
       "           [ 0.0000, -0.0222,  0.0094,  ...,  0.0472, -0.0185, -0.0249]],\n",
       "  \n",
       "          ...,\n",
       "  \n",
       "          [[-0.0028,  0.0153, -0.0017,  ...,  0.0258, -0.0000, -0.0285],\n",
       "           [-0.0034,  0.0286, -0.0048,  ...,  0.0447, -0.0000, -0.0445],\n",
       "           [-0.0097, -0.0008, -0.0228,  ...,  0.0318, -0.0000, -0.0152],\n",
       "           ...,\n",
       "           [ 0.0256, -0.0300, -0.0322,  ...,  0.0578,  0.0000, -0.0076],\n",
       "           [ 0.0298, -0.0094, -0.0292,  ...,  0.0429, -0.0000,  0.0021],\n",
       "           [ 0.0284, -0.0295, -0.0293,  ...,  0.0216, -0.0000,  0.0297]],\n",
       "  \n",
       "          [[ 0.0021, -0.0028, -0.0156,  ..., -0.0000,  0.0044,  0.0066],\n",
       "           [ 0.0336, -0.0102, -0.0639,  ..., -0.0000, -0.0175, -0.0048],\n",
       "           [ 0.0235, -0.0032, -0.0444,  ..., -0.0000, -0.0009, -0.0034],\n",
       "           ...,\n",
       "           [ 0.0596, -0.0201,  0.0170,  ...,  0.0000, -0.0471, -0.0535],\n",
       "           [ 0.0595, -0.0202,  0.0172,  ...,  0.0000, -0.0471, -0.0534],\n",
       "           [ 0.0595, -0.0203,  0.0173,  ...,  0.0000, -0.0471, -0.0533]],\n",
       "  \n",
       "          [[ 0.0000,  0.0046, -0.0205,  ...,  0.0015, -0.0173, -0.0000],\n",
       "           [-0.0000,  0.0075, -0.0247,  ...,  0.0009, -0.0240, -0.0000],\n",
       "           [-0.0000,  0.0090, -0.0257,  ...,  0.0006, -0.0269, -0.0000],\n",
       "           ...,\n",
       "           [ 0.0000, -0.0281,  0.0400,  ...,  0.0015, -0.0254, -0.0000],\n",
       "           [ 0.0000, -0.0225,  0.0519,  ...,  0.0222, -0.0280, -0.0000],\n",
       "           [ 0.0000, -0.0132,  0.0526,  ...,  0.0303, -0.0272, -0.0000]]],\n",
       "         grad_fn=<MulBackward0>),\n",
       "  tensor([[[-2.9302e-03, -5.9576e-03, -5.9928e-03,  ...,  2.3691e-02,\n",
       "             1.8224e-02,  1.1498e-03],\n",
       "           [-5.1313e-03, -1.1263e-02, -1.7357e-03,  ...,  3.8712e-02,\n",
       "             2.8074e-02,  2.5844e-03],\n",
       "           [-6.1822e-03, -1.4083e-02,  3.4977e-03,  ...,  4.4084e-02,\n",
       "             3.6976e-02,  4.6365e-03],\n",
       "           ...,\n",
       "           [-2.4800e-02, -2.4918e-02,  6.7208e-03,  ...,  5.1693e-02,\n",
       "             4.6093e-02, -3.0459e-03],\n",
       "           [-2.7027e-02, -1.7226e-02,  4.7045e-03,  ...,  5.3793e-02,\n",
       "             4.9375e-02, -4.3020e-03],\n",
       "           [-2.3416e-02, -1.3111e-02, -3.9801e-04,  ...,  5.1170e-02,\n",
       "             5.1049e-02, -2.2949e-03]],\n",
       "  \n",
       "          [[-7.6461e-03, -1.3718e-02, -1.9531e-04,  ...,  1.6328e-02,\n",
       "             1.5140e-02, -7.4870e-05],\n",
       "           [-9.9318e-03, -1.7865e-02, -4.1582e-03,  ...,  3.0336e-02,\n",
       "             2.1107e-02,  3.3783e-03],\n",
       "           [-1.2250e-02, -2.1876e-02, -1.7450e-03,  ...,  3.2686e-02,\n",
       "             2.7314e-02,  1.9866e-05],\n",
       "           ...,\n",
       "           [-1.6740e-02, -2.5485e-02, -7.5567e-04,  ...,  4.0214e-02,\n",
       "             4.4356e-02, -5.0445e-04],\n",
       "           [-1.5033e-02, -2.4251e-02, -6.2199e-04,  ...,  4.0446e-02,\n",
       "             4.5591e-02, -1.3240e-03],\n",
       "           [-1.3533e-02, -2.3257e-02, -3.9828e-04,  ...,  4.0499e-02,\n",
       "             4.6679e-02, -2.1087e-03]],\n",
       "  \n",
       "          [[-4.4472e-03, -1.2433e-02,  3.1489e-04,  ...,  1.9885e-02,\n",
       "             1.7693e-02, -4.9158e-03],\n",
       "           [-8.5330e-03, -1.9612e-02,  6.2333e-03,  ...,  2.9841e-02,\n",
       "             3.0209e-02, -7.6908e-03],\n",
       "           [-1.1773e-02, -2.4136e-02,  1.2855e-02,  ...,  3.5147e-02,\n",
       "             3.8961e-02, -8.8349e-03],\n",
       "           ...,\n",
       "           [-4.9754e-03, -1.2519e-02,  4.8960e-03,  ...,  3.8771e-02,\n",
       "             4.8281e-02,  4.4469e-03],\n",
       "           [-2.0227e-03, -8.7073e-03,  2.6190e-03,  ...,  3.7693e-02,\n",
       "             5.1160e-02,  4.4337e-03],\n",
       "           [-7.8357e-04, -1.0812e-02,  1.3861e-03,  ...,  3.7621e-02,\n",
       "             5.1619e-02,  5.4098e-03]],\n",
       "  \n",
       "          ...,\n",
       "  \n",
       "          [[-2.3449e-03, -8.4055e-03,  7.4302e-05,  ...,  2.1027e-02,\n",
       "             1.4511e-02, -1.0702e-03],\n",
       "           [-5.8091e-03, -1.1402e-02,  4.1656e-03,  ...,  3.2415e-02,\n",
       "             2.2780e-02, -1.0902e-03],\n",
       "           [-1.2888e-02, -8.8529e-03, -1.1277e-03,  ...,  3.9070e-02,\n",
       "             3.0086e-02, -3.2336e-03],\n",
       "           ...,\n",
       "           [-6.7670e-03, -1.3807e-02, -9.7733e-03,  ...,  4.7597e-02,\n",
       "             4.5408e-02,  1.0271e-02],\n",
       "           [-1.0488e-02, -1.4097e-02, -9.7655e-03,  ...,  4.9732e-02,\n",
       "             4.4041e-02,  1.5173e-02],\n",
       "           [-1.2020e-02, -1.6276e-02, -7.8385e-03,  ...,  4.9694e-02,\n",
       "             4.4889e-02,  1.4281e-02]],\n",
       "  \n",
       "          [[ 1.6218e-03, -1.0488e-02, -4.3173e-03,  ...,  1.9716e-02,\n",
       "             1.6387e-02,  8.9935e-05],\n",
       "           [-7.0610e-03, -1.4329e-02, -4.4256e-03,  ...,  3.3793e-02,\n",
       "             2.9797e-02, -2.2639e-05],\n",
       "           [-8.0777e-03, -1.7328e-02, -3.4665e-03,  ...,  3.8990e-02,\n",
       "             3.5242e-02,  1.3121e-03],\n",
       "           ...,\n",
       "           [-3.3236e-02, -5.2608e-02,  1.2222e-02,  ...,  2.4394e-02,\n",
       "             4.9235e-02, -2.5625e-02],\n",
       "           [-3.3442e-02, -5.2557e-02,  1.2120e-02,  ...,  2.4284e-02,\n",
       "             4.9322e-02, -2.5582e-02],\n",
       "           [-3.3583e-02, -5.2515e-02,  1.2039e-02,  ...,  2.4211e-02,\n",
       "             4.9391e-02, -2.5546e-02]],\n",
       "  \n",
       "          [[-6.5351e-03, -7.6299e-03, -4.3271e-03,  ...,  2.3043e-02,\n",
       "             1.4492e-02, -4.5290e-03],\n",
       "           [-1.3765e-02, -1.0785e-02, -4.3155e-03,  ...,  3.6651e-02,\n",
       "             2.2056e-02, -7.9660e-03],\n",
       "           [-1.9802e-02, -1.2918e-02, -2.9362e-03,  ...,  4.4664e-02,\n",
       "             2.5589e-02, -1.0306e-02],\n",
       "           ...,\n",
       "           [-2.7617e-03, -1.1323e-02, -3.5260e-03,  ...,  5.0608e-02,\n",
       "             4.1155e-02, -6.3487e-03],\n",
       "           [-6.2232e-03, -2.1121e-02,  3.1688e-05,  ...,  4.8385e-02,\n",
       "             4.3147e-02, -6.1669e-03],\n",
       "           [-9.8345e-03, -2.7480e-02,  5.5889e-03,  ...,  4.5104e-02,\n",
       "             4.5064e-02, -6.6192e-03]]], grad_fn=<TransposeBackward0>)])"
      ]
     },
     "execution_count": 49,
     "metadata": {},
     "output_type": "execute_result"
    }
   ],
   "source": [
    "z=tst_model(xb)\n",
    "z"
   ]
  },
  {
   "cell_type": "code",
   "execution_count": 50,
   "metadata": {},
   "outputs": [],
   "source": [
    "# export\n",
    "def cross_entropy_flat(input, target):\n",
    "    bs,sl = target.size()\n",
    "    return F.cross_entropy(input.view(bs * sl, -1), target.view(bs * sl))\n",
    "\n",
    "def accuracy_flat(input, target):\n",
    "    bs,sl = target.size()\n",
    "    return accuracy(input.view(bs * sl, -1), target.view(bs * sl))"
   ]
  },
  {
   "cell_type": "code",
   "execution_count": 51,
   "metadata": {},
   "outputs": [
    {
     "data": {
      "text/plain": [
       "tensor(0.0453)"
      ]
     },
     "execution_count": 51,
     "metadata": {},
     "output_type": "execute_result"
    }
   ],
   "source": [
    "decoded, raw_outputs, outputs = z\n",
    "accuracy_flat(decoded,yb)\n"
   ]
  },
  {
   "cell_type": "code",
   "execution_count": 52,
   "metadata": {},
   "outputs": [
    {
     "data": {
      "text/plain": [
       "tensor(3.3209, grad_fn=<NllLossBackward>)"
      ]
     },
     "execution_count": 52,
     "metadata": {},
     "output_type": "execute_result"
    }
   ],
   "source": [
    "cross_entropy_flat(decoded,yb)"
   ]
  },
  {
   "cell_type": "markdown",
   "metadata": {},
   "source": [
    "# Training Loop with AWD-LSTM"
   ]
  },
  {
   "cell_type": "code",
   "execution_count": 53,
   "metadata": {},
   "outputs": [],
   "source": [
    "#export\n",
    "class GradientClipping(Callback):\n",
    "    def __init__(self, clip=None): self.clip = clip\n",
    "    def after_backward(self):\n",
    "        if self.clip:  nn.utils.clip_grad_norm_(self.run.model.parameters(), self.clip)"
   ]
  },
  {
   "cell_type": "code",
   "execution_count": 54,
   "metadata": {},
   "outputs": [],
   "source": [
    "#export\n",
    "class RNNTrainer(Callback):\n",
    "    def __init__(self, α, β): self.α,self.β = α,β\n",
    "    \n",
    "    def after_pred(self):\n",
    "        #Save the extra outputs for later and only returns the true output.\n",
    "        self.raw_out,self.out = self.pred[1],self.pred[2]\n",
    "        self.run.pred = self.pred[0]\n",
    "    \n",
    "    def after_loss(self):\n",
    "        #AR and TAR\n",
    "        if self.α != 0.:  self.run.loss += self.α * self.out[-1].float().pow(2).mean()\n",
    "        if self.β != 0.:\n",
    "            h = self.raw_out[-1]\n",
    "            if len(h)>1: self.run.loss += self.β * (h[:,1:] - h[:,:-1]).float().pow(2).mean()\n",
    "                \n",
    "    def begin_epoch(self):\n",
    "        pass\n",
    "        #Shuffle the texts at the beginning of the epoch\n",
    "        #if hasattr(self.dl.dataset, \"batchify\"): self.dl.dataset.batchify()"
   ]
  },
  {
   "cell_type": "code",
   "execution_count": 55,
   "metadata": {},
   "outputs": [],
   "source": [
    "class CudaCallback(Callback):\n",
    "    def begin_fit(self): self.model.cuda()\n",
    "    def begin_batch(self): self.run.xb,self.run.yb = self.xb.cuda(),self.yb.cuda()"
   ]
  },
  {
   "cell_type": "code",
   "execution_count": 56,
   "metadata": {},
   "outputs": [],
   "source": [
    "emb_sz, nh, nl = 300, 300, 2\n",
    "model = get_language_model(len(proc_num.vocab), emb_sz, nh, nl, tok_pad, input_p=0.6, output_p=0.4, weight_p=0.5, \n",
    "                           embed_p=0.1, hidden_p=0.2)"
   ]
  },
  {
   "cell_type": "code",
   "execution_count": 57,
   "metadata": {},
   "outputs": [],
   "source": [
    "cbs = [partial(AvgStatsCallback,accuracy_flat),\n",
    "       CudaCallback, Recorder,\n",
    "       partial(GradientClipping, clip=0.1),\n",
    "       partial(RNNTrainer, α=2., β=1.),\n",
    "       ProgressBarCallback]"
   ]
  },
  {
   "cell_type": "code",
   "execution_count": 58,
   "metadata": {},
   "outputs": [],
   "source": [
    "learn = Learner(model, data, cross_entropy_flat, lr=5e-3, cb_funcs=cbs, opt_func=adam_opt())"
   ]
  },
  {
   "cell_type": "code",
   "execution_count": 59,
   "metadata": {},
   "outputs": [
    {
     "data": {
      "text/html": [
       "<table border=\"1\" class=\"dataframe\">\n",
       "  <thead>\n",
       "    <tr style=\"text-align: left;\">\n",
       "      <th>epoch</th>\n",
       "      <th>train_loss</th>\n",
       "      <th>train_accuracy_flat</th>\n",
       "      <th>valid_loss</th>\n",
       "      <th>valid_accuracy_flat</th>\n",
       "      <th>time</th>\n",
       "    </tr>\n",
       "  </thead>\n",
       "  <tbody>\n",
       "    <tr>\n",
       "      <td>0</td>\n",
       "      <td>1.649115</td>\n",
       "      <td>0.526422</td>\n",
       "      <td>0.823463</td>\n",
       "      <td>0.736719</td>\n",
       "      <td>00:01</td>\n",
       "    </tr>\n",
       "    <tr>\n",
       "      <td>1</td>\n",
       "      <td>0.696616</td>\n",
       "      <td>0.778191</td>\n",
       "      <td>0.511666</td>\n",
       "      <td>0.831473</td>\n",
       "      <td>00:01</td>\n",
       "    </tr>\n",
       "    <tr>\n",
       "      <td>2</td>\n",
       "      <td>0.557296</td>\n",
       "      <td>0.818050</td>\n",
       "      <td>0.463992</td>\n",
       "      <td>0.846503</td>\n",
       "      <td>00:00</td>\n",
       "    </tr>\n",
       "    <tr>\n",
       "      <td>3</td>\n",
       "      <td>0.485490</td>\n",
       "      <td>0.834515</td>\n",
       "      <td>0.446155</td>\n",
       "      <td>0.850037</td>\n",
       "      <td>00:00</td>\n",
       "    </tr>\n",
       "    <tr>\n",
       "      <td>4</td>\n",
       "      <td>0.453156</td>\n",
       "      <td>0.842708</td>\n",
       "      <td>0.443367</td>\n",
       "      <td>0.846801</td>\n",
       "      <td>00:00</td>\n",
       "    </tr>\n",
       "    <tr>\n",
       "      <td>5</td>\n",
       "      <td>0.425081</td>\n",
       "      <td>0.847418</td>\n",
       "      <td>0.426659</td>\n",
       "      <td>0.854799</td>\n",
       "      <td>00:00</td>\n",
       "    </tr>\n",
       "    <tr>\n",
       "      <td>6</td>\n",
       "      <td>0.416509</td>\n",
       "      <td>0.846516</td>\n",
       "      <td>0.422325</td>\n",
       "      <td>0.856176</td>\n",
       "      <td>00:00</td>\n",
       "    </tr>\n",
       "    <tr>\n",
       "      <td>7</td>\n",
       "      <td>0.398458</td>\n",
       "      <td>0.851313</td>\n",
       "      <td>0.419815</td>\n",
       "      <td>0.854613</td>\n",
       "      <td>00:00</td>\n",
       "    </tr>\n",
       "    <tr>\n",
       "      <td>8</td>\n",
       "      <td>0.404604</td>\n",
       "      <td>0.850446</td>\n",
       "      <td>0.426260</td>\n",
       "      <td>0.853348</td>\n",
       "      <td>00:00</td>\n",
       "    </tr>\n",
       "    <tr>\n",
       "      <td>9</td>\n",
       "      <td>0.390960</td>\n",
       "      <td>0.851514</td>\n",
       "      <td>0.416056</td>\n",
       "      <td>0.854650</td>\n",
       "      <td>00:00</td>\n",
       "    </tr>\n",
       "    <tr>\n",
       "      <td>10</td>\n",
       "      <td>0.398039</td>\n",
       "      <td>0.850359</td>\n",
       "      <td>0.412981</td>\n",
       "      <td>0.856027</td>\n",
       "      <td>00:00</td>\n",
       "    </tr>\n",
       "    <tr>\n",
       "      <td>11</td>\n",
       "      <td>0.385181</td>\n",
       "      <td>0.854854</td>\n",
       "      <td>0.415704</td>\n",
       "      <td>0.854911</td>\n",
       "      <td>00:00</td>\n",
       "    </tr>\n",
       "    <tr>\n",
       "      <td>12</td>\n",
       "      <td>0.387162</td>\n",
       "      <td>0.852889</td>\n",
       "      <td>0.418357</td>\n",
       "      <td>0.854762</td>\n",
       "      <td>00:00</td>\n",
       "    </tr>\n",
       "    <tr>\n",
       "      <td>13</td>\n",
       "      <td>0.391495</td>\n",
       "      <td>0.850254</td>\n",
       "      <td>0.416593</td>\n",
       "      <td>0.853497</td>\n",
       "      <td>00:01</td>\n",
       "    </tr>\n",
       "    <tr>\n",
       "      <td>14</td>\n",
       "      <td>0.380322</td>\n",
       "      <td>0.853786</td>\n",
       "      <td>0.415227</td>\n",
       "      <td>0.854464</td>\n",
       "      <td>00:01</td>\n",
       "    </tr>\n",
       "    <tr>\n",
       "      <td>15</td>\n",
       "      <td>0.408556</td>\n",
       "      <td>0.847335</td>\n",
       "      <td>0.413383</td>\n",
       "      <td>0.854762</td>\n",
       "      <td>00:00</td>\n",
       "    </tr>\n",
       "    <tr>\n",
       "      <td>16</td>\n",
       "      <td>0.380025</td>\n",
       "      <td>0.855169</td>\n",
       "      <td>0.413040</td>\n",
       "      <td>0.855246</td>\n",
       "      <td>00:00</td>\n",
       "    </tr>\n",
       "    <tr>\n",
       "      <td>17</td>\n",
       "      <td>0.380297</td>\n",
       "      <td>0.853108</td>\n",
       "      <td>0.410673</td>\n",
       "      <td>0.855320</td>\n",
       "      <td>00:01</td>\n",
       "    </tr>\n",
       "    <tr>\n",
       "      <td>18</td>\n",
       "      <td>0.386764</td>\n",
       "      <td>0.852618</td>\n",
       "      <td>0.412934</td>\n",
       "      <td>0.855915</td>\n",
       "      <td>00:00</td>\n",
       "    </tr>\n",
       "    <tr>\n",
       "      <td>19</td>\n",
       "      <td>0.375956</td>\n",
       "      <td>0.855156</td>\n",
       "      <td>0.410785</td>\n",
       "      <td>0.855320</td>\n",
       "      <td>00:00</td>\n",
       "    </tr>\n",
       "  </tbody>\n",
       "</table>"
      ],
      "text/plain": [
       "<IPython.core.display.HTML object>"
      ]
     },
     "metadata": {},
     "output_type": "display_data"
    }
   ],
   "source": [
    "learn.fit(20)"
   ]
  },
  {
   "cell_type": "markdown",
   "metadata": {},
   "source": [
    "# Testing"
   ]
  },
  {
   "cell_type": "code",
   "execution_count": 60,
   "metadata": {},
   "outputs": [
    {
     "data": {
      "text/plain": [
       "ControlFlowList (1195 items)\n",
       "['A_SUBMITTED->A_PARTLYSUBMITTED->A_PREACCEPTED->W_Completeren aanvraag->W_Completeren aanvraag->W_Completeren aanvraag->W_Completeren aanvraag->W_Completeren aanvraag->W_Completeren aanvraag->W_Completeren aanvraag->W_Completeren aanvraag->W_Completeren aanvraag->W_Completeren aanvraag->W_Completeren aanvraag->W_Completeren aanvraag->W_Completeren aanvraag->W_Completeren aanvraag->W_Completeren aanvraag->W_Completeren aanvraag->W_Completeren aanvraag->W_Completeren aanvraag->W_Completeren aanvraag->W_Completeren aanvraag->W_Completeren aanvraag->W_Completeren aanvraag->W_Completeren aanvraag->W_Completeren aanvraag->A_CANCELLED->W_Completeren aanvraag', 'A_SUBMITTED->A_PARTLYSUBMITTED->A_PREACCEPTED->W_Completeren aanvraag->W_Completeren aanvraag->W_Completeren aanvraag->W_Completeren aanvraag->W_Completeren aanvraag->W_Completeren aanvraag->W_Completeren aanvraag->W_Completeren aanvraag->A_DECLINED->W_Completeren aanvraag'...]"
      ]
     },
     "execution_count": 60,
     "metadata": {},
     "output_type": "execute_result"
    }
   ],
   "source": [
    "sd.test"
   ]
  },
  {
   "cell_type": "markdown",
   "metadata": {},
   "source": [
    "## Next Step Prediction"
   ]
  },
  {
   "cell_type": "code",
   "execution_count": 61,
   "metadata": {},
   "outputs": [
    {
     "data": {
      "text/html": [
       "\n",
       "    <div>\n",
       "        <style>\n",
       "            /* Turns off some styling */\n",
       "            progress {\n",
       "                /* gets rid of default border in Firefox and Opera. */\n",
       "                border: none;\n",
       "                /* Needs to be in here for Safari polyfill so background images work as expected. */\n",
       "                background-size: auto;\n",
       "            }\n",
       "            .progress-bar-interrupted, .progress-bar-interrupted::-webkit-progress-bar {\n",
       "                background: #F44336;\n",
       "            }\n",
       "        </style>\n",
       "      <progress value='1195' class='' max='1195', style='width:300px; height:20px; vertical-align: middle;'></progress>\n",
       "      100.00% [1195/1195 00:00<00:00]\n",
       "    </div>\n",
       "    "
      ],
      "text/plain": [
       "<IPython.core.display.HTML object>"
      ]
     },
     "metadata": {},
     "output_type": "display_data"
    }
   ],
   "source": [
    "def process_data_for_next_step_prediction(test,startIndex=1):\n",
    "    xs,ys=[],[]\n",
    "    for trace in progress_bar(test.items):\n",
    "        for i in range(startIndex,len(listify(trace))):\n",
    "            x,y=[],[]\n",
    "            xs.append(tensor([trace[:i]]))\n",
    "            ys.append(tensor([[trace[i]]]))\n",
    "    return xs,tensor(ys)\n",
    "x,y=process_data_for_next_step_prediction(ll.test.x)"
   ]
  },
  {
   "cell_type": "code",
   "execution_count": 62,
   "metadata": {},
   "outputs": [
    {
     "data": {
      "text/html": [
       "\n",
       "    <div>\n",
       "        <style>\n",
       "            /* Turns off some styling */\n",
       "            progress {\n",
       "                /* gets rid of default border in Firefox and Opera. */\n",
       "                border: none;\n",
       "                /* Needs to be in here for Safari polyfill so background images work as expected. */\n",
       "                background-size: auto;\n",
       "            }\n",
       "            .progress-bar-interrupted, .progress-bar-interrupted::-webkit-progress-bar {\n",
       "                background: #F44336;\n",
       "            }\n",
       "        </style>\n",
       "      <progress value='24612' class='' max='24612', style='width:300px; height:20px; vertical-align: middle;'></progress>\n",
       "      100.00% [24612/24612 01:09<00:00]\n",
       "    </div>\n",
       "    "
      ],
      "text/plain": [
       "<IPython.core.display.HTML object>"
      ]
     },
     "metadata": {},
     "output_type": "display_data"
    },
    {
     "data": {
      "text/plain": [
       "tensor(0.8593)"
      ]
     },
     "execution_count": 62,
     "metadata": {},
     "output_type": "execute_result"
    }
   ],
   "source": [
    "learn.model.cpu()\n",
    "learn.model.eval()\n",
    "preds=[]\n",
    "for e in progress_bar(x):\n",
    "    learn.model.reset()\n",
    "    pred=learn.model(e)\n",
    "    preds.append(pred[0][-1])\n",
    "pred_stack=torch.stack(preds)\n",
    "accuracy(pred_stack,(y))"
   ]
  },
  {
   "cell_type": "code",
   "execution_count": 63,
   "metadata": {},
   "outputs": [
    {
     "name": "stdout",
     "output_type": "stream",
     "text": [
      "CPU times: user 55.8 ms, sys: 0 ns, total: 55.8 ms\n",
      "Wall time: 54.8 ms\n"
     ]
    }
   ],
   "source": [
    "%time pred_stack=torch.stack(preds)"
   ]
  },
  {
   "cell_type": "code",
   "execution_count": 65,
   "metadata": {},
   "outputs": [
    {
     "name": "stdout",
     "output_type": "stream",
     "text": [
      "CPU times: user 1.48 ms, sys: 24 µs, total: 1.5 ms\n",
      "Wall time: 801 µs\n"
     ]
    },
    {
     "data": {
      "text/plain": [
       "tensor(0.8593)"
      ]
     },
     "execution_count": 65,
     "metadata": {},
     "output_type": "execute_result"
    }
   ],
   "source": [
    "%time accuracy(pred_stack,(y))"
   ]
  },
  {
   "cell_type": "markdown",
   "metadata": {},
   "source": [
    "## Suffix Prediction"
   ]
  },
  {
   "cell_type": "markdown",
   "metadata": {},
   "source": [
    "Since the model is a LM we need to sample data to get the final suffix prediction"
   ]
  },
  {
   "cell_type": "code",
   "execution_count": 66,
   "metadata": {},
   "outputs": [
    {
     "data": {
      "text/html": [
       "\n",
       "    <div>\n",
       "        <style>\n",
       "            /* Turns off some styling */\n",
       "            progress {\n",
       "                /* gets rid of default border in Firefox and Opera. */\n",
       "                border: none;\n",
       "                /* Needs to be in here for Safari polyfill so background images work as expected. */\n",
       "                background-size: auto;\n",
       "            }\n",
       "            .progress-bar-interrupted, .progress-bar-interrupted::-webkit-progress-bar {\n",
       "                background: #F44336;\n",
       "            }\n",
       "        </style>\n",
       "      <progress value='1195' class='' max='1195', style='width:300px; height:20px; vertical-align: middle;'></progress>\n",
       "      100.00% [1195/1195 00:00<00:00]\n",
       "    </div>\n",
       "    "
      ],
      "text/plain": [
       "<IPython.core.display.HTML object>"
      ]
     },
     "metadata": {},
     "output_type": "display_data"
    }
   ],
   "source": [
    "def process_data_for_suffix_prediction(test,startIndex=1):\n",
    "    xs,ys=[],[]\n",
    "    for trace in progress_bar(test.items):\n",
    "        for i in range(startIndex,len(listify(trace))):\n",
    "            x,y=[],[]\n",
    "            xs.append(tensor([trace[:i]]))\n",
    "            ys.append(tensor([trace[i:]]))\n",
    "    return xs,ys\n",
    "xs,ys=process_data_for_suffix_prediction(ll.test.x)"
   ]
  },
  {
   "cell_type": "code",
   "execution_count": 83,
   "metadata": {},
   "outputs": [
    {
     "data": {
      "text/plain": [
       "171"
      ]
     },
     "execution_count": 83,
     "metadata": {},
     "output_type": "execute_result"
    }
   ],
   "source": [
    "maxl=-1\n",
    "for x in xs:\n",
    "    if len(x[0])>maxl: maxl=len(x[0])\n",
    "maxl"
   ]
  },
  {
   "cell_type": "code",
   "execution_count": null,
   "metadata": {},
   "outputs": [],
   "source": [
    "maxl"
   ]
  },
  {
   "cell_type": "code",
   "execution_count": 77,
   "metadata": {},
   "outputs": [
    {
     "data": {
      "text/plain": [
       "1"
      ]
     },
     "execution_count": 77,
     "metadata": {},
     "output_type": "execute_result"
    }
   ],
   "source": [
    "len(xs[0])"
   ]
  },
  {
   "cell_type": "code",
   "execution_count": null,
   "metadata": {},
   "outputs": [],
   "source": [
    "def predict_suffix(model,xs,ys):\n",
    "    rl=[]\n",
    "    model.cpu()\n",
    "    model.eval()\n",
    "    for x,y in progress_bar(zip(xs,ys)):\n",
    "        model.reset()\n",
    "        t=torch.stack([tensor(x[c]).float() for c in range(len(list(df)))])\n",
    "        p=tensor(-1)\n",
    "        res=[]\n",
    "        while p.int()!=3: # 3: eos token\n",
    "            pred=model(t[None])\n",
    "            pred=pred[0][-1]\n",
    "            p=torch.multinomial(torch.softmax(pred,0),1).float()\n",
    "           # p=torch.argmax(pred,0).float()[None]\n",
    "            if p.int()!=3 or len(res)==0: res.append(p)\n",
    "            k=torch.cat((t[3],p))\n",
    "            t=torch.stack([k for c in range(len(list(df)))])\n",
    "\n",
    "\n",
    "        res=torch.cat(res,0).int().tolist()\n",
    "        rl.append(res)\n",
    "    return rl"
   ]
  },
  {
   "cell_type": "code",
   "execution_count": null,
   "metadata": {},
   "outputs": [],
   "source": [
    "x=xs[0]\n",
    "y=ys[0]"
   ]
  },
  {
   "cell_type": "code",
   "execution_count": null,
   "metadata": {},
   "outputs": [],
   "source": [
    "len(xs)"
   ]
  },
  {
   "cell_type": "code",
   "execution_count": 84,
   "metadata": {},
   "outputs": [
    {
     "data": {
      "text/html": [
       "\n",
       "    <div>\n",
       "        <style>\n",
       "            /* Turns off some styling */\n",
       "            progress {\n",
       "                /* gets rid of default border in Firefox and Opera. */\n",
       "                border: none;\n",
       "                /* Needs to be in here for Safari polyfill so background images work as expected. */\n",
       "                background-size: auto;\n",
       "            }\n",
       "            .progress-bar-interrupted, .progress-bar-interrupted::-webkit-progress-bar {\n",
       "                background: #F44336;\n",
       "            }\n",
       "        </style>\n",
       "      <progress value='24612' class='' max='24612', style='width:300px; height:20px; vertical-align: middle;'></progress>\n",
       "      100.00% [24612/24612 1:11:00<00:00]\n",
       "    </div>\n",
       "    "
      ],
      "text/plain": [
       "<IPython.core.display.HTML object>"
      ]
     },
     "metadata": {},
     "output_type": "display_data"
    }
   ],
   "source": [
    "preds=[]\n",
    "for x in progress_bar(xs):\n",
    "    learn.model.reset()\n",
    "    res=[]\n",
    "    t=x\n",
    "    p=tensor(-1)\n",
    "    k=0\n",
    "    while p.int()!=3 and k<100:\n",
    "        k+=1\n",
    "        pred=learn.model(t)\n",
    "        pred=pred[0][-1]\n",
    "        p=torch.multinomial(torch.softmax(pred,0),1)[None]\n",
    "        res.append(p)\n",
    "        t=torch.cat((t,p),dim=1)\n",
    "    preds.append(tensor(res).tolist())"
   ]
  },
  {
   "cell_type": "code",
   "execution_count": null,
   "metadata": {},
   "outputs": [],
   "source": [
    "preds[0:10]"
   ]
  },
  {
   "cell_type": "code",
   "execution_count": null,
   "metadata": {},
   "outputs": [],
   "source": [
    "y"
   ]
  },
  {
   "cell_type": "code",
   "execution_count": null,
   "metadata": {},
   "outputs": [],
   "source": [
    "preds2=[]\n",
    "for x in progress_bar(xs):\n",
    "    learn.model.reset()\n",
    "    res=[]\n",
    "    t=x\n",
    "    p=tensor(-1)\n",
    "    k=0\n",
    "    while p.int()!=3:\n",
    "        k+=1\n",
    "        pred=learn.model(t)\n",
    "        pred=pred[0][-1]\n",
    "        p=torch.multinomial(torch.softmax(pred,0),1)[None]\n",
    "        res.append(p)\n",
    "        t=torch.cat((t,p),dim=1)\n",
    "    preds2.append(tensor(res).tolist())"
   ]
  },
  {
   "cell_type": "code",
   "execution_count": null,
   "metadata": {},
   "outputs": [],
   "source": []
  }
 ],
 "metadata": {
  "kernelspec": {
   "display_name": "fastpm2",
   "language": "python",
   "name": "fastpm2"
  },
  "language_info": {
   "codemirror_mode": {
    "name": "ipython",
    "version": 3
   },
   "file_extension": ".py",
   "mimetype": "text/x-python",
   "name": "python",
   "nbconvert_exporter": "python",
   "pygments_lexer": "ipython3",
   "version": "3.7.4"
  },
  "varInspector": {
   "cols": {
    "lenName": 16,
    "lenType": 16,
    "lenVar": 40
   },
   "kernels_config": {
    "python": {
     "delete_cmd_postfix": "",
     "delete_cmd_prefix": "del ",
     "library": "var_list.py",
     "varRefreshCmd": "print(var_dic_list())"
    },
    "r": {
     "delete_cmd_postfix": ") ",
     "delete_cmd_prefix": "rm(",
     "library": "var_list.r",
     "varRefreshCmd": "cat(var_dic_list()) "
    }
   },
   "types_to_exclude": [
    "module",
    "function",
    "builtin_function_or_method",
    "instance",
    "_Feature"
   ],
   "window_display": false
  }
 },
 "nbformat": 4,
 "nbformat_minor": 2
}
