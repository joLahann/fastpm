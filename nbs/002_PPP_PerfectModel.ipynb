{
 "cells": [
  {
   "cell_type": "markdown",
   "metadata": {},
   "source": [
    "# Perfect Model"
   ]
  },
  {
   "cell_type": "code",
   "execution_count": 5,
   "metadata": {},
   "outputs": [],
   "source": [
    "#export\n",
    "import numpy as np\n",
    "from ipynb.fs.full.PPP_BasicModel import PPModel"
   ]
  },
  {
   "cell_type": "code",
   "execution_count": 6,
   "metadata": {},
   "outputs": [],
   "source": [
    "#export\n",
    "class Perfect_PPM(PPModel): \n",
    "    def predict(self,test,index=2):\n",
    "        self.cases=test.groupby('trace_id')\n",
    "        return super().predict(test,index) \n",
    "    \n",
    "    def _return_ground_truth(self,test,index,col):\n",
    "        tmp=self.cases.apply(lambda x: x[col].values[index:-1])\n",
    "        tmp=tmp[tmp.apply(lambda x: len(x)!=0)]\n",
    "        return tmp\n",
    "    \n",
    "    def next_step_prediction(self,test,index=2): return self._return_ground_truth(test,index,'next activity')\n",
    "    \n",
    "    def next_resource_prediction(self,test,index=2): return self._return_ground_truth(test,index,'next resource')\n",
    "  \n",
    "    def last_resource_prediction(self,test,index=2): return self._return_ground_truth(test,index,'last resource')\n",
    "    \n",
    "    def outcome_prediction(self,test,index=2):  return self._return_ground_truth(test,index,'outcome')\n",
    "    \n",
    "    def duration_to_next_event_prediction(self,test,index=2): return self._return_ground_truth(test,index,'duration to next event')\n",
    "    \n",
    "    def duration_to_end_prediction(self,test,index=2): return self._return_ground_truth(test,index,'duration to end')\n",
    "    \n",
    "    def activity_suffix_prediction(self,test,index=2): return self._return_ground_truth(test,index,'activity suffix')\n",
    "    \n",
    "    def resource_suffix_prediction(self,test,index=2): return self._return_ground_truth(test,index,'resource suffix')"
   ]
  },
  {
   "cell_type": "code",
   "execution_count": 7,
   "metadata": {},
   "outputs": [],
   "source": [
    "def evaluate_outcome_prediction(pred,ground_truth): return flat_accuracy(pred,ground_truth)\n",
    "def flat_accuracy(pred,ground_truth):\n",
    "    x=np.array([j for i in pred.values for j in i])\n",
    "    y=np.array([j for i in ground_truth.values for j in i])\n",
    "    return float((x==y).mean()) if len(x)==len(y) else None\n",
    "\n",
    "def evaluate_next_step_prediction(pred,ground_truth): \n",
    "    #print(len(pred[0]), len(ground_truth[0]))\n",
    "    #print(pred[0], ground_truth[0])\n",
    "    return flat_accuracy(pred,ground_truth)\n",
    "def evaluate_next_resource_prediction(pred,ground_truth): \n",
    "    #print(len(pred[0]), len(ground_truth[0]))\n",
    "    #print(pred[0], ground_truth[0])\n",
    "    return flat_accuracy(pred,ground_truth)\n",
    "def evaluate_last_resource_prediction(pred,ground_truth): return flat_accuracy(pred,ground_truth)\n",
    "def dl_measure(pred,ground_truth):\n",
    "    pred=pred.values\n",
    "    ground_truth=ground_truth.values\n",
    "    scores=[]\n",
    "    if len(pred)!=len(ground_truth): return None\n",
    "    for i in range(len(pred)):\n",
    "        if len(pred[i])!=len(ground_truth[i]): return None\n",
    "        for j in range(len(pred[i])):\n",
    "            scores.append(1-normalized_damerau_levenshtein_distance(pred[i][j], ground_truth[i][j]))\n",
    "    return np.mean(scores)\n",
    "                    \n",
    "def evaluate_activity_suffix_prediction(pred,ground_truth): return 1 # dl_measure(pred,ground_truth)\n",
    "def evaluate_resource_suffix_prediction(pred,ground_truth): return 1 # dl_measure(pred,ground_truth)\n",
    "\n",
    "def mse(output, targ): \n",
    "    if not torch.is_tensor(output): output=tensor(output)\n",
    "    if not torch.is_tensor(targ): targ=tensor(targ)\n",
    "    return (output.squeeze(-1) - targ).pow(2).mean()\n",
    "\n",
    "def flat_mse(pred,ground_truth):\n",
    "    x=np.array([j for i in pred.values for j in i])\n",
    "    y=np.array([j for i in ground_truth.values for j in i])    \n",
    "    return float(mse(x,y)) if len(x)==len(y) else None\n",
    "\n",
    "def evaluate_duration_to_next_event_prediction(pred,ground_truth): return flat_mse(pred,ground_truth)\n",
    "def evaluate_duration_to_end_prediction(pred,ground_truth): return flat_mse(pred,ground_truth)"
   ]
  },
  {
   "cell_type": "code",
   "execution_count": 8,
   "metadata": {},
   "outputs": [
    {
     "name": "stdout",
     "output_type": "stream",
     "text": [
      "Converted 002_PPP_PerfectModel.ipynb to exp/PerfectModel.py\r\n"
     ]
    }
   ],
   "source": [
    "! /home/lahann/anaconda3/envs/fastpm/bin/python notebook2script.py 002_PPP_PerfectModel.ipynb"
   ]
  },
  {
   "cell_type": "code",
   "execution_count": null,
   "metadata": {},
   "outputs": [],
   "source": []
  }
 ],
 "metadata": {
  "kernelspec": {
   "display_name": "fastpm2",
   "language": "python",
   "name": "fastpm2"
  },
  "language_info": {
   "codemirror_mode": {
    "name": "ipython",
    "version": 3
   },
   "file_extension": ".py",
   "mimetype": "text/x-python",
   "name": "python",
   "nbconvert_exporter": "python",
   "pygments_lexer": "ipython3",
   "version": "3.7.4"
  },
  "varInspector": {
   "cols": {
    "lenName": 16,
    "lenType": 16,
    "lenVar": 40
   },
   "kernels_config": {
    "python": {
     "delete_cmd_postfix": "",
     "delete_cmd_prefix": "del ",
     "library": "var_list.py",
     "varRefreshCmd": "print(var_dic_list())"
    },
    "r": {
     "delete_cmd_postfix": ") ",
     "delete_cmd_prefix": "rm(",
     "library": "var_list.r",
     "varRefreshCmd": "cat(var_dic_list()) "
    }
   },
   "types_to_exclude": [
    "module",
    "function",
    "builtin_function_or_method",
    "instance",
    "_Feature"
   ],
   "window_display": false
  }
 },
 "nbformat": 4,
 "nbformat_minor": 2
}
