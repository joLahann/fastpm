{
 "cells": [
  {
   "cell_type": "code",
   "execution_count": 1,
   "metadata": {},
   "outputs": [],
   "source": [
    "%load_ext autoreload\n",
    "%autoreload 2\n",
    "\n",
    "%matplotlib inline"
   ]
  },
  {
   "cell_type": "code",
   "execution_count": 2,
   "metadata": {},
   "outputs": [],
   "source": [
    "#export\n",
    "from exp.imports import *"
   ]
  },
  {
   "cell_type": "markdown",
   "metadata": {},
   "source": [
    "# Urls\n"
   ]
  },
  {
   "cell_type": "code",
   "execution_count": 3,
   "metadata": {},
   "outputs": [],
   "source": [
    "#export\n",
    "URL ='https://cloud.dfki.de/owncloud/index.php/s/FC2s2j23dHrPWxY'\n",
    "LOCAL_PATH = Path.cwd()"
   ]
  },
  {
   "cell_type": "code",
   "execution_count": 4,
   "metadata": {},
   "outputs": [],
   "source": [
    "#export\n",
    "\n",
    "class URLs():\n",
    "    \"Global constants for dataset URLs.\"\n",
    "    LOCAL_PATH = Path.cwd()\n",
    "    BASE ='https://cloud.dfki.de/owncloud/index.php/s/FC2s2j23dHrPWxY/'\n",
    "    LOG=f\"{BASE}download?path=%2Fevent_logs&files=\"\n",
    "\n",
    "    \n",
    "    # BPI Challenges\n",
    "    BPIC_2012  = f'{LOG}BPI_Challenge_2012.xes.gz'\n",
    "    \n",
    "    BPIC_2013_closed_problems  = f'{LOG}BPI_Challenge_2013_closed_problems.xes.gz'\n",
    "    BPIC_2013_open_problems = f'{LOG}BPI_Challenge_2013_open_problems.xes.gz'\n",
    "    BPIC_2013_incidents = f'{LOG}BPI_Challenge_2013_incidents.xes.gz'\n",
    "   \n",
    "    BPIC_2014_incidents_activity_log = f'{LOG}BPI_Challenge_2014_Detail_Incident_Activity.csv.gz'\n",
    "    BPIC_2014_change_details = f'{LOG}BPI_Challenge_2014_Detail_Change.csv.gz'\n",
    "    BPIC_2014_incident_details = f'{LOG}BPI_Challenge_2014_Detail_Incident.csv.gz'\n",
    "    BPIC_2014_interaction_details = f'{LOG}BPI_Challenge_2014_Detail_Interaction.csv.gz'\n",
    "   \n",
    "    BPIC_2015_Municipality_1 = f'{LOG}BPIC15_1.xes.gz'\n",
    "    BPIC_2015_Municipality_2 = f'{LOG}BPIC15_2.xes.gz'\n",
    "    BPIC_2015_Municipality_3 = f'{LOG}BPIC15_3.xes.gz'\n",
    "    BPIC_2015_Municipality_4 = f'{LOG}BPIC15_4.xes.gz'\n",
    "    BPIC_2015_Municipality_5 = f'{LOG}BPIC15_5.xes.gz'\n",
    "    \n",
    "    BPIC_2016_Clicks_Logged_in = f'{LOG}BPI2016_Clicks_Logged_In.csv.gz'\n",
    "    BPIC_2016_Clicks_Not_Logged_in = f'{LOG}BPI2016_Clicks_NOT_Logged_In.csv.gz'\n",
    "    BPIC_2016_Complaints = f'{LOG}BPI2016_Complaints.csv.gz'\n",
    "    BPIC_2016_Questions = f'{LOG}BPI2016_Questions.csv.gz'\n",
    "    BPIC_2016_Werkmap_Messages = f'{LOG}BPI2016_Werkmap_Messages.csv.gz'\n",
    "   \n",
    "    BPIC_2017 = f'{LOG}BPI Challenge 2017.xes.gz'\n",
    "    BPIC_2017_offer_log = f'{LOG}BPI Challenge 2017_offer_log.xes.gz'\n",
    "    BPIC_2018 = f'{LOG}BPI Challenge 2018.xes.gz'\n",
    "    BPIC_2019 = f'{LOG}BPI_Challenge_2019.xes.gz'\n",
    "    \n",
    "    \n",
    "    # Process Discovery Contest\n",
    "    PDC_2016_Training = 'https://www.win.tue.nl/ieeetfpm/lib/exe/fetch.php?media=shared:downloads:contest_dataset.zip'\n",
    "    PDC_2016_Test = 'https://www.win.tue.nl/ieeetfpm/lib/exe/fetch.php?media=shared:contest_testeventlog.zip'\n",
    "    PDC_2016_Models = 'https://www.win.tue.nl/ieeetfpm/lib/exe/fetch.php?media=shared:contest_models.zip'\n",
    "    \n",
    "    \n",
    "    PDC_2017_Training = 'https://www.win.tue.nl/ieeetfpm/lib/exe/fetch.php?media=shared:dc_traning_logs_2017.zip'\n",
    "    PDC_2017_Test =  'https://www.win.tue.nl/ieeetfpm/lib/exe/fetch.php?media=shared:test_log_contest_2017.zip'\n",
    "    PDC_2017_Models = 'https://www.win.tue.nl/ieeetfpm/lib/exe/fetch.php?media=shared:models_contest_2017.zip'\n",
    "    \n",
    "    \n",
    "    \n",
    "    PDC_2019_Training = 'http://icpmconference.org/2019/wp-content/uploads/sites/6/2019/01/PDCtrainingLogs.zip'\n",
    "    PDC_2019_Test1 = 'http://icpmconference.org/2019/wp-content/uploads/sites/6/2019/04/logFebruary.zip'\n",
    "    PDC_2019_Test2 = 'http://icpmconference.org/2019/wp-content/uploads/sites/6/2019/04/log-15March.zip'\n",
    "    "
   ]
  },
  {
   "cell_type": "markdown",
   "metadata": {},
   "source": [
    "## Config Class"
   ]
  },
  {
   "cell_type": "code",
   "execution_count": 10,
   "metadata": {},
   "outputs": [],
   "source": [
    "#export\n",
    "def _expand_path(fpath): return Path(fpath).expanduser()\n",
    "\n",
    "class Config():\n",
    "    \"Creates a default config file 'config.yml' in $FASTPM HOME (default `~/.fastpm/`)\"\n",
    "    DEFAULT_CONFIG_LOCATION = os.path.expanduser(os.getenv('FASTPM_HOME', '~/.fastpm'))\n",
    "    DEFAULT_CONFIG_PATH = DEFAULT_CONFIG_LOCATION + '/config.yml'\n",
    "    DEFAULT_CONFIG = {\n",
    "        'data_path': DEFAULT_CONFIG_LOCATION + '/data'\n",
    "    }\n",
    "    \n",
    "    @classmethod\n",
    "    def get_key(cls, key):\n",
    "        cf=cls.get()\n",
    "        \"Get the path to `key` in the config file.\"\n",
    "        return cf.get(key, cls.DEFAULT_CONFIG.get(key,None))\n",
    "\n",
    "    @classmethod\n",
    "    def get_path(cls, path):\n",
    "        \"Get the `path` in the config file.\"\n",
    "        return _expand_path(cls.get_key(path))\n",
    "\n",
    "    @classmethod\n",
    "    def data_path(cls):\n",
    "        \"Get the path to data in the config file.\"\n",
    "        return cls.get_path('data_path')\n",
    "\n",
    "    @classmethod\n",
    "    def data_archive_path(cls):\n",
    "        \"Get the path to data archives in the config file.\"\n",
    "        return cls.get_path('data_archive_path')\n",
    "\n",
    "\n",
    "    @classmethod\n",
    "    def get(cls, fpath=None, create_missing=True):\n",
    "        \"Retrieve the `Config` in `fpath`.\"\n",
    "        fpath = _expand_path(fpath or cls.DEFAULT_CONFIG_PATH)\n",
    "        if not fpath.exists() and create_missing: cls.create(fpath)\n",
    "        assert fpath.exists(), f'Could not find config at: {fpath}. Please create'\n",
    "        with open(fpath, 'r') as yaml_file:\n",
    "            yfile=yaml.safe_load(yaml_file)\n",
    "            return yfile\n",
    "\n",
    "    @classmethod\n",
    "    def create(cls, fpath):\n",
    "        \"Creates a `Config` from `fpath`.\"\n",
    "        fpath = _expand_path(fpath)\n",
    "        assert(fpath.suffix == '.yml')\n",
    "        if fpath.exists(): return\n",
    "        fpath.parent.mkdir(parents=True, exist_ok=True)\n",
    "        with open(fpath, 'w') as yaml_file:\n",
    "            yaml.dump(cls.DEFAULT_CONFIG, yaml_file, default_flow_style=False)\n"
   ]
  },
  {
   "cell_type": "markdown",
   "metadata": {},
   "source": [
    "# Store Data sets on Disc"
   ]
  },
  {
   "cell_type": "code",
   "execution_count": 11,
   "metadata": {},
   "outputs": [],
   "source": [
    "#export\n",
    "def download_url(url:str, dest:str, fname:str=None, overwrite:bool=False, pbar:ProgressBar=None,\n",
    "                 show_progress=True, chunk_size=1024*1024, timeout=4, retries=5)->None:\n",
    "    \"Download `url` to `dest` unless it exists and not `overwrite`.\"\n",
    "    if os.path.exists(dest) and not overwrite: return\n",
    "\n",
    "    s = requests.Session()\n",
    "    s.mount('http://',requests.adapters.HTTPAdapter(max_retries=retries))\n",
    "    u = s.get(url, stream=True, timeout=timeout)\n",
    "    try: \n",
    "        file_size = int(u.headers[\"Content-Length\"])\n",
    "    except: show_progress = False\n",
    "    \n",
    "    with open(dest, 'wb') as f:\n",
    "        nbytes = 0\n",
    "        if show_progress: pbar = progress_bar(range(file_size), auto_update=False, leave=False, parent=pbar)\n",
    "        try:\n",
    "            for chunk in u.iter_content(chunk_size=chunk_size):\n",
    "                nbytes += len(chunk)\n",
    "                if show_progress: pbar.update(nbytes)\n",
    "                f.write(chunk)\n",
    "        except requests.exceptions.ConnectionError as e:\n",
    "            fname = url.split('/')[-1]\n",
    "            from fastai.datasets import Config\n",
    "            data_dir = Config().data_path()\n",
    "            timeout_txt =(f'\\n Download of {url} has failed after {retries} retries\\n'\n",
    "                          f' Fix the download manually:\\n'\n",
    "                          f'$ mkdir -p {data_dir}\\n'\n",
    "                          f'$ cd {data_dir}\\n'\n",
    "                          f'$ wget -c {url}\\n'\n",
    "                          f'$ tar -zxvf {fname}\\n\\n'\n",
    "                          f'And re-run your code once the download is successful\\n')\n",
    "            print(timeout_txt)\n",
    "            import sys;sys.exit(1)\n"
   ]
  },
  {
   "cell_type": "code",
   "execution_count": 12,
   "metadata": {},
   "outputs": [],
   "source": [
    "#export\n",
    "def url2name(url):\n",
    "    fname = url.split(\"/\")[-1].split(\"=\")[-1]\n",
    "    return fname\n",
    "\n",
    "def url2folder(url):\n",
    "    fname = url.split(\"path=%2F\")[-1].split(\"&\")[0]\n",
    "    return fname\n",
    "\n",
    "def url2path(url):\n",
    "    \"Change `url` to a path.\"\n",
    "    name = url2name(url)\n",
    "    folder=url2folder(url)\n",
    "    return datapath4file(name,folder) \n",
    "\n",
    "\n",
    "def datapath4file(filename,folder):\n",
    "    \"Return data path to `filename`, checking locally first then in the config file.\"\n",
    "    local_path = URLs.LOCAL_PATH/folder\n",
    "    if local_path.exists(): return local_path/filename\n",
    "    else: return Config.data_path()/folder/filename\n",
    "\n",
    "def download_data(url:str, fname:PathOrStr=None) -> Path:\n",
    "    \"Download `url` to destination `fname`.\"\n",
    "    fname = Path(ifnone(fname, url2path(url)))\n",
    "    os.makedirs(fname.parent, exist_ok=True)\n",
    "    if not fname.exists():\n",
    "        print(f'Downloading {url}')\n",
    "        download_url(url, fname)\n",
    "    return fname\n",
    "\n"
   ]
  },
  {
   "cell_type": "code",
   "execution_count": 13,
   "metadata": {},
   "outputs": [
    {
     "data": {
      "text/plain": [
       "PosixPath('/home/lahann/.fastpm/data/event_logs/BPI_Challenge_2012.xes.gz')"
      ]
     },
     "execution_count": 13,
     "metadata": {},
     "output_type": "execute_result"
    }
   ],
   "source": [
    "url2path(URLs.BPIC_2012)"
   ]
  },
  {
   "cell_type": "code",
   "execution_count": 14,
   "metadata": {},
   "outputs": [
    {
     "data": {
      "text/plain": [
       "PosixPath('/home/lahann/.fastpm/data/event_logs/BPI_Challenge_2012.xes.gz')"
      ]
     },
     "execution_count": 14,
     "metadata": {},
     "output_type": "execute_result"
    }
   ],
   "source": [
    "download_data(URLs.BPIC_2012)"
   ]
  },
  {
   "cell_type": "code",
   "execution_count": 15,
   "metadata": {},
   "outputs": [
    {
     "data": {
      "text/plain": [
       "PosixPath('/home/lahann/.fastpm/data/event_logs/BPI_Challenge_2013_closed_problems.xes.gz')"
      ]
     },
     "execution_count": 15,
     "metadata": {},
     "output_type": "execute_result"
    }
   ],
   "source": [
    "download_data(URLs.BPIC_2013_closed_problems)"
   ]
  },
  {
   "cell_type": "code",
   "execution_count": 16,
   "metadata": {},
   "outputs": [
    {
     "data": {
      "text/plain": [
       "PosixPath('/home/lahann/.fastpm/data/event_logs/BPI_Challenge_2013_incidents.xes.gz')"
      ]
     },
     "execution_count": 16,
     "metadata": {},
     "output_type": "execute_result"
    }
   ],
   "source": [
    "download_data(URLs.BPIC_2013_incidents)"
   ]
  },
  {
   "cell_type": "code",
   "execution_count": 17,
   "metadata": {},
   "outputs": [
    {
     "data": {
      "text/plain": [
       "PosixPath('/home/lahann/.fastpm/data/event_logs/BPI_Challenge_2013_open_problems.xes.gz')"
      ]
     },
     "execution_count": 17,
     "metadata": {},
     "output_type": "execute_result"
    }
   ],
   "source": [
    "download_data(URLs.BPIC_2013_open_problems)"
   ]
  },
  {
   "cell_type": "code",
   "execution_count": 18,
   "metadata": {},
   "outputs": [
    {
     "data": {
      "text/plain": [
       "PosixPath('/home/lahann/.fastpm/data/event_logs/BPI_Challenge_2014_Detail_Change.csv.gz')"
      ]
     },
     "execution_count": 18,
     "metadata": {},
     "output_type": "execute_result"
    }
   ],
   "source": [
    "download_data(URLs.BPIC_2014_change_details)"
   ]
  },
  {
   "cell_type": "code",
   "execution_count": 19,
   "metadata": {},
   "outputs": [
    {
     "data": {
      "text/plain": [
       "PosixPath('/home/lahann/.fastpm/data/event_logs/BPI_Challenge_2014_Detail_Incident.csv.gz')"
      ]
     },
     "execution_count": 19,
     "metadata": {},
     "output_type": "execute_result"
    }
   ],
   "source": [
    "download_data(URLs.BPIC_2014_incident_details)"
   ]
  },
  {
   "cell_type": "code",
   "execution_count": 20,
   "metadata": {},
   "outputs": [
    {
     "data": {
      "text/plain": [
       "PosixPath('/home/lahann/.fastpm/data/event_logs/BPI_Challenge_2014_Detail_Incident_Activity.csv.gz')"
      ]
     },
     "execution_count": 20,
     "metadata": {},
     "output_type": "execute_result"
    }
   ],
   "source": [
    "download_data(URLs.BPIC_2014_incidents_activity_log)"
   ]
  },
  {
   "cell_type": "code",
   "execution_count": 21,
   "metadata": {},
   "outputs": [
    {
     "data": {
      "text/plain": [
       "PosixPath('/home/lahann/.fastpm/data/event_logs/BPI_Challenge_2014_Detail_Interaction.csv.gz')"
      ]
     },
     "execution_count": 21,
     "metadata": {},
     "output_type": "execute_result"
    }
   ],
   "source": [
    "download_data(URLs.BPIC_2014_interaction_details)"
   ]
  },
  {
   "cell_type": "code",
   "execution_count": 22,
   "metadata": {},
   "outputs": [
    {
     "data": {
      "text/plain": [
       "PosixPath('/home/lahann/.fastpm/data/event_logs/BPIC15_1.xes.gz')"
      ]
     },
     "execution_count": 22,
     "metadata": {},
     "output_type": "execute_result"
    }
   ],
   "source": [
    "download_data(URLs.BPIC_2015_Municipality_1)"
   ]
  },
  {
   "cell_type": "code",
   "execution_count": 23,
   "metadata": {},
   "outputs": [
    {
     "data": {
      "text/plain": [
       "PosixPath('/home/lahann/.fastpm/data/event_logs/BPIC15_2.xes.gz')"
      ]
     },
     "execution_count": 23,
     "metadata": {},
     "output_type": "execute_result"
    }
   ],
   "source": [
    "download_data(URLs.BPIC_2015_Municipality_2)"
   ]
  },
  {
   "cell_type": "code",
   "execution_count": 24,
   "metadata": {},
   "outputs": [
    {
     "data": {
      "text/plain": [
       "PosixPath('/home/lahann/.fastpm/data/event_logs/BPIC15_3.xes.gz')"
      ]
     },
     "execution_count": 24,
     "metadata": {},
     "output_type": "execute_result"
    }
   ],
   "source": [
    "download_data(URLs.BPIC_2015_Municipality_3)"
   ]
  },
  {
   "cell_type": "code",
   "execution_count": 25,
   "metadata": {},
   "outputs": [
    {
     "data": {
      "text/plain": [
       "PosixPath('/home/lahann/.fastpm/data/event_logs/BPIC15_4.xes.gz')"
      ]
     },
     "execution_count": 25,
     "metadata": {},
     "output_type": "execute_result"
    }
   ],
   "source": [
    "download_data(URLs.BPIC_2015_Municipality_4)"
   ]
  },
  {
   "cell_type": "code",
   "execution_count": 26,
   "metadata": {},
   "outputs": [
    {
     "data": {
      "text/plain": [
       "PosixPath('/home/lahann/.fastpm/data/event_logs/BPIC15_5.xes.gz')"
      ]
     },
     "execution_count": 26,
     "metadata": {},
     "output_type": "execute_result"
    }
   ],
   "source": [
    "download_data(URLs.BPIC_2015_Municipality_5)"
   ]
  },
  {
   "cell_type": "code",
   "execution_count": 27,
   "metadata": {},
   "outputs": [
    {
     "data": {
      "text/plain": [
       "PosixPath('/home/lahann/.fastpm/data/event_logs/BPI2016_Clicks_Logged_In.csv.gz')"
      ]
     },
     "execution_count": 27,
     "metadata": {},
     "output_type": "execute_result"
    }
   ],
   "source": [
    "download_data(URLs.BPIC_2016_Clicks_Logged_in)"
   ]
  },
  {
   "cell_type": "code",
   "execution_count": 28,
   "metadata": {},
   "outputs": [
    {
     "data": {
      "text/plain": [
       "PosixPath('/home/lahann/.fastpm/data/event_logs/BPI2016_Clicks_NOT_Logged_In.csv.gz')"
      ]
     },
     "execution_count": 28,
     "metadata": {},
     "output_type": "execute_result"
    }
   ],
   "source": [
    "download_data(URLs.BPIC_2016_Clicks_Not_Logged_in)"
   ]
  },
  {
   "cell_type": "code",
   "execution_count": 29,
   "metadata": {},
   "outputs": [
    {
     "data": {
      "text/plain": [
       "PosixPath('/home/lahann/.fastpm/data/event_logs/BPI2016_Complaints.csv.gz')"
      ]
     },
     "execution_count": 29,
     "metadata": {},
     "output_type": "execute_result"
    }
   ],
   "source": [
    "download_data(URLs.BPIC_2016_Complaints)"
   ]
  },
  {
   "cell_type": "code",
   "execution_count": 30,
   "metadata": {},
   "outputs": [
    {
     "data": {
      "text/plain": [
       "PosixPath('/home/lahann/.fastpm/data/event_logs/BPI2016_Questions.csv.gz')"
      ]
     },
     "execution_count": 30,
     "metadata": {},
     "output_type": "execute_result"
    }
   ],
   "source": [
    "download_data(URLs.BPIC_2016_Questions)"
   ]
  },
  {
   "cell_type": "code",
   "execution_count": 31,
   "metadata": {},
   "outputs": [
    {
     "data": {
      "text/plain": [
       "PosixPath('/home/lahann/.fastpm/data/event_logs/BPI2016_Werkmap_Messages.csv.gz')"
      ]
     },
     "execution_count": 31,
     "metadata": {},
     "output_type": "execute_result"
    }
   ],
   "source": [
    "download_data(URLs.BPIC_2016_Werkmap_Messages)"
   ]
  },
  {
   "cell_type": "code",
   "execution_count": 32,
   "metadata": {},
   "outputs": [
    {
     "data": {
      "text/plain": [
       "PosixPath('/home/lahann/.fastpm/data/event_logs/BPI Challenge 2017.xes.gz')"
      ]
     },
     "execution_count": 32,
     "metadata": {},
     "output_type": "execute_result"
    }
   ],
   "source": [
    "download_data(URLs.BPIC_2017)"
   ]
  },
  {
   "cell_type": "code",
   "execution_count": 33,
   "metadata": {},
   "outputs": [
    {
     "data": {
      "text/plain": [
       "PosixPath('/home/lahann/.fastpm/data/event_logs/BPI Challenge 2017_offer_log.xes.gz')"
      ]
     },
     "execution_count": 33,
     "metadata": {},
     "output_type": "execute_result"
    }
   ],
   "source": [
    "download_data(URLs.BPIC_2017_offer_log)"
   ]
  },
  {
   "cell_type": "code",
   "execution_count": 34,
   "metadata": {},
   "outputs": [
    {
     "data": {
      "text/plain": [
       "PosixPath('/home/lahann/.fastpm/data/event_logs/BPI Challenge 2018.xes.gz')"
      ]
     },
     "execution_count": 34,
     "metadata": {},
     "output_type": "execute_result"
    }
   ],
   "source": [
    "download_data(URLs.BPIC_2018)"
   ]
  },
  {
   "cell_type": "code",
   "execution_count": 35,
   "metadata": {},
   "outputs": [
    {
     "data": {
      "text/plain": [
       "PosixPath('/home/lahann/.fastpm/data/event_logs/BPI_Challenge_2019.xes.gz')"
      ]
     },
     "execution_count": 35,
     "metadata": {},
     "output_type": "execute_result"
    }
   ],
   "source": [
    "download_data(URLs.BPIC_2019)"
   ]
  },
  {
   "cell_type": "markdown",
   "metadata": {},
   "source": [
    "# Untar multiple formats"
   ]
  },
  {
   "cell_type": "code",
   "execution_count": 36,
   "metadata": {},
   "outputs": [],
   "source": [
    "#export\n",
    "\n",
    "def unzip(path):\n",
    "    newpath=path.parent\n",
    "    if not newpath.exists():\n",
    "        print('unzip ...')\n",
    "        with zipfile.ZipFile(path, 'r') as zip_ref:\n",
    "            zip_ref.extractall(path.parent)\n",
    "    return newpath\n",
    "\n",
    "def gunzip(path):\n",
    "    newpath=path.parent/path.stem\n",
    "    if not newpath.exists():\n",
    "        print('gunzip ...')\n",
    "        with gzip.open(path, 'rb') as f_in:\n",
    "            with open(newpath, 'wb') as f_out:\n",
    "                shutil.copyfileobj(f_in, f_out)\n",
    "    return newpath\n",
    "\n",
    "_sup_compressions = {\n",
    "    '.zip': unzip,\n",
    "    '.gz': gunzip,\n",
    "}\n",
    "def untar_data(url:str, fname:PathOrStr=None) -> Path:\n",
    "    path=download_data(url,fname)\n",
    "    extract = _sup_compressions.get(path.suffix, False)\n",
    "    if not extract: \n",
    "        print('not supported compression format')\n",
    "        return path\n",
    "    return extract(path)\n"
   ]
  },
  {
   "cell_type": "code",
   "execution_count": 37,
   "metadata": {},
   "outputs": [
    {
     "data": {
      "text/plain": [
       "PosixPath('/home/lahann/.fastpm/data/event_logs/BPI_Challenge_2012.xes')"
      ]
     },
     "execution_count": 37,
     "metadata": {},
     "output_type": "execute_result"
    }
   ],
   "source": [
    "untar_data(URLs.BPIC_2012)"
   ]
  },
  {
   "cell_type": "code",
   "execution_count": 38,
   "metadata": {},
   "outputs": [
    {
     "data": {
      "text/plain": [
       "PosixPath('/home/lahann/.fastpm/data/event_logs/BPI_Challenge_2013_closed_problems.xes')"
      ]
     },
     "execution_count": 38,
     "metadata": {},
     "output_type": "execute_result"
    }
   ],
   "source": [
    "untar_data(URLs.BPIC_2013_closed_problems)"
   ]
  },
  {
   "cell_type": "code",
   "execution_count": 39,
   "metadata": {},
   "outputs": [
    {
     "data": {
      "text/plain": [
       "PosixPath('/home/lahann/.fastpm/data/event_logs/BPI_Challenge_2013_incidents.xes')"
      ]
     },
     "execution_count": 39,
     "metadata": {},
     "output_type": "execute_result"
    }
   ],
   "source": [
    "untar_data(URLs.BPIC_2013_incidents)"
   ]
  },
  {
   "cell_type": "code",
   "execution_count": 40,
   "metadata": {},
   "outputs": [
    {
     "data": {
      "text/plain": [
       "PosixPath('/home/lahann/.fastpm/data/event_logs/BPI_Challenge_2013_open_problems.xes')"
      ]
     },
     "execution_count": 40,
     "metadata": {},
     "output_type": "execute_result"
    }
   ],
   "source": [
    "untar_data(URLs.BPIC_2013_open_problems)"
   ]
  },
  {
   "cell_type": "code",
   "execution_count": 41,
   "metadata": {},
   "outputs": [
    {
     "data": {
      "text/plain": [
       "PosixPath('/home/lahann/.fastpm/data/event_logs/BPI_Challenge_2014_Detail_Change.csv')"
      ]
     },
     "execution_count": 41,
     "metadata": {},
     "output_type": "execute_result"
    }
   ],
   "source": [
    "untar_data(URLs.BPIC_2014_change_details)"
   ]
  },
  {
   "cell_type": "code",
   "execution_count": 42,
   "metadata": {},
   "outputs": [
    {
     "data": {
      "text/plain": [
       "PosixPath('/home/lahann/.fastpm/data/event_logs/BPI_Challenge_2014_Detail_Incident.csv')"
      ]
     },
     "execution_count": 42,
     "metadata": {},
     "output_type": "execute_result"
    }
   ],
   "source": [
    "untar_data(URLs.BPIC_2014_incident_details)"
   ]
  },
  {
   "cell_type": "code",
   "execution_count": 43,
   "metadata": {},
   "outputs": [
    {
     "data": {
      "text/plain": [
       "PosixPath('/home/lahann/.fastpm/data/event_logs/BPI_Challenge_2014_Detail_Incident_Activity.csv')"
      ]
     },
     "execution_count": 43,
     "metadata": {},
     "output_type": "execute_result"
    }
   ],
   "source": [
    "untar_data(URLs.BPIC_2014_incidents_activity_log)"
   ]
  },
  {
   "cell_type": "code",
   "execution_count": 44,
   "metadata": {},
   "outputs": [
    {
     "data": {
      "text/plain": [
       "PosixPath('/home/lahann/.fastpm/data/event_logs/BPI_Challenge_2014_Detail_Interaction.csv')"
      ]
     },
     "execution_count": 44,
     "metadata": {},
     "output_type": "execute_result"
    }
   ],
   "source": [
    "untar_data(URLs.BPIC_2014_interaction_details)"
   ]
  },
  {
   "cell_type": "code",
   "execution_count": 45,
   "metadata": {},
   "outputs": [
    {
     "data": {
      "text/plain": [
       "PosixPath('/home/lahann/.fastpm/data/event_logs/BPIC15_1.xes')"
      ]
     },
     "execution_count": 45,
     "metadata": {},
     "output_type": "execute_result"
    }
   ],
   "source": [
    "untar_data(URLs.BPIC_2015_Municipality_1)"
   ]
  },
  {
   "cell_type": "code",
   "execution_count": 46,
   "metadata": {},
   "outputs": [
    {
     "data": {
      "text/plain": [
       "PosixPath('/home/lahann/.fastpm/data/event_logs/BPIC15_2.xes')"
      ]
     },
     "execution_count": 46,
     "metadata": {},
     "output_type": "execute_result"
    }
   ],
   "source": [
    "untar_data(URLs.BPIC_2015_Municipality_2)"
   ]
  },
  {
   "cell_type": "code",
   "execution_count": 47,
   "metadata": {},
   "outputs": [
    {
     "data": {
      "text/plain": [
       "PosixPath('/home/lahann/.fastpm/data/event_logs/BPIC15_3.xes')"
      ]
     },
     "execution_count": 47,
     "metadata": {},
     "output_type": "execute_result"
    }
   ],
   "source": [
    "untar_data(URLs.BPIC_2015_Municipality_3)"
   ]
  },
  {
   "cell_type": "code",
   "execution_count": 48,
   "metadata": {},
   "outputs": [
    {
     "data": {
      "text/plain": [
       "PosixPath('/home/lahann/.fastpm/data/event_logs/BPIC15_4.xes')"
      ]
     },
     "execution_count": 48,
     "metadata": {},
     "output_type": "execute_result"
    }
   ],
   "source": [
    "untar_data(URLs.BPIC_2015_Municipality_4)"
   ]
  },
  {
   "cell_type": "code",
   "execution_count": 49,
   "metadata": {},
   "outputs": [
    {
     "data": {
      "text/plain": [
       "PosixPath('/home/lahann/.fastpm/data/event_logs/BPIC15_5.xes')"
      ]
     },
     "execution_count": 49,
     "metadata": {},
     "output_type": "execute_result"
    }
   ],
   "source": [
    "untar_data(URLs.BPIC_2015_Municipality_5)"
   ]
  },
  {
   "cell_type": "code",
   "execution_count": 50,
   "metadata": {},
   "outputs": [
    {
     "data": {
      "text/plain": [
       "PosixPath('/home/lahann/.fastpm/data/event_logs/BPI2016_Clicks_Logged_In.csv')"
      ]
     },
     "execution_count": 50,
     "metadata": {},
     "output_type": "execute_result"
    }
   ],
   "source": [
    "untar_data(URLs.BPIC_2016_Clicks_Logged_in)"
   ]
  },
  {
   "cell_type": "code",
   "execution_count": 51,
   "metadata": {},
   "outputs": [
    {
     "data": {
      "text/plain": [
       "PosixPath('/home/lahann/.fastpm/data/event_logs/BPI2016_Clicks_NOT_Logged_In.csv')"
      ]
     },
     "execution_count": 51,
     "metadata": {},
     "output_type": "execute_result"
    }
   ],
   "source": [
    "untar_data(URLs.BPIC_2016_Clicks_Not_Logged_in)"
   ]
  },
  {
   "cell_type": "code",
   "execution_count": 52,
   "metadata": {},
   "outputs": [
    {
     "data": {
      "text/plain": [
       "PosixPath('/home/lahann/.fastpm/data/event_logs/BPI2016_Complaints.csv')"
      ]
     },
     "execution_count": 52,
     "metadata": {},
     "output_type": "execute_result"
    }
   ],
   "source": [
    "untar_data(URLs.BPIC_2016_Complaints)"
   ]
  },
  {
   "cell_type": "code",
   "execution_count": 53,
   "metadata": {},
   "outputs": [
    {
     "data": {
      "text/plain": [
       "PosixPath('/home/lahann/.fastpm/data/event_logs/BPI2016_Questions.csv')"
      ]
     },
     "execution_count": 53,
     "metadata": {},
     "output_type": "execute_result"
    }
   ],
   "source": [
    "untar_data(URLs.BPIC_2016_Questions)"
   ]
  },
  {
   "cell_type": "code",
   "execution_count": 54,
   "metadata": {},
   "outputs": [
    {
     "data": {
      "text/plain": [
       "PosixPath('/home/lahann/.fastpm/data/event_logs/BPI2016_Werkmap_Messages.csv')"
      ]
     },
     "execution_count": 54,
     "metadata": {},
     "output_type": "execute_result"
    }
   ],
   "source": [
    "untar_data(URLs.BPIC_2016_Werkmap_Messages)"
   ]
  },
  {
   "cell_type": "code",
   "execution_count": 55,
   "metadata": {},
   "outputs": [
    {
     "data": {
      "text/plain": [
       "PosixPath('/home/lahann/.fastpm/data/event_logs/BPI Challenge 2017.xes')"
      ]
     },
     "execution_count": 55,
     "metadata": {},
     "output_type": "execute_result"
    }
   ],
   "source": [
    "untar_data(URLs.BPIC_2017)"
   ]
  },
  {
   "cell_type": "code",
   "execution_count": 56,
   "metadata": {},
   "outputs": [
    {
     "data": {
      "text/plain": [
       "PosixPath('/home/lahann/.fastpm/data/event_logs/BPI Challenge 2017_offer_log.xes')"
      ]
     },
     "execution_count": 56,
     "metadata": {},
     "output_type": "execute_result"
    }
   ],
   "source": [
    "untar_data(URLs.BPIC_2017_offer_log)"
   ]
  },
  {
   "cell_type": "code",
   "execution_count": 57,
   "metadata": {},
   "outputs": [
    {
     "name": "stdout",
     "output_type": "stream",
     "text": [
      "gunzip ...\n"
     ]
    },
    {
     "data": {
      "text/plain": [
       "PosixPath('/home/lahann/.fastpm/data/event_logs/BPI Challenge 2018.xes')"
      ]
     },
     "execution_count": 57,
     "metadata": {},
     "output_type": "execute_result"
    }
   ],
   "source": [
    "untar_data(URLs.BPIC_2018)"
   ]
  },
  {
   "cell_type": "code",
   "execution_count": 58,
   "metadata": {},
   "outputs": [
    {
     "data": {
      "text/plain": [
       "PosixPath('/home/lahann/.fastpm/data/event_logs/BPI_Challenge_2019.xes')"
      ]
     },
     "execution_count": 58,
     "metadata": {},
     "output_type": "execute_result"
    }
   ],
   "source": [
    "untar_data(URLs.BPIC_2019)"
   ]
  },
  {
   "cell_type": "markdown",
   "metadata": {},
   "source": [
    "# Export"
   ]
  },
  {
   "cell_type": "code",
   "execution_count": 59,
   "metadata": {},
   "outputs": [
    {
     "name": "stdout",
     "output_type": "stream",
     "text": [
      "Converted 01_fastpm_datasets.ipynb to exp/datasets.py\r\n"
     ]
    }
   ],
   "source": [
    "! /home/lahann/anaconda3/envs/fastpm/bin/python notebook2script.py 01_fastpm_datasets.ipynb"
   ]
  },
  {
   "cell_type": "markdown",
   "metadata": {
    "heading_collapsed": true
   },
   "source": [
    "# Timeit Experiments with pandas"
   ]
  },
  {
   "cell_type": "code",
   "execution_count": null,
   "metadata": {
    "hidden": true
   },
   "outputs": [],
   "source": [
    "import pandas as pd"
   ]
  },
  {
   "cell_type": "code",
   "execution_count": null,
   "metadata": {
    "hidden": true
   },
   "outputs": [],
   "source": [
    "%%timeit -n 5\n",
    "df = pd.DataFrame(columns=[\"A\", \"B\", \"C\"]); new_row = pd.Series({\"A\": 4, \"B\": 4, \"C\": 4})\n",
    "for i in range(160):\n",
    "    df.loc[i] = new_row"
   ]
  },
  {
   "cell_type": "code",
   "execution_count": null,
   "metadata": {
    "hidden": true
   },
   "outputs": [],
   "source": [
    "%%timeit -n 5\n",
    "\n",
    "l=[]\n",
    "for i in range(160):\n",
    "    l.append([4,4,4])\n",
    "pd.DataFrame(l,columns=[\"A\", \"B\", \"C\"]);"
   ]
  },
  {
   "cell_type": "code",
   "execution_count": null,
   "metadata": {
    "hidden": true
   },
   "outputs": [],
   "source": [
    "%%timeit -n 5\n",
    "\n",
    "df = pd.DataFrame(columns=[\"A\", \"B\", \"C\"]); new_row = pd.Series({\"A\": 4, \"B\": 4, \"C\": 4})\n",
    "for i in range(160):\n",
    "    df = df.append(new_row, ignore_index=True)\n",
    "\n",
    "# 6.59 s ± 53.3 ms per loop (mean ± std. dev. of 7 runs, 1 loop each)\n"
   ]
  },
  {
   "cell_type": "code",
   "execution_count": null,
   "metadata": {
    "hidden": true
   },
   "outputs": [],
   "source": []
  }
 ],
 "metadata": {
  "kernelspec": {
   "display_name": "fastpm2",
   "language": "python",
   "name": "fastpm2"
  },
  "language_info": {
   "codemirror_mode": {
    "name": "ipython",
    "version": 3
   },
   "file_extension": ".py",
   "mimetype": "text/x-python",
   "name": "python",
   "nbconvert_exporter": "python",
   "pygments_lexer": "ipython3",
   "version": "3.7.4"
  },
  "varInspector": {
   "cols": {
    "lenName": 16,
    "lenType": 16,
    "lenVar": 40
   },
   "kernels_config": {
    "python": {
     "delete_cmd_postfix": "",
     "delete_cmd_prefix": "del ",
     "library": "var_list.py",
     "varRefreshCmd": "print(var_dic_list())"
    },
    "r": {
     "delete_cmd_postfix": ") ",
     "delete_cmd_prefix": "rm(",
     "library": "var_list.r",
     "varRefreshCmd": "cat(var_dic_list()) "
    }
   },
   "types_to_exclude": [
    "module",
    "function",
    "builtin_function_or_method",
    "instance",
    "_Feature"
   ],
   "window_display": false
  }
 },
 "nbformat": 4,
 "nbformat_minor": 2
}
