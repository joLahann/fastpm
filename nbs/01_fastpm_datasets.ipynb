{
 "cells": [
  {
   "cell_type": "code",
   "execution_count": 1,
   "metadata": {},
   "outputs": [],
   "source": [
    "%load_ext autoreload\n",
    "%autoreload 2\n",
    "\n",
    "%matplotlib inline"
   ]
  },
  {
   "cell_type": "code",
   "execution_count": 2,
   "metadata": {},
   "outputs": [],
   "source": [
    "#export\n",
    "from exp.imports import *"
   ]
  },
  {
   "cell_type": "code",
   "execution_count": 73,
   "metadata": {},
   "outputs": [],
   "source": [
    "#export\n",
    "from typing import Union\n",
    "from pathlib import Path\n",
    "import zipfile\n",
    "\n",
    "\n",
    "import gzip\n",
    "import shutil\n"
   ]
  },
  {
   "cell_type": "markdown",
   "metadata": {},
   "source": [
    "# Download Data sets"
   ]
  },
  {
   "cell_type": "code",
   "execution_count": 4,
   "metadata": {},
   "outputs": [],
   "source": [
    "#export\n",
    "URL ='https://data.4tu.nl/repository/'"
   ]
  },
  {
   "cell_type": "markdown",
   "metadata": {},
   "source": [
    "## URL Class"
   ]
  },
  {
   "cell_type": "code",
   "execution_count": 42,
   "metadata": {},
   "outputs": [],
   "source": [
    "#export\n",
    "\n",
    "class URLs():\n",
    "    \"Global constants for dataset URLs.\"\n",
    "    LOCAL_PATH = Path.cwd()\n",
    "\n",
    "\n",
    "    \n",
    "    # BPI Challenges\n",
    "    BPIC_2012  = f'{URL}uuid:3926db30-f712-4394-aebc-75976070e91f/DATA1'\n",
    "    \n",
    "    BPIC_2013_closed_problems  = 'https://data.4tu.nl/repository/uuid:c2c3b154-ab26-4b31-a0e8-8f2350ddac11/DATA1?download=true'\n",
    "    BPIC_2013_open_problems = 'https://data.4tu.nl/repository/uuid:3537c19d-6c64-4b1d-815d-915ab0e479da/DATA1?download=true'\n",
    "    BPIC_2013_incidents = 'https://data.4tu.nl/repository/uuid:500573e6-accc-4b0c-9576-aa5468b10cee/DATA1?download=true'\n",
    "   \n",
    "    BPIC_2014_incidents_activity_log = 'https://data.4tu.nl/repository/uuid:86977bac-f874-49cf-8337-80f26bf5d2ef/DATA?download=true'\n",
    "    BPIC_2014_change_details = 'https://data.4tu.nl/repository/uuid:d5ccb355-ca67-480f-8739-289b9b593aaf/DATA?download=true'\n",
    "    BPIC_2014_incident_details = 'https://data.4tu.nl/repository/uuid:3cfa2260-f5c5-44be-afe1-b70d35288d6d/DATA?download=true'\n",
    "    BPIC_2014_interaction_details = 'https://data.4tu.nl/repository/uuid:3d5ae0ce-198c-4b5c-b0f9-60d3035d07bf/DATA?download=true'\n",
    "   \n",
    "    BPIC_2015_Municipality_1 = 'https://data.4tu.nl/repository/uuid:a0addfda-2044-4541-a450-fdcc9fe16d17/DATA1?download=true'\n",
    "    BPIC_2015_Municipality_2 = 'https://data.4tu.nl/repository/uuid:63a8435a-077d-4ece-97cd-2c76d394d99c/DATA1?download=true'\n",
    "    BPIC_2015_Municipality_3 = 'https://data.4tu.nl/repository/uuid:ed445cdd-27d5-4d77-a1f7-59fe7360cfbe/DATA1?download=true'\n",
    "    BPIC_2015_Municipality_4 = 'https://data.4tu.nl/repository/uuid:679b11cf-47cd-459e-a6de-9ca614e25985/DATA1?download=true'\n",
    "    BPIC_2015_Municipality_5 = 'https://data.4tu.nl/repository/uuid:b32c6fe5-f212-4286-9774-58dd53511cf8/DATA1?download=true'\n",
    "    \n",
    "    BPIC_2016_Clicks_Logged_in = 'https://data.4tu.nl/repository/uuid:01345ac4-7d1d-426e-92b8-24933a079412/DATA1?download=true'\n",
    "    BPIC_2016_Clicks_Not_Logged_in = 'https://data.4tu.nl/repository/uuid:9b99a146-51b5-48df-aa70-288a76c82ec4/DATA1?download=true'\n",
    "    BPIC_2016_Complaints = 'https://data.4tu.nl/repository/uuid:e30ba0c8-0039-4835-a493-6e3aa2301d3f/DATA?download=true'\n",
    "    BPIC_2016_Questions = 'https://data.4tu.nl/repository/uuid:2b02709f-9a84-4538-a76a-eb002eacf8d1/DATA?download=true'\n",
    "    BPIC_2016_Werkmap_Messages = 'https://data.4tu.nl/repository/uuid:c3f3ba2d-e81e-4274-87c7-882fa1dbab0d/DATA?download=true'\n",
    "   \n",
    "    BPIC_2017 = 'https://data.4tu.nl/repository/uuid:5f3067df-f10b-45da-b98b-86ae4c7a310b/DATA1'\n",
    "    BPIC_2017_offer_log = 'https://data.4tu.nl/repository/uuid:7e326e7e-8b93-4701-8860-71213edf0fbe/DATA1'\n",
    "    BPIC_2018 = 'https://data.4tu.nl/repository/uuid:3301445f-95e8-4ff0-98a4-901f1f204972/DATA1'\n",
    "    BPIC_2019 = 'http://icpmconference.org/2019/wp-content/uploads/sites/6/2019/01/log_IEEE.xes_.gz'\n",
    "    \n",
    "    \n",
    "    # Process Discovery Contest\n",
    "    PDC_2016_Training = 'https://www.win.tue.nl/ieeetfpm/lib/exe/fetch.php?media=shared:downloads:contest_dataset.zip'\n",
    "    PDC_2016_Test = 'https://www.win.tue.nl/ieeetfpm/lib/exe/fetch.php?media=shared:contest_testeventlog.zip'\n",
    "    PDC_2016_Models = 'https://www.win.tue.nl/ieeetfpm/lib/exe/fetch.php?media=shared:contest_models.zip'\n",
    "    \n",
    "    \n",
    "    PDC_2017_Training = 'https://www.win.tue.nl/ieeetfpm/lib/exe/fetch.php?media=shared:dc_traning_logs_2017.zip'\n",
    "    PDC_2017_Test =  'https://www.win.tue.nl/ieeetfpm/lib/exe/fetch.php?media=shared:test_log_contest_2017.zip'\n",
    "    PDC_2017_Models = 'https://www.win.tue.nl/ieeetfpm/lib/exe/fetch.php?media=shared:models_contest_2017.zip'\n",
    "    \n",
    "    \n",
    "    \n",
    "    PDC_2019_Training = 'http://icpmconference.org/2019/wp-content/uploads/sites/6/2019/01/PDCtrainingLogs.zip'\n",
    "    PDC_2019_Test1 = 'http://icpmconference.org/2019/wp-content/uploads/sites/6/2019/04/logFebruary.zip'\n",
    "    PDC_2019_Test2 = 'http://icpmconference.org/2019/wp-content/uploads/sites/6/2019/04/log-15March.zip'\n",
    "    "
   ]
  },
  {
   "cell_type": "code",
   "execution_count": 62,
   "metadata": {},
   "outputs": [],
   "source": [
    "#export\n",
    "_filenames={\n",
    "    # BPI Challenge\n",
    "    URLs.BPIC_2012:\"BPIC_2012/BPI_Challenge_2012.xes.gz\",\n",
    "    URLs.BPIC_2013_closed_problems: \"BPIC_2013/BPI_Challenge_2013_closed_problems.xes.gz\",\n",
    "    URLs.BPIC_2013_open_problems: \"BPIC_2013/BPI_Challenge_2013_open_problems.xes.gz\",\n",
    "    URLs.BPIC_2013_incidents: \"BPIC_2013/BPI_Challenge_2013_incidents.xes.gz\",\n",
    "    URLs.BPIC_2014_incidents_activity_log: \"BPIC_2014/Detail_Incident_Activity.csv\",\n",
    "    URLs.BPIC_2014_change_details: \"BPIC_2014/Detail_Change.csv\",\n",
    "    URLs.BPIC_2014_incident_details: \"BPIC_2014/Detail_Incident.csv\",\n",
    "    URLs.BPIC_2014_interaction_details: \"BPIC_2014/Detail_Interaction.csv\",\n",
    "    URLs.BPIC_2015_Municipality_1: \"BPIC_2015/BPIC15_1.xes\",\n",
    "    URLs.BPIC_2015_Municipality_2: \"BPIC_2015/BPIC15_2.xes\",\n",
    "    URLs.BPIC_2015_Municipality_3: \"BPIC_2015/BPIC15_3.xes\",\n",
    "    URLs.BPIC_2015_Municipality_4: \"BPIC_2015/BPIC15_4.xes\",\n",
    "    URLs.BPIC_2015_Municipality_5: \"BPIC_2015/BPIC15_5.xes\",\n",
    "    URLs.BPIC_2016_Clicks_Logged_in: \"BPIC_2016/BPI2016_Clicks_Logged_In.csv.zip\",\n",
    "    URLs.BPIC_2016_Clicks_Not_Logged_in: \"BPIC_2016/BPI2016_Clicks_NOT_Logged_In.csv.zip\",\n",
    "    URLs.BPIC_2016_Complaints: \"BPIC_2016/BPI2016_Complaints.csv\",\n",
    "    URLs.BPIC_2016_Questions: \"BPIC_2016/BPI2016_Questions.csv\",\n",
    "    URLs.BPIC_2016_Werkmap_Messages: \"BPIC_2016/BPI2016_Werkmap_Messages.csv\",\n",
    "    URLs.BPIC_2017: \"BPIC_2017/BPI_Challenge_2017.xes.gz\",\n",
    "    URLs.BPIC_2017_offer_log: \"BPIC_2017/BPI_Challenge_2017_Offerlog.xes.gz\",\n",
    "    URLs.BPIC_2018: \"BPIC_2018/BPI_Challenge_2018.xes\",\n",
    "    URLs.BPIC_2019: \"BPIC_2019/BPI_Challenge_2019.xes.gz\",\n",
    "    \n",
    "    # Process Discovery Contest\n",
    "    \n",
    "    URLs.PDC_2016_Training : 'PDC_2016/Training/Training.zip',\n",
    "    URLs.PDC_2016_Test : 'PDC_2016/Test/Test.zip',\n",
    "    URLs.PDC_2016_Models : 'PDC_2016/Models/Models.zip',\n",
    "    \n",
    "    URLs.PDC_2017_Training : 'PDC_2017/Training/Training.zip',\n",
    "    URLs.PDC_2017_Test : 'PDC_2017/Test/Test.zip',\n",
    "    URLs.PDC_2017_Models : 'PDC_2017/Models/Models.zip',\n",
    "    \n",
    "    URLs.PDC_2019_Training : 'PDC_2019/Training/Training.zip',\n",
    "    URLs.PDC_2019_Test1 : 'PDC_2019/Test1/Test1.zip',\n",
    "    URLs.PDC_2019_Test2 : 'PDC_2019/Test2/Test2.zip',\n",
    "   \n",
    "}"
   ]
  },
  {
   "cell_type": "markdown",
   "metadata": {},
   "source": [
    "## Config Class"
   ]
  },
  {
   "cell_type": "code",
   "execution_count": 7,
   "metadata": {},
   "outputs": [],
   "source": [
    "#export\n",
    "\n",
    "class Config():\n",
    "    \"Creates a default config file 'config.yml' in $FASTPM HOME (default `~/.fastpm/`)\"\n",
    "    DEFAULT_CONFIG_LOCATION = os.path.expanduser(os.getenv('FASTPM_HOME', '~/.fastpm'))\n",
    "    DEFAULT_CONFIG_PATH = DEFAULT_CONFIG_LOCATION + '/config.yml'\n",
    "    DEFAULT_CONFIG = {\n",
    "        'data_path': DEFAULT_CONFIG_LOCATION + '/data',\n",
    "        'data_archive_path': DEFAULT_CONFIG_LOCATION + '/data'\n",
    "    }\n",
    "\n",
    "    @classmethod\n",
    "    def get_key(cls, key):\n",
    "        cf=cls.get()\n",
    "        \"Get the path to `key` in the config file.\"\n",
    "        return cf.get(key, cls.DEFAULT_CONFIG.get(key,None))\n",
    "\n",
    "    @classmethod\n",
    "    def get_path(cls, path):\n",
    "        \"Get the `path` in the config file.\"\n",
    "        return _expand_path(cls.get_key(path))\n",
    "\n",
    "    @classmethod\n",
    "    def data_path(cls):\n",
    "        \"Get the path to data in the config file.\"\n",
    "        return cls.get_path('data_path')\n",
    "\n",
    "    @classmethod\n",
    "    def data_archive_path(cls):\n",
    "        \"Get the path to data archives in the config file.\"\n",
    "        return cls.get_path('data_archive_path')\n",
    "\n",
    "\n",
    "    @classmethod\n",
    "    def get(cls, fpath=None, create_missing=True):\n",
    "        \"Retrieve the `Config` in `fpath`.\"\n",
    "        fpath = _expand_path(fpath or cls.DEFAULT_CONFIG_PATH)\n",
    "        if not fpath.exists() and create_missing: cls.create(fpath)\n",
    "        assert fpath.exists(), f'Could not find config at: {fpath}. Please create'\n",
    "        with open(fpath, 'r') as yaml_file:\n",
    "            yfile=yaml.safe_load(yaml_file)\n",
    "            return yfile\n",
    "\n",
    "    @classmethod\n",
    "    def create(cls, fpath):\n",
    "        \"Creates a `Config` from `fpath`.\"\n",
    "        fpath = _expand_path(fpath)\n",
    "        assert(fpath.suffix == '.yml')\n",
    "        if fpath.exists(): return\n",
    "        fpath.parent.mkdir(parents=True, exist_ok=True)\n",
    "        with open(fpath, 'w') as yaml_file:\n",
    "            yaml.dump(cls.DEFAULT_CONFIG, yaml_file, default_flow_style=False)\n"
   ]
  },
  {
   "cell_type": "markdown",
   "metadata": {},
   "source": [
    "# Store Data sets on Disc"
   ]
  },
  {
   "cell_type": "code",
   "execution_count": 54,
   "metadata": {},
   "outputs": [],
   "source": [
    "#export\n",
    "def _expand_path(fpath): return Path(fpath).expanduser()\n",
    "def url2name(url):\n",
    "    fname=''\n",
    "    if url in _filenames:\n",
    "        fname=_filenames[url]\n",
    "        print(fname)\n",
    "    else: \n",
    "        u = requests.get(url)\n",
    "        if \"Content-Disposition\" in u.headers.keys():\n",
    "            fname = re.findall(\"filename=(.+)\", u.headers[\"Content-Disposition\"])[0].replace('\"', '').replace(\"'\", '').replace(\";\", '')\n",
    "        else: fname = url.split(\"/\")[-1]\n",
    "    return fname \n",
    "\n",
    "\n",
    "#TODO: simplify this mess\n",
    "def url2path(url, data=True):\n",
    "    \"Change `url` to a path.\"\n",
    "    name = url2name(url)\n",
    "    return datapath4file(name, archive=False) \n",
    "\n",
    "\n",
    "def datapath4file(filename, archive=True):\n",
    "    \"Return data path to `filename`, checking locally first then in the config file.\"\n",
    "    local_path = URLs.LOCAL_PATH/'data'/filename\n",
    "    if local_path.exists(): return local_path\n",
    "    elif archive: return Config.data_archive_path() / filename\n",
    "    else: return Config.data_path() / filename\n",
    "\n",
    "def download_data(url:str, fname:PathOrStr=None) -> Path:\n",
    "    \"Download `url` to destination `fname`.\"\n",
    "    fname = Path(ifnone(fname, url2path(url)))\n",
    "    os.makedirs(fname.parent, exist_ok=True)\n",
    "    if not fname.exists():\n",
    "        print(f'Downloading {url}')\n",
    "        download_url(url, fname)\n",
    "    return fname\n",
    "\n"
   ]
  },
  {
   "cell_type": "code",
   "execution_count": null,
   "metadata": {},
   "outputs": [],
   "source": [
    "download_data(URLs.BPIC_2012)"
   ]
  },
  {
   "cell_type": "code",
   "execution_count": null,
   "metadata": {},
   "outputs": [],
   "source": [
    "download_data(URLs.BPIC_2013_closed_problems)\n",
    "download_data(URLs.BPIC_2013_incidents)\n",
    "download_data(URLs.BPIC_2013_open_problems)"
   ]
  },
  {
   "cell_type": "code",
   "execution_count": null,
   "metadata": {},
   "outputs": [],
   "source": [
    "download_data(URLs.BPIC_2014_change_details)\n",
    "download_data(URLs.BPIC_2014_incident_details)\n",
    "download_data(URLs.BPIC_2014_incidents_activity_log)\n",
    "download_data(URLs.BPIC_2014_interaction_details)\n"
   ]
  },
  {
   "cell_type": "code",
   "execution_count": null,
   "metadata": {},
   "outputs": [],
   "source": [
    "download_data(URLs.BPIC_2015_Municipality_1)\n",
    "download_data(URLs.BPIC_2015_Municipality_2)\n",
    "download_data(URLs.BPIC_2015_Municipality_3)\n",
    "download_data(URLs.BPIC_2015_Municipality_4)\n",
    "download_data(URLs.BPIC_2015_Municipality_5)"
   ]
  },
  {
   "cell_type": "code",
   "execution_count": null,
   "metadata": {},
   "outputs": [],
   "source": [
    "download_data(URLs.BPIC_2016_Clicks_Logged_in)\n",
    "download_data(URLs.BPIC_2016_Clicks_Not_Logged_in)\n",
    "download_data(URLs.BPIC_2016_Complaints)\n",
    "download_data(URLs.BPIC_2016_Questions)\n",
    "download_data(URLs.BPIC_2016_Werkmap_Messages)"
   ]
  },
  {
   "cell_type": "code",
   "execution_count": null,
   "metadata": {},
   "outputs": [],
   "source": [
    "download_data(URLs.BPIC_2017)\n",
    "download_data(URLs.BPIC_2017_offer_log)"
   ]
  },
  {
   "cell_type": "code",
   "execution_count": null,
   "metadata": {},
   "outputs": [],
   "source": [
    "download_data(URLs.BPIC_2012)"
   ]
  },
  {
   "cell_type": "code",
   "execution_count": null,
   "metadata": {},
   "outputs": [],
   "source": [
    "download_data(URLs.BPIC_2017)"
   ]
  },
  {
   "cell_type": "code",
   "execution_count": null,
   "metadata": {},
   "outputs": [],
   "source": [
    "download_data(URLs.BPIC_2018)"
   ]
  },
  {
   "cell_type": "code",
   "execution_count": null,
   "metadata": {},
   "outputs": [],
   "source": [
    "download_data(URLs.BPIC_2019)"
   ]
  },
  {
   "cell_type": "markdown",
   "metadata": {},
   "source": [
    "# Untar multiple formats"
   ]
  },
  {
   "cell_type": "code",
   "execution_count": 67,
   "metadata": {},
   "outputs": [],
   "source": [
    "#export\n",
    "PathOrStr = Union[Path,str]\n",
    "\n",
    "def unzip(path):\n",
    "    newpath=path.parent\n",
    "    if not newpath.exists():\n",
    "        print('unzip ...')\n",
    "        with zipfile.ZipFile(path, 'r') as zip_ref:\n",
    "            zip_ref.extractall(path.parent)\n",
    "    return newpath\n",
    "\n",
    "def gunzip(path):\n",
    "    newpath=path.parent/path.stem\n",
    "    if not newpath.exists():\n",
    "        print('gunzip ...')\n",
    "        with gzip.open(path, 'rb') as f_in:\n",
    "            with open(newpath, 'wb') as f_out:\n",
    "                shutil.copyfileobj(f_in, f_out)\n",
    "    return newpath\n",
    "\n",
    "_sup_compressions = {\n",
    "    '.zip': unzip,\n",
    "    '.gz': gunzip,\n",
    "}\n",
    "def untar_data(url:str, fname:PathOrStr=None) -> Path:\n",
    "    path=download_data(url,fname)\n",
    "    extract = _sup_compressions.get(path.suffix, False)\n",
    "    if not extract: \n",
    "        print('not supported compression format')\n",
    "        return path\n",
    "    return extract(path)\n",
    "#untar_data(URLs.BPIC_2016_Clicks_Logged_in)"
   ]
  },
  {
   "cell_type": "code",
   "execution_count": 37,
   "metadata": {},
   "outputs": [
    {
     "data": {
      "text/plain": [
       "PosixPath('/home/lahann/.fastpm/data/BPIC_2017/BPI_Challenge_2017_Offerlog.xes')"
      ]
     },
     "execution_count": 37,
     "metadata": {},
     "output_type": "execute_result"
    }
   ],
   "source": [
    "untar_data(URLs.BPIC_2017_offer_log)"
   ]
  },
  {
   "cell_type": "code",
   "execution_count": 24,
   "metadata": {},
   "outputs": [
    {
     "data": {
      "text/plain": [
       "PosixPath('BPIC_2013/BPI_Challenge_2013_closed_problems.xes')"
      ]
     },
     "execution_count": 24,
     "metadata": {},
     "output_type": "execute_result"
    }
   ],
   "source": [
    "\n",
    "Path('BPIC_2013/BPI_Challenge_2013_closed_problems.xes.gz').parent/Path('BPIC_2013/BPI_Challenge_2013_closed_problems.xes.gz').stem\n"
   ]
  },
  {
   "cell_type": "code",
   "execution_count": 41,
   "metadata": {},
   "outputs": [
    {
     "name": "stdout",
     "output_type": "stream",
     "text": [
      "gunzip ...\n"
     ]
    },
    {
     "data": {
      "text/plain": [
       "PosixPath('/home/lahann/.fastpm/data/BPIC_2012/BPI_Challenge_2012.xes')"
      ]
     },
     "execution_count": 41,
     "metadata": {},
     "output_type": "execute_result"
    }
   ],
   "source": [
    "untar_data(URLs.BPIC_2012)"
   ]
  },
  {
   "cell_type": "code",
   "execution_count": 68,
   "metadata": {},
   "outputs": [
    {
     "name": "stdout",
     "output_type": "stream",
     "text": [
      "PDC_2016/Training/Training.zip\n"
     ]
    },
    {
     "data": {
      "text/plain": [
       "PosixPath('/home/lahann/.fastpm/data/PDC_2016/Training')"
      ]
     },
     "execution_count": 68,
     "metadata": {},
     "output_type": "execute_result"
    }
   ],
   "source": [
    "untar_data(URLs.PDC_2016_Training)"
   ]
  },
  {
   "cell_type": "code",
   "execution_count": null,
   "metadata": {},
   "outputs": [],
   "source": []
  },
  {
   "cell_type": "code",
   "execution_count": 74,
   "metadata": {},
   "outputs": [
    {
     "name": "stdout",
     "output_type": "stream",
     "text": [
      "Converted 01_fastpm_datasets.ipynb to exp/datasets.py\r\n"
     ]
    }
   ],
   "source": [
    "! /home/lahann/anaconda3/envs/fastpm/bin/python notebook2script.py 01_fastpm_datasets.ipynb"
   ]
  },
  {
   "cell_type": "code",
   "execution_count": 1,
   "metadata": {},
   "outputs": [],
   "source": [
    "import pandas as pd"
   ]
  },
  {
   "cell_type": "code",
   "execution_count": 6,
   "metadata": {},
   "outputs": [
    {
     "name": "stdout",
     "output_type": "stream",
     "text": [
      "127 ms ± 3.2 ms per loop (mean ± std. dev. of 7 runs, 5 loops each)\n"
     ]
    }
   ],
   "source": [
    "%%timeit -n 5\n",
    "df = pd.DataFrame(columns=[\"A\", \"B\", \"C\"]); new_row = pd.Series({\"A\": 4, \"B\": 4, \"C\": 4})\n",
    "for i in range(160):\n",
    "    df.loc[i] = new_row"
   ]
  },
  {
   "cell_type": "code",
   "execution_count": 9,
   "metadata": {},
   "outputs": [
    {
     "name": "stdout",
     "output_type": "stream",
     "text": [
      "789 µs ± 298 µs per loop (mean ± std. dev. of 7 runs, 5 loops each)\n"
     ]
    }
   ],
   "source": [
    "%%timeit -n 5\n",
    "\n",
    "l=[]\n",
    "for i in range(160):\n",
    "    l.append([4,4,4])\n",
    "pd.DataFrame(l,columns=[\"A\", \"B\", \"C\"]);"
   ]
  },
  {
   "cell_type": "code",
   "execution_count": 17,
   "metadata": {},
   "outputs": [
    {
     "name": "stdout",
     "output_type": "stream",
     "text": [
      "82.2 ms ± 4.05 ms per loop (mean ± std. dev. of 7 runs, 5 loops each)\n"
     ]
    }
   ],
   "source": [
    "%%timeit -n 5\n",
    "\n",
    "df = pd.DataFrame(columns=[\"A\", \"B\", \"C\"]); new_row = pd.Series({\"A\": 4, \"B\": 4, \"C\": 4})\n",
    "for i in range(160):\n",
    "    df = df.append(new_row, ignore_index=True)\n",
    "\n",
    "# 6.59 s ± 53.3 ms per loop (mean ± std. dev. of 7 runs, 1 loop each)\n"
   ]
  },
  {
   "cell_type": "code",
   "execution_count": null,
   "metadata": {},
   "outputs": [],
   "source": []
  }
 ],
 "metadata": {
  "kernelspec": {
   "display_name": "fastpm2",
   "language": "python",
   "name": "fastpm2"
  },
  "language_info": {
   "codemirror_mode": {
    "name": "ipython",
    "version": 3
   },
   "file_extension": ".py",
   "mimetype": "text/x-python",
   "name": "python",
   "nbconvert_exporter": "python",
   "pygments_lexer": "ipython3",
   "version": "3.7.4"
  },
  "varInspector": {
   "cols": {
    "lenName": 16,
    "lenType": 16,
    "lenVar": 40
   },
   "kernels_config": {
    "python": {
     "delete_cmd_postfix": "",
     "delete_cmd_prefix": "del ",
     "library": "var_list.py",
     "varRefreshCmd": "print(var_dic_list())"
    },
    "r": {
     "delete_cmd_postfix": ") ",
     "delete_cmd_prefix": "rm(",
     "library": "var_list.r",
     "varRefreshCmd": "cat(var_dic_list()) "
    }
   },
   "types_to_exclude": [
    "module",
    "function",
    "builtin_function_or_method",
    "instance",
    "_Feature"
   ],
   "window_display": false
  }
 },
 "nbformat": 4,
 "nbformat_minor": 2
}
