{
 "cells": [
  {
   "cell_type": "code",
   "execution_count": 2,
   "metadata": {},
   "outputs": [],
   "source": [
    "import numpy as np\n",
    "\n",
    "import pandas as pd\n"
   ]
  },
  {
   "cell_type": "code",
   "execution_count": 5,
   "metadata": {},
   "outputs": [],
   "source": [
    "n_decimals = 3\n",
    "n_iters = 100\n",
    "\n",
    "n_obs = 10**4\n",
    "n_categories = 10**3\n",
    "\n",
    "first_category = np.random.choice(n_categories, n_obs)\n",
    "np.random.seed(2016)\n",
    "y = np.random.normal(0, 1, n_obs)\n",
    "\n",
    "df1 = pd.DataFrame({'first category': first_category, \n",
    "                   'y': y})\n",
    "df2 = pd.DataFrame({'first category': first_category, \n",
    "                   'y': y})"
   ]
  },
  {
   "cell_type": "code",
   "execution_count": 6,
   "metadata": {},
   "outputs": [
    {
     "name": "stdout",
     "output_type": "stream",
     "text": [
      "1.09 ms ± 6.83 µs per loop (mean ± std. dev. of 7 runs, 1000 loops each)\n"
     ]
    }
   ],
   "source": [
    "%%timeit\n",
    "group_means = df1.groupby('first category').mean()\n"
   ]
  },
  {
   "cell_type": "code",
   "execution_count": 7,
   "metadata": {},
   "outputs": [
    {
     "name": "stdout",
     "output_type": "stream",
     "text": [
      "1.1 ms ± 6.35 µs per loop (mean ± std. dev. of 7 runs, 1000 loops each)\n"
     ]
    }
   ],
   "source": [
    "%%timeit\n",
    "group_means = df2.groupby('first category').mean()\n"
   ]
  },
  {
   "cell_type": "code",
   "execution_count": 8,
   "metadata": {},
   "outputs": [],
   "source": [
    "import functools"
   ]
  },
  {
   "cell_type": "code",
   "execution_count": 9,
   "metadata": {},
   "outputs": [
    {
     "ename": "NameError",
     "evalue": "name 'df' is not defined",
     "output_type": "error",
     "traceback": [
      "\u001b[0;31m---------------------------------------------------------------------------\u001b[0m",
      "\u001b[0;31mNameError\u001b[0m                                 Traceback (most recent call last)",
      "\u001b[0;32m<ipython-input-9-3b43cb218ec7>\u001b[0m in \u001b[0;36m<module>\u001b[0;34m\u001b[0m\n\u001b[0;32m----> 1\u001b[0;31m \u001b[0mdf\u001b[0m\u001b[0;34m[\u001b[0m\u001b[0;34m'mean'\u001b[0m\u001b[0;34m]\u001b[0m \u001b[0;34m=\u001b[0m \u001b[0mdf\u001b[0m\u001b[0;34m.\u001b[0m\u001b[0mgroupby\u001b[0m\u001b[0;34m(\u001b[0m\u001b[0;34m'first category'\u001b[0m\u001b[0;34m)\u001b[0m\u001b[0;34m[\u001b[0m\u001b[0;34m'y'\u001b[0m\u001b[0;34m]\u001b[0m\u001b[0;34m.\u001b[0m\u001b[0mtransform\u001b[0m\u001b[0;34m(\u001b[0m\u001b[0mnp\u001b[0m\u001b[0;34m.\u001b[0m\u001b[0mmean\u001b[0m\u001b[0;34m)\u001b[0m\u001b[0;34m\u001b[0m\u001b[0;34m\u001b[0m\u001b[0m\n\u001b[0m\u001b[1;32m      2\u001b[0m \u001b[0mprint\u001b[0m\u001b[0;34m(\u001b[0m\u001b[0mdf\u001b[0m\u001b[0;34m)\u001b[0m\u001b[0;34m\u001b[0m\u001b[0;34m\u001b[0m\u001b[0m\n",
      "\u001b[0;31mNameError\u001b[0m: name 'df' is not defined"
     ]
    }
   ],
   "source": [
    "df['mean'] = df.groupby('first category')['y'].transform(np.mean)\n",
    "print(df)"
   ]
  },
  {
   "cell_type": "code",
   "execution_count": null,
   "metadata": {},
   "outputs": [],
   "source": [
    "import time\n",
    "\n",
    "n_decimals = 3\n",
    "n_iters = 100\n",
    "\n",
    "n_obs = 10**4\n",
    "n_categories = 10**3\n",
    "\n",
    "first_category = np.random.choice(n_categories, n_obs)\n",
    "np.random.seed(2016)\n",
    "y = np.random.normal(0, 1, n_obs)\n",
    "\n",
    "df = pd.DataFrame({'first category': first_category,\n",
    "                   'y': y})\n",
    "                     \n",
    "start = time.process_time()\n",
    "grouped = df.groupby('first category')\n",
    "pandas_answer = grouped['y'].apply(np.mean)\n",
    "print('time to compute group means once with Pandas: {0}'\\\n",
    "      .format(round(time.process_time() - start, n_decimals)))\n",
    "\n",
    "start =  time.process_time()\n",
    "for i in range(n_iters):\n",
    "    grouped['y'].apply(np.mean)\n",
    "print('time to compute group means {0} times with Pandas: {1}'\\\n",
    "      .format(n_iters, round(time.process_time() - start, n_decimals)))"
   ]
  },
  {
   "cell_type": "code",
   "execution_count": null,
   "metadata": {},
   "outputs": [],
   "source": [
    "class Groupby:\n",
    "    def __init__(self, keys):\n",
    "        _, self.keys_as_int = np.unique(keys, return_inverse = True)\n",
    "        self.n_keys = max(self.keys_as_int) + 1\n",
    "        self.set_indices()\n",
    "        \n",
    "    def set_indices(self):\n",
    "        self.indices = [[] for i in range(self.n_keys)]\n",
    "        for i, k in enumerate(self.keys_as_int):\n",
    "            self.indices[k].append(i)\n",
    "        self.indices = [np.array(elt) for elt in self.indices]\n",
    "        \n",
    "    def apply(self, function, vector):\n",
    "        result = np.zeros(self.n_keys)\n",
    "        for k, idx in enumerate(self.indices):\n",
    "            result[self.keys_as_int[k]] = function(vector[idx])\n",
    "        return result\n",
    "    \n",
    "    def transform(self, function, vector):\n",
    "        result = np.zeros(len(vector))\n",
    "        for idx in self.indices:\n",
    "            result[idx] = function(vector[idx])\n",
    "        return result"
   ]
  },
  {
   "cell_type": "code",
   "execution_count": null,
   "metadata": {},
   "outputs": [],
   "source": [
    "unique_keys, indices = np.unique(['a', 'b', 'a', 'a', 'b'], return_inverse = True)\n",
    "# array([{'b', 'a'}], dtype=object)\n",
    "print(unique_keys) \n",
    "# [0, 1, 0, 0, 1]\n",
    "print(indices) \n",
    "# array(['a', 'b', 'a', 'a', 'b'], dtype='<U1')\n",
    "print(unique_keys[indices]) "
   ]
  },
  {
   "cell_type": "code",
   "execution_count": null,
   "metadata": {},
   "outputs": [],
   "source": [
    "start = time.process_time()\n",
    "grouped = Groupby(first_category)\n",
    "\n",
    "group_means = Groupby(first_category).apply(np.mean, y)\n",
    "print('time to compute group means once with Grouped: {0}'\\\n",
    "      .format(round(time.process_time() - start, n_decimals)))\n",
    "\n",
    "start = time.process_time()\n",
    "grouped = Groupby(first_category)\n",
    "for i in range(n_iters):\n",
    "    grouped.apply(np.mean, y)\n",
    "    \n",
    "print('time to compute group means {0} times with Grouped: {1}'\\\n",
    "      .format(n_iters, round(time.process_time() - start, n_decimals)))"
   ]
  },
  {
   "cell_type": "code",
   "execution_count": null,
   "metadata": {},
   "outputs": [],
   "source": [
    "grouped.apply(np.mean, y)"
   ]
  },
  {
   "cell_type": "code",
   "execution_count": null,
   "metadata": {},
   "outputs": [],
   "source": [
    "import pandas as pd\n",
    "from joblib import Parallel, delayed\n",
    "import multiprocessing\n",
    "\n",
    "def tmpFunc(df):\n",
    "    x=df.b\n",
    "    res=(x.iloc[-1]-x) / np.timedelta64(1, 's')\n",
    "    return res\n",
    "\n",
    "def applyParallel(dfGrouped, func):\n",
    "    retLst = Parallel(n_jobs=multiprocessing.cpu_count())(delayed(func)(group) for name, group in dfGrouped)\n",
    "    return pd.concat(retLst)\n",
    "\n",
    "df = pd.DataFrame({'a': first_category,\n",
    "                   'b': pd.to_datetime(y).values})\n",
    "print('parallel version: ')\n",
    "%time print(applyParallel(df.groupby('a'), tmpFunc))\n",
    "\n",
    "print('regular version: ')\n",
    "%time print(df.groupby('a').apply(tmpFunc))\n",
    "\n"
   ]
  },
  {
   "cell_type": "code",
   "execution_count": null,
   "metadata": {},
   "outputs": [],
   "source": [
    "import pandas as pd\n",
    "from joblib import Parallel, delayed\n",
    "import multiprocessing\n",
    "\n",
    "def tmpFunc(df):\n",
    "    df['c'] = df.a + df.b\n",
    "    return df\n",
    "\n",
    "def applyParallel(dfGrouped, func):\n",
    "    retLst = Parallel(n_jobs=multiprocessing.cpu_count())(delayed(func)(group) for name, group in dfGrouped)\n",
    "    return pd.concat(retLst)\n",
    "\n"
   ]
  },
  {
   "cell_type": "code",
   "execution_count": null,
   "metadata": {},
   "outputs": [],
   "source": [
    "class Groupby:\n",
    "    def __init__(self, keys):\n",
    "        _, self.keys_as_int = np.unique(keys, return_inverse = True)\n",
    "        self.n_keys = max(self.keys_as_int) + 1\n",
    "        self.set_indices()\n",
    "        \n",
    "        \n",
    "    def set_indices(self):\n",
    "        self.indices = [[] for i in range(self.n_keys)]\n",
    "        for i, k in enumerate(self.keys_as_int):\n",
    "            self.indices[k].append(i)\n",
    "        self.indices = [np.array(elt) for elt in self.indices]\n",
    "        \n",
    "    def apply(self, function, vector):\n",
    "        result = np.zeros(self.n_keys)\n",
    "        for k, idx in enumerate(self.indices):\n",
    "            result[self.keys_as_int[k]] = function(vector[idx])\n",
    "        return result\n",
    "    \n",
    "    def transform(self, function, vector):\n",
    "        result = np.zeros(len(vector))\n",
    "        n_jobs=multiprocessing.cpu_count()\n",
    "        partial=functools.partial(function,vector)\n",
    "        retLst = pool.map(partial, self.indices)\n",
    "        return pd.concat(retLst)"
   ]
  },
  {
   "cell_type": "code",
   "execution_count": null,
   "metadata": {},
   "outputs": [],
   "source": [
    "\n",
    "n_decimals = 3\n",
    "n_iters = 100\n",
    "\n",
    "n_obs = 10**6\n",
    "n_categories = 10**5\n",
    "\n",
    "first_category = np.random.choice(n_categories, n_obs)\n",
    "np.random.seed(2016)\n",
    "y = np.random.normal(0, 1, n_obs)\n",
    "df1 = pd.DataFrame({'a': first_category,\n",
    "                  'b': pd.to_datetime(y).values,\n",
    "                    'c': pd.to_datetime(y).values})\n",
    "df2 = pandas.DataFrame({'a': first_category,\n",
    "                   'b': pd.to_datetime(y).values,\n",
    "                    'c': pd.to_datetime(y).values})"
   ]
  },
  {
   "cell_type": "code",
   "execution_count": null,
   "metadata": {},
   "outputs": [],
   "source": [
    "def h(vec,e):\n",
    "    x=vec[e]\n",
    "    return (x.iloc[-1]-x) / np.timedelta64(1, 's')"
   ]
  },
  {
   "cell_type": "code",
   "execution_count": null,
   "metadata": {},
   "outputs": [],
   "source": [
    "%time res=(df1['b'].iloc[-1]-df1['b'].iloc[0]) / np.timedelta64(1, 's')"
   ]
  },
  {
   "cell_type": "code",
   "execution_count": null,
   "metadata": {},
   "outputs": [],
   "source": [
    "%time res=df1.groupby('a')['b'].transform(lambda x:(x.iloc[-1]-x) / np.timedelta64(1, 's'))"
   ]
  },
  {
   "cell_type": "code",
   "execution_count": null,
   "metadata": {},
   "outputs": [],
   "source": [
    "%time res=df2['b'].apply(lambda x:(df2['b'].iloc[-1]-x) / np.timedelta64(1, 's'))"
   ]
  },
  {
   "cell_type": "code",
   "execution_count": null,
   "metadata": {},
   "outputs": [],
   "source": [
    "res"
   ]
  },
  {
   "cell_type": "code",
   "execution_count": null,
   "metadata": {},
   "outputs": [],
   "source": [
    "%time res=(df1['b'].iloc[-1]-df1['b']) / np.timedelta64(1, 's')\n",
    "res1"
   ]
  },
  {
   "cell_type": "code",
   "execution_count": null,
   "metadata": {},
   "outputs": [],
   "source": [
    "nrows, ncols = 20000, 100\n",
    "\n",
    "df1, df2, df3, df4 = [pandas.DataFrame(np.random.randn(nrows, ncols)) for _ in range(4)]"
   ]
  },
  {
   "cell_type": "code",
   "execution_count": null,
   "metadata": {},
   "outputs": [],
   "source": [
    "np.random.seed(0)\n",
    "df1 = pd.DataFrame(np.random.choice(10, (5, 4)), columns=list('ABCD'))\n",
    "df2 = pd.DataFrame(np.random.choice(10, (5, 4)), columns=list('ABCD'))\n",
    "df3 = pd.DataFrame(np.random.choice(10, (5, 4)), columns=list('ABCD'))\n",
    "df4 = pd.DataFrame(np.random.choice(10, (5, 4)), columns=list('ABCD'))"
   ]
  },
  {
   "cell_type": "code",
   "execution_count": null,
   "metadata": {},
   "outputs": [],
   "source": [
    "\n",
    "x = 5\n",
    "%timeit pd.eval(\"df1.A + (df1.B * x)\")  "
   ]
  },
  {
   "cell_type": "code",
   "execution_count": null,
   "metadata": {},
   "outputs": [],
   "source": [
    "%timeit df1.A + (df1.B * x)\n"
   ]
  },
  {
   "cell_type": "code",
   "execution_count": null,
   "metadata": {},
   "outputs": [],
   "source": [
    "%timeit pd.eval('df1 + df2 + df3 + df4')"
   ]
  },
  {
   "cell_type": "code",
   "execution_count": null,
   "metadata": {},
   "outputs": [],
   "source": [
    "a=df1['b'].iloc[-1]\n",
    "s=df1['b']\n",
    "b=np.timedelta64(1, 's')\n",
    "pandas.eval(s+s)"
   ]
  },
  {
   "cell_type": "code",
   "execution_count": null,
   "metadata": {},
   "outputs": [],
   "source": [
    "def func(x):\n",
    "    return (x.iloc[-1]-x) / np.timedelta64(1, 's')"
   ]
  },
  {
   "cell_type": "code",
   "execution_count": null,
   "metadata": {},
   "outputs": [],
   "source": [
    "print('modin version: ')\n",
    "%time tmp1=df1.groupby('a')['b'].transform(func).values\n",
    "tmp1.shape"
   ]
  },
  {
   "cell_type": "code",
   "execution_count": null,
   "metadata": {},
   "outputs": [],
   "source": [
    "tmp1.shape"
   ]
  },
  {
   "cell_type": "code",
   "execution_count": null,
   "metadata": {},
   "outputs": [],
   "source": [
    "\n",
    "print('own version')\n",
    "%time tmp2=df2.groupby('a').transform(lambda x: (x.iloc[-1]-x) / np.timedelta64(1, 's')).values\n",
    "np.array_equal(tmp1, tmp2)"
   ]
  },
  {
   "cell_type": "code",
   "execution_count": null,
   "metadata": {},
   "outputs": [],
   "source": []
  },
  {
   "cell_type": "code",
   "execution_count": null,
   "metadata": {},
   "outputs": [],
   "source": [
    "functools.partial(h,df.b)"
   ]
  },
  {
   "cell_type": "code",
   "execution_count": null,
   "metadata": {},
   "outputs": [],
   "source": [
    "def sum2(x, y):\n",
    "    return x + y\n",
    "\n",
    "incr2 = functools.partial(sum2, 1)\n",
    "incr2(4)\n"
   ]
  },
  {
   "cell_type": "code",
   "execution_count": null,
   "metadata": {},
   "outputs": [],
   "source": [
    "np.array_equal(tmp1, tmp2.sort_index())"
   ]
  },
  {
   "cell_type": "code",
   "execution_count": null,
   "metadata": {},
   "outputs": [],
   "source": [
    "tmp1"
   ]
  },
  {
   "cell_type": "code",
   "execution_count": null,
   "metadata": {},
   "outputs": [],
   "source": [
    "import pandas as pd\n",
    "import itertools\n",
    "import time\n",
    "import multiprocessing\n",
    "from typing import Callable, Tuple, Union\n",
    "\n",
    "def groupby_parallel(groupby_df: pd.core.groupby.DataFrameGroupBy,\n",
    "                     func: Callable[[Tuple[str, pd.DataFrame]], Union[pd.DataFrame, pd.Series]],\n",
    "                     num_cpus: int=multiprocessing.cpu_count() - 1,\n",
    "                     logger: Callable[[str], None]=print) -> pd.DataFrame:\n",
    "    \"\"\"Performs a Pandas groupby operation in parallel.\n",
    "    Example usage:\n",
    "        import pandas as pd\n",
    "        df = pd.DataFrame({'A': [0, 1], 'B': [100, 200]})\n",
    "        df.groupby(df.groupby('A'), lambda row: row['B'].sum())\n",
    "    Authors: Tamas Nagy and Douglas Myers-Turnbull\n",
    "    \"\"\"\n",
    "    start = time.time()\n",
    "    logger(\"\\nUsing {} CPUs in parallel...\".format(num_cpus))\n",
    "    with multiprocessing.Pool(num_cpus) as pool:\n",
    "        queue = multiprocessing.Manager().Queue()\n",
    "        result = pool.starmap_async(func, [(name, group) for name, group in groupby_df])\n",
    "        cycler = itertools.cycle('\\|/―')\n",
    "        while not result.ready():\n",
    "            logger(\"Percent complete: {:.0%} {}\".format(queue.qsize()/len(groupby_df), next(cycler)), end=\"\\r\")\n",
    "            time.sleep(0.4)\n",
    "        got = result.get()\n",
    "    logger(\"\\nProcessed {} rows in {:.1f}s\".format(len(got), time.time() - start))"
   ]
  },
  {
   "cell_type": "code",
   "execution_count": null,
   "metadata": {},
   "outputs": [],
   "source": [
    "df = pd.DataFrame({'A': [0, 1], 'B': [100, 200]})\n",
    "df.groupby('A').apply( lambda row: row['B'].sum())"
   ]
  },
  {
   "cell_type": "code",
   "execution_count": null,
   "metadata": {},
   "outputs": [],
   "source": [
    "groupby_parallel(df.groupby('A'), lambda row: row['B'].sum())"
   ]
  },
  {
   "cell_type": "code",
   "execution_count": null,
   "metadata": {},
   "outputs": [],
   "source": [
    "\n",
    "import multiprocessing\n",
    "\n",
    "def my_function(x):\n",
    "    \"\"\"The function you want to compute in parallel.\"\"\"\n",
    "    x += 1\n",
    "    return x\n",
    "\n",
    "\n",
    "if __name__ == '__main__':\n",
    "    pool = multiprocessing.Pool()\n",
    "    results = pool.map(my_function, [1,2,3,4,5,6])\n",
    "    print(results)"
   ]
  },
  {
   "cell_type": "code",
   "execution_count": null,
   "metadata": {},
   "outputs": [],
   "source": [
    "df = pandas.DataFrame({'a': np.random.randn(1000),\n",
    "                   'b': np.random.randn(1000),\n",
    "                   'N': np.random.randint(100, 1000, (1000)),\n",
    "                   'x': 'x'})"
   ]
  },
  {
   "cell_type": "code",
   "execution_count": null,
   "metadata": {},
   "outputs": [],
   "source": [
    "def f(x):\n",
    "    return x * (x - 1)\n",
    "\n",
    "def integrate_f(a, b, N):\n",
    "    s = 0\n",
    "    dx = (b - a) / N\n",
    "    for i in range(N):\n",
    "        s += f(a + i * dx)\n",
    "    return s * dx\n"
   ]
  },
  {
   "cell_type": "code",
   "execution_count": null,
   "metadata": {},
   "outputs": [],
   "source": [
    "%timeit df.apply(lambda x: integrate_f(x['a'], x['b'], x['N']), axis=1)"
   ]
  },
  {
   "cell_type": "code",
   "execution_count": null,
   "metadata": {},
   "outputs": [],
   "source": [
    "%prun -l 4 df.apply(lambda x: integrate_f(x['a'], x['b'], x['N']), axis=1) "
   ]
  },
  {
   "cell_type": "code",
   "execution_count": null,
   "metadata": {},
   "outputs": [],
   "source": [
    "df = pd.DataFrame({'a': np.random.randn(1000),\n",
    "                   'b': np.random.randn(1000),\n",
    "                   'N': np.random.randint(100, 1000, (1000)),\n",
    "                   'x': 'x'})"
   ]
  },
  {
   "cell_type": "code",
   "execution_count": null,
   "metadata": {},
   "outputs": [],
   "source": [
    "%timeit df.apply(lambda x: integrate_f(x['a'], x['b'], x['N']), axis=1)"
   ]
  },
  {
   "cell_type": "code",
   "execution_count": null,
   "metadata": {},
   "outputs": [],
   "source": []
  }
 ],
 "metadata": {
  "kernelspec": {
   "display_name": "fastpm2",
   "language": "python",
   "name": "fastpm2"
  },
  "language_info": {
   "codemirror_mode": {
    "name": "ipython",
    "version": 3
   },
   "file_extension": ".py",
   "mimetype": "text/x-python",
   "name": "python",
   "nbconvert_exporter": "python",
   "pygments_lexer": "ipython3",
   "version": "3.7.4"
  },
  "varInspector": {
   "cols": {
    "lenName": 16,
    "lenType": 16,
    "lenVar": 40
   },
   "kernels_config": {
    "python": {
     "delete_cmd_postfix": "",
     "delete_cmd_prefix": "del ",
     "library": "var_list.py",
     "varRefreshCmd": "print(var_dic_list())"
    },
    "r": {
     "delete_cmd_postfix": ") ",
     "delete_cmd_prefix": "rm(",
     "library": "var_list.r",
     "varRefreshCmd": "cat(var_dic_list()) "
    }
   },
   "types_to_exclude": [
    "module",
    "function",
    "builtin_function_or_method",
    "instance",
    "_Feature"
   ],
   "window_display": false
  }
 },
 "nbformat": 4,
 "nbformat_minor": 2
}
