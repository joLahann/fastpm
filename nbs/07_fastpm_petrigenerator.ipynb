{
 "cells": [
  {
   "cell_type": "code",
   "execution_count": 1,
   "metadata": {},
   "outputs": [],
   "source": [
    "%load_ext autoreload\n",
    "%autoreload 2\n",
    "%load_ext memory_profiler\n",
    "\n",
    "%matplotlib inline"
   ]
  },
  {
   "cell_type": "code",
   "execution_count": 2,
   "metadata": {},
   "outputs": [],
   "source": [
    "#export\n",
    "from exp.petrinet import *\n",
    "import random\n",
    "import string"
   ]
  },
  {
   "cell_type": "code",
   "execution_count": 3,
   "metadata": {},
   "outputs": [],
   "source": [
    "#export\n",
    "def decision(probability):\n",
    "    return random.random() < probability\n",
    "\n",
    "    \n",
    "def get_random_simple_grammar(n, l, hn=0.1, rec=0.1, drec=0.1, c=0.1, max_in_layer=None):\n",
    "    #n=nodes\n",
    "    #l=layers\n",
    "    \n",
    "    #PARAMS\n",
    "    grammar , reclink = [], []\n",
    "    edge = '->'\n",
    "    start, end = None, None\n",
    "    layers = {}\n",
    "    current_index, max_index_in_layer = 0, 0\n",
    "    keys = [x for x in range(l)]   \n",
    "    random.shuffle(keys)\n",
    "    \n",
    "    \n",
    "    #SET MAX NUMBER OF NODES IN LAYER\n",
    "    if l>n:l=n\n",
    "    if max_in_layer:max_in_layer=max_in_layer\n",
    "    else: max_in_layer = int(n/l)+1\n",
    "    \n",
    "    \n",
    "    #CREATE NODE NAMES\n",
    "    f = int(n/26)+1\n",
    "    alph = string.ascii_uppercase\n",
    "    alphabet = []\n",
    "    if f > 1:\n",
    "        for i in range(0,n):\n",
    "            x = int(i/26)\n",
    "            j = i\n",
    "            if i > 25: j = i - (26*x) \n",
    "            node=alph[j]\n",
    "            if x == 0:alphabet.append(node)\n",
    "            else:alphabet.append(\"%s%s\" % (node,x))\n",
    "    else: alphabet = list(string.ascii_uppercase[0:n])\n",
    "    r = len(alphabet)\n",
    "    \n",
    "    \n",
    "    #DIVIDE NODE INDICES OVER NETWORK LAYERS\n",
    "    for i, j in enumerate(keys):\n",
    "        maxnodes = r - (l-i) + 1\n",
    "        nodes = random.randrange(1, maxnodes+1)\n",
    "        if nodes > max_in_layer: nodes = max_in_layer\n",
    "        if i == l-1: nodes = r\n",
    "        #max_index_in_layer = max_index_in_layer + nodes\n",
    "        layers[j] = nodes#alphabet[current_index:max_index_in_layer]\n",
    "        #current_index = max_index_in_layer\n",
    "        r = r - nodes\n",
    "        \n",
    "    i=0\n",
    "    for k in sorted(layers):\n",
    "        v=i+layers[k]\n",
    "        layers[k]=alphabet[i:v]\n",
    "        i=v  \n",
    "        \n",
    "    \n",
    "    #INSERT HIDDEN NODES BASED ON PROBABILITY hn\n",
    "    i=1\n",
    "    while decision(hn):\n",
    "        layers[random.randint(0,l-1)].append('_%s' % str(i))\n",
    "        i+=1\n",
    "        \n",
    "        \n",
    "    #CREATE \"STANDARD\" EDGES BETWEEN LAYERS\n",
    "    for k, v in layers.items():\n",
    "        element = ','.join(v)\n",
    "        if k == 0: \n",
    "            start = edge+element\n",
    "        else:             \n",
    "            prev_element = ','.join(layers[k-1])\n",
    "            grammar.append(prev_element + edge + element)            \n",
    "        if k == l-1: end = element+edge\n",
    "            \n",
    "            \n",
    "    #INSERT CROSSCONNECTIONS BETWEEN RANDOM NODES BASED ON PROBABILITY c  \n",
    "    while decision(c):\n",
    "        cc = []\n",
    "        j = random.randint(1, n)\n",
    "        nodes = []\n",
    "        for k in range(j):\n",
    "            node = random.choice(alphabet)\n",
    "            if node not in nodes: nodes.append(node)\n",
    "        if len(nodes) > 1:        \n",
    "            nodes.insert(random.randint(1,len(nodes)-1), edge)        \n",
    "            word = ','.join(nodes).replace(',-', '-').replace('>,', '>')\n",
    "            grammar.append(word)\n",
    "            \n",
    "            \n",
    "    #INSERT RECURRENT CONNECTIONS BETWEEN NODES BASED ON PROBABILITY rec        \n",
    "    while decision(rec):\n",
    "        nodes = []\n",
    "        i = random.randint(0, len(alphabet)-1)\n",
    "        node = alphabet[i]\n",
    "        if node not in nodes: nodes.append(node)\n",
    "        #INSERT DOUBLE RECURRENT CONNECTION BASED ON PROBABILITY drec\n",
    "        while decision(drec):\n",
    "            j = random.randint(0, len(alphabet)-1)\n",
    "            node = alphabet[j]\n",
    "            if node not in nodes:nodes.append(node)    \n",
    "        word = ','.join(nodes)\n",
    "        word = word+edge+word\n",
    "        if word not in reclink: reclink.append(word)\n",
    "    if len(reclink) > 0: \n",
    "        for x in reclink : grammar.append(x)\n",
    "            \n",
    "    \n",
    "    #INSERT THE START AND END NODES\n",
    "    grammar.insert(0, start)\n",
    "    grammar.append(end)\n",
    "    \n",
    "    return grammar"
   ]
  },
  {
   "cell_type": "code",
   "execution_count": 9,
   "metadata": {},
   "outputs": [
    {
     "data": {
      "image/png": "[encoded data removed]",
      "text/plain": [
       "<IPython.core.display.Image object>"
      ]
     },
     "metadata": {},
     "output_type": "display_data"
    }
   ],
   "source": [
    "rsg = get_random_simple_grammar(5, 3, hn=0.1, rec=0.05, drec=0.15, c=0.7, max_in_layer=None)\n",
    "pn = PetriNet.from_simple_grammar(rsg)\n",
    "display(pn.view())"
   ]
  },
  {
   "cell_type": "code",
   "execution_count": null,
   "metadata": {},
   "outputs": [],
   "source": []
  },
  {
   "cell_type": "code",
   "execution_count": null,
   "metadata": {},
   "outputs": [],
   "source": []
  }
 ],
 "metadata": {
  "kernelspec": {
   "display_name": "fastpm2",
   "language": "python",
   "name": "fastpm2"
  },
  "language_info": {
   "codemirror_mode": {
    "name": "ipython",
    "version": 3
   },
   "file_extension": ".py",
   "mimetype": "text/x-python",
   "name": "python",
   "nbconvert_exporter": "python",
   "pygments_lexer": "ipython3",
   "version": "3.7.4"
  },
  "varInspector": {
   "cols": {
    "lenName": 16,
    "lenType": 16,
    "lenVar": 40
   },
   "kernels_config": {
    "python": {
     "delete_cmd_postfix": "",
     "delete_cmd_prefix": "del ",
     "library": "var_list.py",
     "varRefreshCmd": "print(var_dic_list())"
    },
    "r": {
     "delete_cmd_postfix": ") ",
     "delete_cmd_prefix": "rm(",
     "library": "var_list.r",
     "varRefreshCmd": "cat(var_dic_list()) "
    }
   },
   "types_to_exclude": [
    "module",
    "function",
    "builtin_function_or_method",
    "instance",
    "_Feature"
   ],
   "window_display": false
  }
 },
 "nbformat": 4,
 "nbformat_minor": 2
}
