{
 "cells": [
  {
   "cell_type": "markdown",
   "metadata": {},
   "source": [
    "Control-Flow-Prediction: Comparison of Models\n",
    "--"
   ]
  },
  {
   "cell_type": "code",
   "execution_count": 1,
   "metadata": {},
   "outputs": [],
   "source": [
    "%load_ext autoreload\n",
    "%autoreload 2\n",
    "\n",
    "%matplotlib inline"
   ]
  },
  {
   "cell_type": "code",
   "execution_count": 2,
   "metadata": {},
   "outputs": [],
   "source": [
    "from exp.eventlog import *\n",
    "from exp.dl_utils import *\n",
    "from exp.control_flow_prediction import *"
   ]
  },
  {
   "cell_type": "code",
   "execution_count": 3,
   "metadata": {},
   "outputs": [],
   "source": [
    "#export\n",
    "def _expand_path(fpath): return Path(fpath).expanduser()\n",
    "\n",
    "class Config():\n",
    "    \"Creates a default config file 'config.yml' in $FASTPM HOME (default `~/.fastpm/`)\"\n",
    "    DEFAULT_CONFIG_LOCATION = os.path.expanduser(os.getenv('FASTPM_HOME', '~/.fastpm'))\n",
    "    DEFAULT_CONFIG_PATH = DEFAULT_CONFIG_LOCATION + '/config.yml'\n",
    "    DEFAULT_CONFIG = {\n",
    "        'data_path': DEFAULT_CONFIG_LOCATION + '/data',\n",
    "        'model_path': DEFAULT_CONFIG_LOCATION + '/model'\n",
    "    }\n",
    "    \n",
    "    @classmethod\n",
    "    def get_key(cls, key):\n",
    "        cf=cls.get()\n",
    "        \"Get the path to `key` in the config file.\"\n",
    "        return cf.get(key, cls.DEFAULT_CONFIG.get(key,None))\n",
    "\n",
    "    @classmethod\n",
    "    def get_path(cls, path):\n",
    "        \"Get the `path` in the config file.\"\n",
    "        return _expand_path(cls.get_key(path))\n",
    "\n",
    "    @classmethod\n",
    "    def data_path(cls):\n",
    "        \"Get the path to data in the config file.\"\n",
    "        return cls.get_path('data_path')\n",
    "\n",
    "    @classmethod\n",
    "    def data_archive_path(cls):\n",
    "        \"Get the path to data archives in the config file.\"\n",
    "        return cls.get_path('data_archive_path')\n",
    "    \n",
    "    @classmethod\n",
    "    def get_model(cls, path):\n",
    "        \"Get the 'path' in the config file.\"\n",
    "        return _expand_path(cls.get_key(path))\n",
    "    \n",
    "    @classmethod\n",
    "    def model_path(cls):\n",
    "        \"Get the path to model in the config file.\"\n",
    "        return cls.get_path('model_path')\n",
    "    \n",
    "    @classmethod\n",
    "    def model_archive_path(cls):\n",
    "        \"Get the path to data archives in the config file.\"\n",
    "        return cls.get_path('model_archive_path')\n",
    "\n",
    "    @classmethod\n",
    "    def get(cls, fpath=None, create_missing=True):\n",
    "        \"Retrieve the `Config` in `fpath`.\"\n",
    "        fpath = _expand_path(fpath or cls.DEFAULT_CONFIG_PATH)\n",
    "        if not fpath.exists() and create_missing: cls.create(fpath)\n",
    "        assert fpath.exists(), f'Could not find config at: {fpath}. Please create'\n",
    "        with open(fpath, 'r') as yaml_file:\n",
    "            yfile=yaml.safe_load(yaml_file)\n",
    "            return yfile\n",
    "\n",
    "    @classmethod\n",
    "    def create(cls, fpath):\n",
    "        \"Creates a `Config` from `fpath`.\"\n",
    "        fpath = _expand_path(fpath)\n",
    "        assert(fpath.suffix == '.yml')\n",
    "        if fpath.exists(): return\n",
    "        fpath.parent.mkdir(parents=True, exist_ok=True)\n",
    "        with open(fpath, 'w') as yaml_file:\n",
    "            yaml.dump(cls.DEFAULT_CONFIG, yaml_file, default_flow_style=False)"
   ]
  },
  {
   "cell_type": "markdown",
   "metadata": {},
   "source": [
    "### Building Basic Model"
   ]
  },
  {
   "cell_type": "code",
   "execution_count": 4,
   "metadata": {},
   "outputs": [],
   "source": [
    "class BasicModel(nn.Module):\n",
    "    def __init__(self, n_in, n_out, emb_sz, nh):\n",
    "        super().__init__()\n",
    "        self.nh = nh\n",
    "        self.emb = nn.Embedding(n_in, 7, padding_idx=1)\n",
    "        self.lin1 = nn.Linear(7, nh)\n",
    "        self.relu = nn.ReLU()\n",
    "        self.lin2 = nn.Linear(nh, n_out)\n",
    "        \n",
    "    def __call__(self, x):\n",
    "        x = x.long()\n",
    "        x = self.emb(x)\n",
    "        x = self.lin1(x)\n",
    "        x = self.relu(x)\n",
    "        x = self.lin2(x)\n",
    "        return x.float()\n",
    "    \n",
    "    def reset(self):\n",
    "        \"Reset the hidden states.\"\n",
    "        pass"
   ]
  },
  {
   "cell_type": "code",
   "execution_count": 5,
   "metadata": {},
   "outputs": [],
   "source": [
    "sched = combine_scheds([0.3, 0.7], [sched_cos(0.3, 0.6), sched_cos(0.6, 0.2)]) \n",
    "opt_func = partial(Optimizer, steppers=[sgd_step])"
   ]
  },
  {
   "cell_type": "markdown",
   "metadata": {},
   "source": [
    "### Load and Preprocess Data"
   ]
  },
  {
   "cell_type": "code",
   "execution_count": 6,
   "metadata": {},
   "outputs": [],
   "source": [
    "# bpi2012 = import_xes(untar_data(URLs.BPIC_2012)).events\n",
    "# bpi2017 = import_xes(untar_data(URLs.BPIC_2017)).events\n",
    "# data_sets = [bpi2012, bpi2017]"
   ]
  },
  {
   "cell_type": "code",
   "execution_count": 146,
   "metadata": {},
   "outputs": [],
   "source": [
    "datasets = [URLs.BPIC_2012, URLs.BPIC_2017]\n",
    "models = [\"awd_lstm\"]\n",
    "\n",
    "processing_params = {'seed': 42, 'bs': 64, 'bptt': 70}\n",
    "training_params = {'awd_lstm': {'emb_sz': 300, 'nh': 300, 'nl': 2, 'cbs': [partial(AvgStatsCallback, accuracy_flat),\n",
    "                                                                           CudaCallback, Recorder,\n",
    "                                                                           partial(GradientClipping, clip=0.1),\n",
    "                                                                           partial(RNNTrainer, α=2., β=1.),\n",
    "                                                                           ProgressBarCallback]},\n",
    "                   'basic': {'nh': 10, 'bs': 64, 'bptt': 70, 'cbfs': [partial(AvgStatsCallback, accuracy_flat), \n",
    "                                                                      CudaCallback, Recorder,\n",
    "                                                                      partial(ParamScheduler, 'lr', sched),\n",
    "                                                                      ProgressBarCallback]}\n",
    "                  }\n",
    "evaluation_params = {'bs': 64, 'bptt': 70}"
   ]
  },
  {
   "cell_type": "markdown",
   "metadata": {},
   "source": [
    "### Predict Functions for Basic Model"
   ]
  },
  {
   "cell_type": "code",
   "execution_count": 147,
   "metadata": {},
   "outputs": [],
   "source": [
    "def predict_next_step_basic(learner, test_dl):\n",
    "    \n",
    "    #def predict_next_step(model,df):\n",
    "    #model.eval()\n",
    "    #model.cpu()\n",
    "    #preds=[]\n",
    "    #for e in df.values:\n",
    "    #    t=torch.stack([tensor(e[c]).float() for c in range(len(list(df)))])\n",
    "    #    pred=model(t[None])\n",
    "    #    preds.append(pred[0][-1].tolist())\n",
    "    #return np.argmax(np.array(preds),axis=1)\n",
    "    \n",
    "    iter_dl = iter(test_dl)\n",
    "    learner.model.cuda()\n",
    "    learner.model.eval()\n",
    "    acc4batch = []\n",
    "    for x, y in progress_bar(iter_dl):\n",
    "        x, y = x.cuda(), y.cuda()\n",
    "        print(x.shape, y.shape)\n",
    "        print(y)\n",
    "        learner.model.reset()\n",
    "        print(learner.model(x)[0].shape)\n",
    "        acc4batch.append((torch.argmax(learner.model(x), dim=1)==y)).float().mean().cpu()\n",
    "        \n",
    "    return np.mean(acc4batch)"
   ]
  },
  {
   "cell_type": "code",
   "execution_count": 148,
   "metadata": {},
   "outputs": [
    {
     "name": "stdout",
     "output_type": "stream",
     "text": [
      "torch.Size([3, 4])\n"
     ]
    },
    {
     "data": {
      "text/plain": [
       "tensor([3, 3, 3])"
      ]
     },
     "execution_count": 148,
     "metadata": {},
     "output_type": "execute_result"
    }
   ],
   "source": [
    "tensor = torch.tensor([[1., 2., 3., 4.], [5., 6., 7., 8.], [1., 2., 3., 4.]])\n",
    "#tensor = tensor.new_full((3, 4), 3.2)\n",
    "print(tensor.shape)\n",
    "torch.argmax(tensor, dim=1)"
   ]
  },
  {
   "cell_type": "code",
   "execution_count": 149,
   "metadata": {},
   "outputs": [],
   "source": [
    "torch.argmax??"
   ]
  },
  {
   "cell_type": "markdown",
   "metadata": {},
   "source": [
    "### Helper Functions for \"run()\""
   ]
  },
  {
   "cell_type": "code",
   "execution_count": 150,
   "metadata": {},
   "outputs": [],
   "source": [
    "def load_data(dataset):\n",
    "    return import_xes(untar_data(dataset)).events\n",
    "\n",
    "def func(t, data):\n",
    "    return len(data[int(t)][0])\n",
    "\n",
    "def process_data_set(data_set, processing_params):\n",
    "    seed = processing_params.get(\"seed\")\n",
    "    bs = processing_params.get(\"bs\")\n",
    "    bptt = processing_params.get(\"bptt\")\n",
    "    \n",
    "    cfl = ControlFlowList.from_df(data_set)\n",
    "    #split = SplitData.split_by_func(cfl, partial(random_splitter, p_valid=0.1))\n",
    "    \n",
    "    UNK, PAD, BOT, EOT = \"xxunk xxpad xxbot xxeot \".split()\n",
    "    proc_tok = TokenizeProcessor()\n",
    "    proc_num = NumericalizeProcessor()\n",
    "    sd = SplitData.split_by_func(cfl, partial(random_splitter, p_valid=0.1))\n",
    "    ll = label_by_func(sd, lambda x: 0, proc_x = [proc_tok, proc_num])\n",
    "    vocab = proc_num.vocab\n",
    "    data = lm_databunchify(ll, bs, bptt)\n",
    "    \n",
    "    return data, ll.test.x, vocab\n",
    "\n",
    "def train_model(model, train, vocab, training_params):\n",
    "    if model == \"awd_lstm\":\n",
    "        parameters = training_params.get(\"awd_lstm\")\n",
    "        emb_sz = parameters.get(\"emb_sz\")\n",
    "        nh = parameters.get(\"nh\")\n",
    "        nl = parameters.get(\"nl\")\n",
    "        cbs = parameters.get(\"cbs\")\n",
    "        \n",
    "        tok_pad = vocab.index(PAD)\n",
    "        awd_lstm = get_language_model(len(vocab), emb_sz, nh, nl, tok_pad, input_p=0.6, \n",
    "                                      output_p=0.4, weight_p=0.5, embed_p=0.1, hidden_p=0.2)\n",
    "        learner = Learner(awd_lstm, train, cross_entropy_flat, lr=5e-3, cb_funcs=cbs, opt_func=adam_opt())\n",
    "        learner.fit(20)\n",
    "        return learner\n",
    "    \n",
    "    elif model == \"basic\":\n",
    "        parameters = training_params.get(\"basic\")\n",
    "        nh = parameters.get(\"nh\")\n",
    "        bs = parameters.get(\"bs\")\n",
    "        bptt = parameters.get(\"bptt\")\n",
    "        cbfs = parameters.get(\"cbfs\")\n",
    "        n_in = bs * bptt\n",
    "        emb_sz = int(len(vocab) / 2)\n",
    "        \n",
    "        basic = BasicModel(n_in, len(vocab), emb_sz, nh)\n",
    "        learner = Learner(basic, train, cross_entropy_flat, cb_funcs=cbfs, opt_func=opt_func)\n",
    "        learner.fit(5)\n",
    "        return learner\n",
    "\n",
    "    else:\n",
    "        pass\n",
    "\n",
    "def measure_next_step_prediction(model, test, evaluation_params):\n",
    "    bs = evaluation_params.get(\"bs\")\n",
    "    bptt = evaluation_params.get(\"bptt\")\n",
    "    \n",
    "    x, y = process_data_for_next_step_prediction(test)\n",
    "    pd_data = Dataset(x, y)\n",
    "    test_sampler = SortSampler(pd_data.x, key=partial(func, data=pd_data))\n",
    "    \n",
    "    test_dl = DataLoader(pd_data, batch_size=bs*64, sampler=test_sampler, collate_fn=partial(pad_collate, pad_first=True))\n",
    "    mean = predict_next_step_basic(model, test_dl)\n",
    "    return mean\n",
    "\n",
    "def measure_suffix_prediction(model, test, evaluation_params):\n",
    "    bs = evaluation_params.get(\"bs\")\n",
    "    bptt = evaluation_params.get(\"bptt\")\n",
    "    \n",
    "    x, y = process_data_for_suffix_prediction(test)\n",
    "    pd_data = Dataset(x,y)\n",
    "    test_sampler = SortSampler(pd_data.x, key=partial(func, data=pd_data))\n",
    "    \n",
    "    test_dl = DataLoader(pd_data, batch_size=bs*8, sampler=test_sampler, collate_fn=pad_collate_sp)\n",
    "    mean = predict_suffix(model, test_dl)\n",
    "    return mean"
   ]
  },
  {
   "cell_type": "code",
   "execution_count": 151,
   "metadata": {},
   "outputs": [],
   "source": [
    "def run(data_sets=datasets, models=models, processing_params=processing_params,\n",
    "         training_params=training_params, evaluation_params=evaluation_params):\n",
    "    \n",
    "    for dataset in progress_bar(datasets):\n",
    "        data_set = load_data(dataset)\n",
    "        train_valid, test, vocab = process_data_set(data_set, processing_params)\n",
    "        for model in progress_bar(models):\n",
    "            Learner = train_model(model, train_valid, vocab, training_params)\n",
    "            res_df1 = measure_next_step_prediction(Learner, test, evaluation_params)\n",
    "            res_df2 = measure_suffix_prediction(Learner, test, evaluation_params)\n",
    "            \n",
    "            print(\"For {} and {}:\\n--> Next-Step-Prediction value = {}\\n--> Suffix-Prediction value = {}\".format(model, dataset, res_df1, res_df2))"
   ]
  },
  {
   "cell_type": "code",
   "execution_count": 152,
   "metadata": {
    "scrolled": false
   },
   "outputs": [
    {
     "data": {
      "text/html": [
       "\n",
       "    <div>\n",
       "        <style>\n",
       "            /* Turns off some styling */\n",
       "            progress {\n",
       "                /* gets rid of default border in Firefox and Opera. */\n",
       "                border: none;\n",
       "                /* Needs to be in here for Safari polyfill so background images work as expected. */\n",
       "                background-size: auto;\n",
       "            }\n",
       "            .progress-bar-interrupted, .progress-bar-interrupted::-webkit-progress-bar {\n",
       "                background: #F44336;\n",
       "            }\n",
       "        </style>\n",
       "      <progress value='0' class='progress-bar-interrupted' max='2', style='width:300px; height:20px; vertical-align: middle;'></progress>\n",
       "      Interrupted\n",
       "    </div>\n",
       "    "
      ],
      "text/plain": [
       "<IPython.core.display.HTML object>"
      ]
     },
     "metadata": {},
     "output_type": "display_data"
    },
    {
     "data": {
      "text/html": [
       "\n",
       "    <div>\n",
       "        <style>\n",
       "            /* Turns off some styling */\n",
       "            progress {\n",
       "                /* gets rid of default border in Firefox and Opera. */\n",
       "                border: none;\n",
       "                /* Needs to be in here for Safari polyfill so background images work as expected. */\n",
       "                background-size: auto;\n",
       "            }\n",
       "            .progress-bar-interrupted, .progress-bar-interrupted::-webkit-progress-bar {\n",
       "                background: #F44336;\n",
       "            }\n",
       "        </style>\n",
       "      <progress value='6' class='' max='6', style='width:300px; height:20px; vertical-align: middle;'></progress>\n",
       "      100.00% [6/6 00:00<00:00]\n",
       "    </div>\n",
       "    "
      ],
      "text/plain": [
       "<IPython.core.display.HTML object>"
      ]
     },
     "metadata": {},
     "output_type": "display_data"
    },
    {
     "data": {
      "text/html": [
       "\n",
       "    <div>\n",
       "        <style>\n",
       "            /* Turns off some styling */\n",
       "            progress {\n",
       "                /* gets rid of default border in Firefox and Opera. */\n",
       "                border: none;\n",
       "                /* Needs to be in here for Safari polyfill so background images work as expected. */\n",
       "                background-size: auto;\n",
       "            }\n",
       "            .progress-bar-interrupted, .progress-bar-interrupted::-webkit-progress-bar {\n",
       "                background: #F44336;\n",
       "            }\n",
       "        </style>\n",
       "      <progress value='1' class='' max='1', style='width:300px; height:20px; vertical-align: middle;'></progress>\n",
       "      100.00% [1/1 00:00<00:00]\n",
       "    </div>\n",
       "    "
      ],
      "text/plain": [
       "<IPython.core.display.HTML object>"
      ]
     },
     "metadata": {},
     "output_type": "display_data"
    },
    {
     "data": {
      "text/html": [
       "\n",
       "    <div>\n",
       "        <style>\n",
       "            /* Turns off some styling */\n",
       "            progress {\n",
       "                /* gets rid of default border in Firefox and Opera. */\n",
       "                border: none;\n",
       "                /* Needs to be in here for Safari polyfill so background images work as expected. */\n",
       "                background-size: auto;\n",
       "            }\n",
       "            .progress-bar-interrupted, .progress-bar-interrupted::-webkit-progress-bar {\n",
       "                background: #F44336;\n",
       "            }\n",
       "        </style>\n",
       "      <progress value='1' class='' max='1', style='width:300px; height:20px; vertical-align: middle;'></progress>\n",
       "      100.00% [1/1 00:00<00:00]\n",
       "    </div>\n",
       "    "
      ],
      "text/plain": [
       "<IPython.core.display.HTML object>"
      ]
     },
     "metadata": {},
     "output_type": "display_data"
    },
    {
     "data": {
      "text/html": [
       "\n",
       "    <div>\n",
       "        <style>\n",
       "            /* Turns off some styling */\n",
       "            progress {\n",
       "                /* gets rid of default border in Firefox and Opera. */\n",
       "                border: none;\n",
       "                /* Needs to be in here for Safari polyfill so background images work as expected. */\n",
       "                background-size: auto;\n",
       "            }\n",
       "            .progress-bar-interrupted, .progress-bar-interrupted::-webkit-progress-bar {\n",
       "                background: #F44336;\n",
       "            }\n",
       "        </style>\n",
       "      <progress value='0' class='progress-bar-interrupted' max='1', style='width:300px; height:20px; vertical-align: middle;'></progress>\n",
       "      Interrupted\n",
       "    </div>\n",
       "    "
      ],
      "text/plain": [
       "<IPython.core.display.HTML object>"
      ]
     },
     "metadata": {},
     "output_type": "display_data"
    },
    {
     "data": {
      "text/html": [
       "<table border=\"1\" class=\"dataframe\">\n",
       "  <thead>\n",
       "    <tr style=\"text-align: left;\">\n",
       "      <th>epoch</th>\n",
       "      <th>train_loss</th>\n",
       "      <th>train_accuracy_flat</th>\n",
       "      <th>valid_loss</th>\n",
       "      <th>valid_accuracy_flat</th>\n",
       "      <th>time</th>\n",
       "    </tr>\n",
       "  </thead>\n",
       "  <tbody>\n",
       "    <tr>\n",
       "      <td>0</td>\n",
       "      <td>1.708720</td>\n",
       "      <td>0.502874</td>\n",
       "      <td>0.845181</td>\n",
       "      <td>0.715625</td>\n",
       "      <td>00:01</td>\n",
       "    </tr>\n",
       "    <tr>\n",
       "      <td>1</td>\n",
       "      <td>0.715162</td>\n",
       "      <td>0.772358</td>\n",
       "      <td>0.539267</td>\n",
       "      <td>0.821540</td>\n",
       "      <td>00:01</td>\n",
       "    </tr>\n",
       "    <tr>\n",
       "      <td>2</td>\n",
       "      <td>0.559081</td>\n",
       "      <td>0.813807</td>\n",
       "      <td>0.484214</td>\n",
       "      <td>0.828571</td>\n",
       "      <td>00:01</td>\n",
       "    </tr>\n",
       "    <tr>\n",
       "      <td>3</td>\n",
       "      <td>0.518218</td>\n",
       "      <td>0.824654</td>\n",
       "      <td>0.465942</td>\n",
       "      <td>0.837054</td>\n",
       "      <td>00:01</td>\n",
       "    </tr>\n",
       "    <tr>\n",
       "      <td>4</td>\n",
       "      <td>0.467986</td>\n",
       "      <td>0.834580</td>\n",
       "      <td>0.460282</td>\n",
       "      <td>0.837612</td>\n",
       "      <td>00:01</td>\n",
       "    </tr>\n",
       "    <tr>\n",
       "      <td>5</td>\n",
       "      <td>0.454022</td>\n",
       "      <td>0.835796</td>\n",
       "      <td>0.445014</td>\n",
       "      <td>0.839918</td>\n",
       "      <td>00:01</td>\n",
       "    </tr>\n",
       "    <tr>\n",
       "      <td>6</td>\n",
       "      <td>0.440516</td>\n",
       "      <td>0.838283</td>\n",
       "      <td>0.439826</td>\n",
       "      <td>0.836719</td>\n",
       "      <td>00:01</td>\n",
       "    </tr>\n",
       "    <tr>\n",
       "      <td>7</td>\n",
       "      <td>0.412463</td>\n",
       "      <td>0.846142</td>\n",
       "      <td>0.436441</td>\n",
       "      <td>0.841964</td>\n",
       "      <td>00:01</td>\n",
       "    </tr>\n",
       "    <tr>\n",
       "      <td>8</td>\n",
       "      <td>0.441041</td>\n",
       "      <td>0.839195</td>\n",
       "      <td>0.439692</td>\n",
       "      <td>0.839546</td>\n",
       "      <td>00:01</td>\n",
       "    </tr>\n",
       "    <tr>\n",
       "      <td>9</td>\n",
       "      <td>0.420800</td>\n",
       "      <td>0.841937</td>\n",
       "      <td>0.435276</td>\n",
       "      <td>0.840513</td>\n",
       "      <td>00:01</td>\n",
       "    </tr>\n",
       "    <tr>\n",
       "      <td>10</td>\n",
       "      <td>0.416437</td>\n",
       "      <td>0.844023</td>\n",
       "      <td>0.441777</td>\n",
       "      <td>0.841481</td>\n",
       "      <td>00:01</td>\n",
       "    </tr>\n",
       "    <tr>\n",
       "      <td>11</td>\n",
       "      <td>0.434710</td>\n",
       "      <td>0.838379</td>\n",
       "      <td>0.432421</td>\n",
       "      <td>0.841406</td>\n",
       "      <td>00:01</td>\n",
       "    </tr>\n",
       "    <tr>\n",
       "      <td>12</td>\n",
       "      <td>0.414546</td>\n",
       "      <td>0.842925</td>\n",
       "      <td>0.436496</td>\n",
       "      <td>0.841555</td>\n",
       "      <td>00:01</td>\n",
       "    </tr>\n",
       "    <tr>\n",
       "      <td>13</td>\n",
       "      <td>0.404283</td>\n",
       "      <td>0.846365</td>\n",
       "      <td>0.428472</td>\n",
       "      <td>0.842299</td>\n",
       "      <td>00:01</td>\n",
       "    </tr>\n",
       "    <tr>\n",
       "      <td>14</td>\n",
       "      <td>0.400829</td>\n",
       "      <td>0.846183</td>\n",
       "      <td>0.428934</td>\n",
       "      <td>0.842597</td>\n",
       "      <td>00:01</td>\n",
       "    </tr>\n",
       "    <tr>\n",
       "      <td>15</td>\n",
       "      <td>0.396550</td>\n",
       "      <td>0.847262</td>\n",
       "      <td>0.430441</td>\n",
       "      <td>0.841815</td>\n",
       "      <td>00:01</td>\n",
       "    </tr>\n",
       "    <tr>\n",
       "      <td>16</td>\n",
       "      <td>0.414498</td>\n",
       "      <td>0.840329</td>\n",
       "      <td>0.433538</td>\n",
       "      <td>0.842336</td>\n",
       "      <td>00:01</td>\n",
       "    </tr>\n",
       "    <tr>\n",
       "      <td>17</td>\n",
       "      <td>0.393007</td>\n",
       "      <td>0.847212</td>\n",
       "      <td>0.436346</td>\n",
       "      <td>0.839993</td>\n",
       "      <td>00:01</td>\n",
       "    </tr>\n",
       "    <tr>\n",
       "      <td>18</td>\n",
       "      <td>0.395198</td>\n",
       "      <td>0.846520</td>\n",
       "      <td>0.434856</td>\n",
       "      <td>0.840365</td>\n",
       "      <td>00:01</td>\n",
       "    </tr>\n",
       "    <tr>\n",
       "      <td>19</td>\n",
       "      <td>0.414866</td>\n",
       "      <td>0.841550</td>\n",
       "      <td>0.429343</td>\n",
       "      <td>0.842039</td>\n",
       "      <td>00:01</td>\n",
       "    </tr>\n",
       "  </tbody>\n",
       "</table>"
      ],
      "text/plain": [
       "<IPython.core.display.HTML object>"
      ]
     },
     "metadata": {},
     "output_type": "display_data"
    },
    {
     "data": {
      "text/html": [
       "\n",
       "    <div>\n",
       "        <style>\n",
       "            /* Turns off some styling */\n",
       "            progress {\n",
       "                /* gets rid of default border in Firefox and Opera. */\n",
       "                border: none;\n",
       "                /* Needs to be in here for Safari polyfill so background images work as expected. */\n",
       "                background-size: auto;\n",
       "            }\n",
       "            .progress-bar-interrupted, .progress-bar-interrupted::-webkit-progress-bar {\n",
       "                background: #F44336;\n",
       "            }\n",
       "        </style>\n",
       "      <progress value='1195' class='' max='1195', style='width:300px; height:20px; vertical-align: middle;'></progress>\n",
       "      100.00% [1195/1195 00:00<00:00]\n",
       "    </div>\n",
       "    "
      ],
      "text/plain": [
       "<IPython.core.display.HTML object>"
      ]
     },
     "metadata": {},
     "output_type": "display_data"
    },
    {
     "data": {
      "text/html": [
       "\n",
       "    <div>\n",
       "        <style>\n",
       "            /* Turns off some styling */\n",
       "            progress {\n",
       "                /* gets rid of default border in Firefox and Opera. */\n",
       "                border: none;\n",
       "                /* Needs to be in here for Safari polyfill so background images work as expected. */\n",
       "                background-size: auto;\n",
       "            }\n",
       "            .progress-bar-interrupted, .progress-bar-interrupted::-webkit-progress-bar {\n",
       "                background: #F44336;\n",
       "            }\n",
       "        </style>\n",
       "      <progress value='0' class='progress-bar-interrupted' max='6', style='width:300px; height:20px; vertical-align: middle;'></progress>\n",
       "      Interrupted\n",
       "    </div>\n",
       "    "
      ],
      "text/plain": [
       "<IPython.core.display.HTML object>"
      ]
     },
     "metadata": {},
     "output_type": "display_data"
    },
    {
     "name": "stdout",
     "output_type": "stream",
     "text": [
      "torch.Size([4096, 169]) torch.Size([4096])\n",
      "tensor([ 6, 20, 18,  ...,  5,  5, 22], device='cuda:0')\n",
      "torch.Size([692224, 28])\n"
     ]
    },
    {
     "ename": "TypeError",
     "evalue": "argmax(): argument 'input' (position 1) must be Tensor, not tuple",
     "output_type": "error",
     "traceback": [
      "\u001b[0;31m---------------------------------------------------------------------------\u001b[0m",
      "\u001b[0;31mTypeError\u001b[0m                                 Traceback (most recent call last)",
      "\u001b[0;32m<ipython-input-152-ec9775ede022>\u001b[0m in \u001b[0;36m<module>\u001b[0;34m\u001b[0m\n\u001b[0;32m----> 1\u001b[0;31m \u001b[0mrun\u001b[0m\u001b[0;34m(\u001b[0m\u001b[0;34m)\u001b[0m\u001b[0;34m\u001b[0m\u001b[0;34m\u001b[0m\u001b[0m\n\u001b[0m",
      "\u001b[0;32m<ipython-input-151-1dc858d5233d>\u001b[0m in \u001b[0;36mrun\u001b[0;34m(data_sets, models, processing_params, training_params, evaluation_params)\u001b[0m\n\u001b[1;32m      7\u001b[0m         \u001b[0;32mfor\u001b[0m \u001b[0mmodel\u001b[0m \u001b[0;32min\u001b[0m \u001b[0mprogress_bar\u001b[0m\u001b[0;34m(\u001b[0m\u001b[0mmodels\u001b[0m\u001b[0;34m)\u001b[0m\u001b[0;34m:\u001b[0m\u001b[0;34m\u001b[0m\u001b[0;34m\u001b[0m\u001b[0m\n\u001b[1;32m      8\u001b[0m             \u001b[0mLearner\u001b[0m \u001b[0;34m=\u001b[0m \u001b[0mtrain_model\u001b[0m\u001b[0;34m(\u001b[0m\u001b[0mmodel\u001b[0m\u001b[0;34m,\u001b[0m \u001b[0mtrain_valid\u001b[0m\u001b[0;34m,\u001b[0m \u001b[0mvocab\u001b[0m\u001b[0;34m,\u001b[0m \u001b[0mtraining_params\u001b[0m\u001b[0;34m)\u001b[0m\u001b[0;34m\u001b[0m\u001b[0;34m\u001b[0m\u001b[0m\n\u001b[0;32m----> 9\u001b[0;31m             \u001b[0mres_df1\u001b[0m \u001b[0;34m=\u001b[0m \u001b[0mmeasure_next_step_prediction\u001b[0m\u001b[0;34m(\u001b[0m\u001b[0mLearner\u001b[0m\u001b[0;34m,\u001b[0m \u001b[0mtest\u001b[0m\u001b[0;34m,\u001b[0m \u001b[0mevaluation_params\u001b[0m\u001b[0;34m)\u001b[0m\u001b[0;34m\u001b[0m\u001b[0;34m\u001b[0m\u001b[0m\n\u001b[0m\u001b[1;32m     10\u001b[0m             \u001b[0mres_df2\u001b[0m \u001b[0;34m=\u001b[0m \u001b[0mmeasure_suffix_prediction\u001b[0m\u001b[0;34m(\u001b[0m\u001b[0mLearner\u001b[0m\u001b[0;34m,\u001b[0m \u001b[0mtest\u001b[0m\u001b[0;34m,\u001b[0m \u001b[0mevaluation_params\u001b[0m\u001b[0;34m)\u001b[0m\u001b[0;34m\u001b[0m\u001b[0;34m\u001b[0m\u001b[0m\n\u001b[1;32m     11\u001b[0m \u001b[0;34m\u001b[0m\u001b[0m\n",
      "\u001b[0;32m<ipython-input-150-2bc9f0037d74>\u001b[0m in \u001b[0;36mmeasure_next_step_prediction\u001b[0;34m(model, test, evaluation_params)\u001b[0m\n\u001b[1;32m     64\u001b[0m \u001b[0;34m\u001b[0m\u001b[0m\n\u001b[1;32m     65\u001b[0m     \u001b[0mtest_dl\u001b[0m \u001b[0;34m=\u001b[0m \u001b[0mDataLoader\u001b[0m\u001b[0;34m(\u001b[0m\u001b[0mpd_data\u001b[0m\u001b[0;34m,\u001b[0m \u001b[0mbatch_size\u001b[0m\u001b[0;34m=\u001b[0m\u001b[0mbs\u001b[0m\u001b[0;34m*\u001b[0m\u001b[0;36m64\u001b[0m\u001b[0;34m,\u001b[0m \u001b[0msampler\u001b[0m\u001b[0;34m=\u001b[0m\u001b[0mtest_sampler\u001b[0m\u001b[0;34m,\u001b[0m \u001b[0mcollate_fn\u001b[0m\u001b[0;34m=\u001b[0m\u001b[0mpartial\u001b[0m\u001b[0;34m(\u001b[0m\u001b[0mpad_collate\u001b[0m\u001b[0;34m,\u001b[0m \u001b[0mpad_first\u001b[0m\u001b[0;34m=\u001b[0m\u001b[0;32mTrue\u001b[0m\u001b[0;34m)\u001b[0m\u001b[0;34m)\u001b[0m\u001b[0;34m\u001b[0m\u001b[0;34m\u001b[0m\u001b[0m\n\u001b[0;32m---> 66\u001b[0;31m     \u001b[0mmean\u001b[0m \u001b[0;34m=\u001b[0m \u001b[0mpredict_next_step_basic\u001b[0m\u001b[0;34m(\u001b[0m\u001b[0mmodel\u001b[0m\u001b[0;34m,\u001b[0m \u001b[0mtest_dl\u001b[0m\u001b[0;34m)\u001b[0m\u001b[0;34m\u001b[0m\u001b[0;34m\u001b[0m\u001b[0m\n\u001b[0m\u001b[1;32m     67\u001b[0m     \u001b[0;32mreturn\u001b[0m \u001b[0mmean\u001b[0m\u001b[0;34m\u001b[0m\u001b[0;34m\u001b[0m\u001b[0m\n\u001b[1;32m     68\u001b[0m \u001b[0;34m\u001b[0m\u001b[0m\n",
      "\u001b[0;32m<ipython-input-147-affb455214fd>\u001b[0m in \u001b[0;36mpredict_next_step_basic\u001b[0;34m(learner, test_dl)\u001b[0m\n\u001b[1;32m     21\u001b[0m         \u001b[0mlearner\u001b[0m\u001b[0;34m.\u001b[0m\u001b[0mmodel\u001b[0m\u001b[0;34m.\u001b[0m\u001b[0mreset\u001b[0m\u001b[0;34m(\u001b[0m\u001b[0;34m)\u001b[0m\u001b[0;34m\u001b[0m\u001b[0;34m\u001b[0m\u001b[0m\n\u001b[1;32m     22\u001b[0m         \u001b[0mprint\u001b[0m\u001b[0;34m(\u001b[0m\u001b[0mlearner\u001b[0m\u001b[0;34m.\u001b[0m\u001b[0mmodel\u001b[0m\u001b[0;34m(\u001b[0m\u001b[0mx\u001b[0m\u001b[0;34m)\u001b[0m\u001b[0;34m[\u001b[0m\u001b[0;36m0\u001b[0m\u001b[0;34m]\u001b[0m\u001b[0;34m.\u001b[0m\u001b[0mshape\u001b[0m\u001b[0;34m)\u001b[0m\u001b[0;34m\u001b[0m\u001b[0;34m\u001b[0m\u001b[0m\n\u001b[0;32m---> 23\u001b[0;31m         \u001b[0macc4batch\u001b[0m\u001b[0;34m.\u001b[0m\u001b[0mappend\u001b[0m\u001b[0;34m(\u001b[0m\u001b[0;34m(\u001b[0m\u001b[0mtorch\u001b[0m\u001b[0;34m.\u001b[0m\u001b[0margmax\u001b[0m\u001b[0;34m(\u001b[0m\u001b[0mlearner\u001b[0m\u001b[0;34m.\u001b[0m\u001b[0mmodel\u001b[0m\u001b[0;34m(\u001b[0m\u001b[0mx\u001b[0m\u001b[0;34m)\u001b[0m\u001b[0;34m,\u001b[0m \u001b[0mdim\u001b[0m\u001b[0;34m=\u001b[0m\u001b[0;36m1\u001b[0m\u001b[0;34m)\u001b[0m\u001b[0;34m==\u001b[0m\u001b[0my\u001b[0m\u001b[0;34m)\u001b[0m\u001b[0;34m)\u001b[0m\u001b[0;34m.\u001b[0m\u001b[0mfloat\u001b[0m\u001b[0;34m(\u001b[0m\u001b[0;34m)\u001b[0m\u001b[0;34m.\u001b[0m\u001b[0mmean\u001b[0m\u001b[0;34m(\u001b[0m\u001b[0;34m)\u001b[0m\u001b[0;34m.\u001b[0m\u001b[0mcpu\u001b[0m\u001b[0;34m(\u001b[0m\u001b[0;34m)\u001b[0m\u001b[0;34m\u001b[0m\u001b[0;34m\u001b[0m\u001b[0m\n\u001b[0m\u001b[1;32m     24\u001b[0m \u001b[0;34m\u001b[0m\u001b[0m\n\u001b[1;32m     25\u001b[0m     \u001b[0;32mreturn\u001b[0m \u001b[0mnp\u001b[0m\u001b[0;34m.\u001b[0m\u001b[0mmean\u001b[0m\u001b[0;34m(\u001b[0m\u001b[0macc4batch\u001b[0m\u001b[0;34m)\u001b[0m\u001b[0;34m\u001b[0m\u001b[0;34m\u001b[0m\u001b[0m\n",
      "\u001b[0;31mTypeError\u001b[0m: argmax(): argument 'input' (position 1) must be Tensor, not tuple"
     ]
    }
   ],
   "source": [
    "run()"
   ]
  },
  {
   "cell_type": "code",
   "execution_count": 24,
   "metadata": {},
   "outputs": [
    {
     "name": "stdout",
     "output_type": "stream",
     "text": [
      "default\n"
     ]
    }
   ],
   "source": [
    "\n",
    "def func1():\n",
    "    print('func1')\n",
    "\n",
    "def func2():\n",
    "    print('func2')\n",
    "dictc={'A':func1,'B':func2}\n",
    "\n",
    "def defaultfunc():\n",
    "    print('default')\n",
    "s='...'\n",
    "dictc.get(s,defaultfunc)()\n",
    "    "
   ]
  },
  {
   "cell_type": "code",
   "execution_count": 153,
   "metadata": {},
   "outputs": [],
   "source": [
    "#def random_splitter(fn, p_valid, seed): \n",
    "#    random.seed(seed)\n",
    "#    return random.random() < p_valid\n",
    "\n",
    "class Preprocessing():\n",
    "    \n",
    "    def __init__(self, dataset, processing_params):\n",
    "        self.data_set = import_xes(untar_data(dataset)).events\n",
    "        self.seed = processing_params.get(\"seed\")\n",
    "        self.bs = processing_params.get(\"bs\")\n",
    "        self.bptt = processing_params.get(\"bptt\")\n",
    "        \n",
    "    def preprocess_it(self):\n",
    "        cfl = ControlFlowList.from_df(self.data_set)\n",
    "        UNK, PAD, BOT, EOT = \"xxunk xxpad xxbot xxeot \".split()\n",
    "        proc_tok = TokenizeProcessor()\n",
    "        proc_num = NumericalizeProcessor()\n",
    "        \n",
    "        sd = SplitData.split_by_func(cfl, partial(random_splitter, p_valid=0.1))\n",
    "        ll = label_by_func(sd, lambda x: 0, proc_x = [proc_tok, proc_num])\n",
    "        vocab = proc_num.vocab\n",
    "        data = lm_databunchify(ll, self.bs, self.bptt)\n",
    "        return data, ll.test.x, vocab\n",
    "    \n",
    "\n",
    "class Basic1():\n",
    "    def __init__(self, training_params, vocab):\n",
    "        self.parameters = training_params.get(\"basic\")\n",
    "        self.nh = self.parameters.get(\"nh\")\n",
    "        self.n_in = self.parameters.get(\"bs\") * self.parameters.get(\"bptt\")\n",
    "        self.cbfs = self.parameters.get(\"cbfs\")\n",
    "        self.vocab = vocab\n",
    "        self.emb_sz = int(len(vocab) / 2)\n",
    "    \n",
    "    def trainbasic(self, train):\n",
    "        basic = BasicModel(self.n_in, len(self.vocab), self.emb_sz, self.nh)\n",
    "        learner = Learner(basic, train, cross_entropy_flat, cb_funcs=self.cbfs, opt_func=opt_func)\n",
    "        learner.fit(5)\n",
    "        return learner\n",
    "    \n",
    "class AwdLstm1():\n",
    "    def __init__(self, training_params, vocab):\n",
    "        self.parameters = training_params.get(\"awd_lstm\")\n",
    "        self.emb_sz = self.parameters.get(\"emb_sz\")\n",
    "        self.nh = self.parameters.get(\"nh\")\n",
    "        self.nl = self.parameters.get(\"nl\")\n",
    "        self.cbs = self.parameters.get(\"cbs\")\n",
    "        self.vocab = vocab\n",
    "        self.tok_pad = vocab.index(PAD)\n",
    "\n",
    "    \n",
    "    def trainawd(self, train):\n",
    "        awd_lstm = get_language_model(len(vocab), self.emb_sz, self.nh, self.nl, self.tok_pad, input_p=0.6, \n",
    "                                      output_p=0.4, weight_p=0.5, embed_p=0.1, hidden_p=0.2)\n",
    "        learner = Learner(awd_lstm, train, cross_entropy_flat, lr=5e-3, cb_funcs=self.cbs, opt_func=adam_opt())\n",
    "        learner.fit(20)\n",
    "        return learner\n",
    "    \n",
    "    \n",
    "class Basic2():\n",
    "    def __init__(self, nh, bs, bptt, vocab):\n",
    "        self.nh = nh\n",
    "        self.n_in = bs * bptt\n",
    "        self.vocab = vocab\n",
    "        self.emb_sz = int(len(vocab) / 2)\n",
    "        \n",
    "    def buildbasic(self):\n",
    "        basic = BasicModel(self.n_in, len(self.vocab), self.emb_sz, self.nh)\n",
    "        return basic\n",
    "    \n",
    "    def trainbasic(self, model, train, training_params):\n",
    "        parameters = training_params.get(\"basic\")\n",
    "        cbfs = parameters.get(\"cbfs\")\n",
    "        learner = Learner(model, train, cross_entropy_flat, cb_funcs=cbfs, opt_func=opt_func)\n",
    "        learner.fit(5)\n",
    "        return learner\n",
    "    \n",
    "    \n",
    "class AwdLstm2():\n",
    "    def __init__(self, emb_sz, nh, nl, vocab):\n",
    "        self.emb_sz = emb_sz\n",
    "        self.nh = nh\n",
    "        self.nl = nl\n",
    "        self.vocab = vocab\n",
    "        self.tok_pad = vocab.index(PAD)\n",
    "        \n",
    "    def buildawd(self):\n",
    "        awd_lstm = get_language_model(len(vocab), self.emb_sz, self.nh, self.nl, self.tok_pad, input_p=0.6, \n",
    "                                      output_p=0.4, weight_p=0.5, embed_p=0.1, hidden_p=0.2)\n",
    "        return awd_lstm\n",
    "    \n",
    "    def trainawd(self, model, train, training_params):\n",
    "        parameters = training_params.get(\"awd_lstm\")\n",
    "        cbs = parameters.get(\"cbs\")\n",
    "        learner = Learner(model, train, cross_entropy_flat, lr=5e-3, cb_funcs=cbs, opt_func=adam_opt())\n",
    "        learner.fit(20)\n",
    "        return learner\n",
    "\n",
    "    \n",
    "class ProcessPrediction(Preprocessing, Basic, AwdLstm):\n",
    "    \n",
    "    def training(model, train, training_params):\n",
    "        parameters = training_params.get(\"awd_lstm\")\n",
    "        cbs = parameters.get(\"cbs\")\n",
    "        learner = Learner(model, train, cross_entropy_flat, lr=5e-3, cb_funcs=cbs, opt_func=adam_opt())\n",
    "        learner.fit(20)\n",
    "        return learner\n",
    "    \n",
    "    def suffixPrediction(learner, test, evaluation_params):\n",
    "        bs = evaluation_params.get(\"bs\")\n",
    "        bptt = evaluation_params.get(\"bptt\")\n",
    "\n",
    "        x, y = process_data_for_suffix_prediction(test)\n",
    "        pd_data = Dataset(x,y)\n",
    "        test_sampler = SortSampler(pd_data.x, key=partial(func, data=pd_data))\n",
    "\n",
    "        test_dl = DataLoader(pd_data, batch_size=bs*8, sampler=test_sampler, collate_fn=pad_collate_sp)\n",
    "        mean = predict_suffix(learner, test_dl)\n",
    "        return mean\n",
    "    \n",
    "    def nextStepPrediction(learner, test, evaluation_params):\n",
    "        bs = evaluation_params.get(\"bs\")\n",
    "        bptt = evaluation_params.get(\"bptt\")\n",
    "\n",
    "        x, y = process_data_for_next_step_prediction(test)\n",
    "        pd_data = Dataset(x, y)\n",
    "        test_sampler = SortSampler(pd_data.x, key=partial(func, data=pd_data))\n",
    "\n",
    "        test_dl = DataLoader(pd_data, batch_size=bs*64, sampler=test_sampler, collate_fn=partial(pad_collate, pad_first=True))\n",
    "        mean = predict_next_step(learner, test_dl)\n",
    "        return mean\n",
    "       \n",
    "    def testing(learner, test, evaluation_params):\n",
    "        suffix = suffixPrediction(learner, test, evaluation_params)\n",
    "        nextstep = nextStepPrediction(learner, test, evaluation_params)\n",
    "        return suffix, nextstep"
   ]
  },
  {
   "cell_type": "code",
   "execution_count": 154,
   "metadata": {},
   "outputs": [
    {
     "data": {
      "text/html": [
       "\n",
       "    <div>\n",
       "        <style>\n",
       "            /* Turns off some styling */\n",
       "            progress {\n",
       "                /* gets rid of default border in Firefox and Opera. */\n",
       "                border: none;\n",
       "                /* Needs to be in here for Safari polyfill so background images work as expected. */\n",
       "                background-size: auto;\n",
       "            }\n",
       "            .progress-bar-interrupted, .progress-bar-interrupted::-webkit-progress-bar {\n",
       "                background: #F44336;\n",
       "            }\n",
       "        </style>\n",
       "      <progress value='6' class='' max='6', style='width:300px; height:20px; vertical-align: middle;'></progress>\n",
       "      100.00% [6/6 00:00<00:00]\n",
       "    </div>\n",
       "    "
      ],
      "text/plain": [
       "<IPython.core.display.HTML object>"
      ]
     },
     "metadata": {},
     "output_type": "display_data"
    },
    {
     "data": {
      "text/html": [
       "\n",
       "    <div>\n",
       "        <style>\n",
       "            /* Turns off some styling */\n",
       "            progress {\n",
       "                /* gets rid of default border in Firefox and Opera. */\n",
       "                border: none;\n",
       "                /* Needs to be in here for Safari polyfill so background images work as expected. */\n",
       "                background-size: auto;\n",
       "            }\n",
       "            .progress-bar-interrupted, .progress-bar-interrupted::-webkit-progress-bar {\n",
       "                background: #F44336;\n",
       "            }\n",
       "        </style>\n",
       "      <progress value='1' class='' max='1', style='width:300px; height:20px; vertical-align: middle;'></progress>\n",
       "      100.00% [1/1 00:00<00:00]\n",
       "    </div>\n",
       "    "
      ],
      "text/plain": [
       "<IPython.core.display.HTML object>"
      ]
     },
     "metadata": {},
     "output_type": "display_data"
    },
    {
     "data": {
      "text/html": [
       "\n",
       "    <div>\n",
       "        <style>\n",
       "            /* Turns off some styling */\n",
       "            progress {\n",
       "                /* gets rid of default border in Firefox and Opera. */\n",
       "                border: none;\n",
       "                /* Needs to be in here for Safari polyfill so background images work as expected. */\n",
       "                background-size: auto;\n",
       "            }\n",
       "            .progress-bar-interrupted, .progress-bar-interrupted::-webkit-progress-bar {\n",
       "                background: #F44336;\n",
       "            }\n",
       "        </style>\n",
       "      <progress value='1' class='' max='1', style='width:300px; height:20px; vertical-align: middle;'></progress>\n",
       "      100.00% [1/1 00:00<00:00]\n",
       "    </div>\n",
       "    "
      ],
      "text/plain": [
       "<IPython.core.display.HTML object>"
      ]
     },
     "metadata": {},
     "output_type": "display_data"
    }
   ],
   "source": [
    "data, test, vocab = Preprocessing(URLs.BPIC_2012, processing_params).preprocess_it()"
   ]
  },
  {
   "cell_type": "code",
   "execution_count": 155,
   "metadata": {},
   "outputs": [
    {
     "data": {
      "text/html": [
       "<table border=\"1\" class=\"dataframe\">\n",
       "  <thead>\n",
       "    <tr style=\"text-align: left;\">\n",
       "      <th>epoch</th>\n",
       "      <th>train_loss</th>\n",
       "      <th>train_accuracy_flat</th>\n",
       "      <th>valid_loss</th>\n",
       "      <th>valid_accuracy_flat</th>\n",
       "      <th>time</th>\n",
       "    </tr>\n",
       "  </thead>\n",
       "  <tbody>\n",
       "    <tr>\n",
       "      <td>0</td>\n",
       "      <td>1.668687</td>\n",
       "      <td>0.509598</td>\n",
       "      <td>0.842297</td>\n",
       "      <td>0.740179</td>\n",
       "      <td>00:01</td>\n",
       "    </tr>\n",
       "    <tr>\n",
       "      <td>1</td>\n",
       "      <td>0.778453</td>\n",
       "      <td>0.756505</td>\n",
       "      <td>0.558320</td>\n",
       "      <td>0.826339</td>\n",
       "      <td>00:01</td>\n",
       "    </tr>\n",
       "    <tr>\n",
       "      <td>2</td>\n",
       "      <td>0.564979</td>\n",
       "      <td>0.817192</td>\n",
       "      <td>0.507524</td>\n",
       "      <td>0.826377</td>\n",
       "      <td>00:01</td>\n",
       "    </tr>\n",
       "    <tr>\n",
       "      <td>3</td>\n",
       "      <td>0.511239</td>\n",
       "      <td>0.824704</td>\n",
       "      <td>0.473566</td>\n",
       "      <td>0.835417</td>\n",
       "      <td>00:01</td>\n",
       "    </tr>\n",
       "    <tr>\n",
       "      <td>4</td>\n",
       "      <td>0.488048</td>\n",
       "      <td>0.830708</td>\n",
       "      <td>0.458698</td>\n",
       "      <td>0.840365</td>\n",
       "      <td>00:01</td>\n",
       "    </tr>\n",
       "    <tr>\n",
       "      <td>5</td>\n",
       "      <td>0.466366</td>\n",
       "      <td>0.834995</td>\n",
       "      <td>0.453076</td>\n",
       "      <td>0.841853</td>\n",
       "      <td>00:01</td>\n",
       "    </tr>\n",
       "    <tr>\n",
       "      <td>6</td>\n",
       "      <td>0.436574</td>\n",
       "      <td>0.840926</td>\n",
       "      <td>0.442732</td>\n",
       "      <td>0.838914</td>\n",
       "      <td>00:01</td>\n",
       "    </tr>\n",
       "    <tr>\n",
       "      <td>7</td>\n",
       "      <td>0.427685</td>\n",
       "      <td>0.843549</td>\n",
       "      <td>0.439816</td>\n",
       "      <td>0.843378</td>\n",
       "      <td>00:01</td>\n",
       "    </tr>\n",
       "    <tr>\n",
       "      <td>8</td>\n",
       "      <td>0.401118</td>\n",
       "      <td>0.849891</td>\n",
       "      <td>0.435787</td>\n",
       "      <td>0.843862</td>\n",
       "      <td>00:01</td>\n",
       "    </tr>\n",
       "    <tr>\n",
       "      <td>9</td>\n",
       "      <td>0.408733</td>\n",
       "      <td>0.844675</td>\n",
       "      <td>0.431381</td>\n",
       "      <td>0.845499</td>\n",
       "      <td>00:01</td>\n",
       "    </tr>\n",
       "    <tr>\n",
       "      <td>10</td>\n",
       "      <td>0.402741</td>\n",
       "      <td>0.847909</td>\n",
       "      <td>0.432920</td>\n",
       "      <td>0.847173</td>\n",
       "      <td>00:01</td>\n",
       "    </tr>\n",
       "    <tr>\n",
       "      <td>11</td>\n",
       "      <td>0.400964</td>\n",
       "      <td>0.848182</td>\n",
       "      <td>0.433328</td>\n",
       "      <td>0.840923</td>\n",
       "      <td>00:01</td>\n",
       "    </tr>\n",
       "    <tr>\n",
       "      <td>12</td>\n",
       "      <td>0.397891</td>\n",
       "      <td>0.847718</td>\n",
       "      <td>0.429305</td>\n",
       "      <td>0.846057</td>\n",
       "      <td>00:01</td>\n",
       "    </tr>\n",
       "    <tr>\n",
       "      <td>13</td>\n",
       "      <td>0.418546</td>\n",
       "      <td>0.841782</td>\n",
       "      <td>0.432352</td>\n",
       "      <td>0.845313</td>\n",
       "      <td>00:01</td>\n",
       "    </tr>\n",
       "    <tr>\n",
       "      <td>14</td>\n",
       "      <td>0.419027</td>\n",
       "      <td>0.841996</td>\n",
       "      <td>0.428626</td>\n",
       "      <td>0.847210</td>\n",
       "      <td>00:01</td>\n",
       "    </tr>\n",
       "    <tr>\n",
       "      <td>15</td>\n",
       "      <td>0.400111</td>\n",
       "      <td>0.847549</td>\n",
       "      <td>0.426945</td>\n",
       "      <td>0.846726</td>\n",
       "      <td>00:01</td>\n",
       "    </tr>\n",
       "    <tr>\n",
       "      <td>16</td>\n",
       "      <td>0.414960</td>\n",
       "      <td>0.842939</td>\n",
       "      <td>0.426973</td>\n",
       "      <td>0.846168</td>\n",
       "      <td>00:01</td>\n",
       "    </tr>\n",
       "    <tr>\n",
       "      <td>17</td>\n",
       "      <td>0.397177</td>\n",
       "      <td>0.847376</td>\n",
       "      <td>0.427514</td>\n",
       "      <td>0.846875</td>\n",
       "      <td>00:01</td>\n",
       "    </tr>\n",
       "    <tr>\n",
       "      <td>18</td>\n",
       "      <td>0.391701</td>\n",
       "      <td>0.849144</td>\n",
       "      <td>0.423178</td>\n",
       "      <td>0.847247</td>\n",
       "      <td>00:01</td>\n",
       "    </tr>\n",
       "    <tr>\n",
       "      <td>19</td>\n",
       "      <td>0.405392</td>\n",
       "      <td>0.845800</td>\n",
       "      <td>0.424285</td>\n",
       "      <td>0.847024</td>\n",
       "      <td>00:01</td>\n",
       "    </tr>\n",
       "  </tbody>\n",
       "</table>"
      ],
      "text/plain": [
       "<IPython.core.display.HTML object>"
      ]
     },
     "metadata": {},
     "output_type": "display_data"
    }
   ],
   "source": [
    "awdLearner1 = AwdLstm1(training_params, vocab).trainawd(data)"
   ]
  },
  {
   "cell_type": "code",
   "execution_count": 156,
   "metadata": {},
   "outputs": [
    {
     "data": {
      "text/html": [
       "\n",
       "    <div>\n",
       "        <style>\n",
       "            /* Turns off some styling */\n",
       "            progress {\n",
       "                /* gets rid of default border in Firefox and Opera. */\n",
       "                border: none;\n",
       "                /* Needs to be in here for Safari polyfill so background images work as expected. */\n",
       "                background-size: auto;\n",
       "            }\n",
       "            .progress-bar-interrupted, .progress-bar-interrupted::-webkit-progress-bar {\n",
       "                background: #F44336;\n",
       "            }\n",
       "        </style>\n",
       "      <progress value='1186' class='' max='1186', style='width:300px; height:20px; vertical-align: middle;'></progress>\n",
       "      100.00% [1186/1186 00:00<00:00]\n",
       "    </div>\n",
       "    "
      ],
      "text/plain": [
       "<IPython.core.display.HTML object>"
      ]
     },
     "metadata": {},
     "output_type": "display_data"
    },
    {
     "data": {
      "text/html": [
       "\n",
       "    <div>\n",
       "        <style>\n",
       "            /* Turns off some styling */\n",
       "            progress {\n",
       "                /* gets rid of default border in Firefox and Opera. */\n",
       "                border: none;\n",
       "                /* Needs to be in here for Safari polyfill so background images work as expected. */\n",
       "                background-size: auto;\n",
       "            }\n",
       "            .progress-bar-interrupted, .progress-bar-interrupted::-webkit-progress-bar {\n",
       "                background: #F44336;\n",
       "            }\n",
       "        </style>\n",
       "      <progress value='6' class='' max='6', style='width:300px; height:20px; vertical-align: middle;'></progress>\n",
       "      100.00% [6/6 00:00<00:00]\n",
       "    </div>\n",
       "    "
      ],
      "text/plain": [
       "<IPython.core.display.HTML object>"
      ]
     },
     "metadata": {},
     "output_type": "display_data"
    },
    {
     "data": {
      "text/plain": [
       "0.8412029"
      ]
     },
     "execution_count": 156,
     "metadata": {},
     "output_type": "execute_result"
    }
   ],
   "source": [
    "ProcessPrediction.nextStepPrediction(awdLearner1, test, evaluation_params)"
   ]
  },
  {
   "cell_type": "code",
   "execution_count": 157,
   "metadata": {},
   "outputs": [
    {
     "data": {
      "text/html": [
       "<table border=\"1\" class=\"dataframe\">\n",
       "  <thead>\n",
       "    <tr style=\"text-align: left;\">\n",
       "      <th>epoch</th>\n",
       "      <th>train_loss</th>\n",
       "      <th>train_accuracy_flat</th>\n",
       "      <th>valid_loss</th>\n",
       "      <th>valid_accuracy_flat</th>\n",
       "      <th>time</th>\n",
       "    </tr>\n",
       "  </thead>\n",
       "  <tbody>\n",
       "    <tr>\n",
       "      <td>0</td>\n",
       "      <td>2.136154</td>\n",
       "      <td>0.441563</td>\n",
       "      <td>1.527118</td>\n",
       "      <td>0.580952</td>\n",
       "      <td>00:00</td>\n",
       "    </tr>\n",
       "    <tr>\n",
       "      <td>1</td>\n",
       "      <td>1.354069</td>\n",
       "      <td>0.613962</td>\n",
       "      <td>1.253433</td>\n",
       "      <td>0.634561</td>\n",
       "      <td>00:00</td>\n",
       "    </tr>\n",
       "    <tr>\n",
       "      <td>2</td>\n",
       "      <td>1.213350</td>\n",
       "      <td>0.632503</td>\n",
       "      <td>1.184963</td>\n",
       "      <td>0.634561</td>\n",
       "      <td>00:00</td>\n",
       "    </tr>\n",
       "    <tr>\n",
       "      <td>3</td>\n",
       "      <td>1.167028</td>\n",
       "      <td>0.634917</td>\n",
       "      <td>1.157630</td>\n",
       "      <td>0.638281</td>\n",
       "      <td>00:00</td>\n",
       "    </tr>\n",
       "    <tr>\n",
       "      <td>4</td>\n",
       "      <td>1.145744</td>\n",
       "      <td>0.639117</td>\n",
       "      <td>1.143019</td>\n",
       "      <td>0.641257</td>\n",
       "      <td>00:00</td>\n",
       "    </tr>\n",
       "  </tbody>\n",
       "</table>"
      ],
      "text/plain": [
       "<IPython.core.display.HTML object>"
      ]
     },
     "metadata": {},
     "output_type": "display_data"
    }
   ],
   "source": [
    "basicLearner = Basic1(training_params, vocab).trainbasic(data)"
   ]
  },
  {
   "cell_type": "code",
   "execution_count": 158,
   "metadata": {},
   "outputs": [
    {
     "data": {
      "text/html": [
       "\n",
       "    <div>\n",
       "        <style>\n",
       "            /* Turns off some styling */\n",
       "            progress {\n",
       "                /* gets rid of default border in Firefox and Opera. */\n",
       "                border: none;\n",
       "                /* Needs to be in here for Safari polyfill so background images work as expected. */\n",
       "                background-size: auto;\n",
       "            }\n",
       "            .progress-bar-interrupted, .progress-bar-interrupted::-webkit-progress-bar {\n",
       "                background: #F44336;\n",
       "            }\n",
       "        </style>\n",
       "      <progress value='1186' class='' max='1186', style='width:300px; height:20px; vertical-align: middle;'></progress>\n",
       "      100.00% [1186/1186 00:00<00:00]\n",
       "    </div>\n",
       "    "
      ],
      "text/plain": [
       "<IPython.core.display.HTML object>"
      ]
     },
     "metadata": {},
     "output_type": "display_data"
    },
    {
     "data": {
      "text/html": [
       "\n",
       "    <div>\n",
       "        <style>\n",
       "            /* Turns off some styling */\n",
       "            progress {\n",
       "                /* gets rid of default border in Firefox and Opera. */\n",
       "                border: none;\n",
       "                /* Needs to be in here for Safari polyfill so background images work as expected. */\n",
       "                background-size: auto;\n",
       "            }\n",
       "            .progress-bar-interrupted, .progress-bar-interrupted::-webkit-progress-bar {\n",
       "                background: #F44336;\n",
       "            }\n",
       "        </style>\n",
       "      <progress value='0' class='progress-bar-interrupted' max='6', style='width:300px; height:20px; vertical-align: middle;'></progress>\n",
       "      Interrupted\n",
       "    </div>\n",
       "    "
      ],
      "text/plain": [
       "<IPython.core.display.HTML object>"
      ]
     },
     "metadata": {},
     "output_type": "display_data"
    },
    {
     "ename": "RuntimeError",
     "evalue": "shape '[4096, 110, -1]' is invalid for input of size 3080",
     "output_type": "error",
     "traceback": [
      "\u001b[0;31m---------------------------------------------------------------------------\u001b[0m",
      "\u001b[0;31mRuntimeError\u001b[0m                              Traceback (most recent call last)",
      "\u001b[0;32m<ipython-input-158-1067d4bb929f>\u001b[0m in \u001b[0;36m<module>\u001b[0;34m\u001b[0m\n\u001b[0;32m----> 1\u001b[0;31m \u001b[0mProcessPrediction\u001b[0m\u001b[0;34m.\u001b[0m\u001b[0mnextStepPrediction\u001b[0m\u001b[0;34m(\u001b[0m\u001b[0mbasicLearner\u001b[0m\u001b[0;34m,\u001b[0m \u001b[0mtest\u001b[0m\u001b[0;34m,\u001b[0m \u001b[0mevaluation_params\u001b[0m\u001b[0;34m)\u001b[0m\u001b[0;34m\u001b[0m\u001b[0;34m\u001b[0m\u001b[0m\n\u001b[0m",
      "\u001b[0;32m<ipython-input-153-8f3bf0f53f1d>\u001b[0m in \u001b[0;36mnextStepPrediction\u001b[0;34m(learner, test, evaluation_params)\u001b[0m\n\u001b[1;32m    128\u001b[0m \u001b[0;34m\u001b[0m\u001b[0m\n\u001b[1;32m    129\u001b[0m         \u001b[0mtest_dl\u001b[0m \u001b[0;34m=\u001b[0m \u001b[0mDataLoader\u001b[0m\u001b[0;34m(\u001b[0m\u001b[0mpd_data\u001b[0m\u001b[0;34m,\u001b[0m \u001b[0mbatch_size\u001b[0m\u001b[0;34m=\u001b[0m\u001b[0mbs\u001b[0m\u001b[0;34m*\u001b[0m\u001b[0;36m64\u001b[0m\u001b[0;34m,\u001b[0m \u001b[0msampler\u001b[0m\u001b[0;34m=\u001b[0m\u001b[0mtest_sampler\u001b[0m\u001b[0;34m,\u001b[0m \u001b[0mcollate_fn\u001b[0m\u001b[0;34m=\u001b[0m\u001b[0mpartial\u001b[0m\u001b[0;34m(\u001b[0m\u001b[0mpad_collate\u001b[0m\u001b[0;34m,\u001b[0m \u001b[0mpad_first\u001b[0m\u001b[0;34m=\u001b[0m\u001b[0;32mTrue\u001b[0m\u001b[0;34m)\u001b[0m\u001b[0;34m)\u001b[0m\u001b[0;34m\u001b[0m\u001b[0;34m\u001b[0m\u001b[0m\n\u001b[0;32m--> 130\u001b[0;31m         \u001b[0mmean\u001b[0m \u001b[0;34m=\u001b[0m \u001b[0mpredict_next_step\u001b[0m\u001b[0;34m(\u001b[0m\u001b[0mlearner\u001b[0m\u001b[0;34m,\u001b[0m \u001b[0mtest_dl\u001b[0m\u001b[0;34m)\u001b[0m\u001b[0;34m\u001b[0m\u001b[0;34m\u001b[0m\u001b[0m\n\u001b[0m\u001b[1;32m    131\u001b[0m         \u001b[0;32mreturn\u001b[0m \u001b[0mmean\u001b[0m\u001b[0;34m\u001b[0m\u001b[0;34m\u001b[0m\u001b[0m\n\u001b[1;32m    132\u001b[0m \u001b[0;34m\u001b[0m\u001b[0m\n",
      "\u001b[0;32m~/jupyterlab/fastpm/nbs/exp/control_flow_prediction.py\u001b[0m in \u001b[0;36mpredict_next_step\u001b[0;34m(learner, test_dl)\u001b[0m\n\u001b[1;32m    430\u001b[0m         \u001b[0mlearner\u001b[0m\u001b[0;34m.\u001b[0m\u001b[0mmodel\u001b[0m\u001b[0;34m.\u001b[0m\u001b[0mreset\u001b[0m\u001b[0;34m(\u001b[0m\u001b[0;34m)\u001b[0m\u001b[0;34m\u001b[0m\u001b[0;34m\u001b[0m\u001b[0m\n\u001b[1;32m    431\u001b[0m         \u001b[0mpred\u001b[0m \u001b[0;34m=\u001b[0m \u001b[0mlearner\u001b[0m\u001b[0;34m.\u001b[0m\u001b[0mmodel\u001b[0m\u001b[0;34m(\u001b[0m\u001b[0mx\u001b[0m\u001b[0;34m)\u001b[0m\u001b[0;34m\u001b[0m\u001b[0;34m\u001b[0m\u001b[0m\n\u001b[0;32m--> 432\u001b[0;31m         \u001b[0macc4batch\u001b[0m\u001b[0;34m.\u001b[0m\u001b[0mappend\u001b[0m\u001b[0;34m(\u001b[0m\u001b[0;34m(\u001b[0m\u001b[0mtorch\u001b[0m\u001b[0;34m.\u001b[0m\u001b[0margmax\u001b[0m\u001b[0;34m(\u001b[0m\u001b[0mlearner\u001b[0m\u001b[0;34m.\u001b[0m\u001b[0mmodel\u001b[0m\u001b[0;34m(\u001b[0m\u001b[0mx\u001b[0m\u001b[0;34m)\u001b[0m\u001b[0;34m[\u001b[0m\u001b[0;36m0\u001b[0m\u001b[0;34m]\u001b[0m\u001b[0;34m.\u001b[0m\u001b[0mview\u001b[0m\u001b[0;34m(\u001b[0m\u001b[0;34m*\u001b[0m\u001b[0mx\u001b[0m\u001b[0;34m.\u001b[0m\u001b[0mshape\u001b[0m\u001b[0;34m,\u001b[0m\u001b[0;34m-\u001b[0m\u001b[0;36m1\u001b[0m\u001b[0;34m)\u001b[0m\u001b[0;34m[\u001b[0m\u001b[0;34m:\u001b[0m\u001b[0;34m,\u001b[0m\u001b[0;34m-\u001b[0m\u001b[0;36m1\u001b[0m\u001b[0;34m,\u001b[0m\u001b[0;34m:\u001b[0m\u001b[0;34m]\u001b[0m\u001b[0;34m,\u001b[0m \u001b[0mdim\u001b[0m\u001b[0;34m=\u001b[0m\u001b[0;36m1\u001b[0m\u001b[0;34m)\u001b[0m\u001b[0;34m==\u001b[0m\u001b[0my\u001b[0m\u001b[0;34m)\u001b[0m\u001b[0;34m.\u001b[0m\u001b[0mfloat\u001b[0m\u001b[0;34m(\u001b[0m\u001b[0;34m)\u001b[0m\u001b[0;34m.\u001b[0m\u001b[0mmean\u001b[0m\u001b[0;34m(\u001b[0m\u001b[0;34m)\u001b[0m\u001b[0;34m.\u001b[0m\u001b[0mcpu\u001b[0m\u001b[0;34m(\u001b[0m\u001b[0;34m)\u001b[0m\u001b[0;34m)\u001b[0m\u001b[0;34m\u001b[0m\u001b[0;34m\u001b[0m\u001b[0m\n\u001b[0m\u001b[1;32m    433\u001b[0m     \u001b[0;32mreturn\u001b[0m \u001b[0mnp\u001b[0m\u001b[0;34m.\u001b[0m\u001b[0mmean\u001b[0m\u001b[0;34m(\u001b[0m\u001b[0macc4batch\u001b[0m\u001b[0;34m)\u001b[0m\u001b[0;34m\u001b[0m\u001b[0;34m\u001b[0m\u001b[0m\n\u001b[1;32m    434\u001b[0m \u001b[0;34m\u001b[0m\u001b[0m\n",
      "\u001b[0;31mRuntimeError\u001b[0m: shape '[4096, 110, -1]' is invalid for input of size 3080"
     ]
    }
   ],
   "source": [
    "ProcessPrediction.nextStepPrediction(basicLearner, test, evaluation_params)"
   ]
  },
  {
   "cell_type": "code",
   "execution_count": 26,
   "metadata": {},
   "outputs": [],
   "source": [
    "preprocesser = Preprocessing(URLs.BPIC_2012, processing_params)"
   ]
  },
  {
   "cell_type": "code",
   "execution_count": 27,
   "metadata": {},
   "outputs": [
    {
     "data": {
      "text/html": [
       "\n",
       "    <div>\n",
       "        <style>\n",
       "            /* Turns off some styling */\n",
       "            progress {\n",
       "                /* gets rid of default border in Firefox and Opera. */\n",
       "                border: none;\n",
       "                /* Needs to be in here for Safari polyfill so background images work as expected. */\n",
       "                background-size: auto;\n",
       "            }\n",
       "            .progress-bar-interrupted, .progress-bar-interrupted::-webkit-progress-bar {\n",
       "                background: #F44336;\n",
       "            }\n",
       "        </style>\n",
       "      <progress value='6' class='' max='6', style='width:300px; height:20px; vertical-align: middle;'></progress>\n",
       "      100.00% [6/6 00:00<00:00]\n",
       "    </div>\n",
       "    "
      ],
      "text/plain": [
       "<IPython.core.display.HTML object>"
      ]
     },
     "metadata": {},
     "output_type": "display_data"
    },
    {
     "data": {
      "text/html": [
       "\n",
       "    <div>\n",
       "        <style>\n",
       "            /* Turns off some styling */\n",
       "            progress {\n",
       "                /* gets rid of default border in Firefox and Opera. */\n",
       "                border: none;\n",
       "                /* Needs to be in here for Safari polyfill so background images work as expected. */\n",
       "                background-size: auto;\n",
       "            }\n",
       "            .progress-bar-interrupted, .progress-bar-interrupted::-webkit-progress-bar {\n",
       "                background: #F44336;\n",
       "            }\n",
       "        </style>\n",
       "      <progress value='1' class='' max='1', style='width:300px; height:20px; vertical-align: middle;'></progress>\n",
       "      100.00% [1/1 00:00<00:00]\n",
       "    </div>\n",
       "    "
      ],
      "text/plain": [
       "<IPython.core.display.HTML object>"
      ]
     },
     "metadata": {},
     "output_type": "display_data"
    },
    {
     "data": {
      "text/html": [
       "\n",
       "    <div>\n",
       "        <style>\n",
       "            /* Turns off some styling */\n",
       "            progress {\n",
       "                /* gets rid of default border in Firefox and Opera. */\n",
       "                border: none;\n",
       "                /* Needs to be in here for Safari polyfill so background images work as expected. */\n",
       "                background-size: auto;\n",
       "            }\n",
       "            .progress-bar-interrupted, .progress-bar-interrupted::-webkit-progress-bar {\n",
       "                background: #F44336;\n",
       "            }\n",
       "        </style>\n",
       "      <progress value='1' class='' max='1', style='width:300px; height:20px; vertical-align: middle;'></progress>\n",
       "      100.00% [1/1 00:00<00:00]\n",
       "    </div>\n",
       "    "
      ],
      "text/plain": [
       "<IPython.core.display.HTML object>"
      ]
     },
     "metadata": {},
     "output_type": "display_data"
    }
   ],
   "source": [
    "data, test, vocab = preprocesser.preprocess_it()"
   ]
  },
  {
   "cell_type": "code",
   "execution_count": 71,
   "metadata": {},
   "outputs": [],
   "source": [
    "awdlstm = AwdLstm(300, 300, 2, vocab).buildawd()"
   ]
  },
  {
   "cell_type": "code",
   "execution_count": 77,
   "metadata": {},
   "outputs": [
    {
     "data": {
      "text/plain": [
       "SequentialRNN(\n",
       "  (0): AWD_LSTM(\n",
       "    (emb): Embedding(28, 300, padding_idx=1)\n",
       "    (emb_dp): EmbeddingDropout(\n",
       "      (emb): Embedding(28, 300, padding_idx=1)\n",
       "    )\n",
       "    (rnns): ModuleList(\n",
       "      (0): WeightDropout(\n",
       "        (module): LSTM(300, 300, batch_first=True)\n",
       "      )\n",
       "      (1): WeightDropout(\n",
       "        (module): LSTM(300, 300, batch_first=True)\n",
       "      )\n",
       "    )\n",
       "    (input_dp): RNNDropout()\n",
       "    (hidden_dps): ModuleList(\n",
       "      (0): RNNDropout()\n",
       "      (1): RNNDropout()\n",
       "    )\n",
       "  )\n",
       "  (1): LinearDecoder(\n",
       "    (output_dp): RNNDropout()\n",
       "    (decoder): Linear(in_features=300, out_features=28, bias=True)\n",
       "  )\n",
       ")"
      ]
     },
     "execution_count": 77,
     "metadata": {},
     "output_type": "execute_result"
    }
   ],
   "source": [
    "                                                                                                                                                                                                                                                            "
   ]
  },
  {
   "cell_type": "code",
   "execution_count": 78,
   "metadata": {},
   "outputs": [
    {
     "data": {
      "text/html": [
       "<table border=\"1\" class=\"dataframe\">\n",
       "  <thead>\n",
       "    <tr style=\"text-align: left;\">\n",
       "      <th>epoch</th>\n",
       "      <th>train_loss</th>\n",
       "      <th>train_accuracy_flat</th>\n",
       "      <th>valid_loss</th>\n",
       "      <th>valid_accuracy_flat</th>\n",
       "      <th>time</th>\n",
       "    </tr>\n",
       "  </thead>\n",
       "  <tbody>\n",
       "    <tr>\n",
       "      <td>0</td>\n",
       "      <td>1.733650</td>\n",
       "      <td>0.501549</td>\n",
       "      <td>0.842395</td>\n",
       "      <td>0.729196</td>\n",
       "      <td>00:01</td>\n",
       "    </tr>\n",
       "    <tr>\n",
       "      <td>1</td>\n",
       "      <td>0.753355</td>\n",
       "      <td>0.759794</td>\n",
       "      <td>0.537232</td>\n",
       "      <td>0.825089</td>\n",
       "      <td>00:01</td>\n",
       "    </tr>\n",
       "    <tr>\n",
       "      <td>2</td>\n",
       "      <td>0.563382</td>\n",
       "      <td>0.815716</td>\n",
       "      <td>0.472045</td>\n",
       "      <td>0.838527</td>\n",
       "      <td>00:01</td>\n",
       "    </tr>\n",
       "    <tr>\n",
       "      <td>3</td>\n",
       "      <td>0.528647</td>\n",
       "      <td>0.821738</td>\n",
       "      <td>0.446587</td>\n",
       "      <td>0.841607</td>\n",
       "      <td>00:01</td>\n",
       "    </tr>\n",
       "    <tr>\n",
       "      <td>4</td>\n",
       "      <td>0.470215</td>\n",
       "      <td>0.834270</td>\n",
       "      <td>0.435952</td>\n",
       "      <td>0.843795</td>\n",
       "      <td>00:01</td>\n",
       "    </tr>\n",
       "    <tr>\n",
       "      <td>5</td>\n",
       "      <td>0.469708</td>\n",
       "      <td>0.833027</td>\n",
       "      <td>0.434758</td>\n",
       "      <td>0.848571</td>\n",
       "      <td>00:01</td>\n",
       "    </tr>\n",
       "    <tr>\n",
       "      <td>6</td>\n",
       "      <td>0.438017</td>\n",
       "      <td>0.838602</td>\n",
       "      <td>0.420035</td>\n",
       "      <td>0.849598</td>\n",
       "      <td>00:01</td>\n",
       "    </tr>\n",
       "    <tr>\n",
       "      <td>7</td>\n",
       "      <td>0.454278</td>\n",
       "      <td>0.835195</td>\n",
       "      <td>0.420199</td>\n",
       "      <td>0.849732</td>\n",
       "      <td>00:01</td>\n",
       "    </tr>\n",
       "    <tr>\n",
       "      <td>8</td>\n",
       "      <td>0.421732</td>\n",
       "      <td>0.842352</td>\n",
       "      <td>0.419329</td>\n",
       "      <td>0.849196</td>\n",
       "      <td>00:01</td>\n",
       "    </tr>\n",
       "    <tr>\n",
       "      <td>9</td>\n",
       "      <td>0.410793</td>\n",
       "      <td>0.845007</td>\n",
       "      <td>0.415930</td>\n",
       "      <td>0.847902</td>\n",
       "      <td>00:01</td>\n",
       "    </tr>\n",
       "    <tr>\n",
       "      <td>10</td>\n",
       "      <td>0.418783</td>\n",
       "      <td>0.842074</td>\n",
       "      <td>0.419516</td>\n",
       "      <td>0.848661</td>\n",
       "      <td>00:01</td>\n",
       "    </tr>\n",
       "    <tr>\n",
       "      <td>11</td>\n",
       "      <td>0.408000</td>\n",
       "      <td>0.842137</td>\n",
       "      <td>0.413402</td>\n",
       "      <td>0.850759</td>\n",
       "      <td>00:01</td>\n",
       "    </tr>\n",
       "    <tr>\n",
       "      <td>12</td>\n",
       "      <td>0.422959</td>\n",
       "      <td>0.841213</td>\n",
       "      <td>0.414565</td>\n",
       "      <td>0.851429</td>\n",
       "      <td>00:01</td>\n",
       "    </tr>\n",
       "    <tr>\n",
       "      <td>13</td>\n",
       "      <td>0.405959</td>\n",
       "      <td>0.844256</td>\n",
       "      <td>0.410243</td>\n",
       "      <td>0.850447</td>\n",
       "      <td>00:01</td>\n",
       "    </tr>\n",
       "    <tr>\n",
       "      <td>14</td>\n",
       "      <td>0.408412</td>\n",
       "      <td>0.845918</td>\n",
       "      <td>0.410559</td>\n",
       "      <td>0.850402</td>\n",
       "      <td>00:01</td>\n",
       "    </tr>\n",
       "    <tr>\n",
       "      <td>15</td>\n",
       "      <td>0.407464</td>\n",
       "      <td>0.845103</td>\n",
       "      <td>0.409586</td>\n",
       "      <td>0.851339</td>\n",
       "      <td>00:01</td>\n",
       "    </tr>\n",
       "    <tr>\n",
       "      <td>16</td>\n",
       "      <td>0.418068</td>\n",
       "      <td>0.842907</td>\n",
       "      <td>0.408818</td>\n",
       "      <td>0.851518</td>\n",
       "      <td>00:01</td>\n",
       "    </tr>\n",
       "    <tr>\n",
       "      <td>17</td>\n",
       "      <td>0.402547</td>\n",
       "      <td>0.844451</td>\n",
       "      <td>0.408984</td>\n",
       "      <td>0.851429</td>\n",
       "      <td>00:01</td>\n",
       "    </tr>\n",
       "    <tr>\n",
       "      <td>18</td>\n",
       "      <td>0.406043</td>\n",
       "      <td>0.844315</td>\n",
       "      <td>0.406998</td>\n",
       "      <td>0.852366</td>\n",
       "      <td>00:01</td>\n",
       "    </tr>\n",
       "    <tr>\n",
       "      <td>19</td>\n",
       "      <td>0.400727</td>\n",
       "      <td>0.847567</td>\n",
       "      <td>0.410375</td>\n",
       "      <td>0.851964</td>\n",
       "      <td>00:01</td>\n",
       "    </tr>\n",
       "  </tbody>\n",
       "</table>"
      ],
      "text/plain": [
       "<IPython.core.display.HTML object>"
      ]
     },
     "metadata": {},
     "output_type": "display_data"
    }
   ],
   "source": [
    "learner = ProcessPrediction.training(awdlstm, data, training_params)"
   ]
  },
  {
   "cell_type": "code",
   "execution_count": 45,
   "metadata": {},
   "outputs": [
    {
     "data": {
      "text/html": [
       "\n",
       "    <div>\n",
       "        <style>\n",
       "            /* Turns off some styling */\n",
       "            progress {\n",
       "                /* gets rid of default border in Firefox and Opera. */\n",
       "                border: none;\n",
       "                /* Needs to be in here for Safari polyfill so background images work as expected. */\n",
       "                background-size: auto;\n",
       "            }\n",
       "            .progress-bar-interrupted, .progress-bar-interrupted::-webkit-progress-bar {\n",
       "                background: #F44336;\n",
       "            }\n",
       "        </style>\n",
       "      <progress value='1225' class='' max='1225', style='width:300px; height:20px; vertical-align: middle;'></progress>\n",
       "      100.00% [1225/1225 00:00<00:00]\n",
       "    </div>\n",
       "    "
      ],
      "text/plain": [
       "<IPython.core.display.HTML object>"
      ]
     },
     "metadata": {},
     "output_type": "display_data"
    },
    {
     "data": {
      "text/html": [
       "\n",
       "    <div>\n",
       "        <style>\n",
       "            /* Turns off some styling */\n",
       "            progress {\n",
       "                /* gets rid of default border in Firefox and Opera. */\n",
       "                border: none;\n",
       "                /* Needs to be in here for Safari polyfill so background images work as expected. */\n",
       "                background-size: auto;\n",
       "            }\n",
       "            .progress-bar-interrupted, .progress-bar-interrupted::-webkit-progress-bar {\n",
       "                background: #F44336;\n",
       "            }\n",
       "        </style>\n",
       "      <progress value='48' class='' max='48', style='width:300px; height:20px; vertical-align: middle;'></progress>\n",
       "      100.00% [48/48 03:17<00:00]\n",
       "    </div>\n",
       "    "
      ],
      "text/plain": [
       "<IPython.core.display.HTML object>"
      ]
     },
     "metadata": {},
     "output_type": "display_data"
    },
    {
     "data": {
      "text/html": [
       "\n",
       "    <div>\n",
       "        <style>\n",
       "            /* Turns off some styling */\n",
       "            progress {\n",
       "                /* gets rid of default border in Firefox and Opera. */\n",
       "                border: none;\n",
       "                /* Needs to be in here for Safari polyfill so background images work as expected. */\n",
       "                background-size: auto;\n",
       "            }\n",
       "            .progress-bar-interrupted, .progress-bar-interrupted::-webkit-progress-bar {\n",
       "                background: #F44336;\n",
       "            }\n",
       "        </style>\n",
       "      <progress value='1225' class='' max='1225', style='width:300px; height:20px; vertical-align: middle;'></progress>\n",
       "      100.00% [1225/1225 00:00<00:00]\n",
       "    </div>\n",
       "    "
      ],
      "text/plain": [
       "<IPython.core.display.HTML object>"
      ]
     },
     "metadata": {},
     "output_type": "display_data"
    },
    {
     "data": {
      "text/html": [
       "\n",
       "    <div>\n",
       "        <style>\n",
       "            /* Turns off some styling */\n",
       "            progress {\n",
       "                /* gets rid of default border in Firefox and Opera. */\n",
       "                border: none;\n",
       "                /* Needs to be in here for Safari polyfill so background images work as expected. */\n",
       "                background-size: auto;\n",
       "            }\n",
       "            .progress-bar-interrupted, .progress-bar-interrupted::-webkit-progress-bar {\n",
       "                background: #F44336;\n",
       "            }\n",
       "        </style>\n",
       "      <progress value='6' class='' max='6', style='width:300px; height:20px; vertical-align: middle;'></progress>\n",
       "      100.00% [6/6 00:01<00:00]\n",
       "    </div>\n",
       "    "
      ],
      "text/plain": [
       "<IPython.core.display.HTML object>"
      ]
     },
     "metadata": {},
     "output_type": "display_data"
    },
    {
     "data": {
      "text/plain": [
       "0.8467781"
      ]
     },
     "execution_count": 45,
     "metadata": {},
     "output_type": "execute_result"
    }
   ],
   "source": [
    "ProcessPrediction.suffixPrediction(learner, test, evaluation_params)\n",
    "ProcessPrediction.nextStepPrediction(learner, test, evaluation_params)"
   ]
  },
  {
   "cell_type": "code",
   "execution_count": null,
   "metadata": {},
   "outputs": [],
   "source": []
  }
 ],
 "metadata": {
  "kernelspec": {
   "display_name": "fastpm2",
   "language": "python",
   "name": "fastpm2"
  },
  "language_info": {
   "codemirror_mode": {
    "name": "ipython",
    "version": 3
   },
   "file_extension": ".py",
   "mimetype": "text/x-python",
   "name": "python",
   "nbconvert_exporter": "python",
   "pygments_lexer": "ipython3",
   "version": "3.7.4"
  },
  "varInspector": {
   "cols": {
    "lenName": 16,
    "lenType": 16,
    "lenVar": 40
   },
   "kernels_config": {
    "python": {
     "delete_cmd_postfix": "",
     "delete_cmd_prefix": "del ",
     "library": "var_list.py",
     "varRefreshCmd": "print(var_dic_list())"
    },
    "r": {
     "delete_cmd_postfix": ") ",
     "delete_cmd_prefix": "rm(",
     "library": "var_list.r",
     "varRefreshCmd": "cat(var_dic_list()) "
    }
   },
   "types_to_exclude": [
    "module",
    "function",
    "builtin_function_or_method",
    "instance",
    "_Feature"
   ],
   "window_display": false
  }
 },
 "nbformat": 4,
 "nbformat_minor": 2
}
