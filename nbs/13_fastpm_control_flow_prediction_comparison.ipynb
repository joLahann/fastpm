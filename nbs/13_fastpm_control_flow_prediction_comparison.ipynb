{
 "cells": [
  {
   "cell_type": "markdown",
   "metadata": {},
   "source": [
    "Control-Flow-Prediction: Comparison of Models\n",
    "--"
   ]
  },
  {
   "cell_type": "code",
   "execution_count": 1,
   "metadata": {},
   "outputs": [],
   "source": [
    "%load_ext autoreload\n",
    "%autoreload 2\n",
    "\n",
    "%matplotlib inline"
   ]
  },
  {
   "cell_type": "code",
   "execution_count": 2,
   "metadata": {},
   "outputs": [],
   "source": [
    "from exp.eventlog import *\n",
    "from exp.dl_utils import *\n",
    "from exp.control_flow_prediction import *"
   ]
  },
  {
   "cell_type": "code",
   "execution_count": 3,
   "metadata": {},
   "outputs": [],
   "source": [
    "#export\n",
    "def _expand_path(fpath): return Path(fpath).expanduser()\n",
    "\n",
    "class Config():\n",
    "    \"Creates a default config file 'config.yml' in $FASTPM HOME (default `~/.fastpm/`)\"\n",
    "    DEFAULT_CONFIG_LOCATION = os.path.expanduser(os.getenv('FASTPM_HOME', '~/.fastpm'))\n",
    "    DEFAULT_CONFIG_PATH = DEFAULT_CONFIG_LOCATION + '/config.yml'\n",
    "    DEFAULT_CONFIG = {\n",
    "        'data_path': DEFAULT_CONFIG_LOCATION + '/data',\n",
    "        'model_path': DEFAULT_CONFIG_LOCATION + '/model'\n",
    "    }\n",
    "    \n",
    "    @classmethod\n",
    "    def get_key(cls, key):\n",
    "        cf=cls.get()\n",
    "        \"Get the path to `key` in the config file.\"\n",
    "        return cf.get(key, cls.DEFAULT_CONFIG.get(key,None))\n",
    "\n",
    "    @classmethod\n",
    "    def get_path(cls, path):\n",
    "        \"Get the `path` in the config file.\"\n",
    "        return _expand_path(cls.get_key(path))\n",
    "\n",
    "    @classmethod\n",
    "    def data_path(cls):\n",
    "        \"Get the path to data in the config file.\"\n",
    "        return cls.get_path('data_path')\n",
    "\n",
    "    @classmethod\n",
    "    def data_archive_path(cls):\n",
    "        \"Get the path to data archives in the config file.\"\n",
    "        return cls.get_path('data_archive_path')\n",
    "    \n",
    "    @classmethod\n",
    "    def get_model(cls, path):\n",
    "        \"Get the 'path' in the config file.\"\n",
    "        return _expand_path(cls.get_key(path))\n",
    "    \n",
    "    @classmethod\n",
    "    def model_path(cls):\n",
    "        \"Get the path to model in the config file.\"\n",
    "        return cls.get_path('model_path')\n",
    "    \n",
    "    @classmethod\n",
    "    def model_archive_path(cls):\n",
    "        \"Get the path to data archives in the config file.\"\n",
    "        return cls.get_path('model_archive_path')\n",
    "\n",
    "    @classmethod\n",
    "    def get(cls, fpath=None, create_missing=True):\n",
    "        \"Retrieve the `Config` in `fpath`.\"\n",
    "        fpath = _expand_path(fpath or cls.DEFAULT_CONFIG_PATH)\n",
    "        if not fpath.exists() and create_missing: cls.create(fpath)\n",
    "        assert fpath.exists(), f'Could not find config at: {fpath}. Please create'\n",
    "        with open(fpath, 'r') as yaml_file:\n",
    "            yfile=yaml.safe_load(yaml_file)\n",
    "            return yfile\n",
    "\n",
    "    @classmethod\n",
    "    def create(cls, fpath):\n",
    "        \"Creates a `Config` from `fpath`.\"\n",
    "        fpath = _expand_path(fpath)\n",
    "        assert(fpath.suffix == '.yml')\n",
    "        if fpath.exists(): return\n",
    "        fpath.parent.mkdir(parents=True, exist_ok=True)\n",
    "        with open(fpath, 'w') as yaml_file:\n",
    "            yaml.dump(cls.DEFAULT_CONFIG, yaml_file, default_flow_style=False)"
   ]
  },
  {
   "cell_type": "markdown",
   "metadata": {},
   "source": [
    "### Building Basic Model"
   ]
  },
  {
   "cell_type": "code",
   "execution_count": 53,
   "metadata": {},
   "outputs": [],
   "source": [
    "class BasicModel(nn.Module):\n",
    "    def __init__(self, n_in, n_out, emb_sz, nh):\n",
    "        super().__init__()\n",
    "        self.nh = nh\n",
    "        self.emb = nn.Embedding(n_in, 7, padding_idx=1)\n",
    "        self.lin1 = nn.Linear(7, nh)\n",
    "        self.relu = nn.ReLU()\n",
    "        self.lin2 = nn.Linear(nh, n_out)\n",
    "        \n",
    "    def __call__(self, x):\n",
    "        x = x.long()\n",
    "        x = self.emb(x)\n",
    "        x = self.lin1(x)\n",
    "        x = self.relu(x)\n",
    "        x = self.lin2(x)\n",
    "        return x.float()\n",
    "    \n",
    "    def reset(self):\n",
    "        \"Reset the hidden states.\"\n",
    "        pass"
   ]
  },
  {
   "cell_type": "code",
   "execution_count": 54,
   "metadata": {},
   "outputs": [],
   "source": [
    "sched = combine_scheds([0.3, 0.7], [sched_cos(0.3, 0.6), sched_cos(0.6, 0.2)]) \n",
    "opt_func = partial(Optimizer, steppers=[sgd_step])"
   ]
  },
  {
   "cell_type": "markdown",
   "metadata": {},
   "source": [
    "### Load and Preprocess Data"
   ]
  },
  {
   "cell_type": "code",
   "execution_count": 55,
   "metadata": {},
   "outputs": [],
   "source": [
    "# bpi2012 = import_xes(untar_data(URLs.BPIC_2012)).events\n",
    "# bpi2017 = import_xes(untar_data(URLs.BPIC_2017)).events\n",
    "# data_sets = [bpi2012, bpi2017]"
   ]
  },
  {
   "cell_type": "code",
   "execution_count": 56,
   "metadata": {},
   "outputs": [],
   "source": [
    "datasets = [URLs.BPIC_2012, URLs.BPIC_2017]\n",
    "models = [\"basic\"]\n",
    "\n",
    "processing_params = {'seed': 42, 'bs': 64, 'bptt': 70}\n",
    "training_params = {'awd_lstm': {'emb_sz': 300, 'nh': 300, 'nl': 2, 'cbs': [partial(AvgStatsCallback, accuracy_flat),\n",
    "                                                                           CudaCallback, Recorder,\n",
    "                                                                           partial(GradientClipping, clip=0.1),\n",
    "                                                                           partial(RNNTrainer, α=2., β=1.),\n",
    "                                                                           ProgressBarCallback]},\n",
    "                   'basic': {'nh': 10, 'bs': 64, 'bptt': 70, 'cbfs': [partial(AvgStatsCallback, accuracy_flat), \n",
    "                                                                      CudaCallback, Recorder,\n",
    "                                                                      partial(ParamScheduler, 'lr', sched),\n",
    "                                                                      ProgressBarCallback]}\n",
    "                  }\n",
    "evaluation_params = {'bs': 64, 'bptt': 70}"
   ]
  },
  {
   "cell_type": "markdown",
   "metadata": {},
   "source": [
    "### Helper Functions for \"run()\""
   ]
  },
  {
   "cell_type": "code",
   "execution_count": 57,
   "metadata": {},
   "outputs": [],
   "source": [
    "def load_data(dataset):\n",
    "    return import_xes(untar_data(dataset)).events\n",
    "\n",
    "def func(t, data):\n",
    "    return len(data[int(t)][0])\n",
    "\n",
    "def process_data_set(data_set, processing_params):\n",
    "    seed = processing_params.get(\"seed\")\n",
    "    bs = processing_params.get(\"bs\")\n",
    "    bptt = processing_params.get(\"bptt\")\n",
    "    \n",
    "    cfl = ControlFlowList.from_df(data_set)\n",
    "    split = SplitData.split_by_func(cfl, partial(random_splitter, p_valid=0.1))\n",
    "    \n",
    "    UNK, PAD, BOT, EOT = \"xxunk xxpad xxbot xxeot \".split()\n",
    "    proc_tok = TokenizeProcessor()\n",
    "    proc_num = NumericalizeProcessor()\n",
    "    sd = SplitData.split_by_func(cfl, partial(random_splitter, p_valid=0.1))\n",
    "    ll = label_by_func(sd, lambda x: 0, proc_x = [proc_tok, proc_num])\n",
    "    vocab = proc_num.vocab\n",
    "    data = lm_databunchify(ll, bs, bptt)\n",
    "    \n",
    "    return data, ll.test.x, vocab\n",
    "\n",
    "def train_model(model, train, vocab, training_params):\n",
    "    if model == \"awd_lstm\":\n",
    "        parameters = training_params.get(\"awd_lstm\")\n",
    "        emb_sz = parameters.get(\"emb_sz\")\n",
    "        nh = parameters.get(\"nh\")\n",
    "        nl = parameters.get(\"nl\")\n",
    "        cbs = parameters.get(\"cbs\")\n",
    "        \n",
    "        tok_pad = vocab.index(PAD)\n",
    "        awd_lstm = get_language_model(len(vocab), emb_sz, nh, nl, tok_pad, input_p=0.6, \n",
    "                                      output_p=0.4, weight_p=0.5, embed_p=0.1, hidden_p=0.2)\n",
    "        learner = Learner(awd_lstm, train, cross_entropy_flat, lr=5e-3, cb_funcs=cbs, opt_func=adam_opt())\n",
    "        learner.fit(20)\n",
    "        return learner\n",
    "    \n",
    "    elif model == \"basic\":\n",
    "        parameters = training_params.get(\"basic\")\n",
    "        nh = parameters.get(\"nh\")\n",
    "        bs = parameters.get(\"bs\")\n",
    "        bptt = parameters.get(\"bptt\")\n",
    "        cbfs = parameters.get(\"cbfs\")\n",
    "        n_in = bs * bptt\n",
    "        emb_sz = int(len(vocab) / 2)\n",
    "        \n",
    "        basic = BasicModel(n_in, len(vocab), emb_sz, nh)\n",
    "        learner = Learner(basic, train, cross_entropy_flat, cb_funcs=cbfs, opt_func=opt_func)\n",
    "        learner.fit(20)\n",
    "        return learner\n",
    "\n",
    "    else:\n",
    "        pass\n",
    "\n",
    "def measure_next_step_prediction(model, test, evaluation_params):\n",
    "    bs = evaluation_params.get(\"bs\")\n",
    "    bptt = evaluation_params.get(\"bptt\")\n",
    "    \n",
    "    x, y = process_data_for_next_step_prediction(test)\n",
    "    pd_data = Dataset(x,y)\n",
    "    test_sampler = SortSampler(pd_data.x, key=partial(func, data=pd_data))\n",
    "    \n",
    "    test_dl = DataLoader(pd_data, batch_size=bs*64, sampler=test_sampler, collate_fn=partial(pad_collate, pad_first=True))\n",
    "    mean = predict_next_step(model, test_dl)\n",
    "    return mean\n",
    "\n",
    "def measure_suffix_prediction(model, test, evaluation_params):\n",
    "    bs = evaluation_params.get(\"bs\")\n",
    "    bptt = evaluation_params.get(\"bptt\")\n",
    "    \n",
    "    x, y = process_data_for_suffix_prediction(test)\n",
    "    pd_data = Dataset(x,y)\n",
    "    test_sampler = SortSampler(pd_data.x, key=partial(func, data=pd_data))\n",
    "    \n",
    "    test_dl = DataLoader(pd_data, batch_size=bs*8, sampler=test_sampler, collate_fn=pad_collate_sp)\n",
    "    mean = predict_suffix(model, test_dl)\n",
    "    return mean"
   ]
  },
  {
   "cell_type": "code",
   "execution_count": 58,
   "metadata": {},
   "outputs": [],
   "source": [
    "def run(data_sets=datasets, models=models, processing_params=processing_params,\n",
    "         training_params=training_params, evaluation_params=evaluation_params):\n",
    "    \n",
    "    for dataset in progress_bar(datasets):\n",
    "        data_set = load_data(dataset)\n",
    "        train_valid, test, vocab = process_data_set(data_set, processing_params)\n",
    "        for model in progress_bar(models):\n",
    "            Learner = train_model(model, train_valid, vocab, training_params)\n",
    "            res_df1 = measure_next_step_prediction(Learner, test, evaluation_params)\n",
    "            res_df2 = measure_suffix_prediction(Learner, test, evaluation_params)\n",
    "            \n",
    "            print(\"For {} and {}:\\n--> Next-Step-Prediction value = {}\\n--> Suffix-Prediction value = {}\".format(model, data_set, res_df1, res_df2))"
   ]
  },
  {
   "cell_type": "code",
   "execution_count": 59,
   "metadata": {
    "scrolled": false
   },
   "outputs": [
    {
     "data": {
      "text/html": [
       "\n",
       "    <div>\n",
       "        <style>\n",
       "            /* Turns off some styling */\n",
       "            progress {\n",
       "                /* gets rid of default border in Firefox and Opera. */\n",
       "                border: none;\n",
       "                /* Needs to be in here for Safari polyfill so background images work as expected. */\n",
       "                background-size: auto;\n",
       "            }\n",
       "            .progress-bar-interrupted, .progress-bar-interrupted::-webkit-progress-bar {\n",
       "                background: #F44336;\n",
       "            }\n",
       "        </style>\n",
       "      <progress value='0' class='progress-bar-interrupted' max='2', style='width:300px; height:20px; vertical-align: middle;'></progress>\n",
       "      Interrupted\n",
       "    </div>\n",
       "    "
      ],
      "text/plain": [
       "<IPython.core.display.HTML object>"
      ]
     },
     "metadata": {},
     "output_type": "display_data"
    },
    {
     "data": {
      "text/html": [
       "\n",
       "    <div>\n",
       "        <style>\n",
       "            /* Turns off some styling */\n",
       "            progress {\n",
       "                /* gets rid of default border in Firefox and Opera. */\n",
       "                border: none;\n",
       "                /* Needs to be in here for Safari polyfill so background images work as expected. */\n",
       "                background-size: auto;\n",
       "            }\n",
       "            .progress-bar-interrupted, .progress-bar-interrupted::-webkit-progress-bar {\n",
       "                background: #F44336;\n",
       "            }\n",
       "        </style>\n",
       "      <progress value='6' class='' max='6', style='width:300px; height:20px; vertical-align: middle;'></progress>\n",
       "      100.00% [6/6 00:00<00:00]\n",
       "    </div>\n",
       "    "
      ],
      "text/plain": [
       "<IPython.core.display.HTML object>"
      ]
     },
     "metadata": {},
     "output_type": "display_data"
    },
    {
     "data": {
      "text/html": [
       "\n",
       "    <div>\n",
       "        <style>\n",
       "            /* Turns off some styling */\n",
       "            progress {\n",
       "                /* gets rid of default border in Firefox and Opera. */\n",
       "                border: none;\n",
       "                /* Needs to be in here for Safari polyfill so background images work as expected. */\n",
       "                background-size: auto;\n",
       "            }\n",
       "            .progress-bar-interrupted, .progress-bar-interrupted::-webkit-progress-bar {\n",
       "                background: #F44336;\n",
       "            }\n",
       "        </style>\n",
       "      <progress value='1' class='' max='1', style='width:300px; height:20px; vertical-align: middle;'></progress>\n",
       "      100.00% [1/1 00:00<00:00]\n",
       "    </div>\n",
       "    "
      ],
      "text/plain": [
       "<IPython.core.display.HTML object>"
      ]
     },
     "metadata": {},
     "output_type": "display_data"
    },
    {
     "data": {
      "text/html": [
       "\n",
       "    <div>\n",
       "        <style>\n",
       "            /* Turns off some styling */\n",
       "            progress {\n",
       "                /* gets rid of default border in Firefox and Opera. */\n",
       "                border: none;\n",
       "                /* Needs to be in here for Safari polyfill so background images work as expected. */\n",
       "                background-size: auto;\n",
       "            }\n",
       "            .progress-bar-interrupted, .progress-bar-interrupted::-webkit-progress-bar {\n",
       "                background: #F44336;\n",
       "            }\n",
       "        </style>\n",
       "      <progress value='1' class='' max='1', style='width:300px; height:20px; vertical-align: middle;'></progress>\n",
       "      100.00% [1/1 00:00<00:00]\n",
       "    </div>\n",
       "    "
      ],
      "text/plain": [
       "<IPython.core.display.HTML object>"
      ]
     },
     "metadata": {},
     "output_type": "display_data"
    },
    {
     "data": {
      "text/html": [
       "\n",
       "    <div>\n",
       "        <style>\n",
       "            /* Turns off some styling */\n",
       "            progress {\n",
       "                /* gets rid of default border in Firefox and Opera. */\n",
       "                border: none;\n",
       "                /* Needs to be in here for Safari polyfill so background images work as expected. */\n",
       "                background-size: auto;\n",
       "            }\n",
       "            .progress-bar-interrupted, .progress-bar-interrupted::-webkit-progress-bar {\n",
       "                background: #F44336;\n",
       "            }\n",
       "        </style>\n",
       "      <progress value='0' class='progress-bar-interrupted' max='1', style='width:300px; height:20px; vertical-align: middle;'></progress>\n",
       "      Interrupted\n",
       "    </div>\n",
       "    "
      ],
      "text/plain": [
       "<IPython.core.display.HTML object>"
      ]
     },
     "metadata": {},
     "output_type": "display_data"
    },
    {
     "data": {
      "text/html": [
       "<table border=\"1\" class=\"dataframe\">\n",
       "  <thead>\n",
       "    <tr style=\"text-align: left;\">\n",
       "      <th>epoch</th>\n",
       "      <th>train_loss</th>\n",
       "      <th>train_accuracy_flat</th>\n",
       "      <th>valid_loss</th>\n",
       "      <th>valid_accuracy_flat</th>\n",
       "      <th>time</th>\n",
       "    </tr>\n",
       "  </thead>\n",
       "  <tbody>\n",
       "    <tr>\n",
       "      <td>0</td>\n",
       "      <td>2.450200</td>\n",
       "      <td>0.347353</td>\n",
       "      <td>1.869108</td>\n",
       "      <td>0.488356</td>\n",
       "      <td>00:00</td>\n",
       "    </tr>\n",
       "    <tr>\n",
       "      <td>1</td>\n",
       "      <td>1.610901</td>\n",
       "      <td>0.557102</td>\n",
       "      <td>1.392981</td>\n",
       "      <td>0.616109</td>\n",
       "      <td>00:00</td>\n",
       "    </tr>\n",
       "    <tr>\n",
       "      <td>2</td>\n",
       "      <td>1.302040</td>\n",
       "      <td>0.623410</td>\n",
       "      <td>1.212588</td>\n",
       "      <td>0.626637</td>\n",
       "      <td>00:00</td>\n",
       "    </tr>\n",
       "    <tr>\n",
       "      <td>3</td>\n",
       "      <td>1.183080</td>\n",
       "      <td>0.631510</td>\n",
       "      <td>1.143531</td>\n",
       "      <td>0.637128</td>\n",
       "      <td>00:00</td>\n",
       "    </tr>\n",
       "    <tr>\n",
       "      <td>4</td>\n",
       "      <td>1.133691</td>\n",
       "      <td>0.642124</td>\n",
       "      <td>1.127720</td>\n",
       "      <td>0.644755</td>\n",
       "      <td>00:00</td>\n",
       "    </tr>\n",
       "    <tr>\n",
       "      <td>5</td>\n",
       "      <td>1.111089</td>\n",
       "      <td>0.643668</td>\n",
       "      <td>1.090726</td>\n",
       "      <td>0.644792</td>\n",
       "      <td>00:00</td>\n",
       "    </tr>\n",
       "    <tr>\n",
       "      <td>6</td>\n",
       "      <td>1.089545</td>\n",
       "      <td>0.643417</td>\n",
       "      <td>1.072166</td>\n",
       "      <td>0.644382</td>\n",
       "      <td>00:00</td>\n",
       "    </tr>\n",
       "    <tr>\n",
       "      <td>7</td>\n",
       "      <td>1.070159</td>\n",
       "      <td>0.643290</td>\n",
       "      <td>1.057303</td>\n",
       "      <td>0.644382</td>\n",
       "      <td>00:00</td>\n",
       "    </tr>\n",
       "    <tr>\n",
       "      <td>8</td>\n",
       "      <td>1.055936</td>\n",
       "      <td>0.643745</td>\n",
       "      <td>1.043343</td>\n",
       "      <td>0.644568</td>\n",
       "      <td>00:00</td>\n",
       "    </tr>\n",
       "    <tr>\n",
       "      <td>9</td>\n",
       "      <td>1.043104</td>\n",
       "      <td>0.644442</td>\n",
       "      <td>1.031726</td>\n",
       "      <td>0.644792</td>\n",
       "      <td>00:00</td>\n",
       "    </tr>\n",
       "    <tr>\n",
       "      <td>10</td>\n",
       "      <td>1.033524</td>\n",
       "      <td>0.644748</td>\n",
       "      <td>1.023666</td>\n",
       "      <td>0.644792</td>\n",
       "      <td>00:00</td>\n",
       "    </tr>\n",
       "    <tr>\n",
       "      <td>11</td>\n",
       "      <td>1.026268</td>\n",
       "      <td>0.644843</td>\n",
       "      <td>1.017303</td>\n",
       "      <td>0.644792</td>\n",
       "      <td>00:00</td>\n",
       "    </tr>\n",
       "    <tr>\n",
       "      <td>12</td>\n",
       "      <td>1.020622</td>\n",
       "      <td>0.645153</td>\n",
       "      <td>1.012692</td>\n",
       "      <td>0.644792</td>\n",
       "      <td>00:00</td>\n",
       "    </tr>\n",
       "    <tr>\n",
       "      <td>13</td>\n",
       "      <td>1.016550</td>\n",
       "      <td>0.646214</td>\n",
       "      <td>1.009167</td>\n",
       "      <td>0.650186</td>\n",
       "      <td>00:00</td>\n",
       "    </tr>\n",
       "    <tr>\n",
       "      <td>14</td>\n",
       "      <td>1.013497</td>\n",
       "      <td>0.646802</td>\n",
       "      <td>1.006520</td>\n",
       "      <td>0.650186</td>\n",
       "      <td>00:00</td>\n",
       "    </tr>\n",
       "    <tr>\n",
       "      <td>15</td>\n",
       "      <td>1.011156</td>\n",
       "      <td>0.647048</td>\n",
       "      <td>1.004537</td>\n",
       "      <td>0.650186</td>\n",
       "      <td>00:00</td>\n",
       "    </tr>\n",
       "    <tr>\n",
       "      <td>16</td>\n",
       "      <td>1.009332</td>\n",
       "      <td>0.648082</td>\n",
       "      <td>1.002926</td>\n",
       "      <td>0.652083</td>\n",
       "      <td>00:00</td>\n",
       "    </tr>\n",
       "    <tr>\n",
       "      <td>17</td>\n",
       "      <td>1.007855</td>\n",
       "      <td>0.649390</td>\n",
       "      <td>1.001667</td>\n",
       "      <td>0.652716</td>\n",
       "      <td>00:00</td>\n",
       "    </tr>\n",
       "    <tr>\n",
       "      <td>18</td>\n",
       "      <td>1.006661</td>\n",
       "      <td>0.649727</td>\n",
       "      <td>1.000623</td>\n",
       "      <td>0.652716</td>\n",
       "      <td>00:00</td>\n",
       "    </tr>\n",
       "    <tr>\n",
       "      <td>19</td>\n",
       "      <td>1.005661</td>\n",
       "      <td>0.649841</td>\n",
       "      <td>0.999719</td>\n",
       "      <td>0.652716</td>\n",
       "      <td>00:00</td>\n",
       "    </tr>\n",
       "  </tbody>\n",
       "</table>"
      ],
      "text/plain": [
       "<IPython.core.display.HTML object>"
      ]
     },
     "metadata": {},
     "output_type": "display_data"
    },
    {
     "data": {
      "text/html": [
       "\n",
       "    <div>\n",
       "        <style>\n",
       "            /* Turns off some styling */\n",
       "            progress {\n",
       "                /* gets rid of default border in Firefox and Opera. */\n",
       "                border: none;\n",
       "                /* Needs to be in here for Safari polyfill so background images work as expected. */\n",
       "                background-size: auto;\n",
       "            }\n",
       "            .progress-bar-interrupted, .progress-bar-interrupted::-webkit-progress-bar {\n",
       "                background: #F44336;\n",
       "            }\n",
       "        </style>\n",
       "      <progress value='1210' class='' max='1210', style='width:300px; height:20px; vertical-align: middle;'></progress>\n",
       "      100.00% [1210/1210 00:00<00:00]\n",
       "    </div>\n",
       "    "
      ],
      "text/plain": [
       "<IPython.core.display.HTML object>"
      ]
     },
     "metadata": {},
     "output_type": "display_data"
    },
    {
     "data": {
      "text/html": [
       "\n",
       "    <div>\n",
       "        <style>\n",
       "            /* Turns off some styling */\n",
       "            progress {\n",
       "                /* gets rid of default border in Firefox and Opera. */\n",
       "                border: none;\n",
       "                /* Needs to be in here for Safari polyfill so background images work as expected. */\n",
       "                background-size: auto;\n",
       "            }\n",
       "            .progress-bar-interrupted, .progress-bar-interrupted::-webkit-progress-bar {\n",
       "                background: #F44336;\n",
       "            }\n",
       "        </style>\n",
       "      <progress value='0' class='progress-bar-interrupted' max='6', style='width:300px; height:20px; vertical-align: middle;'></progress>\n",
       "      Interrupted\n",
       "    </div>\n",
       "    "
      ],
      "text/plain": [
       "<IPython.core.display.HTML object>"
      ]
     },
     "metadata": {},
     "output_type": "display_data"
    },
    {
     "ename": "RuntimeError",
     "evalue": "shape '[4096, 166, -1]' is invalid for input of size 4648",
     "output_type": "error",
     "traceback": [
      "\u001b[0;31m---------------------------------------------------------------------------\u001b[0m",
      "\u001b[0;31mRuntimeError\u001b[0m                              Traceback (most recent call last)",
      "\u001b[0;32m<ipython-input-59-ec9775ede022>\u001b[0m in \u001b[0;36m<module>\u001b[0;34m\u001b[0m\n\u001b[0;32m----> 1\u001b[0;31m \u001b[0mrun\u001b[0m\u001b[0;34m(\u001b[0m\u001b[0;34m)\u001b[0m\u001b[0;34m\u001b[0m\u001b[0;34m\u001b[0m\u001b[0m\n\u001b[0m",
      "\u001b[0;32m<ipython-input-58-12dfaf946938>\u001b[0m in \u001b[0;36mrun\u001b[0;34m(data_sets, models, processing_params, training_params, evaluation_params)\u001b[0m\n\u001b[1;32m      7\u001b[0m         \u001b[0;32mfor\u001b[0m \u001b[0mmodel\u001b[0m \u001b[0;32min\u001b[0m \u001b[0mprogress_bar\u001b[0m\u001b[0;34m(\u001b[0m\u001b[0mmodels\u001b[0m\u001b[0;34m)\u001b[0m\u001b[0;34m:\u001b[0m\u001b[0;34m\u001b[0m\u001b[0;34m\u001b[0m\u001b[0m\n\u001b[1;32m      8\u001b[0m             \u001b[0mLearner\u001b[0m \u001b[0;34m=\u001b[0m \u001b[0mtrain_model\u001b[0m\u001b[0;34m(\u001b[0m\u001b[0mmodel\u001b[0m\u001b[0;34m,\u001b[0m \u001b[0mtrain_valid\u001b[0m\u001b[0;34m,\u001b[0m \u001b[0mvocab\u001b[0m\u001b[0;34m,\u001b[0m \u001b[0mtraining_params\u001b[0m\u001b[0;34m)\u001b[0m\u001b[0;34m\u001b[0m\u001b[0;34m\u001b[0m\u001b[0m\n\u001b[0;32m----> 9\u001b[0;31m             \u001b[0mres_df1\u001b[0m \u001b[0;34m=\u001b[0m \u001b[0mmeasure_next_step_prediction\u001b[0m\u001b[0;34m(\u001b[0m\u001b[0mLearner\u001b[0m\u001b[0;34m,\u001b[0m \u001b[0mtest\u001b[0m\u001b[0;34m,\u001b[0m \u001b[0mevaluation_params\u001b[0m\u001b[0;34m)\u001b[0m\u001b[0;34m\u001b[0m\u001b[0;34m\u001b[0m\u001b[0m\n\u001b[0m\u001b[1;32m     10\u001b[0m             \u001b[0mres_df2\u001b[0m \u001b[0;34m=\u001b[0m \u001b[0mmeasure_suffix_prediction\u001b[0m\u001b[0;34m(\u001b[0m\u001b[0mLearner\u001b[0m\u001b[0;34m,\u001b[0m \u001b[0mtest\u001b[0m\u001b[0;34m,\u001b[0m \u001b[0mevaluation_params\u001b[0m\u001b[0;34m)\u001b[0m\u001b[0;34m\u001b[0m\u001b[0;34m\u001b[0m\u001b[0m\n\u001b[1;32m     11\u001b[0m \u001b[0;34m\u001b[0m\u001b[0m\n",
      "\u001b[0;32m<ipython-input-57-cc2d86dfcdf1>\u001b[0m in \u001b[0;36mmeasure_next_step_prediction\u001b[0;34m(model, test, evaluation_params)\u001b[0m\n\u001b[1;32m     64\u001b[0m \u001b[0;34m\u001b[0m\u001b[0m\n\u001b[1;32m     65\u001b[0m     \u001b[0mtest_dl\u001b[0m \u001b[0;34m=\u001b[0m \u001b[0mDataLoader\u001b[0m\u001b[0;34m(\u001b[0m\u001b[0mpd_data\u001b[0m\u001b[0;34m,\u001b[0m \u001b[0mbatch_size\u001b[0m\u001b[0;34m=\u001b[0m\u001b[0mbs\u001b[0m\u001b[0;34m*\u001b[0m\u001b[0;36m64\u001b[0m\u001b[0;34m,\u001b[0m \u001b[0msampler\u001b[0m\u001b[0;34m=\u001b[0m\u001b[0mtest_sampler\u001b[0m\u001b[0;34m,\u001b[0m \u001b[0mcollate_fn\u001b[0m\u001b[0;34m=\u001b[0m\u001b[0mpartial\u001b[0m\u001b[0;34m(\u001b[0m\u001b[0mpad_collate\u001b[0m\u001b[0;34m,\u001b[0m \u001b[0mpad_first\u001b[0m\u001b[0;34m=\u001b[0m\u001b[0;32mTrue\u001b[0m\u001b[0;34m)\u001b[0m\u001b[0;34m)\u001b[0m\u001b[0;34m\u001b[0m\u001b[0;34m\u001b[0m\u001b[0m\n\u001b[0;32m---> 66\u001b[0;31m     \u001b[0mmean\u001b[0m \u001b[0;34m=\u001b[0m \u001b[0mpredict_next_step\u001b[0m\u001b[0;34m(\u001b[0m\u001b[0mmodel\u001b[0m\u001b[0;34m,\u001b[0m \u001b[0mtest_dl\u001b[0m\u001b[0;34m)\u001b[0m\u001b[0;34m\u001b[0m\u001b[0;34m\u001b[0m\u001b[0m\n\u001b[0m\u001b[1;32m     67\u001b[0m     \u001b[0;32mreturn\u001b[0m \u001b[0mmean\u001b[0m\u001b[0;34m\u001b[0m\u001b[0;34m\u001b[0m\u001b[0m\n\u001b[1;32m     68\u001b[0m \u001b[0;34m\u001b[0m\u001b[0m\n",
      "\u001b[0;32m~/jupyterlab/fastpm/nbs/exp/control_flow_prediction.py\u001b[0m in \u001b[0;36mpredict_next_step\u001b[0;34m(learner, test_dl)\u001b[0m\n\u001b[1;32m    430\u001b[0m         \u001b[0mlearner\u001b[0m\u001b[0;34m.\u001b[0m\u001b[0mmodel\u001b[0m\u001b[0;34m.\u001b[0m\u001b[0mreset\u001b[0m\u001b[0;34m(\u001b[0m\u001b[0;34m)\u001b[0m\u001b[0;34m\u001b[0m\u001b[0;34m\u001b[0m\u001b[0m\n\u001b[1;32m    431\u001b[0m         \u001b[0mpred\u001b[0m \u001b[0;34m=\u001b[0m \u001b[0mlearner\u001b[0m\u001b[0;34m.\u001b[0m\u001b[0mmodel\u001b[0m\u001b[0;34m(\u001b[0m\u001b[0mx\u001b[0m\u001b[0;34m)\u001b[0m\u001b[0;34m\u001b[0m\u001b[0;34m\u001b[0m\u001b[0m\n\u001b[0;32m--> 432\u001b[0;31m         \u001b[0macc4batch\u001b[0m\u001b[0;34m.\u001b[0m\u001b[0mappend\u001b[0m\u001b[0;34m(\u001b[0m\u001b[0;34m(\u001b[0m\u001b[0mtorch\u001b[0m\u001b[0;34m.\u001b[0m\u001b[0margmax\u001b[0m\u001b[0;34m(\u001b[0m\u001b[0mlearner\u001b[0m\u001b[0;34m.\u001b[0m\u001b[0mmodel\u001b[0m\u001b[0;34m(\u001b[0m\u001b[0mx\u001b[0m\u001b[0;34m)\u001b[0m\u001b[0;34m[\u001b[0m\u001b[0;36m0\u001b[0m\u001b[0;34m]\u001b[0m\u001b[0;34m.\u001b[0m\u001b[0mview\u001b[0m\u001b[0;34m(\u001b[0m\u001b[0;34m*\u001b[0m\u001b[0mx\u001b[0m\u001b[0;34m.\u001b[0m\u001b[0mshape\u001b[0m\u001b[0;34m,\u001b[0m\u001b[0;34m-\u001b[0m\u001b[0;36m1\u001b[0m\u001b[0;34m)\u001b[0m\u001b[0;34m[\u001b[0m\u001b[0;34m:\u001b[0m\u001b[0;34m,\u001b[0m\u001b[0;34m-\u001b[0m\u001b[0;36m1\u001b[0m\u001b[0;34m,\u001b[0m\u001b[0;34m:\u001b[0m\u001b[0;34m]\u001b[0m\u001b[0;34m,\u001b[0m \u001b[0mdim\u001b[0m\u001b[0;34m=\u001b[0m\u001b[0;36m1\u001b[0m\u001b[0;34m)\u001b[0m\u001b[0;34m==\u001b[0m\u001b[0my\u001b[0m\u001b[0;34m)\u001b[0m\u001b[0;34m.\u001b[0m\u001b[0mfloat\u001b[0m\u001b[0;34m(\u001b[0m\u001b[0;34m)\u001b[0m\u001b[0;34m.\u001b[0m\u001b[0mmean\u001b[0m\u001b[0;34m(\u001b[0m\u001b[0;34m)\u001b[0m\u001b[0;34m.\u001b[0m\u001b[0mcpu\u001b[0m\u001b[0;34m(\u001b[0m\u001b[0;34m)\u001b[0m\u001b[0;34m)\u001b[0m\u001b[0;34m\u001b[0m\u001b[0;34m\u001b[0m\u001b[0m\n\u001b[0m\u001b[1;32m    433\u001b[0m     \u001b[0;32mreturn\u001b[0m \u001b[0mnp\u001b[0m\u001b[0;34m.\u001b[0m\u001b[0mmean\u001b[0m\u001b[0;34m(\u001b[0m\u001b[0macc4batch\u001b[0m\u001b[0;34m)\u001b[0m\u001b[0;34m\u001b[0m\u001b[0;34m\u001b[0m\u001b[0m\n\u001b[1;32m    434\u001b[0m \u001b[0;34m\u001b[0m\u001b[0m\n",
      "\u001b[0;31mRuntimeError\u001b[0m: shape '[4096, 166, -1]' is invalid for input of size 4648"
     ]
    }
   ],
   "source": [
    "run()"
   ]
  },
  {
   "cell_type": "code",
   "execution_count": null,
   "metadata": {},
   "outputs": [],
   "source": [
    "class Model:\n",
    "    prepare_training_Databunch()"
   ]
  },
  {
   "cell_type": "code",
   "execution_count": null,
   "metadata": {},
   "outputs": [],
   "source": [
    "\n",
    "def func1():\n",
    "    print('func1')\n",
    "\n",
    "def func2():\n",
    "    print('func2')\n",
    "dictc={'A':func1,'B':func2}\n",
    "\n",
    "def defaultfunc():\n",
    "    print('default')\n",
    "s='...'\n",
    "dictc.get(s,defaultfunc)()\n",
    "    "
   ]
  },
  {
   "cell_type": "code",
   "execution_count": null,
   "metadata": {},
   "outputs": [],
   "source": [
    "class ProcessPrediction:\n",
    "    \n",
    "    def precproccessing():\n",
    "        pass\n",
    "    def training():\n",
    "        pass\n",
    "    def create_model():\n",
    "        pass\n",
    "    def testing():\n",
    "        pass\n",
    "    def suffixPrediction():\n",
    "        pass\n",
    "    def nextStepPrediction():\n",
    "        pass"
   ]
  },
  {
   "cell_type": "code",
   "execution_count": null,
   "metadata": {},
   "outputs": [],
   "source": []
  }
 ],
 "metadata": {
  "kernelspec": {
   "display_name": "fastpm2",
   "language": "python",
   "name": "fastpm2"
  },
  "language_info": {
   "codemirror_mode": {
    "name": "ipython",
    "version": 3
   },
   "file_extension": ".py",
   "mimetype": "text/x-python",
   "name": "python",
   "nbconvert_exporter": "python",
   "pygments_lexer": "ipython3",
   "version": "3.7.4"
  },
  "varInspector": {
   "cols": {
    "lenName": 16,
    "lenType": 16,
    "lenVar": 40
   },
   "kernels_config": {
    "python": {
     "delete_cmd_postfix": "",
     "delete_cmd_prefix": "del ",
     "library": "var_list.py",
     "varRefreshCmd": "print(var_dic_list())"
    },
    "r": {
     "delete_cmd_postfix": ") ",
     "delete_cmd_prefix": "rm(",
     "library": "var_list.r",
     "varRefreshCmd": "cat(var_dic_list()) "
    }
   },
   "types_to_exclude": [
    "module",
    "function",
    "builtin_function_or_method",
    "instance",
    "_Feature"
   ],
   "window_display": false
  }
 },
 "nbformat": 4,
 "nbformat_minor": 2
}
