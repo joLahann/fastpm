{
 "cells": [
  {
   "cell_type": "markdown",
   "metadata": {},
   "source": [
    "# Most Frequent Value Model"
   ]
  },
  {
   "cell_type": "code",
   "execution_count": 6,
   "metadata": {},
   "outputs": [],
   "source": [
    "#export\n",
    "from ipynb.fs.full.PPP_BasicModel import PPModel"
   ]
  },
  {
   "cell_type": "code",
   "execution_count": 7,
   "metadata": {},
   "outputs": [],
   "source": [
    "#export\n",
    "class MFV_PPM(PPModel): \n",
    "    def predict(self,test,index=2):\n",
    "        self.result_df=test.copy()\n",
    "        mfa=test['activity'].value_counts().index[0]\n",
    "        mfr=test['resource'].value_counts().index[0]\n",
    "        self.result_df['mfa']=mfa\n",
    "        self.result_df['mfr']=mfr\n",
    "     \n",
    "    \n",
    "        self.cases=self.result_df.groupby('trace_id')\n",
    "        self.median_group_len=int(self.cases.size().median())\n",
    "        self.result_df['mfa suffix']=[[mfa for i in range(self.median_group_len-index)] for k in range(len(test))]\n",
    "        self.result_df['mfr suffix']=[[mfr for i in range(self.median_group_len-index)] for k in range(len(test))]\n",
    "        return super().predict(test,index) \n",
    "    \n",
    "    #def _return_results(self,index,col):\n",
    "    #    tmp=self.cases.apply(lambda x: x[col].values[index:-1])\n",
    "    #    tmp=tmp[tmp.apply(lambda x: len(x)>0)]\n",
    "    #    return tmp\n",
    "    \n",
    "    def next_step_prediction(self,test,index=2): return PPModel._return_results(self, index, 'mfa')\n",
    "    \n",
    "    def next_resource_prediction(self,test,index=2): return PPModel._return_results(self, index, 'mfr')\n",
    "  \n",
    "    def last_resource_prediction(self,test,index=2): return PPModel._return_results(self, index, 'mfr')\n",
    "    \n",
    "    def outcome_prediction(self,test,index=2):  return PPModel._return_results(self, index, 'mfa')\n",
    "    \n",
    "    def activity_suffix_prediction(self,test,index=2): return PPModel._return_results(self, index, 'mfa suffix')\n",
    "    \n",
    "    def resource_suffix_prediction(self,test,index=2): return PPModel._return_results(self, index, 'mfr suffix')"
   ]
  },
  {
   "cell_type": "code",
   "execution_count": 8,
   "metadata": {},
   "outputs": [
    {
     "name": "stdout",
     "output_type": "stream",
     "text": [
      "Converted 003_PPP_MfvModel.ipynb to exp/MfvModel.py\r\n"
     ]
    }
   ],
   "source": [
    "! /home/lahann/anaconda3/envs/fastpm/bin/python notebook2script.py 003_PPP_MfvModel.ipynb"
   ]
  },
  {
   "cell_type": "code",
   "execution_count": null,
   "metadata": {},
   "outputs": [],
   "source": []
  }
 ],
 "metadata": {
  "kernelspec": {
   "display_name": "fastpm2",
   "language": "python",
   "name": "fastpm2"
  },
  "language_info": {
   "codemirror_mode": {
    "name": "ipython",
    "version": 3
   },
   "file_extension": ".py",
   "mimetype": "text/x-python",
   "name": "python",
   "nbconvert_exporter": "python",
   "pygments_lexer": "ipython3",
   "version": "3.7.4"
  },
  "varInspector": {
   "cols": {
    "lenName": 16,
    "lenType": 16,
    "lenVar": 40
   },
   "kernels_config": {
    "python": {
     "delete_cmd_postfix": "",
     "delete_cmd_prefix": "del ",
     "library": "var_list.py",
     "varRefreshCmd": "print(var_dic_list())"
    },
    "r": {
     "delete_cmd_postfix": ") ",
     "delete_cmd_prefix": "rm(",
     "library": "var_list.r",
     "varRefreshCmd": "cat(var_dic_list()) "
    }
   },
   "types_to_exclude": [
    "module",
    "function",
    "builtin_function_or_method",
    "instance",
    "_Feature"
   ],
   "window_display": false
  }
 },
 "nbformat": 4,
 "nbformat_minor": 2
}
